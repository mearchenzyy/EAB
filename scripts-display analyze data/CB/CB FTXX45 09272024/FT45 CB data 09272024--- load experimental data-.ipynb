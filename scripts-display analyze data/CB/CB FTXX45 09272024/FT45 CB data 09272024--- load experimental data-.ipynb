{
 "cells": [
  {
   "cell_type": "code",
   "execution_count": 137,
   "id": "e7d2b85e",
   "metadata": {},
   "outputs": [],
   "source": [
    "import sys\n",
    "import os\n",
    "import numpy as np\n",
    "import xlsxwriter as xlsx\n",
    "from scipy import optimize\n",
    "import random\n",
    "import math\n",
    "from math import floor\n",
    "import pickle\n",
    "import uuid\n",
    "import itertools\n",
    "import pdb\n",
    "from scipy.optimize import curve_fit\n",
    "from copy import copy, deepcopy\n",
    "import matplotlib.pyplot as plt\n",
    "sys.path.append(r\"/Users/yzhu/yzhu_work/gates projects\")\n",
    "from Core_Definition import *\n",
    "from Auto_Algorithm import *\n",
    "from Visualization import *\n",
    "from SPAM import *\n",
    "from data_analysis import *\n",
    "import json\n"
   ]
  },
  {
   "cell_type": "code",
   "execution_count": 138,
   "id": "295a4ac0",
   "metadata": {},
   "outputs": [],
   "source": [
    "\n",
    "import qiskit\n",
    "#transpiler reducinig qiskit circuit to QASM strings\n",
    "from qiskit import transpile\n",
    "from qiskit_aer import AerSimulator\n",
    "from qiskit import IBMQ, QuantumCircuit, execute\n",
    "# from qiskit.extensions import UnitaryGate\n",
    "from qiskit.quantum_info import Pauli, Clifford, Statevector,Operator\n",
    "from qiskit.visualization import array_to_latex\n",
    "from scipy.stats import sem, unitary_group\n",
    "from scipy.linalg import sqrtm,expm\n",
    "import qiskit.quantum_info as qi\n",
    "from qiskit.quantum_info import Pauli\n",
    "import pylatexenc\n",
    "\n",
    "sys.path.append(r\"/Users/yzhu/yzhu_work/gates projects/EAB\")\n",
    "import EAB_process_modified \n",
    "from EAB_CB_data_analysis import *\n",
    "import bootstrap"
   ]
  },
  {
   "cell_type": "code",
   "execution_count": 139,
   "id": "f9487841",
   "metadata": {},
   "outputs": [],
   "source": [
    "Set_Mapping([4,5,3,2,1,])\n",
    "nqubit=2\n",
    "C=20\n",
    "all_circuits={}\n",
    "depth=[2,8,32]\n",
    "shots=2000"
   ]
  },
  {
   "cell_type": "markdown",
   "id": "38e9032e",
   "metadata": {},
   "source": [
    "load circuits and save them into a dictionary with the following stucture:\n",
    "all_circuits={}\n",
    "              -XX\n",
    "                  -2=[list]\n",
    "                  -8=[list]\n",
    "                  -32=[list]\n",
    "              -XY\n",
    "                  -2\n",
    "                  -8\n",
    "                  -32\n",
    "              ...\n",
    "\n",
    "load all data file name into a dictionary\n",
    "all_data={}\n",
    "              -XX\n",
    "                  -2=[list of data filenames]\n",
    "                  -8=[list of data filenames]\n",
    "                  -32=[list of data filenames]\n",
    "              -XY\n",
    "                  -2\n",
    "                  -8\n",
    "                  -32\n",
    "              ..."
   ]
  },
  {
   "cell_type": "markdown",
   "id": "6ab1cde6-3074-4c0c-bf44-b08ba221c681",
   "metadata": {},
   "source": [
    "load circuit"
   ]
  },
  {
   "cell_type": "code",
   "execution_count": 140,
   "id": "e29534c4",
   "metadata": {},
   "outputs": [],
   "source": [
    "pauli_sample_list = [''.join(s) for s in itertools.product(['X','Y','Z'], repeat = nqubit)]\n",
    "circ_path=\"/Users/yzhu/yzhu_work/gates projects/EAB/circuits/04222024/FTXX45/\"\n",
    "\n",
    "for pauli in pauli_sample_list:\n",
    "    all_circuits[pauli]={}\n",
    "\n",
    "for f in os.listdir(circ_path):\n",
    "    if (f.find(\".txt\")!=-1):\n",
    "        n=f.find(\"_\")\n",
    "        n1=f.find(\".\")\n",
    "        Plabel=f[n-2:n]\n",
    "#         print(Plabel)\n",
    "        dlabel=f[n+3:n1]\n",
    "#         print (dlabel)x\n",
    "        \n",
    "        file=open(circ_path+f)\n",
    "        Lines= file.readlines()\n",
    "#         c_d8=[]\n",
    "        all_circuits[Plabel][int(dlabel)]=[]\n",
    "        count = 0\n",
    "        for line in Lines:\n",
    "            all_circuits[Plabel][int(dlabel)].append(line)\n",
    "            count += 1\n",
    "\n",
    "\n",
    "    \n",
    "# print (all_circuits[\"XY\"][2])\n",
    "# print (depth)\n",
    "# all_circuits=[]\n",
    "# all_circuits=CB_load_circuit(nqubit,C,depth,pauli_sample_list,circ_path)\n",
    "# print (all_circuits[\"XY\"])"
   ]
  },
  {
   "cell_type": "markdown",
   "id": "70eee8d9-d505-4132-8a84-c4cf5fb3cfff",
   "metadata": {},
   "source": [
    "# load data "
   ]
  },
  {
   "cell_type": "code",
   "execution_count": 141,
   "id": "39249e71",
   "metadata": {},
   "outputs": [],
   "source": [
    "data_path=\"/Users/yzhu/yzhu_work/gates projects/EAB/data/0927 FTXX45 CB/\"\n",
    "all_datafile={}\n",
    "all_datafile_ordered={}\n",
    "\n",
    "for pauli in pauli_sample_list:\n",
    "    all_datafile[pauli]={}\n",
    "    for d in depth:\n",
    "        all_datafile[pauli][d]=[]\n",
    "for pauli in pauli_sample_list:\n",
    "    all_datafile_ordered[pauli]={}\n",
    "    for d in depth:\n",
    "        all_datafile_ordered[pauli][d]=[]\n",
    "\n",
    "for folder in os.listdir(data_path):\n",
    "    if folder!=\".DS_Store\" and folder!=\"data processed\":\n",
    "        for folder2 in os.listdir(data_path+folder+\"/\"):\n",
    "            if folder2==\"2\" or folder2==\"8\" or folder2==\"16\" or folder2==\"32\" or folder2==\"40\":\n",
    "                for f in os.listdir(data_path+folder+\"/\"+folder2+\"/\"):\n",
    "                    if f!=\".DS_Store\":\n",
    "                        all_datafile[folder][int(folder2)].append(f)\n",
    "                        # print (f)\n",
    "#                 print (len(all_datafile[folder][int(folder2)]))\n",
    "# print (all_datafile)  \n",
    "L1=[]\n",
    "line_Idx=\"000\"\n",
    "line_num=\"\"\n",
    "p=0 #position indicator\n",
    "for pauli in pauli_sample_list:\n",
    "    for d in depth:\n",
    "        for f in all_datafile[pauli][d]:\n",
    "#             print (f)\n",
    "            if (f.find(\"Line\")!=-1):\n",
    "                n=f.find(\"_\")\n",
    "                line_Idx=f[n+6:n+9]\n",
    "                for i in range(3):\n",
    "                    if line_Idx[i]==\"0\":\n",
    "                        p+=1\n",
    "                    else:\n",
    "                        line_num=line_Idx[p:3]\n",
    "                        p=0\n",
    "                        break\n",
    "                L1.append(int(line_num))\n",
    "                # print (line_num)\n",
    "            else:\n",
    "                print (f) #print out non datafiles just for debugging \n",
    "                continue\n",
    "        # print (L1)\n",
    "        # print (all_datafile[pauli][d])\n",
    "        for Idx in range (len(all_datafile[pauli][d])):\n",
    "            for i in range (len(L1)):\n",
    "                # print (i)\n",
    "                # print (L1)\n",
    "                if L1[i]==Idx+1:\n",
    "                    all_datafile_ordered[pauli][d].append(all_datafile[pauli][d][i])\n",
    "                    break\n",
    "        L1=[]\n",
    "        line_Idx=\"000\"\n",
    "        line_num=\"\"\n",
    "        p=0 #position indicator"
   ]
  },
  {
   "cell_type": "code",
   "execution_count": 142,
   "id": "0ab8adb4-75ec-46eb-9d20-c13543dff48d",
   "metadata": {},
   "outputs": [],
   "source": [
    "# a=Quantum_State(5)\n",
    "\n",
    "a_s=Quantum_State(5)\n",
    "b_c=Quantum_Circuit(5,\"qc\")\n",
    "\n",
    "a=Quantum_State(5)\n",
    "a2=Quantum_State(5)\n",
    "# a_2=Quantum_State(5)\n",
    "\n",
    "# spam1=SPAM_Operator(5)\n",
    "# spam1.Import(\"/Volumes/funkflower/Users/Yingyue/Gates_Lab_Suite-master/PauliNoiseEstimation/data/0711/SPAM1/SPAM1.csv\")\n",
    "\n",
    "# spam2=SPAM_Operator(5)\n",
    "# spam2.Import(\"/Volumes/funkflower/Users/Yingyue/Gates_Lab_Suite-master/PauliNoiseEstimation/data/0711/SPAM2/SPAM2.csv\")\n"
   ]
  },
  {
   "cell_type": "code",
   "execution_count": 132,
   "id": "ffb54c09",
   "metadata": {},
   "outputs": [
    {
     "name": "stdout",
     "output_type": "stream",
     "text": [
      "2024-09-30-173642_Line_001.txt\n",
      "[0.9154999999999999, 0.043000000000000003, 0.0155, 0.026000000000000002]\n",
      "RX-42:RX+41:FTXA450.2500+:AZ4+1.0000:AZ5+1.0000:FTXA450.2500+:RY+41:RX+51:FTXA450.2500+:AZ4+1.0000:RY+51:FTXA450.2500+:RY+41:AZ5+1.0000:FTXA450.2500+:RX+41:AZ5+1.0000:FTXA450.2500+:RY+41:AZ5+1.0000:FTXA450.2500+:RX+41:RX+51:FTXA450.2500+:RX+42\n",
      "\n",
      "2024-09-30-173710_Line_002.txt\n",
      "[0.032, 0.8839999999999999, 0.0165, 0.0675]\n",
      "RX-42:RY+41:AZ5+1.0000:FTXA450.2500+:AZ4+1.0000:RY+51:FTXA450.2500+:AZ4+1.0000:FTXA450.2500+:AZ4+1.0000:RX+51:FTXA450.2500+:RX+51:FTXA450.2500+:RX+41:RX+51:FTXA450.2500+:AZ4+1.0000:RX+51:FTXA450.2500+:RX+41:RY+51:FTXA450.2500+:RY+41:RX+51:RX+42\n",
      "\n",
      "2024-09-30-173738_Line_003.txt\n",
      "[0.0325, 0.9049999999999999, 0.021, 0.0415]\n",
      "RX-42:RY+41:RX+51:FTXA450.2500+:AZ5+1.0000:FTXA450.2500+:RY+41:AZ5+1.0000:FTXA450.2500+:RY+41:RY+51:FTXA450.2500+:AZ4+1.0000:AZ5+1.0000:FTXA450.2500+:RX+41:RY+51:FTXA450.2500+:RX+41:AZ5+1.0000:FTXA450.2500+:RY+41:RX+51:FTXA450.2500+:RX+42\n",
      "\n",
      "2024-09-30-173806_Line_004.txt\n",
      "[0.7589999999999998, 0.028, 0.163, 0.05]\n",
      "RX-42:AZ4+1.0000:RY+51:FTXA450.2500+:RX+51:FTXA450.2500+:RX+41:RY+51:FTXA450.2500+:AZ4+1.0000:RX+51:FTXA450.2500+:AZ4+1.0000:RY+51:FTXA450.2500+:AZ4+1.0000:RY+51:FTXA450.2500+:RX+51:FTXA450.2500+:RX+41:RY+51:FTXA450.2500+:RY+41:RX+42\n",
      "\n",
      "2024-09-30-173834_Line_005.txt\n",
      "[0.038500000000000006, 0.785, 0.112, 0.0645]\n",
      "RX-42:AZ4+1.0000:RY+51:FTXA450.2500+:AZ4+1.0000:AZ5+1.0000:FTXA450.2500+:AZ4+1.0000:RY+51:FTXA450.2500+:AZ4+1.0000:AZ5+1.0000:FTXA450.2500+:FTXA450.2500+:RX+41:AZ5+1.0000:FTXA450.2500+:RY+51:FTXA450.2500+:RX+41:FTXA450.2500+:RX+41:RX+51:RX+42\n",
      "\n",
      "2024-09-30-173901_Line_006.txt\n",
      "[0.0155, 0.9134999999999999, 0.038, 0.033]\n",
      "RX-42:AZ4+1.0000:AZ5+1.0000:FTXA450.2500+:RX+41:AZ5+1.0000:FTXA450.2500+:RX+41:RX+51:FTXA450.2500+:RX+41:AZ5+1.0000:FTXA450.2500+:RX+41:AZ5+1.0000:FTXA450.2500+:AZ4+1.0000:RY+51:FTXA450.2500+:RX+41:AZ5+1.0000:FTXA450.2500+:RY+41:AZ5+1.0000:FTXA450.2500+:AZ4+1.0000:RY+51:RX+42\n",
      "\n",
      "2024-09-30-173929_Line_007.txt\n",
      "[0.039, 0.035, 0.8944999999999999, 0.0315]\n",
      "RX-42:AZ4+1.0000:FTXA450.2500+:AZ5+1.0000:FTXA450.2500+:AZ5+1.0000:FTXA450.2500+:RY+41:FTXA450.2500+:RY+41:AZ5+1.0000:FTXA450.2500+:RX+41:RY+51:FTXA450.2500+:AZ4+1.0000:AZ5+1.0000:FTXA450.2500+:RY+41:RY+51:FTXA450.2500+:AZ4+1.0000:RX+51:RX+42\n",
      "\n",
      "2024-09-30-173955_Line_008.txt\n",
      "[0.0465, 0.032, 0.864, 0.0575]\n",
      "RX-42:RY+51:FTXA450.2500+:FTXA450.2500+:AZ4+1.0000:RX+51:FTXA450.2500+:AZ5+1.0000:FTXA450.2500+:RX+41:AZ5+1.0000:FTXA450.2500+:AZ4+1.0000:FTXA450.2500+:RY+41:RY+51:FTXA450.2500+:RY+41:FTXA450.2500+:AZ4+1.0000:AZ5+1.0000:RX+42\n",
      "\n",
      "2024-09-30-174023_Line_009.txt\n",
      "[0.0575, 0.0555, 0.063, 0.8239999999999998]\n",
      "RX-42:AZ5+1.0000:FTXA450.2500+:RY+41:FTXA450.2500+:RX+41:FTXA450.2500+:AZ4+1.0000:FTXA450.2500+:AZ5+1.0000:FTXA450.2500+:AZ4+1.0000:AZ5+1.0000:FTXA450.2500+:AZ4+1.0000:AZ5+1.0000:FTXA450.2500+:RY+51:FTXA450.2500+:RY+41:RX+51:RX+42\n",
      "\n",
      "2024-09-30-174050_Line_010.txt\n",
      "[0.9069999999999999, 0.0325, 0.022, 0.0385]\n",
      "RX-42:AZ5+1.0000:FTXA450.2500+:RY+41:FTXA450.2500+:AZ4+1.0000:RY+51:FTXA450.2500+:RY+41:FTXA450.2500+:RY+41:RX+51:FTXA450.2500+:AZ5+1.0000:FTXA450.2500+:AZ4+1.0000:RX+51:FTXA450.2500+:RX+41:RX+51:FTXA450.2500+:RY+51:RX+42\n",
      "\n",
      "2024-09-30-184904_Line_011.txt\n",
      "[0.052, 0.046, 0.8724999999999999, 0.0295]\n",
      "RX-42:RY+41:RY+51:FTXA450.2500+:RY+41:RX+51:FTXA450.2500+:FTXA450.2500+:AZ4+1.0000:RX+51:FTXA450.2500+:RY+41:RX+51:FTXA450.2500+:RY+51:FTXA450.2500+:RY+41:FTXA450.2500+:RX+41:FTXA450.2500+:RY+41:RX+42\n",
      "\n",
      "2024-09-30-184932_Line_012.txt\n",
      "[0.839, 0.037, 0.0835, 0.0405]\n",
      "RX-42:RY+41:RX+51:FTXA450.2500+:RY+41:RY+51:FTXA450.2500+:AZ4+1.0000:RY+51:FTXA450.2500+:RY+41:RX+51:FTXA450.2500+:AZ5+1.0000:FTXA450.2500+:AZ4+1.0000:RY+51:FTXA450.2500+:AZ4+1.0000:AZ5+1.0000:FTXA450.2500+:AZ5+1.0000:FTXA450.2500+:RX+41:RY+51:RX+42\n",
      "\n",
      "2024-09-30-184959_Line_013.txt\n",
      "[0.032, 0.8589999999999999, 0.062, 0.047]\n",
      "RX-42:RY+41:RX+51:FTXA450.2500+:RY+41:RY+51:FTXA450.2500+:AZ4+1.0000:AZ5+1.0000:FTXA450.2500+:RY+41:RY+51:FTXA450.2500+:FTXA450.2500+:RY+41:RX+51:FTXA450.2500+:AZ4+1.0000:AZ5+1.0000:FTXA450.2500+:RY+51:FTXA450.2500+:RY+41:RX+42\n",
      "\n",
      "2024-09-30-185027_Line_014.txt\n",
      "[0.016, 0.161, 0.030000000000000002, 0.7929999999999999]\n",
      "RX-42:AZ4+1.0000:RX+51:FTXA450.2500+:AZ4+1.0000:RX+51:FTXA450.2500+:RY+51:FTXA450.2500+:RX+51:FTXA450.2500+:AZ4+1.0000:RX+51:FTXA450.2500+:RY+41:RY+51:FTXA450.2500+:FTXA450.2500+:RY+41:RY+51:FTXA450.2500+:RX+41:RY+51:RX+42\n",
      "\n",
      "2024-09-30-185055_Line_015.txt\n",
      "[0.8734999999999998, 0.0465, 0.0515, 0.0285]\n",
      "RX-42:RX+41:RY+51:FTXA450.2500+:AZ4+1.0000:RY+51:FTXA450.2500+:AZ4+1.0000:RX+51:FTXA450.2500+:AZ4+1.0000:RY+51:FTXA450.2500+:FTXA450.2500+:AZ4+1.0000:FTXA450.2500+:AZ4+1.0000:RX+51:FTXA450.2500+:AZ4+1.0000:RX+51:FTXA450.2500+:RX+41:AZ5+1.0000:RX+42\n",
      "\n",
      "2024-09-30-185122_Line_016.txt\n",
      "[0.060500000000000005, 0.0455, 0.022000000000000002, 0.8719999999999999]\n",
      "RX-42:FTXA450.2500+:RX+41:FTXA450.2500+:AZ5+1.0000:FTXA450.2500+:RX+41:RY+51:FTXA450.2500+:RY+41:FTXA450.2500+:RX+41:RY+51:FTXA450.2500+:RX+41:AZ5+1.0000:FTXA450.2500+:AZ4+1.0000:FTXA450.2500+:AZ4+1.0000:AZ5+1.0000:RX+42\n",
      "\n",
      "2024-09-30-185149_Line_017.txt\n",
      "[0.0305, 0.09, 0.053, 0.8264999999999998]\n",
      "RX-42:RX+41:RY+51:FTXA450.2500+:AZ4+1.0000:RY+51:FTXA450.2500+:AZ4+1.0000:RY+51:FTXA450.2500+:AZ4+1.0000:RX+51:FTXA450.2500+:RY+41:RX+51:FTXA450.2500+:RY+51:FTXA450.2500+:FTXA450.2500+:FTXA450.2500+:AZ4+1.0000:RX+51:RX+42\n",
      "\n",
      "2024-09-30-185216_Line_018.txt\n",
      "[0.042, 0.0615, 0.8699999999999999, 0.026500000000000003]\n",
      "RX-42:AZ4+1.0000:FTXA450.2500+:AZ4+1.0000:FTXA450.2500+:RY+51:FTXA450.2500+:RX+41:FTXA450.2500+:RY+41:AZ5+1.0000:FTXA450.2500+:RX+41:AZ5+1.0000:FTXA450.2500+:AZ4+1.0000:RY+51:FTXA450.2500+:AZ4+1.0000:AZ5+1.0000:FTXA450.2500+:RX+41:RX+42\n",
      "\n",
      "2024-09-30-185243_Line_019.txt\n",
      "[0.03, 0.0585, 0.8885, 0.023000000000000003]\n",
      "RX-42:RX+41:RY+51:FTXA450.2500+:FTXA450.2500+:RX+51:FTXA450.2500+:RX+41:FTXA450.2500+:AZ4+1.0000:RX+51:FTXA450.2500+:RY+41:AZ5+1.0000:FTXA450.2500+:FTXA450.2500+:RX+41:RY+51:FTXA450.2500+:RY+41:RX+51:RX+42\n",
      "\n",
      "2024-09-30-185311_Line_020.txt\n",
      "[0.0335, 0.046, 0.858, 0.0625]\n",
      "RX-42:AZ4+1.0000:RX+51:FTXA450.2500+:RY+41:FTXA450.2500+:RX+51:FTXA450.2500+:RX+51:FTXA450.2500+:RX+41:RY+51:FTXA450.2500+:RY+51:FTXA450.2500+:AZ4+1.0000:FTXA450.2500+:FTXA450.2500+:RY+41:RX+51:RX+42\n",
      "\n"
     ]
    },
    {
     "data": {
      "image/png": "[encoded data removed]",
      "text/plain": [
       "<Figure size 2000x1300 with 20 Axes>"
      ]
     },
     "metadata": {},
     "output_type": "display_data"
    }
   ],
   "source": [
    "filenames_data=[]\n",
    "circuit=[]\n",
    "PauliLabel=\"ZY\"\n",
    "DepthIndex_list=[8]\n",
    "for DepthIndex in DepthIndex_list:\n",
    "    filenames_data=all_datafile_ordered[PauliLabel][DepthIndex]\n",
    "    paf_data=data_path+PauliLabel+\"/\"+str(DepthIndex)+\"/\"\n",
    "    circuit=all_circuits[PauliLabel][DepthIndex]\n",
    "\n",
    "    # For plotting: using the variable axs for multiple Axes\n",
    "    fig, axs = plt.subplots(4, 5)\n",
    "    fig.set_figwidth(20)\n",
    "    fig.set_figheight(13)\n",
    "    fig.text(0.5, 0.01, 'quantum state', ha='center',fontsize=20)\n",
    "    fig.text(0.03, 0.28, 'population', va='center', rotation='vertical',fontsize=20)\n",
    "    plt.rcParams.update({'font.size': 10})\n",
    "    p=0 #subplot row\n",
    "    q=0 #subplot col\n",
    "    X=[\"0\",\"1\",\"2\",\"3\"]\n",
    "    X_axis = np.arange(len(X)) \n",
    "\n",
    "\n",
    "    for i in range (len(filenames_data)):\n",
    "        print (filenames_data[i])\n",
    "        a.Import(paf_data+filenames_data[i],keep_file=True)\n",
    "        data_traced=Trace_Out(a,[0,1])\n",
    "        print (data_traced.population)\n",
    "\n",
    "        # a2.Import(paf_data_d8_compare+filenames_d8_compare[i],keep_file=True)\n",
    "        # data2_traced=Trace_Out(a2,[0,1])\n",
    "        # print (data2_traced.population)\n",
    "\n",
    "        b_c.Interpret_GatesLab_Sequence(circuit[i])\n",
    "        print (circuit[i])\n",
    "        b=b_c.Simulate()\n",
    "        sim_traced=Trace_Out(b,[0,1])\n",
    "    \n",
    "        # axs[p,q].bar(X_axis -0.6, data_traced.population, 0.4, label = 'data_traced') \n",
    "        # axs[p,q].bar(X_axis - 0.2, data2_traced.population, 0.4, label = 'data2_traced') \n",
    "        # axs[p,q].bar(X_axis + 0.2, sim_traced.population, 0.4, label = 'sim_traced') \n",
    "        axs[p,q].bar(X_axis -0.2, data_traced.population, 0.4, label = 'data_traced') \n",
    "        axs[p,q].bar(X_axis + 0.2, sim_traced.population, 0.4, label = 'sim_traced')\n",
    "        \n",
    "        \n",
    "        axs[p,q].set_xticks(X_axis, X) \n",
    "        axs[p,q].set_title (\"line\"+str(i+1))\n",
    "        # Display_States_Population(states=[data_traced,data2_traced,sim_traced],label=[\"data_traced 0927\",\"data_traced 0930\",\"sim_traced\"])\n",
    "        q+=1 \n",
    "        if q > 5 or q==5 :\n",
    "            q=0\n",
    "            p+=1\n",
    "    \n",
    "    # Display_States_Population(states=[sim_traced,data_traced],label=[\"sim_traced\",\"data_traced\"])\n"
   ]
  },
  {
   "cell_type": "markdown",
   "id": "8d1b44d3",
   "metadata": {},
   "source": [
    "# formatting data for saving\n"
   ]
  },
  {
   "cell_type": "code",
   "execution_count": 143,
   "id": "81e74318",
   "metadata": {},
   "outputs": [],
   "source": [
    "pauli_sample_select_list=[\"XX\",\"XY\",\"XZ\",\"YX\",\"YY\",\"YZ\",\"ZX\",\"ZY\",\"ZZ\"]  # pauli terms with data \n"
   ]
  },
  {
   "cell_type": "code",
   "execution_count": 144,
   "id": "2947032c",
   "metadata": {
    "scrolled": true
   },
   "outputs": [
    {
     "name": "stdout",
     "output_type": "stream",
     "text": [
      "done\n"
     ]
    }
   ],
   "source": [
    "filenames_data=[]\n",
    "circuit=[]\n",
    "counts=[]\n",
    "all_counts={}\n",
    "\n",
    "pauli_sample_select_list=pauli_sample_list\n",
    "# paf_data=\"/Volumes/funkflower/Users/Yingyue/Gates_Lab_Suite-master/PauliNoiseEstimation/data/CB/oct2023alldata/\"\n",
    "for PauliLabel in pauli_sample_select_list:\n",
    "    all_counts[PauliLabel]={}\n",
    "    for DepthIndex in depth:\n",
    "        all_counts[PauliLabel][DepthIndex]=[]\n",
    "        filenames_data=all_datafile_ordered[PauliLabel][DepthIndex]\n",
    "        paf_data=data_path\n",
    "        paf_data+=PauliLabel+\"/\"+str(DepthIndex)+\"/\"\n",
    "        circuit=all_circuits[PauliLabel][DepthIndex]\n",
    "\n",
    "\n",
    "        for i in range (len(filenames_data)):\n",
    "            # print (filenames_data[i])\n",
    "            a.Import(paf_data+filenames_data[i],keep_file=True)\n",
    "            data_traced=Trace_Out(a,[0,1])\n",
    "            counts=[round(shots*x) for x in  data_traced.population]\n",
    "            # print (\"counts:\", counts)\n",
    "            counts_ibm_mapping, counts_ibm_mapping_dic=counts_ibm_mapping, counts_ibm_mapping_dic=map_statepop_2_ibm_mapping_no_ancilla(counts,nqubit)\n",
    "#             print (\"counts_ibm_mapping_dic:\",counts_ibm_mapping_dic)\n",
    "            all_counts[PauliLabel][DepthIndex].append(counts_ibm_mapping_dic)\n",
    "\n",
    "   \n",
    "print (\"done\")"
   ]
  },
  {
   "cell_type": "code",
   "execution_count": 134,
   "id": "5f87892a",
   "metadata": {},
   "outputs": [],
   "source": [
    "import copy\n",
    "from copy import copy, deepcopy\n",
    "import itertools\n",
    "with open(\"/Users/yzhu/yzhu_work/gates projects/EAB/circuits/04222024/FTXX45/sim_cb_20240422_FTXX45_3716099127\", \"rb\") as fp:   # Unpickling\n",
    "    cb_load = pickle.load(fp)\n",
    "cb_load_cpy=deepcopy(cb_load)\n",
    "pauli_sample_list = [''.join(s) for s in itertools.product(['X','Y','Z'], repeat = nqubit)]\n",
    "for PauliLabel in pauli_sample_list:\n",
    "    #only copy the layer for which there is data, in this case [2,8,32]. Needs to be changed if depths changes \n",
    "    cb_load_cpy[PauliLabel][\"result\"]=cb_load_cpy[PauliLabel][\"result\"][0:20]+cb_load_cpy[PauliLabel][\"result\"][40:60]+cb_load_cpy[PauliLabel][\"result\"][80:100]\n",
    "for PauliLabel in pauli_sample_select_list:\n",
    "    # print (PauliLabel)\n",
    "    for j in range (len(depth)):\n",
    "        for i in range (C*j, C*(j+1)):\n",
    "            cb_load_cpy[PauliLabel][\"result\"][i][\"counts\"]=all_counts[PauliLabel][depth[j]][i-C*j]\n",
    "cb_load_cpy[\"pauli_sample_list\"]=pauli_sample_select_list   "
   ]
  },
  {
   "cell_type": "markdown",
   "id": "af14c9be",
   "metadata": {},
   "source": [
    "# save file"
   ]
  },
  {
   "cell_type": "code",
   "execution_count": 135,
   "id": "79405a28",
   "metadata": {},
   "outputs": [],
   "source": [
    "filename = str(uuid.uuid4())\n",
    "filename+=\"CB_data_XX_0930_processed_full_set_new0930XX\"\n",
    "with open(\"/Users/yzhu/yzhu_work/gates projects/EAB/data/0927 process/\"+filename, \"wb\") as fp:\n",
    "    pickle.dump(cb_load_cpy, fp)\n"
   ]
  },
  {
   "cell_type": "code",
   "execution_count": 136,
   "id": "a6b1b5eb",
   "metadata": {},
   "outputs": [
    {
     "name": "stdout",
     "output_type": "stream",
     "text": [
      "done\n"
     ]
    }
   ],
   "source": [
    "print (\"done\")"
   ]
  },
  {
   "cell_type": "code",
   "execution_count": null,
   "id": "2f367cbf",
   "metadata": {},
   "outputs": [],
   "source": []
  },
  {
   "cell_type": "code",
   "execution_count": null,
   "id": "130f10e4",
   "metadata": {},
   "outputs": [],
   "source": []
  },
  {
   "cell_type": "markdown",
   "id": "11d0108b",
   "metadata": {},
   "source": [
    "Data analysis"
   ]
  },
  {
   "cell_type": "code",
   "execution_count": null,
   "id": "a747a63f",
   "metadata": {},
   "outputs": [],
   "source": []
  },
  {
   "cell_type": "code",
   "execution_count": null,
   "id": "737460ad",
   "metadata": {
    "scrolled": true
   },
   "outputs": [],
   "source": []
  },
  {
   "cell_type": "code",
   "execution_count": null,
   "id": "12698891",
   "metadata": {},
   "outputs": [],
   "source": []
  },
  {
   "cell_type": "markdown",
   "id": "3f292832",
   "metadata": {},
   "source": [
    "plot average fidelity and fit"
   ]
  },
  {
   "cell_type": "code",
   "execution_count": null,
   "id": "8322bab8",
   "metadata": {},
   "outputs": [],
   "source": [
    "    "
   ]
  },
  {
   "cell_type": "markdown",
   "id": "685fb3a4",
   "metadata": {},
   "source": [
    "plot fidelity from each circuit and fit"
   ]
  },
  {
   "cell_type": "code",
   "execution_count": null,
   "id": "6d144196",
   "metadata": {},
   "outputs": [],
   "source": [
    "      "
   ]
  },
  {
   "cell_type": "markdown",
   "id": "b2d689cd",
   "metadata": {},
   "source": [
    "data analysis with bootstrapping"
   ]
  },
  {
   "cell_type": "code",
   "execution_count": null,
   "id": "71a66c9c",
   "metadata": {},
   "outputs": [],
   "source": [
    "\n"
   ]
  },
  {
   "cell_type": "code",
   "execution_count": null,
   "id": "397a9ca7",
   "metadata": {},
   "outputs": [],
   "source": []
  },
  {
   "cell_type": "markdown",
   "id": "58d143fe",
   "metadata": {},
   "source": []
  },
  {
   "cell_type": "code",
   "execution_count": null,
   "id": "d8122151",
   "metadata": {},
   "outputs": [],
   "source": []
  },
  {
   "cell_type": "code",
   "execution_count": null,
   "id": "6ecbaea6",
   "metadata": {},
   "outputs": [],
   "source": []
  },
  {
   "cell_type": "code",
   "execution_count": null,
   "id": "ffa9c169",
   "metadata": {},
   "outputs": [],
   "source": []
  },
  {
   "cell_type": "markdown",
   "id": "92a8a27d",
   "metadata": {},
   "source": [
    "spam results"
   ]
  },
  {
   "cell_type": "code",
   "execution_count": null,
   "id": "917c595f",
   "metadata": {},
   "outputs": [],
   "source": []
  },
  {
   "cell_type": "code",
   "execution_count": null,
   "id": "3a46c233",
   "metadata": {},
   "outputs": [],
   "source": []
  },
  {
   "cell_type": "code",
   "execution_count": null,
   "id": "74e5c3f9",
   "metadata": {},
   "outputs": [],
   "source": []
  },
  {
   "cell_type": "code",
   "execution_count": null,
   "id": "635c6ea4",
   "metadata": {},
   "outputs": [],
   "source": []
  },
  {
   "cell_type": "code",
   "execution_count": null,
   "id": "2787a638",
   "metadata": {},
   "outputs": [],
   "source": []
  },
  {
   "cell_type": "code",
   "execution_count": null,
   "id": "5cbbc66c",
   "metadata": {},
   "outputs": [],
   "source": [
    "\n",
    "b=[]\n",
    "c=[1,2]\n",
    "f=c\n",
    "c=[1]\n",
    "print (d)\n",
    "print (b)\n",
    "print (c)"
   ]
  },
  {
   "cell_type": "code",
   "execution_count": null,
   "id": "a7a60d9c",
   "metadata": {},
   "outputs": [],
   "source": [
    "for i in range(20,40):\n",
    "    print (i)"
   ]
  },
  {
   "cell_type": "code",
   "execution_count": null,
   "id": "4ee86076",
   "metadata": {},
   "outputs": [],
   "source": [
    "l=[1,2,3]\n",
    "print (l[0:2])"
   ]
  },
  {
   "cell_type": "code",
   "execution_count": 72,
   "id": "a3f9735f",
   "metadata": {},
   "outputs": [
    {
     "data": {
      "text/plain": [
       "2"
      ]
     },
     "execution_count": 72,
     "metadata": {},
     "output_type": "execute_result"
    }
   ],
   "source": [
    "int(5/2)"
   ]
  },
  {
   "cell_type": "code",
   "execution_count": null,
   "id": "149ff64a",
   "metadata": {},
   "outputs": [],
   "source": []
  }
 ],
 "metadata": {
  "kernelspec": {
   "display_name": "Python 3 (ipykernel)",
   "language": "python",
   "name": "python3"
  },
  "language_info": {
   "codemirror_mode": {
    "name": "ipython",
    "version": 3
   },
   "file_extension": ".py",
   "mimetype": "text/x-python",
   "name": "python",
   "nbconvert_exporter": "python",
   "pygments_lexer": "ipython3",
   "version": "3.8.12"
  }
 },
 "nbformat": 4,
 "nbformat_minor": 5
}
