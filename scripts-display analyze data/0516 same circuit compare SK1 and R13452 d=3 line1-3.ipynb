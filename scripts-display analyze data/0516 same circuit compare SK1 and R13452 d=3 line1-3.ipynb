{
 "cells": [
  {
   "cell_type": "code",
   "execution_count": 3,
   "id": "e7d2b85e",
   "metadata": {},
   "outputs": [],
   "source": [
    "import sys\n",
    "# sys.path.append(r\"Y:\\Users\\Yingyue\\Gates_Lab_Suite-master\")\n",
    "sys.path.append(r\"/Volumes/funkflower/Users/Yingyue/Gates_Lab_Suite-master\")\n",
    "from Core_Definition import *\n",
    "from Auto_Algorithm import *\n",
    "from Visualization import *\n",
    "import os\n",
    "from SPAM import *\n",
    "import numpy as np\n",
    "import xlsxwriter as xlsx\n",
    "from scipy import optimize\n",
    "import random\n",
    "import math\n",
    "from math import floor\n",
    "import pickle\n",
    "import uuid"
   ]
  },
  {
   "cell_type": "code",
   "execution_count": 4,
   "id": "295a4ac0",
   "metadata": {},
   "outputs": [],
   "source": [
    "import json, pickle\n",
    "import qiskit\n",
    "#transpiler reducinig qiskit circuit to QASM strings\n",
    "from qiskit import transpile\n",
    "# Use AerSimulator\n",
    "from qiskit_aer import AerSimulator\n",
    "from qiskit import IBMQ, QuantumCircuit, execute\n",
    "from qiskit.providers.ibmq.managed import IBMQJobManager\n",
    "from qiskit.extensions import UnitaryGate\n",
    "from qiskit.quantum_info import Pauli, Clifford, Statevector,Operator\n",
    "from qiskit.visualization import array_to_latex\n",
    "from scipy.stats import sem, unitary_group\n",
    "from scipy.linalg import sqrtm,expm\n",
    "import qiskit.quantum_info as qi\n",
    "from qiskit.quantum_info import Pauli\n",
    "import pylatexenc"
   ]
  },
  {
   "cell_type": "code",
   "execution_count": 5,
   "id": "b89d76e8",
   "metadata": {},
   "outputs": [],
   "source": [
    "def state_init_bell_pairs(qc,n):\n",
    "    for i in range (n):\n",
    "        qc.Add_Gate(Quantum_Gate(\"HAD\",i))\n",
    "    for i in range (n):\n",
    "        qc.Add_Gate(Quantum_Gate(\"CNOT\",i,int(i+n)))\n",
    "\n",
    "        \n",
    "#should we set_mapping in this function? need to think about if it takes mapping into account   \n",
    "def add_pauli_twirl(qc,n):\n",
    "    pauliLayer = [random.choice(['I','X','Y','Z']) for j in range(n)]\n",
    "    q_index=0\n",
    "    for pauli in pauliLayer :\n",
    "        if (pauli==\"I\"):\n",
    "            qc.Add_Gate(Quantum_Gate(\"SKAX\",2*n,angle=1))\n",
    "        elif (pauli==\"X\"):\n",
    "            qc.Add_Gate(Quantum_Gate(\"SKAX\",q_index,angle=1))\n",
    "        elif (pauli==\"Y\"):\n",
    "            qc.Add_Gate(Quantum_Gate(\"SKAY\",q_index,angle=1))\n",
    "        elif (pauli==\"Z\"):\n",
    "            qc.Add_Gate(Quantum_Gate(\"AZ\",q_index,angle=1))\n",
    "        q_index+=1\n",
    "    return pauliLayer\n",
    "\n",
    "def add_pauli_twirl_wSE(qc,n):\n",
    "    pauliLayer = [random.choice(['I','X','Y','Z']) for j in range(n)]\n",
    "    q_index=0\n",
    "    for pauli in pauliLayer :\n",
    "        if (pauli==\"I\"):\n",
    "            qc.Add_Gate(Quantum_Gate(\"SKAX\",2*n,angle=1))\n",
    "        elif (pauli==\"X\"):\n",
    "            qc.Add_Gate(Quantum_Gate(\"SKAX\",q_index,angle=1))\n",
    "        elif (pauli==\"Y\"):\n",
    "            qc.Add_Gate(Quantum_Gate(\"SKAY\",q_index,angle=1))\n",
    "        elif (pauli==\"Z\"):\n",
    "            qc.Add_Gate(Quantum_Gate(\"AZ\",q_index,angle=1))\n",
    "        \n",
    "        if (q_index==(int(n/2)-1)):\n",
    "            for i in range (n):\n",
    "                qc.Add_Gate(Quantum_Gate(\"SKAX\",n+i,angle=1))\n",
    "        q_index+=1\n",
    "    return pauliLayer\n",
    "    \n",
    "def add_clifford_layer(qc,n,clifford):\n",
    "    if (clifford==\"CNOT\"):\n",
    "        for i in range (floor(n/2)):\n",
    "            qc.Add_Gate(Quantum_Gate(\"CNOT\",2*i,2*i+1))\n",
    "            \n",
    "def bell_measurement(qc,n):\n",
    "    for i in range (n-1,-1,-1):\n",
    "        qc.Add_Gate(Quantum_Gate(\"SKAX\",int(i+n),angle=1))\n",
    "        qc.Add_Gate(Quantum_Gate(\"CNOT\",i,int(i+n)))\n",
    "    for i in range (n-1,-1,-1):\n",
    "        qc.Add_Gate(Quantum_Gate(\"HAD\",i))\n",
    "\n",
    "def map_statepop_2_ibm_mapping(counts,n):\n",
    "    counts_ibm_mapping=[0 for i in range (2**(2*n))]\n",
    "    idx_ibm_mapping=[]\n",
    "    counts_ibm_mapping_dic={}\n",
    "    if len(str((2*n)))<2:\n",
    "        f=\"00\"+str(2*n)+\"b\"\n",
    "    elif len(str((2*n)))<3:\n",
    "        f=\"0\"+str(2*n)+\"b\"\n",
    "    else:\n",
    "        raise ValueError(\"n is too big\")\n",
    "    for gates_idx in range (2**(2*n)):\n",
    "        gates_idx_str=format(gates_idx,f)\n",
    "        ibm_idx=0\n",
    "        for i in range (2*n):\n",
    "            ibm_idx+=2**(i)*int(gates_idx_str[i])\n",
    "        ibm_idx_str=format(ibm_idx,f)\n",
    "#         idx_ibm_mapping.append(ibm_idx_str)\n",
    "        counts_ibm_mapping[ibm_idx]=counts[gates_idx]\n",
    "        counts_ibm_mapping_dic[ibm_idx_str]=counts[gates_idx]\n",
    "    return counts_ibm_mapping, counts_ibm_mapping_dic\n",
    "        \n",
    "        \n",
    "#for qiskit\n",
    "def prepare_bell_state_1q(circuit,index1,index2):\n",
    "\tcircuit.h([index1])\n",
    "\tcircuit.cx([index1],[index2])\n",
    "        \n",
    "def bell_measurement_1q(circuit,index1,index2): \n",
    "\t# info qubit at index1\n",
    "\tcircuit.cx([index1],[index2])\n",
    "\tcircuit.h([index1])\n",
    "\n",
    "def pauli_gate_1q(circuit,index,pauli=None): #For stabilizer simulator to work, cannot use Pauli class\n",
    "\tif pauli == 'I':\n",
    "\t\tcircuit.id([index])\n",
    "\telif pauli == 'Z':\n",
    "\t\tcircuit.z([index])\n",
    "\telif pauli == 'X':\n",
    "\t\tcircuit.x([index])\n",
    "\telif pauli == 'Y':\n",
    "\t\tcircuit.y([index])\n",
    "\telse:\n",
    "\t\tassert 1==0\n",
    "\n",
    "    \n",
    "    \n",
    "    "
   ]
  },
  {
   "cell_type": "code",
   "execution_count": 6,
   "id": "f9487841",
   "metadata": {},
   "outputs": [],
   "source": [
    "## Additional functions\n",
    "\n",
    "def int_to_pauli(i,n):\n",
    "    p = np.base_repr(i,base=4)\n",
    "    p = '0'*(n-len(p)) + p\n",
    "    p = p.replace('0','I').replace('1', 'X').replace('2', 'Y').replace('3', 'Z')\n",
    "    return p\n",
    "\n",
    "def commute(p,q):\n",
    "    c = 1\n",
    "    n = len(p)\n",
    "    for i in range(n):\n",
    "        if p[i] != 'I' and q[i] != 'I':\n",
    "            if p[i] != q[i]:\n",
    "                c *= -1\n",
    "    return c\n",
    "\n",
    "def fidelity_to_error(pauli_fidelity,n):\n",
    "    N = 4**n\n",
    "    pauli_error = {}\n",
    "    for i in range(N):\n",
    "        p = int_to_pauli(i,n)\n",
    "        pauli_error[p] = 0\n",
    "        for j in range(N):\n",
    "            q = int_to_pauli(j,n)\n",
    "            pauli_error[p] += pauli_fidelity[q] * commute(p,q) / N\n",
    "    return pauli_error\n",
    "    "
   ]
  },
  {
   "cell_type": "code",
   "execution_count": 8,
   "id": "b65588e2",
   "metadata": {},
   "outputs": [
    {
     "name": "stdout",
     "output_type": "stream",
     "text": [
      "20\n",
      "10\n"
     ]
    }
   ],
   "source": [
    "Set_Mapping([1,3,4,5,2])\n",
    "nqubit=2\n",
    "# C=10\n",
    "# results_d2=np.zeros((C,2**(2*nqubit)))\n",
    "# results_d4=np.zeros((C,2**(2*nqubit)))\n",
    "# results_d8=np.zeros((C,2**(2*nqubit)))\n",
    "\n",
    "file=open(r\"/Volumes/funkflower/Users/Yingyue/Gates_Lab_Suite-master/PauliNoiseEstimation/circuits/0516/13452 0516 FT explicit CNOT R rotations auto/d=2.txt\", 'r')\n",
    "Lines= file.readlines()\n",
    "c_R=[]\n",
    "count = 0\n",
    "for line in Lines:\n",
    "    c_R.append(line)\n",
    "    count += 1\n",
    "print (count)\n",
    "count=0\n",
    "\n",
    "file=open(r\"/Volumes/funkflower/Labs/Gates/AutoAlgorithms/EAB/0516/test SK1 and R/13452 R FT explicit SK1.txt\", 'r')\n",
    "Lines= file.readlines()\n",
    "c_SK1=[]\n",
    "count = 0\n",
    "for line in Lines:\n",
    "    c_SK1.append(line)\n",
    "    count += 1\n",
    "print (count)\n",
    "count=0\n",
    "\n",
    "# file=open(r\"/Volumes/funkflower/Users/Yingyue/Gates_Lab_Suite-master/PauliNoiseEstimation/circuits/23541 EAB XX C=10 0424  set2/d=2.txt\", 'r')\n",
    "# Lines= file.readlines()\n",
    "# c_d2=[]\n",
    "# count = 0\n",
    "# for line in Lines:\n",
    "#     c_d2.append(line)\n",
    "#     count += 1\n",
    "# print (count)\n",
    "# count=0\n"
   ]
  },
  {
   "cell_type": "code",
   "execution_count": 11,
   "id": "39249e71",
   "metadata": {},
   "outputs": [
    {
     "name": "stdout",
     "output_type": "stream",
     "text": [
      "['2023-05-16-195131_Line_001.txt', '2023-05-16-195213_Line_002.txt', '2023-05-16-195256_Line_003.txt', '2023-05-16-195337_Line_004.txt', '2023-05-16-195537_Line_005.txt', '2023-05-16-195621_Line_006.txt', '2023-05-16-195703_Line_007.txt', '2023-05-16-195744_Line_008.txt', '2023-05-16-195943_Line_009.txt', '2023-05-16-200028_Line_010.txt', '2023-05-16-200111_Line_011.txt', '2023-05-16-200152_Line_012.txt', '2023-05-16-200351_Line_013.txt', '2023-05-16-200434_Line_014.txt', '2023-05-16-200516_Line_015.txt', '2023-05-16-200559_Line_016.txt', '2023-05-16-200758_Line_017.txt', '2023-05-16-200840_Line_018.txt', '2023-05-16-200923_Line_019.txt', '2023-05-16-201005_Line_020.txt']\n",
      "['2023-05-16-235544_Line_001.txt', '2023-05-16-235632_Line_002.txt', '2023-05-16-235719_Line_003.txt', '2023-05-16-235806_Line_004.txt', '2023-05-17-000012_Line_005.txt']\n"
     ]
    }
   ],
   "source": [
    "filenames_R=[]\n",
    "filenames_SK1=[]\n",
    "# filenames_0426=[]\n",
    "\n",
    "filenames=[]\n",
    "\n",
    "paf_data_R=\"/Volumes/funkflower/Users/Yingyue/Gates_Lab_Suite-master/PauliNoiseEstimation/data/0516 FTXX 13452/13452 explicit CNOT FT R/d=2 13452 FT R/\"\n",
    "L1=[]\n",
    "filenames=[]\n",
    "line_Idx=\"000\"\n",
    "line_num=\"\"\n",
    "p=0 #position indicator\n",
    "\n",
    "#------------------------------------------read in raw data-------------------------------\n",
    "for f in os.listdir(paf_data_R):\n",
    "    if (f.find(\"Line\")!=-1):\n",
    "        n=f.find(\"_\")\n",
    "        line_Idx=f[n+6:n+9]\n",
    "        for i in range(3):\n",
    "            if line_Idx[i]==\"0\":\n",
    "                p+=1\n",
    "            else:\n",
    "                line_num=line_Idx[p:3]\n",
    "                p=0\n",
    "                break\n",
    "        L1.append(int(line_num))\n",
    "        filenames.append(f)\n",
    "    else:\n",
    "        print (f) #print out non datafiles just for debugging \n",
    "        continue\n",
    "for Idx in range (len(filenames)):\n",
    "    for i in range (len(filenames)):\n",
    "        if L1[i]==Idx+1:\n",
    "            filenames_R.append(filenames[i])\n",
    "            break\n",
    "print (filenames_R)\n",
    "\n",
    "paf_data_SK1=\"/Volumes/funkflower/Users/Yingyue/Gates_Lab_Suite-master/PauliNoiseEstimation/data/0516 FTXX 13452/2023-05-16 test R SK1-Sk1/\"\n",
    "L1=[]\n",
    "filenames=[]\n",
    "line_Idx=\"000\"\n",
    "line_num=\"\"\n",
    "p=0 #position indicator\n",
    "\n",
    "#------------------------------------------read in raw data-------------------------------\n",
    "for f in os.listdir(paf_data_SK1):\n",
    "    if (f.find(\"Line\")!=-1):\n",
    "        n=f.find(\"_\")\n",
    "        line_Idx=f[n+6:n+9]\n",
    "        for i in range(3):\n",
    "            if line_Idx[i]==\"0\":\n",
    "                p+=1\n",
    "            else:\n",
    "                line_num=line_Idx[p:3]\n",
    "                p=0\n",
    "                break\n",
    "        L1.append(int(line_num))\n",
    "        filenames.append(f)\n",
    "    else:\n",
    "        print (f) #print out non datafiles just for debugging \n",
    "        continue\n",
    "for Idx in range (len(filenames)):\n",
    "    for i in range (len(filenames)):\n",
    "        if L1[i]==Idx+1:\n",
    "            filenames_SK1.append(filenames[i])\n",
    "            break\n",
    "print (filenames_SK1)\n",
    "\n"
   ]
  },
  {
   "cell_type": "code",
   "execution_count": 13,
   "id": "a7216e46",
   "metadata": {},
   "outputs": [],
   "source": [
    "a_R=Quantum_State(5)\n",
    "a_SK1=Quantum_State(5)\n",
    "# a_0426=Quantum_State(5)\n",
    "# a_s=Quantum_State(5)\n",
    "b_c_R=Quantum_Circuit(5,\"qc\")\n",
    "b_c_SK1=Quantum_Circuit(5,\"qc\")\n",
    "\n",
    "# spam1=SPAM_Operator(5)\n",
    "# spam1.Import(\"/Volumes/funkflower/Users/Yingyue/Gates_Lab_Suite-master/PauliNoiseEstimation/data/0424/SPAM1/SPAM1.csv\")\n",
    "\n",
    "# spam2=SPAM_Operator(5)\n",
    "# spam2.Import(\"/Volumes/funkflower/Users/Yingyue/Gates_Lab_Suite-master/PauliNoiseEstimation/data/0424/SPAM1/SPAM1.csv\")\n"
   ]
  },
  {
   "cell_type": "code",
   "execution_count": 15,
   "id": "ffb54c09",
   "metadata": {
    "scrolled": false
   },
   "outputs": [
    {
     "name": "stdout",
     "output_type": "stream",
     "text": [
      "2023-05-16-195131_Line_001.txt\n",
      "2023-05-16-235544_Line_001.txt\n",
      "HAD1:HAD3:RY+12:FTXA140.2500+:RY-12:RX-42:AZ1-0.5000:RY+32:FTXA350.2500+:RY-32:RX-52:AZ3-0.5000:RX+11:RX+31:FTXA130.2500+:RX+11:RX+31:FTXA130.2500+:RY+11:RX+31:RY+12:FTXA140.2500+:RY-12:RX-42:AZ1-0.5000:RY+32:FTXA350.2500+:RY-32:RX-52:AZ3-0.5000:HAD1:HAD3\n",
      "\n",
      "HAD1:HAD3:SK1Y+12:FTXA140.2500+:SK1Y-12:SK1X-42:AZ1-0.5000:SK1Y+32:FTXA350.2500+:SK1Y-32:SK1X-52:AZ3-0.5000:SK1X+11:SK1X+31:FTXA130.2500+:SK1X+11:SK1X+31:FTXA130.2500+:SK1Y+11:SK1X+31:SK1Y+12:FTXA140.2500+:SK1Y-12:SK1X-42:AZ1-0.5000:SK1Y+32:FTXA350.2500+:SK1Y-32:SK1X-52:AZ3-0.5000:HAD1:HAD3\n",
      "\n"
     ]
    },
    {
     "data": {
      "image/png": "[encoded data removed]",
      "text/plain": [
       "<Figure size 720x720 with 1 Axes>"
      ]
     },
     "metadata": {
      "needs_background": "light"
     },
     "output_type": "display_data"
    },
    {
     "name": "stdout",
     "output_type": "stream",
     "text": [
      "2023-05-16-195213_Line_002.txt\n",
      "2023-05-16-235632_Line_002.txt\n",
      "HAD1:HAD3:RY+12:FTXA140.2500+:RY-12:RX-42:AZ1-0.5000:RY+32:FTXA350.2500+:RY-32:RX-52:AZ3-0.5000:AZ1+1.0000:RY+31:FTXA130.2500+:RX+11:RX+31:FTXA130.2500+:RY+12:FTXA140.2500+:RY-12:RX-42:AZ1-0.5000:RY+32:FTXA350.2500+:RY-32:RX-52:AZ3-0.5000:HAD1:HAD3\n",
      "\n",
      "HAD1:HAD3:SK1Y+12:FTXA140.2500+:SK1Y-12:SK1X-42:AZ1-0.5000:SK1Y+32:FTXA350.2500+:SK1Y-32:SK1X-52:AZ3-0.5000:AZ1+1.0000:SK1Y+31:FTXA130.2500+:SK1X+11:SK1X+31:FTXA130.2500+:SK1Y+12:FTXA140.2500+:SK1Y-12:SK1X-42:AZ1-0.5000:SK1Y+32:FTXA350.2500+:SK1Y-32:SK1X-52:AZ3-0.5000:HAD1:HAD3\n",
      "\n"
     ]
    },
    {
     "data": {
      "image/png": "[encoded data removed]",
      "text/plain": [
       "<Figure size 720x720 with 1 Axes>"
      ]
     },
     "metadata": {
      "needs_background": "light"
     },
     "output_type": "display_data"
    },
    {
     "name": "stdout",
     "output_type": "stream",
     "text": [
      "2023-05-16-195256_Line_003.txt\n",
      "2023-05-16-235719_Line_003.txt\n",
      "HAD1:HAD3:RY+12:FTXA140.2500+:RY-12:RX-42:AZ1-0.5000:RY+32:FTXA350.2500+:RY-32:RX-52:AZ3-0.5000:FTXA130.2500+:AZ3+1.0000:FTXA130.2500+:AZ1+1.0000:RY+31:RY+12:FTXA140.2500+:RY-12:RX-42:AZ1-0.5000:RY+32:FTXA350.2500+:RY-32:RX-52:AZ3-0.5000:HAD1:HAD3\n",
      "\n",
      "HAD1:HAD3:SK1Y+12:FTXA140.2500+:SK1Y-12:SK1X-42:AZ1-0.5000:SK1Y+32:FTXA350.2500+:SK1Y-32:SK1X-52:AZ3-0.5000:FTXA130.2500+:AZ3+1.0000:FTXA130.2500+:AZ1+1.0000:SK1Y+31:SK1Y+12:FTXA140.2500+:SK1Y-12:SK1X-42:AZ1-0.5000:SK1Y+32:FTXA350.2500+:SK1Y-32:SK1X-52:AZ3-0.5000:HAD1:HAD3\n",
      "\n"
     ]
    },
    {
     "data": {
      "image/png": "[encoded data removed]",
      "text/plain": [
       "<Figure size 720x720 with 1 Axes>"
      ]
     },
     "metadata": {
      "needs_background": "light"
     },
     "output_type": "display_data"
    },
    {
     "name": "stdout",
     "output_type": "stream",
     "text": [
      "2023-05-16-195337_Line_004.txt\n",
      "2023-05-16-235806_Line_004.txt\n",
      "HAD1:HAD3:RY+12:FTXA140.2500+:RY-12:RX-42:AZ1-0.5000:RY+32:FTXA350.2500+:RY-32:RX-52:AZ3-0.5000:AZ1+1.0000:AZ3+1.0000:FTXA130.2500+:RY+31:FTXA130.2500+:RX+31:RY+12:FTXA140.2500+:RY-12:RX-42:AZ1-0.5000:RY+32:FTXA350.2500+:RY-32:RX-52:AZ3-0.5000:HAD1:HAD3\n",
      "\n",
      "HAD1:HAD3:SK1Y+12:FTXA140.2500+:SK1Y-12:SK1X-42:AZ1-0.5000:SK1Y+32:FTXA350.2500+:SK1Y-32:SK1X-52:AZ3-0.5000:AZ1+1.0000:AZ3+1.0000:FTXA130.2500+:SK1Y+31:FTXA130.2500+:SK1X+31:SK1Y+12:FTXA140.2500+:SK1Y-12:SK1X-42:AZ1-0.5000:SK1Y+32:FTXA350.2500+:SK1Y-32:SK1X-52:AZ3-0.5000:HAD1:HAD3\n",
      "\n"
     ]
    },
    {
     "data": {
      "image/png": "[encoded data removed]",
      "text/plain": [
       "<Figure size 720x720 with 1 Axes>"
      ]
     },
     "metadata": {
      "needs_background": "light"
     },
     "output_type": "display_data"
    },
    {
     "name": "stdout",
     "output_type": "stream",
     "text": [
      "2023-05-16-195537_Line_005.txt\n",
      "2023-05-17-000012_Line_005.txt\n",
      "HAD1:HAD3:RY+12:FTXA140.2500+:RY-12:RX-42:AZ1-0.5000:RY+32:FTXA350.2500+:RY-32:RX-52:AZ3-0.5000:RX+11:RX+31:FTXA130.2500+:RX+11:RY+31:FTXA130.2500+:RX+11:RY+12:FTXA140.2500+:RY-12:RX-42:AZ1-0.5000:RY+32:FTXA350.2500+:RY-32:RX-52:AZ3-0.5000:HAD1:HAD3\n",
      "\n",
      "HAD1:HAD3:SK1Y+12:FTXA140.2500+:SK1Y-12:SK1X-42:AZ1-0.5000:SK1Y+32:FTXA350.2500+:SK1Y-32:SK1X-52:AZ3-0.5000:SK1X+11:SK1X+31:FTXA130.2500+:SK1X+11:SK1Y+31:FTXA130.2500+:SK1X+11:SK1Y+12:FTXA140.2500+:SK1Y-12:SK1X-42:AZ1-0.5000:SK1Y+32:FTXA350.2500+:SK1Y-32:SK1X-52:AZ3-0.5000:HAD1:HAD3\n",
      "\n"
     ]
    },
    {
     "data": {
      "image/png": "[encoded data removed]",
      "text/plain": [
       "<Figure size 720x720 with 1 Axes>"
      ]
     },
     "metadata": {
      "needs_background": "light"
     },
     "output_type": "display_data"
    },
    {
     "name": "stdout",
     "output_type": "stream",
     "text": [
      "2023-05-16-195621_Line_006.txt\n"
     ]
    },
    {
     "ename": "IndexError",
     "evalue": "list index out of range",
     "output_type": "error",
     "traceback": [
      "\u001b[0;31m---------------------------------------------------------------------------\u001b[0m",
      "\u001b[0;31mIndexError\u001b[0m                                Traceback (most recent call last)",
      "Input \u001b[0;32mIn [15]\u001b[0m, in \u001b[0;36m<cell line: 15>\u001b[0;34m()\u001b[0m\n\u001b[1;32m     15\u001b[0m \u001b[38;5;28;01mfor\u001b[39;00m i \u001b[38;5;129;01min\u001b[39;00m \u001b[38;5;28mrange\u001b[39m (\u001b[38;5;28mlen\u001b[39m(filenames_data_R)):\n\u001b[1;32m     16\u001b[0m     \u001b[38;5;28mprint\u001b[39m (filenames_data_R[i])\n\u001b[0;32m---> 17\u001b[0m     \u001b[38;5;28mprint\u001b[39m (\u001b[43mfilenames_data_SK1\u001b[49m\u001b[43m[\u001b[49m\u001b[43mi\u001b[49m\u001b[43m]\u001b[49m)\n\u001b[1;32m     18\u001b[0m     a_R\u001b[38;5;241m.\u001b[39mImport(paf_data_R\u001b[38;5;241m+\u001b[39mfilenames_data_R[i],keep_file\u001b[38;5;241m=\u001b[39m\u001b[38;5;28;01mTrue\u001b[39;00m)\n\u001b[1;32m     19\u001b[0m     data_R_traced\u001b[38;5;241m=\u001b[39mTrace_Out(a_R,[\u001b[38;5;241m0\u001b[39m,\u001b[38;5;241m1\u001b[39m,\u001b[38;5;241m2\u001b[39m,\u001b[38;5;241m3\u001b[39m])\n",
      "\u001b[0;31mIndexError\u001b[0m: list index out of range"
     ]
    }
   ],
   "source": [
    "filenames_data=[]\n",
    "counts_d2=[]\n",
    "counts_d2_spam=[]\n",
    "shots=4000\n",
    "counts=[]\n",
    "counts_spam=[]\n",
    "\n",
    "filenames_data_R=filenames_R.copy()\n",
    "filenames_data_SK1=filenames_SK1.copy()\n",
    "paf_data_R=paf_data_R\n",
    "paf_data_SK1=paf_data_SK1\n",
    "\n",
    "# circuit_R=c_R\n",
    "# print (len(filenames_data))\n",
    "for i in range (len(filenames_data_R)):\n",
    "    print (filenames_data_R[i])\n",
    "    print (filenames_data_SK1[i])\n",
    "    a_R.Import(paf_data_R+filenames_data_R[i],keep_file=True)\n",
    "    data_R_traced=Trace_Out(a_R,[0,1,2,3])\n",
    "\n",
    "    a_SK1.Import(paf_data_SK1+filenames_data_SK1[i],keep_file=True)\n",
    "    data_SK1_traced=Trace_Out(a_SK1,[0,1,2,3])\n",
    "    \n",
    "#     a_0426.Import(paf_data_0426+filenames_0426[i],keep_file=True)\n",
    "#     data_0426_traced=Trace_Out(a_0426,[0,1,2,3])\n",
    "#     counts=[round(shots*x) for x in  data_traced.population]\n",
    "#     print (\"counts:\", counts)\n",
    "#     counts_ibm_mapping, counts_ibm_mapping_dic=map_statepop_2_ibm_mapping(counts,nqubit)\n",
    "#     print (\"counts_ibm_mapping_dic:\",counts_ibm_mapping_dic)\n",
    "#     counts_d2.append(counts_ibm_mapping_dic)\n",
    "    \n",
    "#     a_s=spam1.Correct_SPAM(a)\n",
    "#     data_traced_spam=Trace_Out(a_s,[0,1,2,3])\n",
    "#     counts_spam=[round(shots*x) for x in  data_traced_spam.population]\n",
    "#     counts_ibm_mapping_spam, counts_ibm_mapping_dic_spam=map_statepop_2_ibm_mapping(counts_spam,nqubit)\n",
    "#     counts_d2_spam.append(counts_ibm_mapping_dic_spam)\n",
    "\n",
    "    b_c_R.Interpret_GatesLab_Sequence(c_R[i])\n",
    "    b_c_SK1.Interpret_GatesLab_Sequence(c_SK1[i])\n",
    "    print (c_R[i])\n",
    "    print (c_SK1[i])\n",
    "    b_R=b_c_R.Simulate()\n",
    "    b_SK1=b_c_SK1.Simulate()\n",
    "    sim_R_traced=Trace_Out(b_R,[0,1,2,3])\n",
    "    sim_SK1_traced=Trace_Out(b_SK1,[0,1,2,3])\n",
    "#     Display_States_Population(states=[b,a],label=[\"simulation\",\"d=2\"])\n",
    "    Display_States_Population(states=[sim_R_traced,sim_SK1_traced,data_R_traced,data_SK1_traced],label=[\"sim_R\",\"sim_SK1\",\"data_R_traced\",\"SK1\"])\n",
    "# #         "
   ]
  },
  {
   "cell_type": "code",
   "execution_count": null,
   "id": "d112c96a",
   "metadata": {
    "scrolled": false
   },
   "outputs": [],
   "source": []
  },
  {
   "cell_type": "code",
   "execution_count": null,
   "id": "38f9a577",
   "metadata": {
    "scrolled": false
   },
   "outputs": [],
   "source": [
    "      "
   ]
  },
  {
   "cell_type": "code",
   "execution_count": null,
   "id": "fc782fcc",
   "metadata": {
    "scrolled": false
   },
   "outputs": [],
   "source": []
  },
  {
   "cell_type": "code",
   "execution_count": 13,
   "id": "6d5a62e4",
   "metadata": {},
   "outputs": [],
   "source": [
    "# print (counts_d2[0])\n",
    "# print (counts_d2_spam[0])"
   ]
  },
  {
   "cell_type": "code",
   "execution_count": null,
   "id": "a86b14ac",
   "metadata": {},
   "outputs": [],
   "source": []
  },
  {
   "cell_type": "code",
   "execution_count": 15,
   "id": "5f87892a",
   "metadata": {
    "scrolled": false
   },
   "outputs": [],
   "source": []
  },
  {
   "cell_type": "code",
   "execution_count": null,
   "id": "fe4b5bc8",
   "metadata": {
    "scrolled": true
   },
   "outputs": [],
   "source": []
  },
  {
   "cell_type": "code",
   "execution_count": null,
   "id": "74f85411",
   "metadata": {
    "scrolled": true
   },
   "outputs": [],
   "source": []
  },
  {
   "cell_type": "code",
   "execution_count": null,
   "id": "79919c69",
   "metadata": {
    "scrolled": true
   },
   "outputs": [],
   "source": []
  },
  {
   "cell_type": "code",
   "execution_count": null,
   "id": "ff929b1b",
   "metadata": {
    "scrolled": true
   },
   "outputs": [],
   "source": []
  },
  {
   "cell_type": "code",
   "execution_count": null,
   "id": "157a61e0",
   "metadata": {
    "scrolled": true
   },
   "outputs": [],
   "source": []
  },
  {
   "cell_type": "code",
   "execution_count": null,
   "id": "a6b1b5eb",
   "metadata": {
    "scrolled": false
   },
   "outputs": [],
   "source": []
  },
  {
   "cell_type": "code",
   "execution_count": null,
   "id": "130f10e4",
   "metadata": {},
   "outputs": [],
   "source": []
  },
  {
   "cell_type": "code",
   "execution_count": null,
   "id": "a747a63f",
   "metadata": {},
   "outputs": [],
   "source": []
  },
  {
   "cell_type": "code",
   "execution_count": null,
   "id": "d8122151",
   "metadata": {},
   "outputs": [],
   "source": []
  },
  {
   "cell_type": "code",
   "execution_count": null,
   "id": "ffa9c169",
   "metadata": {},
   "outputs": [],
   "source": []
  },
  {
   "cell_type": "markdown",
   "id": "92a8a27d",
   "metadata": {},
   "source": [
    "spam results"
   ]
  },
  {
   "cell_type": "code",
   "execution_count": null,
   "id": "917c595f",
   "metadata": {},
   "outputs": [],
   "source": []
  },
  {
   "cell_type": "code",
   "execution_count": null,
   "id": "3a46c233",
   "metadata": {},
   "outputs": [],
   "source": []
  },
  {
   "cell_type": "code",
   "execution_count": null,
   "id": "74e5c3f9",
   "metadata": {},
   "outputs": [],
   "source": []
  },
  {
   "cell_type": "code",
   "execution_count": null,
   "id": "635c6ea4",
   "metadata": {},
   "outputs": [],
   "source": []
  },
  {
   "cell_type": "code",
   "execution_count": null,
   "id": "2787a638",
   "metadata": {},
   "outputs": [],
   "source": []
  },
  {
   "cell_type": "code",
   "execution_count": 25,
   "id": "5cbbc66c",
   "metadata": {},
   "outputs": [],
   "source": []
  },
  {
   "cell_type": "code",
   "execution_count": null,
   "id": "a7a60d9c",
   "metadata": {},
   "outputs": [],
   "source": []
  },
  {
   "cell_type": "code",
   "execution_count": null,
   "id": "4ee86076",
   "metadata": {},
   "outputs": [],
   "source": []
  }
 ],
 "metadata": {
  "kernelspec": {
   "display_name": "snowflakes",
   "language": "python",
   "name": "snowflakes"
  },
  "language_info": {
   "codemirror_mode": {
    "name": "ipython",
    "version": 3
   },
   "file_extension": ".py",
   "mimetype": "text/x-python",
   "name": "python",
   "nbconvert_exporter": "python",
   "pygments_lexer": "ipython3",
   "version": "3.8.15"
  }
 },
 "nbformat": 4,
 "nbformat_minor": 5
}
