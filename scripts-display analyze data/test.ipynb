{
 "cells": [
  {
   "cell_type": "code",
   "execution_count": 2,
   "id": "e7d2b85e",
   "metadata": {},
   "outputs": [],
   "source": [
    "import sys\n",
    "# sys.path.append(r\"Y:\\Users\\Yingyue\\Gates_Lab_Suite-master\")\n",
    "sys.path.append(r\"/Volumes/funkflower/Users/Yingyue/Gates_Lab_Suite-master\")\n",
    "from Core_Definition import *\n",
    "from Auto_Algorithm import *\n",
    "from Visualization import *\n",
    "import os\n",
    "from SPAM import *\n",
    "import numpy as np\n",
    "import xlsxwriter as xlsx\n",
    "from scipy import optimize\n",
    "import random\n",
    "import math\n",
    "from math import floor\n",
    "import pickle\n",
    "import uuid"
   ]
  },
  {
   "cell_type": "code",
   "execution_count": 3,
   "id": "295a4ac0",
   "metadata": {},
   "outputs": [],
   "source": [
    "import json, pickle\n",
    "import qiskit\n",
    "#transpiler reducinig qiskit circuit to QASM strings\n",
    "from qiskit import transpile\n",
    "# Use AerSimulator\n",
    "from qiskit_aer import AerSimulator\n",
    "from qiskit import IBMQ, QuantumCircuit, execute\n",
    "from qiskit.providers.ibmq.managed import IBMQJobManager\n",
    "from qiskit.extensions import UnitaryGate\n",
    "from qiskit.quantum_info import Pauli, Clifford, Statevector,Operator\n",
    "from qiskit.visualization import array_to_latex\n",
    "from scipy.stats import sem, unitary_group\n",
    "from scipy.linalg import sqrtm,expm\n",
    "import qiskit.quantum_info as qi\n",
    "from qiskit.quantum_info import Pauli\n",
    "import pylatexenc"
   ]
  },
  {
   "cell_type": "code",
   "execution_count": null,
   "id": "b89d76e8",
   "metadata": {},
   "outputs": [],
   "source": []
  },
  {
   "cell_type": "code",
   "execution_count": null,
   "id": "f9487841",
   "metadata": {},
   "outputs": [],
   "source": []
  },
  {
   "cell_type": "code",
   "execution_count": 4,
   "id": "b65588e2",
   "metadata": {},
   "outputs": [
    {
     "name": "stdout",
     "output_type": "stream",
     "text": [
      "20\n"
     ]
    }
   ],
   "source": [
    "Set_Mapping([2,3])\n",
    "nqubit=2\n",
    "C=20\n",
    "results_d2=np.zeros((C,2**(2*nqubit)))\n",
    "results_d4=np.zeros((C,2**(2*nqubit)))\n",
    "results_d8=np.zeros((C,2**(2*nqubit)))\n",
    "\n",
    "file=open(r\"/Volumes/funkflower/Labs/Gates/AutoAlgorithms/EAB/XX 10102023/XX_d=2.txt\", 'r')\n",
    "Lines= file.readlines()\n",
    "c_d2=[]\n",
    "count = 0\n",
    "for line in Lines:\n",
    "    c_d2.append(line)\n",
    "    count += 1\n",
    "print (count)\n",
    "count=0\n",
    "\n",
    "# file=open(r\"/Volumes/funkflower/Labs/Gates/AutoAlgorithms/EAB/01 10/XX23541_noSE_explicitCNOT_FT_R0627_01+10/XX/d=4.txt\", 'r')\n",
    "# Lines= file.readlines()\n",
    "# c_d4=[]\n",
    "# count = 0\n",
    "# for line in Lines:\n",
    "#     c_d4.append(line)\n",
    "#     count += 1\n",
    "# print (count)\n",
    "# count=0\n",
    "\n",
    "# file=open(r\"/Volumes/funkflower/Labs/Gates/AutoAlgorithms/EAB/01 10/XX23541_noSE_explicitCNOT_FT_R0627_01+10/XX/d=8.txt\", 'r')\n",
    "# Lines= file.readlines()\n",
    "# c_d8=[]\n",
    "# count = 0\n",
    "# for line in Lines:\n",
    "#     c_d8.append(line)\n",
    "#     count += 1\n",
    "# print (count)\n",
    "# count=0\n",
    "\n",
    "# file=open(r\"/Volumes/funkflower/Labs/Gates/AutoAlgorithms/EAB/01 10/XX23541_noSE_explicitCNOT_FT_R0627_01+10/XX/d=16.txt\", 'r')\n",
    "# Lines= file.readlines()\n",
    "# c_d16=[]\n",
    "# count = 0\n",
    "# for line in Lines:\n",
    "#     c_d16.append(line)\n",
    "#     count += 1\n",
    "# print (count)\n",
    "# count=0\n",
    "\n",
    "\n",
    "# file=open(r\"/Volumes/funkflower/Labs/Gates/AutoAlgorithms/EAB/01 10/XX23541_noSE_explicitCNOT_FT_R0627_01+10/XX/d=32.txt\", 'r')\n",
    "# Lines= file.readlines()\n",
    "# c_d32=[]\n",
    "# count = 0\n",
    "# for line in Lines:\n",
    "#     c_d32.append(line)\n",
    "#     count += 1\n",
    "# print (count)\n",
    "# count=0\n",
    "\n"
   ]
  },
  {
   "cell_type": "code",
   "execution_count": 5,
   "id": "39249e71",
   "metadata": {},
   "outputs": [
    {
     "name": "stdout",
     "output_type": "stream",
     "text": [
      "archive\n",
      "['2023-10-20-172744_Line_001.txt', '2023-10-20-172800_Line_002.txt', '2023-10-20-172817_Line_003.txt', '2023-10-20-172833_Line_004.txt', '2023-10-20-172849_Line_005.txt', '2023-10-20-172944_Line_006.txt', '2023-10-20-173000_Line_007.txt', '2023-10-20-173016_Line_008.txt', '2023-10-20-173032_Line_009.txt']\n"
     ]
    }
   ],
   "source": [
    "filenames_d2=[]\n",
    "filenames_d4=[]\n",
    "filenames_d8=[]\n",
    "filenames_d16=[]\n",
    "filenames_d32=[]\n",
    "filenames_d2_0703=[]\n",
    "filenames_d4_0703=[]\n",
    "filenames_d8_0703=[]\n",
    "filenames_d2_rerun=[]\n",
    "filenames=[]\n",
    "\n",
    "paf_data_d2=\"/Volumes/funkflower/Users/Yingyue/Gates_Lab_Suite-master/PauliNoiseEstimation/data/CB/1020/2023-10-20 CB__XX_d=2/\"\n",
    "L1=[]\n",
    "filenames=[]\n",
    "line_Idx=\"000\"\n",
    "line_num=\"\"\n",
    "p=0 #position indicator\n",
    "\n",
    "#------------------------------------------read in raw data-------------------------------\n",
    "for f in os.listdir(paf_data_d2):\n",
    "    if (f.find(\"Line\")!=-1):\n",
    "        n=f.find(\"_\")\n",
    "        line_Idx=f[n+6:n+9]\n",
    "        for i in range(3):\n",
    "            if line_Idx[i]==\"0\":\n",
    "                p+=1\n",
    "            else:\n",
    "                line_num=line_Idx[p:3]\n",
    "                p=0\n",
    "                break\n",
    "        L1.append(int(line_num))\n",
    "        filenames.append(f)\n",
    "    else:\n",
    "        print (f) #print out non datafiles just for debugging \n",
    "        continue\n",
    "for Idx in range (len(filenames)):\n",
    "    for i in range (len(filenames)):\n",
    "        if L1[i]==Idx+1:\n",
    "            filenames_d2.append(filenames[i])\n",
    "            break\n",
    "print (filenames_d2)\n",
    "\n",
    "\n",
    "# paf_data_d2_0703=\"/Volumes/funkflower/Users/Yingyue/Gates_Lab_Suite-master/PauliNoiseEstimation/data/0703/2023-07-03 EAB 01+10 d=2/\"\n",
    "# L1=[]\n",
    "# filenames=[]\n",
    "# line_Idx=\"000\"\n",
    "# line_num=\"\"\n",
    "# p=0 #position indicator\n",
    "\n",
    "# #------------------------------------------read in raw data-------------------------------\n",
    "# for f in os.listdir(paf_data_d2_0703):\n",
    "#     if (f.find(\"Line\")!=-1):\n",
    "#         n=f.find(\"_\")\n",
    "#         line_Idx=f[n+6:n+9]\n",
    "#         for i in range(3):\n",
    "#             if line_Idx[i]==\"0\":\n",
    "#                 p+=1\n",
    "#             else:\n",
    "#                 line_num=line_Idx[p:3]\n",
    "#                 p=0\n",
    "#                 break\n",
    "#         L1.append(int(line_num))\n",
    "#         filenames.append(f)\n",
    "#     else:\n",
    "#         print (f) #print out non datafiles just for debugging \n",
    "#         continue\n",
    "# for Idx in range (len(filenames)):\n",
    "#     for i in range (len(filenames)):\n",
    "#         if L1[i]==Idx+1:\n",
    "#             filenames_d2_0703.append(filenames[i])\n",
    "#             break\n",
    "# print (filenames_d2_0703)\n",
    "\n",
    "# paf_data_d2_rerun=\"/Volumes/funkflower/Users/Yingyue/Gates_Lab_Suite-master/PauliNoiseEstimation/data/0711/2023-07-12 EAB__d=2_rerun/\"\n",
    "# L1=[]\n",
    "# filenames=[]\n",
    "# line_Idx=\"000\"\n",
    "# line_num=\"\"\n",
    "# p=0 #position indicator\n",
    "\n",
    "# #------------------------------------------read in raw data-------------------------------\n",
    "# for f in os.listdir(paf_data_d2_rerun):\n",
    "#     if (f.find(\"Line\")!=-1):\n",
    "#         n=f.find(\"_\")\n",
    "#         line_Idx=f[n+6:n+9]\n",
    "#         for i in range(3):\n",
    "#             if line_Idx[i]==\"0\":\n",
    "#                 p+=1\n",
    "#             else:\n",
    "#                 line_num=line_Idx[p:3]\n",
    "#                 p=0\n",
    "#                 break\n",
    "#         L1.append(int(line_num))\n",
    "#         filenames.append(f)\n",
    "#     else:\n",
    "#         print (f) #print out non datafiles just for debugging \n",
    "#         continue\n",
    "# for Idx in range (len(filenames)):\n",
    "#     for i in range (len(filenames)):\n",
    "#         if L1[i]==Idx+1:\n",
    "#             filenames_d2_rerun.append(filenames[i])\n",
    "#             break\n",
    "# print (filenames_d2_rerun)\n",
    "\n",
    "\n",
    "# paf_data_d4=\"/Volumes/funkflower/Users/Yingyue/Gates_Lab_Suite-master/PauliNoiseEstimation/data/0711/2023-07-11 EAB__d=4/\"\n",
    "# L1=[]\n",
    "# filenames=[]\n",
    "# line_Idx=\"000\"\n",
    "# line_num=\"\"\n",
    "# p=0 #position indicator\n",
    "\n",
    "# #------------------------------------------read in raw data-------------------------------\n",
    "# for f in os.listdir(paf_data_d4):\n",
    "#     if (f.find(\"Line\")!=-1):\n",
    "#         n=f.find(\"_\")\n",
    "#         line_Idx=f[n+6:n+9]\n",
    "#         for i in range(3):\n",
    "#             if line_Idx[i]==\"0\":\n",
    "#                 p+=1\n",
    "#             else:\n",
    "#                 line_num=line_Idx[p:3]\n",
    "#                 p=0\n",
    "#                 break\n",
    "#         L1.append(int(line_num))\n",
    "#         filenames.append(f)\n",
    "#     else:\n",
    "#         print (f) #print out non datafiles just for debugging \n",
    "#         continue\n",
    "# for Idx in range (len(filenames)):\n",
    "#     for i in range (len(filenames)):\n",
    "#         if L1[i]==Idx+1:\n",
    "#             filenames_d4.append(filenames[i])\n",
    "#             break\n",
    "# print (filenames_d4)\n",
    "\n",
    "\n",
    "\n",
    "# paf_data_d4_0703=\"/Volumes/funkflower/Users/Yingyue/Gates_Lab_Suite-master/PauliNoiseEstimation/data/0703/2023-07-03 EAB 01+10 d=4/\"\n",
    "# L1=[]\n",
    "# filenames=[]\n",
    "# line_Idx=\"000\"\n",
    "# line_num=\"\"\n",
    "# p=0 #position indicator\n",
    "\n",
    "# #------------------------------------------read in raw data-------------------------------\n",
    "# for f in os.listdir(paf_data_d4_0703):\n",
    "#     if (f.find(\"Line\")!=-1):\n",
    "#         n=f.find(\"_\")\n",
    "#         line_Idx=f[n+6:n+9]\n",
    "#         for i in range(3):\n",
    "#             if line_Idx[i]==\"0\":\n",
    "#                 p+=1\n",
    "#             else:\n",
    "#                 line_num=line_Idx[p:3]\n",
    "#                 p=0\n",
    "#                 break\n",
    "#         L1.append(int(line_num))\n",
    "#         filenames.append(f)\n",
    "#     else:\n",
    "#         print (f) #print out non datafiles just for debugging \n",
    "#         continue\n",
    "# for Idx in range (len(filenames)):\n",
    "#     for i in range (len(filenames)):\n",
    "#         if L1[i]==Idx+1:\n",
    "#             filenames_d4_0703.append(filenames[i])\n",
    "#             break\n",
    "# print (filenames_d4_0703)\n",
    "\n",
    "# paf_data_d8=\"/Volumes/funkflower/Users/Yingyue/Gates_Lab_Suite-master/PauliNoiseEstimation/data/0711/2023-07-11 EAB__d=8/\"\n",
    "# L1=[]\n",
    "# filenames=[]\n",
    "# line_Idx=\"000\"\n",
    "# line_num=\"\"\n",
    "# p=0 #position indicator\n",
    "\n",
    "# #------------------------------------------read in raw data-------------------------------\n",
    "# for f in os.listdir(paf_data_d8 ):\n",
    "#     if (f.find(\"Line\")!=-1):\n",
    "#         n=f.find(\"_\")\n",
    "#         line_Idx=f[n+6:n+9]\n",
    "#         for i in range(3):\n",
    "#             if line_Idx[i]==\"0\":\n",
    "#                 p+=1\n",
    "#             else:\n",
    "#                 line_num=line_Idx[p:3]\n",
    "#                 p=0\n",
    "#                 break\n",
    "#         L1.append(int(line_num))\n",
    "#         filenames.append(f)\n",
    "#     else:\n",
    "#         print (f) #print out non datafiles just for debugging \n",
    "#         continue\n",
    "# for Idx in range (len(filenames)):\n",
    "#     for i in range (len(filenames)):\n",
    "#         if L1[i]==Idx+1:\n",
    "#             filenames_d8.append(filenames[i])\n",
    "#             break\n",
    "# print (filenames_d8)\n",
    "\n",
    "# paf_data_d8_0703=\"/Volumes/funkflower/Users/Yingyue/Gates_Lab_Suite-master/PauliNoiseEstimation/data/0703/2023-07-03 EAB__d=8/\"\n",
    "# L1=[]\n",
    "# filenames=[]\n",
    "# line_Idx=\"000\"\n",
    "# line_num=\"\"\n",
    "# p=0 #position indicator\n",
    "\n",
    "# #------------------------------------------read in raw data-------------------------------\n",
    "# for f in os.listdir(paf_data_d8_0703):\n",
    "#     if (f.find(\"Line\")!=-1):\n",
    "#         n=f.find(\"_\")\n",
    "#         line_Idx=f[n+6:n+9]\n",
    "#         for i in range(3):\n",
    "#             if line_Idx[i]==\"0\":\n",
    "#                 p+=1\n",
    "#             else:\n",
    "#                 line_num=line_Idx[p:3]\n",
    "#                 p=0\n",
    "#                 break\n",
    "#         L1.append(int(line_num))\n",
    "#         filenames.append(f)\n",
    "#     else:\n",
    "#         print (f) #print out non datafiles just for debugging \n",
    "#         continue\n",
    "# for Idx in range (len(filenames)):\n",
    "#     for i in range (len(filenames)):\n",
    "#         if L1[i]==Idx+1:\n",
    "#             filenames_d8_0703.append(filenames[i])\n",
    "#             break\n",
    "# print (filenames_d8_0703)\n",
    "\n",
    "# paf_data_d16=\"/Volumes/funkflower/Users/Yingyue/Gates_Lab_Suite-master/PauliNoiseEstimation/data/0711/2023-07-11 EAB__d=16/\"\n",
    "# L1=[]\n",
    "# filenames=[]\n",
    "# line_Idx=\"000\"\n",
    "# line_num=\"\"\n",
    "# p=0 #position indicator\n",
    "\n",
    "# #------------------------------------------read in raw data-------------------------------\n",
    "# for f in os.listdir(paf_data_d16 ):\n",
    "#     if (f.find(\"Line\")!=-1):\n",
    "#         n=f.find(\"_\")\n",
    "#         line_Idx=f[n+6:n+9]\n",
    "#         for i in range(3):\n",
    "#             if line_Idx[i]==\"0\":\n",
    "#                 p+=1\n",
    "#             else:\n",
    "#                 line_num=line_Idx[p:3]\n",
    "#                 p=0\n",
    "#                 break\n",
    "#         L1.append(int(line_num))\n",
    "#         filenames.append(f)\n",
    "#     else:\n",
    "#         print (f) #print out non datafiles just for debugging \n",
    "#         continue\n",
    "# for Idx in range (len(filenames)):\n",
    "#     for i in range (len(filenames)):\n",
    "#         if L1[i]==Idx+1:\n",
    "#             filenames_d16.append(filenames[i])\n",
    "#             break\n",
    "# print (filenames_d16)\n",
    "\n",
    "# paf_data_d32=\"/Volumes/funkflower/Users/Yingyue/Gates_Lab_Suite-master/PauliNoiseEstimation/data/0711/2023-07-11 EAB__d=32/\"\n",
    "# L1=[]\n",
    "# filenames=[]\n",
    "# line_Idx=\"000\"\n",
    "# line_num=\"\"\n",
    "# p=0 #position indicator\n",
    "\n",
    "# #------------------------------------------read in raw data-------------------------------\n",
    "# for f in os.listdir(paf_data_d32 ):\n",
    "#     if (f.find(\"Line\")!=-1):\n",
    "#         n=f.find(\"_\")\n",
    "#         line_Idx=f[n+6:n+9]\n",
    "#         for i in range(3):\n",
    "#             if line_Idx[i]==\"0\":\n",
    "#                 p+=1\n",
    "#             else:\n",
    "#                 line_num=line_Idx[p:3]\n",
    "#                 p=0\n",
    "#                 break\n",
    "#         L1.append(int(line_num))\n",
    "#         filenames.append(f)\n",
    "#     else:\n",
    "#         print (f) #print out non datafiles just for debugging \n",
    "#         continue\n",
    "# for Idx in range (len(filenames)):\n",
    "#     for i in range (len(filenames)):\n",
    "#         if L1[i]==Idx+1:\n",
    "#             filenames_d32.append(filenames[i])\n",
    "#             break\n",
    "# print (filenames_d32)"
   ]
  },
  {
   "cell_type": "code",
   "execution_count": 7,
   "id": "a7216e46",
   "metadata": {},
   "outputs": [],
   "source": [
    "a=Quantum_State(2)\n",
    "b=Quantum_State(2)\n",
    "c=Quantum_State(2)\n",
    "a_s=Quantum_State(2)\n",
    "b_c=Quantum_Circuit(2,\"qc\")\n",
    "\n",
    "a_0703=Quantum_State(2)\n",
    "a_rerun=Quantum_State(2)\n",
    "\n",
    "# spam1=SPAM_Operator(5)\n",
    "# spam1.Import(\"/Volumes/funkflower/Users/Yingyue/Gates_Lab_Suite-master/PauliNoiseEstimation/data/0711/SPAM1/SPAM1.csv\")\n",
    "\n",
    "# spam2=SPAM_Operator(5)\n",
    "# spam2.Import(\"/Volumes/funkflower/Users/Yingyue/Gates_Lab_Suite-master/PauliNoiseEstimation/data/0711/SPAM2/SPAM2.csv\")\n"
   ]
  },
  {
   "cell_type": "code",
   "execution_count": 8,
   "id": "ffb54c09",
   "metadata": {
    "scrolled": false
   },
   "outputs": [
    {
     "name": "stdout",
     "output_type": "stream",
     "text": [
      "2023-10-20-172744_Line_001.txt\n",
      "RY+22:RY+32:RX+21:AZ3+1.0000:FTXA230.2500+:RY+21:RX+31:FTXA230.2500+:RY+21:RY-22:RY-32\n",
      "\n"
     ]
    },
    {
     "data": {
      "image/png": "[encoded data removed]",
      "text/plain": [
       "<Figure size 720x720 with 1 Axes>"
      ]
     },
     "metadata": {
      "needs_background": "light"
     },
     "output_type": "display_data"
    },
    {
     "name": "stdout",
     "output_type": "stream",
     "text": [
      "2023-10-20-172800_Line_002.txt\n",
      "RY+22:RY+32:AZ3+1.0000:FTXA230.2500+:RX+21:RX+31:FTXA230.2500+:AZ2+1.0000:AZ3+1.0000:RY-22:RY-32\n",
      "\n"
     ]
    },
    {
     "data": {
      "image/png": "[encoded data removed]",
      "text/plain": [
       "<Figure size 720x720 with 1 Axes>"
      ]
     },
     "metadata": {
      "needs_background": "light"
     },
     "output_type": "display_data"
    },
    {
     "name": "stdout",
     "output_type": "stream",
     "text": [
      "2023-10-20-172817_Line_003.txt\n",
      "RY+22:RY+32:RX+21:RX+31:FTXA230.2500+:AZ2+1.0000:RY+31:FTXA230.2500+:AZ3+1.0000:RY-22:RY-32\n",
      "\n"
     ]
    },
    {
     "data": {
      "image/png": "[encoded data removed]",
      "text/plain": [
       "<Figure size 720x720 with 1 Axes>"
      ]
     },
     "metadata": {
      "needs_background": "light"
     },
     "output_type": "display_data"
    },
    {
     "name": "stdout",
     "output_type": "stream",
     "text": [
      "2023-10-20-172833_Line_004.txt\n",
      "RY+22:RY+32:FTXA230.2500+:RX+31:FTXA230.2500+:RX+21:RY+31:RY-22:RY-32\n",
      "\n"
     ]
    },
    {
     "data": {
      "image/png": "[encoded data removed]",
      "text/plain": [
       "<Figure size 720x720 with 1 Axes>"
      ]
     },
     "metadata": {
      "needs_background": "light"
     },
     "output_type": "display_data"
    },
    {
     "name": "stdout",
     "output_type": "stream",
     "text": [
      "2023-10-20-172849_Line_005.txt\n",
      "RY+22:RY+32:AZ2+1.0000:AZ3+1.0000:FTXA230.2500+:RX+31:FTXA230.2500+:AZ2+1.0000:RY-22:RY-32\n",
      "\n"
     ]
    },
    {
     "data": {
      "image/png": "[encoded data removed]",
      "text/plain": [
       "<Figure size 720x720 with 1 Axes>"
      ]
     },
     "metadata": {
      "needs_background": "light"
     },
     "output_type": "display_data"
    },
    {
     "name": "stdout",
     "output_type": "stream",
     "text": [
      "2023-10-20-172944_Line_006.txt\n",
      "RY+22:RY+32:AZ2+1.0000:RY+31:FTXA230.2500+:RX+21:RY+31:FTXA230.2500+:RX+21:RY-22:RY-32\n",
      "\n"
     ]
    },
    {
     "data": {
      "image/png": "[encoded data removed]",
      "text/plain": [
       "<Figure size 720x720 with 1 Axes>"
      ]
     },
     "metadata": {
      "needs_background": "light"
     },
     "output_type": "display_data"
    },
    {
     "name": "stdout",
     "output_type": "stream",
     "text": [
      "2023-10-20-173000_Line_007.txt\n",
      "RY+22:RY+32:RY+31:FTXA230.2500+:AZ3+1.0000:FTXA230.2500+:RX+31:RY-22:RY-32\n",
      "\n"
     ]
    },
    {
     "data": {
      "image/png": "[encoded data removed]",
      "text/plain": [
       "<Figure size 720x720 with 1 Axes>"
      ]
     },
     "metadata": {
      "needs_background": "light"
     },
     "output_type": "display_data"
    },
    {
     "name": "stdout",
     "output_type": "stream",
     "text": [
      "2023-10-20-173016_Line_008.txt\n",
      "RY+22:RY+32:AZ3+1.0000:FTXA230.2500+:RY+21:FTXA230.2500+:AZ2+1.0000:RY-22:RY-32\n",
      "\n"
     ]
    },
    {
     "data": {
      "image/png": "[encoded data removed]",
      "text/plain": [
       "<Figure size 720x720 with 1 Axes>"
      ]
     },
     "metadata": {
      "needs_background": "light"
     },
     "output_type": "display_data"
    },
    {
     "name": "stdout",
     "output_type": "stream",
     "text": [
      "2023-10-20-173032_Line_009.txt\n",
      "RY+22:RY+32:RY+21:FTXA230.2500+:AZ2+1.0000:RX+31:FTXA230.2500+:RX+31:RY-22:RY-32\n",
      "\n"
     ]
    },
    {
     "data": {
      "image/png": "[encoded data removed]",
      "text/plain": [
       "<Figure size 720x720 with 1 Axes>"
      ]
     },
     "metadata": {
      "needs_background": "light"
     },
     "output_type": "display_data"
    }
   ],
   "source": [
    "filenames_data=[]\n",
    "counts_d2=[]\n",
    "counts_d2_spam=[]\n",
    "counts_d2_sim=[]\n",
    "shots=2000\n",
    "counts=[]\n",
    "counts_spam=[]\n",
    "counts_sim=[]\n",
    "filenames_data=filenames_d2.copy()\n",
    "# print (filenames_data)\n",
    "# print (len(filenames_data))\n",
    "paf_data=paf_data_d2\n",
    "circuit=c_d2\n",
    "for i in range (len(filenames_data)):\n",
    "    print (filenames_data[i])\n",
    "    a.Import(paf_data+filenames_data[i],keep_file=True)\n",
    "#     data_traced=Trace_Out(a,[0,1,2,3])\n",
    "#     print(data_traced.population)\n",
    "    \n",
    "    b_c.Interpret_GatesLab_Sequence(circuit[i])\n",
    "    print (circuit[i])\n",
    "    b=b_c.Simulate()\n",
    "#     sim_traced=Trace_Out(b,[0,1,2,3])\n",
    "#     Display_States_Population(states=[b,a],label=[\"simulation\",\"d=2\"])\n",
    "    Display_States_Population(states=[a,b],label=[\"data\",\"sim\"])\n",
    "# #         \n",
    "\n",
    "\n",
    "    \n",
    "   "
   ]
  },
  {
   "cell_type": "code",
   "execution_count": null,
   "id": "38f9a577",
   "metadata": {
    "scrolled": true
   },
   "outputs": [],
   "source": []
  },
  {
   "cell_type": "code",
   "execution_count": null,
   "id": "fc782fcc",
   "metadata": {
    "scrolled": true
   },
   "outputs": [],
   "source": []
  },
  {
   "cell_type": "code",
   "execution_count": null,
   "id": "fde9c4c8",
   "metadata": {
    "scrolled": true
   },
   "outputs": [],
   "source": []
  },
  {
   "cell_type": "code",
   "execution_count": null,
   "id": "826559c9",
   "metadata": {
    "scrolled": true
   },
   "outputs": [],
   "source": []
  },
  {
   "cell_type": "code",
   "execution_count": 7,
   "id": "6d5a62e4",
   "metadata": {},
   "outputs": [],
   "source": [
    "# print (counts_d2[0])\n",
    "# print (counts_d2_spam[0])"
   ]
  },
  {
   "cell_type": "code",
   "execution_count": null,
   "id": "a86b14ac",
   "metadata": {},
   "outputs": [],
   "source": []
  },
  {
   "cell_type": "code",
   "execution_count": null,
   "id": "5f87892a",
   "metadata": {
    "scrolled": false
   },
   "outputs": [],
   "source": []
  },
  {
   "cell_type": "code",
   "execution_count": null,
   "id": "fe4b5bc8",
   "metadata": {
    "scrolled": true
   },
   "outputs": [],
   "source": []
  },
  {
   "cell_type": "code",
   "execution_count": 8,
   "id": "74f85411",
   "metadata": {
    "scrolled": true
   },
   "outputs": [
    {
     "ename": "SyntaxError",
     "evalue": "unexpected EOF while parsing (3477860531.py, line 1)",
     "output_type": "error",
     "traceback": [
      "\u001b[0;36m  Input \u001b[0;32mIn [8]\u001b[0;36m\u001b[0m\n\u001b[0;31m    \\\u001b[0m\n\u001b[0m     ^\u001b[0m\n\u001b[0;31mSyntaxError\u001b[0m\u001b[0;31m:\u001b[0m unexpected EOF while parsing\n"
     ]
    }
   ],
   "source": [
    "\\"
   ]
  },
  {
   "cell_type": "code",
   "execution_count": null,
   "id": "79919c69",
   "metadata": {
    "scrolled": true
   },
   "outputs": [],
   "source": []
  },
  {
   "cell_type": "code",
   "execution_count": null,
   "id": "ff929b1b",
   "metadata": {
    "scrolled": true
   },
   "outputs": [],
   "source": [
    "# print (eab_load_cpy)"
   ]
  },
  {
   "cell_type": "code",
   "execution_count": null,
   "id": "157a61e0",
   "metadata": {
    "scrolled": true
   },
   "outputs": [],
   "source": []
  },
  {
   "cell_type": "code",
   "execution_count": null,
   "id": "79405a28",
   "metadata": {
    "scrolled": false
   },
   "outputs": [],
   "source": []
  },
  {
   "cell_type": "code",
   "execution_count": null,
   "id": "a6b1b5eb",
   "metadata": {
    "scrolled": false
   },
   "outputs": [],
   "source": []
  },
  {
   "cell_type": "code",
   "execution_count": null,
   "id": "2f367cbf",
   "metadata": {},
   "outputs": [],
   "source": []
  },
  {
   "cell_type": "code",
   "execution_count": null,
   "id": "130f10e4",
   "metadata": {},
   "outputs": [],
   "source": []
  },
  {
   "cell_type": "markdown",
   "id": "11d0108b",
   "metadata": {},
   "source": [
    "Data analysis"
   ]
  },
  {
   "cell_type": "code",
   "execution_count": null,
   "id": "a747a63f",
   "metadata": {},
   "outputs": [],
   "source": []
  },
  {
   "cell_type": "code",
   "execution_count": null,
   "id": "737460ad",
   "metadata": {
    "scrolled": true
   },
   "outputs": [],
   "source": []
  },
  {
   "cell_type": "code",
   "execution_count": null,
   "id": "12698891",
   "metadata": {},
   "outputs": [],
   "source": []
  },
  {
   "cell_type": "markdown",
   "id": "3f292832",
   "metadata": {},
   "source": [
    "plot average fidelity and fit"
   ]
  },
  {
   "cell_type": "code",
   "execution_count": null,
   "id": "8322bab8",
   "metadata": {
    "scrolled": false
   },
   "outputs": [],
   "source": [
    "    "
   ]
  },
  {
   "cell_type": "markdown",
   "id": "685fb3a4",
   "metadata": {},
   "source": [
    "plot fidelity from each circuit and fit"
   ]
  },
  {
   "cell_type": "code",
   "execution_count": null,
   "id": "6d144196",
   "metadata": {
    "scrolled": false
   },
   "outputs": [],
   "source": [
    "      "
   ]
  },
  {
   "cell_type": "markdown",
   "id": "b2d689cd",
   "metadata": {},
   "source": [
    "data analysis with bootstrapping"
   ]
  },
  {
   "cell_type": "code",
   "execution_count": null,
   "id": "71a66c9c",
   "metadata": {},
   "outputs": [],
   "source": [
    "\n"
   ]
  },
  {
   "cell_type": "code",
   "execution_count": null,
   "id": "397a9ca7",
   "metadata": {},
   "outputs": [],
   "source": []
  },
  {
   "cell_type": "markdown",
   "id": "58d143fe",
   "metadata": {},
   "source": []
  },
  {
   "cell_type": "code",
   "execution_count": null,
   "id": "d8122151",
   "metadata": {},
   "outputs": [],
   "source": []
  },
  {
   "cell_type": "code",
   "execution_count": null,
   "id": "6ecbaea6",
   "metadata": {},
   "outputs": [],
   "source": []
  },
  {
   "cell_type": "code",
   "execution_count": null,
   "id": "ffa9c169",
   "metadata": {},
   "outputs": [],
   "source": []
  },
  {
   "cell_type": "markdown",
   "id": "92a8a27d",
   "metadata": {},
   "source": [
    "spam results"
   ]
  },
  {
   "cell_type": "code",
   "execution_count": null,
   "id": "917c595f",
   "metadata": {},
   "outputs": [],
   "source": []
  },
  {
   "cell_type": "code",
   "execution_count": null,
   "id": "3a46c233",
   "metadata": {},
   "outputs": [],
   "source": []
  },
  {
   "cell_type": "code",
   "execution_count": null,
   "id": "74e5c3f9",
   "metadata": {},
   "outputs": [],
   "source": []
  },
  {
   "cell_type": "code",
   "execution_count": null,
   "id": "635c6ea4",
   "metadata": {},
   "outputs": [],
   "source": []
  },
  {
   "cell_type": "code",
   "execution_count": null,
   "id": "2787a638",
   "metadata": {},
   "outputs": [],
   "source": []
  },
  {
   "cell_type": "code",
   "execution_count": null,
   "id": "5cbbc66c",
   "metadata": {},
   "outputs": [],
   "source": [
    "\n",
    "b=[]\n",
    "c=[1,2]\n",
    "f=c\n",
    "c=[1]\n",
    "print (d)\n",
    "print (b)\n",
    "print (c)"
   ]
  },
  {
   "cell_type": "code",
   "execution_count": null,
   "id": "a7a60d9c",
   "metadata": {},
   "outputs": [],
   "source": []
  },
  {
   "cell_type": "code",
   "execution_count": null,
   "id": "4ee86076",
   "metadata": {},
   "outputs": [],
   "source": []
  }
 ],
 "metadata": {
  "kernelspec": {
   "display_name": "snowflakes",
   "language": "python",
   "name": "snowflakes"
  },
  "language_info": {
   "codemirror_mode": {
    "name": "ipython",
    "version": 3
   },
   "file_extension": ".py",
   "mimetype": "text/x-python",
   "name": "python",
   "nbconvert_exporter": "python",
   "pygments_lexer": "ipython3",
   "version": "3.8.15"
  }
 },
 "nbformat": 4,
 "nbformat_minor": 5
}
