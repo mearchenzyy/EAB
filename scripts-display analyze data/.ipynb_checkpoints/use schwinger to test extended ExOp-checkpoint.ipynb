{
 "cells": [
  {
   "cell_type": "code",
   "execution_count": 2,
   "id": "e7d2b85e",
   "metadata": {},
   "outputs": [],
   "source": [
    "import sys\n",
    "# sys.path.append(r\"Y:\\Users\\Yingyue\\Gates_Lab_Suite-master\")\n",
    "sys.path.append(r\"/Volumes/funkflower/Users/Yingyue/Gates_Lab_Suite-master\")\n",
    "from Core_Definition import *\n",
    "from Auto_Algorithm import *\n",
    "from Visualization import *\n",
    "import os\n",
    "from SPAM import *\n",
    "import numpy as np\n",
    "import xlsxwriter as xlsx\n",
    "from scipy import optimize\n",
    "import random\n",
    "import math\n",
    "from math import floor\n",
    "import pickle\n",
    "import uuid"
   ]
  },
  {
   "cell_type": "code",
   "execution_count": 3,
   "id": "295a4ac0",
   "metadata": {},
   "outputs": [],
   "source": [
    "import json, pickle\n",
    "import qiskit\n",
    "#transpiler reducinig qiskit circuit to QASM strings\n",
    "from qiskit import transpile\n",
    "# Use AerSimulator\n",
    "from qiskit_aer import AerSimulator\n",
    "from qiskit import IBMQ, QuantumCircuit, execute\n",
    "from qiskit.providers.ibmq.managed import IBMQJobManager\n",
    "from qiskit.extensions import UnitaryGate\n",
    "from qiskit.quantum_info import Pauli, Clifford, Statevector,Operator\n",
    "from qiskit.visualization import array_to_latex\n",
    "from scipy.stats import sem, unitary_group\n",
    "from scipy.linalg import sqrtm,expm\n",
    "import qiskit.quantum_info as qi\n",
    "from qiskit.quantum_info import Pauli\n",
    "import pylatexenc"
   ]
  },
  {
   "cell_type": "code",
   "execution_count": 4,
   "id": "b89d76e8",
   "metadata": {},
   "outputs": [],
   "source": [
    "\n",
    "    \n",
    "    \n",
    "    "
   ]
  },
  {
   "cell_type": "code",
   "execution_count": null,
   "id": "f9487841",
   "metadata": {},
   "outputs": [],
   "source": [
    "\n",
    "    "
   ]
  },
  {
   "cell_type": "code",
   "execution_count": 4,
   "id": "b65588e2",
   "metadata": {},
   "outputs": [
    {
     "name": "stdout",
     "output_type": "stream",
     "text": [
      "2\n"
     ]
    }
   ],
   "source": [
    "# Set_Mapping([2,3,5,4,1])\n",
    "nqubit=2\n",
    "C=10\n",
    "results_d2=np.zeros((C,2**(2*nqubit)))\n",
    "results_d4=np.zeros((C,2**(2*nqubit)))\n",
    "results_d8=np.zeros((C,2**(2*nqubit)))\n",
    "\n",
    "file=open(r\"/Volumes/funkflower/Labs/Gates/AutoAlgorithms/archive_Inactive_File/schwinger/1-spatial_site/1-site-benchmarking-13.txt\", 'r')\n",
    "Lines= file.readlines()\n",
    "c_error=[]\n",
    "count = 0\n",
    "for line in Lines:\n",
    "    c_error.append(line)\n",
    "    count += 1\n",
    "print (count)\n",
    "count=0\n",
    "\n",
    "# file=open(r\"/Volumes/funkflower/Users/Yingyue/Gates_Lab_Suite-master/PauliNoiseEstimation/circuits/23541 EAB XX C=10 0424  set2/d=4.txt\", 'r')\n",
    "# Lines= file.readlines()\n",
    "# c_d4=[]\n",
    "# count = 0\n",
    "# for line in Lines:\n",
    "#     c_d4.append(line)\n",
    "#     count += 1\n",
    "# print (count)\n",
    "# count=0\n",
    "\n",
    "# file=open(r\"/Volumes/funkflower/Users/Yingyue/Gates_Lab_Suite-master/PauliNoiseEstimation/circuits/23541 EAB XX C=10 0424  set2/d=2.txt\", 'r')\n",
    "# Lines= file.readlines()\n",
    "# c_d2=[]\n",
    "# count = 0\n",
    "# for line in Lines:\n",
    "#     c_d2.append(line)\n",
    "#     count += 1\n",
    "# print (count)\n",
    "# count=0\n"
   ]
  },
  {
   "cell_type": "code",
   "execution_count": 5,
   "id": "39249e71",
   "metadata": {},
   "outputs": [
    {
     "name": "stdout",
     "output_type": "stream",
     "text": [
      "['2023-06-30-182001_Line_001.txt', '2023-06-30-182145_Line_002.txt']\n"
     ]
    }
   ],
   "source": [
    "filenames_SE=[]\n",
    "filenames_noSE=[]\n",
    "filenames_0426=[]\n",
    "filenames=[]\n",
    "\n",
    "paf_data_SE=\"/Volumes/funkflower/Users/Yingyue/Gates_Lab_Suite-master/2023-06-30 UMD__1-site-benchmarking-13/\"\n",
    "L1=[]\n",
    "filenames=[]\n",
    "line_Idx=\"000\"\n",
    "line_num=\"\"\n",
    "p=0 #position indicator\n",
    "\n",
    "#------------------------------------------read in raw data-------------------------------\n",
    "for f in os.listdir(paf_data_SE):\n",
    "    if (f.find(\"Line\")!=-1):\n",
    "        n=f.find(\"_\")\n",
    "        line_Idx=f[n+6:n+9]\n",
    "        for i in range(3):\n",
    "            if line_Idx[i]==\"0\":\n",
    "                p+=1\n",
    "            else:\n",
    "                line_num=line_Idx[p:3]\n",
    "                p=0\n",
    "                break\n",
    "        L1.append(int(line_num))\n",
    "        filenames.append(f)\n",
    "    else:\n",
    "        print (f) #print out non datafiles just for debugging \n",
    "        continue\n",
    "for Idx in range (len(filenames)):\n",
    "    for i in range (len(filenames)):\n",
    "        if L1[i]==Idx+1:\n",
    "            filenames_SE.append(filenames[i])\n",
    "            break\n",
    "print (filenames_SE)\n",
    "\n",
    "# paf_data_noSE=\"/Volumes/funkflower/Users/Yingyue/Gates_Lab_Suite-master/PauliNoiseEstimation/data/0515/2023-05-15 eab__error lines d=2 3578 23541 set2 - noSE/\"\n",
    "# L1=[]\n",
    "# filenames=[]\n",
    "# line_Idx=\"000\"\n",
    "# line_num=\"\"\n",
    "# p=0 #position indicator\n",
    "\n",
    "# #------------------------------------------read in raw data-------------------------------\n",
    "# for f in os.listdir(paf_data_noSE):\n",
    "#     if (f.find(\"Line\")!=-1):\n",
    "#         n=f.find(\"_\")\n",
    "#         line_Idx=f[n+6:n+9]\n",
    "#         for i in range(3):\n",
    "#             if line_Idx[i]==\"0\":\n",
    "#                 p+=1\n",
    "#             else:\n",
    "#                 line_num=line_Idx[p:3]\n",
    "#                 p=0\n",
    "#                 break\n",
    "#         L1.append(int(line_num))\n",
    "#         filenames.append(f)\n",
    "#     else:\n",
    "#         print (f) #print out non datafiles just for debugging \n",
    "#         continue\n",
    "# for Idx in range (len(filenames)):\n",
    "#     for i in range (len(filenames)):\n",
    "#         if L1[i]==Idx+1:\n",
    "#             filenames_noSE.append(filenames[i])\n",
    "#             break\n",
    "# print (filenames_noSE)\n",
    "\n",
    "# paf_data_0426=\"/Volumes/funkflower/Users/Yingyue/Gates_Lab_Suite-master/PauliNoiseEstimation/data/0426/d=2 line 3578 0426/\"\n",
    "# L1=[]\n",
    "# filenames=[]\n",
    "# line_Idx=\"000\"\n",
    "# line_num=\"\"\n",
    "# p=0 #position indicator\n",
    "\n",
    "# #------------------------------------------read in raw data-------------------------------\n",
    "# for f in os.listdir(paf_data_0426):\n",
    "#     if (f.find(\"Line\")!=-1):\n",
    "#         n=f.find(\"_\")\n",
    "#         line_Idx=f[n+6:n+9]\n",
    "#         for i in range(3):\n",
    "#             if line_Idx[i]==\"0\":\n",
    "#                 p+=1\n",
    "#             else:\n",
    "#                 line_num=line_Idx[p:3]\n",
    "#                 p=0\n",
    "#                 break\n",
    "#         L1.append(int(line_num))\n",
    "#         filenames.append(f)\n",
    "#     else:\n",
    "#         print (f) #print out non datafiles just for debugging \n",
    "#         continue\n",
    "# # print (filenames)\n",
    "# for Idx in range (10):\n",
    "#     for i in range (len(filenames)):\n",
    "#         if L1[i]==Idx+1:\n",
    "#             filenames_0426.append(filenames[i])\n",
    "# print (filenames_0426)"
   ]
  },
  {
   "cell_type": "code",
   "execution_count": 9,
   "id": "a7216e46",
   "metadata": {},
   "outputs": [],
   "source": [
    "a=Quantum_State(3)\n",
    "a_noSE=Quantum_State(3)\n",
    "# a_0426=Quantum_State(5)\n",
    "# a_s=Quantum_State(5)\n",
    "b_c=Quantum_Circuit(3,\"qc\")\n",
    "\n",
    "# spam1=SPAM_Operator(5)\n",
    "# spam1.Import(\"/Volumes/funkflower/Users/Yingyue/Gates_Lab_Suite-master/PauliNoiseEstimation/data/0424/SPAM1/SPAM1.csv\")\n",
    "\n",
    "# spam2=SPAM_Operator(5)\n",
    "# spam2.Import(\"/Volumes/funkflower/Users/Yingyue/Gates_Lab_Suite-master/PauliNoiseEstimation/data/0424/SPAM1/SPAM1.csv\")\n"
   ]
  },
  {
   "cell_type": "code",
   "execution_count": 11,
   "id": "ffb54c09",
   "metadata": {
    "scrolled": false
   },
   "outputs": [
    {
     "name": "stdout",
     "output_type": "stream",
     "text": [
      "2023-06-30-182145_Line_002.txt\n",
      "SK1X+11:XA130.0477+:RZ+12:RZ+32:XA130.0477+:AZ1-0.6751:AZ3-0.4841:XA130.0477+:RZ+12:RZ+32:XA130.0477+:AZ1-0.6751:AZ3-0.4841:XA130.0477+:RZ+12:RZ+32:XA130.0477+:AZ1-0.6751:AZ3-0.4841:XA130.0477+:RZ+12:RZ+32:XA130.0477+:AZ1-0.6751:AZ3-0.4841:XA130.0477+:RZ+12:RZ+32:XA130.0477+:AZ1-0.6751:AZ3-0.4841:XA130.0477+:RZ+12:RZ+32:XA130.0477+:AZ1-0.6751:AZ3-0.4841:XA130.0477+:RZ+12:RZ+32:XA130.0477+:AZ1-0.6751:AZ3-0.4841:XA130.0477+:RZ+12:RZ+32:XA130.0477+:AZ1-0.6751:AZ3-0.4841:XA130.0477+:RZ+12:RZ+32:XA130.0477+:AZ1-0.6751:AZ3-0.4841:XA130.0477+:RZ+12:RZ+32:XA130.0477+:AZ1-0.6751:AZ3-0.4841:XA130.0477+:RZ+12:RZ+32:XA130.0477+:AZ1-0.6751:AZ3-0.4841\n"
     ]
    },
    {
     "data": {
      "image/png": "[encoded data removed]",
      "text/plain": [
       "<Figure size 720x720 with 1 Axes>"
      ]
     },
     "metadata": {
      "needs_background": "light"
     },
     "output_type": "display_data"
    },
    {
     "name": "stdout",
     "output_type": "stream",
     "text": [
      "2023-06-30-182145_Line_002.txt\n",
      "SK1X+11:XA130.0477+:RZ+12:RZ+32:XA130.0477+:AZ1-0.6751:AZ3-0.4841:XA130.0477+:RZ+12:RZ+32:XA130.0477+:AZ1-0.6751:AZ3-0.4841:XA130.0477+:RZ+12:RZ+32:XA130.0477+:AZ1-0.6751:AZ3-0.4841:XA130.0477+:RZ+12:RZ+32:XA130.0477+:AZ1-0.6751:AZ3-0.4841:XA130.0477+:RZ+12:RZ+32:XA130.0477+:AZ1-0.6751:AZ3-0.4841:XA130.0477+:RZ+12:RZ+32:XA130.0477+:AZ1-0.6751:AZ3-0.4841:XA130.0477+:RZ+12:RZ+32:XA130.0477+:AZ1-0.6751:AZ3-0.4841:XA130.0477+:RZ+12:RZ+32:XA130.0477+:AZ1-0.6751:AZ3-0.4841:XA130.0477+:RZ+12:RZ+32:XA130.0477+:AZ1-0.6751:AZ3-0.4841:XA130.0477+:RZ+12:RZ+32:XA130.0477+:AZ1-0.6751:AZ3-0.4841:XA130.0477+:RZ+12:RZ+32:XA130.0477+:AZ1-0.6751:AZ3-0.4841\n"
     ]
    },
    {
     "data": {
      "image/png": "[encoded data removed]",
      "text/plain": [
       "<Figure size 720x720 with 1 Axes>"
      ]
     },
     "metadata": {
      "needs_background": "light"
     },
     "output_type": "display_data"
    }
   ],
   "source": [
    "filenames_data=[]\n",
    "counts_d2=[]\n",
    "counts_d2_spam=[]\n",
    "shots=4000\n",
    "counts=[]\n",
    "counts_spam=[]\n",
    "\n",
    "filenames_data=filenames_SE.copy()\n",
    "filenames_data_noSE=filenames_noSE.copy()\n",
    "paf_data=paf_data_SE\n",
    "# paf_data_noSE=paf_data_noSE\n",
    "# paf_data_noSE=paf_data_noSE\n",
    "circuit=c_error\n",
    "# print (len(filenames_data))\n",
    "for i in range (len(filenames_data)):\n",
    "    print (filenames_data[1])\n",
    "    a.Import(paf_data+filenames_data[1],keep_file=True)\n",
    "#     data_traced=Trace_Out(a,[0,1,2,3])\n",
    "\n",
    "#     a_noSE.Import(paf_data_noSE+filenames_data_noSE[i],keep_file=True)\n",
    "#     data_noSE_traced=Trace_Out(a_noSE,[0,1,2,3])\n",
    "    \n",
    "#     a_0426.Import(paf_data+filenames_data[i],keep_file=True)\n",
    "#     data_0426_traced=Trace_Out(a_0426,[0,1,2,3])\n",
    "#     counts=[round(shots*x) for x in  data_traced.population]\n",
    "#     print (\"counts:\", counts)\n",
    "#     counts_ibm_mapping, counts_ibm_mapping_dic=map_statepop_2_ibm_mapping(counts,nqubit)\n",
    "#     print (\"counts_ibm_mapping_dic:\",counts_ibm_mapping_dic)\n",
    "#     counts_d2.append(counts_ibm_mapping_dic)\n",
    "    \n",
    "#     a_s=spam1.Correct_SPAM(a)\n",
    "#     data_traced_spam=Trace_Out(a_s,[0,1,2,3])\n",
    "#     counts_spam=[round(shots*x) for x in  data_traced_spam.population]\n",
    "#     counts_ibm_mapping_spam, counts_ibm_mapping_dic_spam=map_statepop_2_ibm_mapping(counts_spam,nqubit)\n",
    "#     counts_d2_spam.append(counts_ibm_mapping_dic_spam)\n",
    "\n",
    "    b_c.Interpret_GatesLab_Sequence(circuit[1])\n",
    "    print (circuit[1])\n",
    "    b=b_c.Simulate()\n",
    "#     sim_traced=Trace_Out(b,[0,1,2,3])\n",
    "#     Display_States_Population(states=[b,a],label=[\"simulation\",\"d=2\"])\n",
    "    Display_States_Population(states=[a,b],label=[\"sim_traced\",\"data_traced\"])\n",
    "# #         "
   ]
  },
  {
   "cell_type": "code",
   "execution_count": null,
   "id": "d112c96a",
   "metadata": {
    "scrolled": false
   },
   "outputs": [],
   "source": []
  },
  {
   "cell_type": "code",
   "execution_count": null,
   "id": "38f9a577",
   "metadata": {
    "scrolled": false
   },
   "outputs": [],
   "source": [
    "      "
   ]
  },
  {
   "cell_type": "code",
   "execution_count": null,
   "id": "fc782fcc",
   "metadata": {
    "scrolled": false
   },
   "outputs": [],
   "source": []
  },
  {
   "cell_type": "code",
   "execution_count": 13,
   "id": "6d5a62e4",
   "metadata": {},
   "outputs": [],
   "source": [
    "# print (counts_d2[0])\n",
    "# print (counts_d2_spam[0])"
   ]
  },
  {
   "cell_type": "code",
   "execution_count": null,
   "id": "a86b14ac",
   "metadata": {},
   "outputs": [],
   "source": []
  },
  {
   "cell_type": "code",
   "execution_count": 15,
   "id": "5f87892a",
   "metadata": {
    "scrolled": false
   },
   "outputs": [],
   "source": [
    "import copy\n",
    "from copy import copy, deepcopy\n",
    "\n",
    "# copy.copy(x)\n",
    "# copy.deepcopy(x)\n",
    "\n",
    "# picklefile=\"c39b72eb-9de9-4338-b6ae-e478130a3f4fXX23541withpadding_set2\"\n",
    "with open(\"/Volumes/funkflower/Users/Yingyue/Gates_Lab_Suite-master/PauliNoiseEstimation/circuits/23541 EAB XX C=10 0424  set2/c39b72eb-9de9-4338-b6ae-e478130a3f4fXX23541withpadding_set2\", \"rb\") as fp:   # Unpickling\n",
    "    eab_load = pickle.load(fp)\n",
    "# print (picklefile)\n",
    "# print (b)\n",
    "\n",
    "# with open(\"/Volumes/funkflower/Users/Yingyue/Gates_Lab_Suite-master/PauliNoiseEstimation/circuits/23541 EAB XX C=10 0424 /\"+picklefile, \"rb\") as fp:   # Unpickling\n",
    "#     eab_load_2 = pickle.load(fp)\n",
    "# print (picklefile)\n",
    "\n",
    "# with open(\"/Volumes/funkflower/Users/Yingyue/Gates_Lab_Suite-master/PauliNoiseEstimation/circuits/23541 EAB XX C=10 0424 /\"+picklefile, \"rb\") as fp:   # Unpickling\n",
    "#     eab_load_3 = pickle.load(fp)\n",
    "# print (picklefile)\n",
    "\n",
    "\n",
    "C=10\n",
    "eab_load_cpy=deepcopy(eab_load)\n",
    "eab_load_cpy_spam=deepcopy(eab_load)\n",
    "eab_load_cpy_24=deepcopy(eab_load[0:20]) #a copy that only has depth=[2,4]\n"
   ]
  },
  {
   "cell_type": "code",
   "execution_count": 16,
   "id": "fe4b5bc8",
   "metadata": {
    "scrolled": true
   },
   "outputs": [
    {
     "name": "stdout",
     "output_type": "stream",
     "text": [
      "{'0000': 77, '1000': 2931, '0100': 158, '1100': 100, '0010': 84, '1010': 206, '0110': 18, '1110': 21, '0001': 10, '1001': 195, '0101': 94, '1101': 44, '0011': 5, '1011': 32, '0111': 14, '1111': 11}\n",
      "{'0000': 41, '1000': 2988, '0100': 160, '1100': 87, '0010': 84, '1010': 211, '0110': 16, '1110': 14, '0001': 7, '1001': 196, '0101': 99, '1101': 44, '0011': 4, '1011': 29, '0111': 12, '1111': 9}\n",
      "{'0000': 257, '1000': 9, '0100': 34, '1100': 79, '0010': 24, '1010': 13, '0110': 6, '1110': 25, '0001': 2977, '1001': 49, '0101': 61, '1101': 105, '0011': 246, '1011': 78, '0111': 4, '1111': 33}\n",
      "{'0000': 223, '1000': 7, '0100': 33, '1100': 80, '0010': 22, '1010': 13, '0110': 5, '1110': 25, '0001': 3076, '1001': 40, '0101': 56, '1101': 110, '0011': 198, '1011': 82, '0111': 0, '1111': 29}\n",
      "{'0000': 16, '1000': 60, '0100': 35, '1100': 10, '0010': 20, '1010': 512, '0110': 73, '1110': 51, '0001': 45, '1001': 142, '0101': 30, '1101': 14, '0011': 53, '1011': 2721, '0111': 91, '1111': 127}\n",
      "{'0000': 14, '1000': 54, '0100': 35, '1100': 9, '0010': 13, '1010': 512, '0110': 74, '1110': 34, '0001': 44, '1001': 116, '0101': 31, '1101': 13, '0011': 21, '1011': 2899, '0111': 93, '1111': 39}\n",
      "{'0000': 55, '1000': 15, '0100': 3, '1100': 26, '0010': 339, '1010': 21, '0110': 28, '1110': 55, '0001': 185, '1001': 48, '0101': 8, '1101': 53, '0011': 2958, '1011': 101, '0111': 53, '1111': 52}\n",
      "{'0000': 49, '1000': 14, '0100': 2, '1100': 25, '0010': 315, '1010': 20, '0110': 21, '1110': 56, '0001': 156, '1001': 48, '0101': 7, '1101': 56, '0011': 3080, '1011': 97, '0111': 2, '1111': 50}\n",
      "{'0000': 10, '1000': 6, '0100': 20, '1100': 75, '0010': 19, '1010': 36, '0110': 17, '1110': 553, '0001': 52, '1001': 13, '0101': 52, '1101': 165, '0011': 15, '1011': 83, '0111': 72, '1111': 2812}\n",
      "{'0000': 9, '1000': 5, '0100': 19, '1100': 68, '0010': 19, '1010': 31, '0110': 11, '1110': 542, '0001': 52, '1001': 11, '0101': 53, '1101': 143, '0011': 13, '1011': 54, '0111': 44, '1111': 2926}\n",
      "{'0000': 84, '1000': 2897, '0100': 148, '1100': 85, '0010': 49, '1010': 190, '0110': 40, '1110': 31, '0001': 19, '1001': 219, '0101': 113, '1101': 50, '0011': 9, '1011': 26, '0111': 26, '1111': 14}\n",
      "{'0000': 49, '1000': 2953, '0100': 150, '1100': 72, '0010': 48, '1010': 194, '0110': 39, '1110': 25, '0001': 15, '1001': 220, '0101': 119, '1101': 50, '0011': 8, '1011': 22, '0111': 24, '1111': 12}\n",
      "{'0000': 4, '1000': 2, '0100': 18, '1100': 32, '0010': 35, '1010': 45, '0110': 14, '1110': 562, '0001': 17, '1001': 4, '0101': 55, '1101': 115, '0011': 16, '1011': 91, '0111': 60, '1111': 2930}\n",
      "{'0000': 3, '1000': 1, '0100': 18, '1100': 25, '0010': 35, '1010': 41, '0110': 7, '1110': 549, '0001': 17, '1001': 2, '0101': 57, '1101': 88, '0011': 15, '1011': 61, '0111': 31, '1111': 3051}\n",
      "{'0000': 40, '1000': 7, '0100': 48, '1100': 151, '0010': 183, '1010': 78, '0110': 77, '1110': 2537, '0001': 9, '1001': 6, '0101': 19, '1101': 76, '0011': 47, '1011': 45, '0111': 35, '1111': 642}\n",
      "{'0000': 37, '1000': 5, '0100': 47, '1100': 124, '0010': 187, '1010': 52, '0110': 49, '1110': 2624, '0001': 8, '1001': 5, '0101': 19, '1101': 73, '0011': 47, '1011': 40, '0111': 28, '1111': 655}\n",
      "{'0000': 387, '1000': 6, '0100': 33, '1100': 57, '0010': 88, '1010': 8, '0110': 7, '1110': 12, '0001': 2856, '1001': 42, '0101': 48, '1101': 45, '0011': 330, '1011': 60, '0111': 9, '1111': 12}\n",
      "{'0000': 355, '1000': 4, '0100': 32, '1100': 58, '0010': 87, '1010': 7, '0110': 5, '1110': 12, '0001': 2953, '1001': 35, '0101': 43, '1101': 47, '0011': 288, '1011': 63, '0111': 1, '1111': 9}\n",
      "{'0000': 79, '1000': 14, '0100': 2615, '1100': 41, '0010': 15, '1010': 18, '0110': 252, '1110': 40, '0001': 33, '1001': 58, '0101': 619, '1101': 20, '0011': 7, '1011': 11, '0111': 152, '1111': 26}\n",
      "{'0000': 44, '1000': 13, '0100': 2699, '1100': 0, '0010': 12, '1010': 19, '0110': 251, '1110': 35, '0001': 25, '1001': 61, '0101': 655, '1101': 7, '0011': 5, '1011': 10, '0111': 141, '1111': 23}\n"
     ]
    }
   ],
   "source": [
    "for i in range (C):\n",
    "#     print (i)\n",
    "    assert eab_load_cpy[i][\"L\"]==2\n",
    "    eab_load_cpy[i][\"counts\"]=counts_d2[i].copy()\n",
    "\n",
    "\n",
    "    \n",
    "for i in range (C):\n",
    "#     print (i)\n",
    "    assert eab_load_cpy_spam[i][\"L\"]==2\n",
    "    eab_load_cpy_spam[i][\"counts\"]=counts_d2_spam[i].copy()\n",
    "\n",
    "\n",
    "\n",
    "for i in range (C):\n",
    "    print (eab_load_cpy[i][\"counts\"])\n",
    "    print (eab_load_cpy_spam[i][\"counts\"])"
   ]
  },
  {
   "cell_type": "code",
   "execution_count": 17,
   "id": "74f85411",
   "metadata": {
    "scrolled": true
   },
   "outputs": [
    {
     "name": "stdout",
     "output_type": "stream",
     "text": [
      "{'0000': 2608, '1000': 51, '0100': 44, '1100': 95, '0010': 303, '1010': 43, '0110': 9, '1110': 45, '0001': 429, '1001': 17, '0101': 34, '1101': 46, '0011': 190, '1011': 26, '0111': 11, '1111': 49}\n",
      "{'0000': 2622, '1000': 43, '0100': 38, '1100': 97, '0010': 306, '1010': 44, '0110': 1, '1110': 45, '0001': 435, '1001': 16, '0101': 35, '1101': 48, '0011': 189, '1011': 27, '0111': 6, '1111': 49}\n",
      "{'0000': 27, '1000': 801, '0100': 51, '1100': 52, '0010': 26, '1010': 152, '0110': 20, '1110': 15, '0001': 80, '1001': 2319, '0101': 37, '1101': 106, '0011': 53, '1011': 208, '0111': 38, '1111': 15}\n",
      "{'0000': 16, '1000': 789, '0100': 51, '1100': 48, '0010': 24, '1010': 157, '0110': 20, '1110': 10, '0001': 55, '1001': 2420, '0101': 38, '1101': 102, '0011': 51, '1011': 176, '0111': 37, '1111': 6}\n",
      "{'0000': 15, '1000': 10, '0100': 187, '1100': 7, '0010': 45, '1010': 31, '0110': 576, '1110': 39, '0001': 16, '1001': 18, '0101': 435, '1101': 50, '0011': 66, '1011': 172, '0111': 2193, '1111': 140}\n",
      "{'0000': 12, '1000': 10, '0100': 183, '1100': 2, '0010': 39, '1010': 31, '0110': 578, '1110': 25, '0001': 10, '1001': 16, '0101': 442, '1101': 42, '0011': 39, '1011': 184, '0111': 2297, '1111': 89}\n",
      "{'0000': 68, '1000': 362, '0100': 1965, '1100': 62, '0010': 21, '1010': 56, '0110': 383, '1110': 46, '0001': 27, '1001': 129, '0101': 461, '1101': 28, '0011': 21, '1011': 61, '0111': 284, '1111': 26}\n",
      "{'0000': 38, '1000': 371, '0100': 2030, '1100': 18, '0010': 16, '1010': 58, '0110': 390, '1110': 37, '0001': 20, '1001': 134, '0101': 487, '1101': 19, '0011': 17, '1011': 63, '0111': 285, '1111': 18}\n",
      "{'0000': 24, '1000': 520, '0100': 45, '1100': 52, '0010': 22, '1010': 216, '0110': 26, '1110': 22, '0001': 77, '1001': 2347, '0101': 78, '1101': 101, '0011': 56, '1011': 297, '0111': 88, '1111': 29}\n",
      "{'0000': 17, '1000': 501, '0100': 45, '1100': 49, '0010': 19, '1010': 225, '0110': 25, '1110': 15, '0001': 51, '1001': 2449, '0101': 81, '1101': 97, '0011': 52, '1011': 269, '0111': 88, '1111': 17}\n",
      "{'0000': 25, '1000': 225, '0100': 46, '1100': 14, '0010': 26, '1010': 508, '0110': 49, '1110': 50, '0001': 43, '1001': 343, '0101': 71, '1101': 20, '0011': 89, '1011': 2282, '0111': 96, '1111': 113}\n",
      "{'0000': 21, '1000': 220, '0100': 46, '1100': 12, '0010': 19, '1010': 511, '0110': 49, '1110': 34, '0001': 39, '1001': 333, '0101': 74, '1101': 17, '0011': 64, '1011': 2426, '0111': 96, '1111': 39}\n",
      "{'0000': 31, '1000': 210, '0100': 51, '1100': 19, '0010': 88, '1010': 2085, '0110': 624, '1110': 130, '0001': 10, '1001': 96, '0101': 21, '1101': 7, '0011': 23, '1011': 476, '0111': 85, '1111': 44}\n",
      "{'0000': 27, '1000': 187, '0100': 45, '1100': 17, '0010': 59, '1010': 2211, '0110': 646, '1110': 51, '0001': 9, '1001': 95, '0101': 21, '1101': 6, '0011': 17, '1011': 497, '0111': 85, '1111': 28}\n",
      "{'0000': 85, '1000': 70, '0100': 2555, '1100': 57, '0010': 16, '1010': 8, '0110': 326, '1110': 52, '0001': 26, '1001': 57, '0101': 507, '1101': 25, '0011': 9, '1011': 6, '0111': 183, '1111': 18}\n",
      "{'0000': 50, '1000': 71, '0100': 2650, '1100': 0, '0010': 12, '1010': 8, '0110': 329, '1110': 47, '0001': 19, '1001': 60, '0101': 536, '1101': 15, '0011': 7, '1011': 5, '0111': 177, '1111': 14}\n",
      "{'0000': 18, '1000': 11, '0100': 23, '1100': 207, '0010': 29, '1010': 31, '0110': 25, '1110': 458, '0001': 68, '1001': 23, '0101': 49, '1101': 307, '0011': 42, '1011': 67, '0111': 104, '1111': 2538}\n",
      "{'0000': 17, '1000': 8, '0100': 21, '1100': 204, '0010': 29, '1010': 27, '0110': 19, '1110': 445, '0001': 69, '1001': 20, '0101': 48, '1101': 297, '0011': 41, '1011': 41, '0111': 80, '1111': 2635}\n",
      "{'0000': 115, '1000': 93, '0100': 91, '1100': 2628, '0010': 47, '1010': 14, '0110': 38, '1110': 99, '0001': 28, '1001': 26, '0101': 44, '1101': 660, '0011': 17, '1011': 10, '0111': 26, '1111': 64}\n",
      "{'0000': 112, '1000': 60, '0100': 66, '1100': 2697, '0010': 48, '1010': 13, '0110': 37, '1110': 91, '0001': 28, '1001': 18, '0101': 40, '1101': 693, '0011': 16, '1011': 10, '0111': 25, '1111': 47}\n"
     ]
    }
   ],
   "source": [
    "for i in range (C,2*C):\n",
    "#     print (i)\n",
    "    assert eab_load_cpy[i][\"L\"]==4\n",
    "    eab_load_cpy[i][\"counts\"]=counts_d4[i-10].copy()\n",
    "#     print ( eab_load_cpy[i][\"counts_exp\"])\n",
    "#     print (eab_load_cpy[i][\"counts\"])\n",
    "    \n",
    "for i in range (C,2*C):\n",
    "#     print (i)\n",
    "    assert eab_load_cpy_spam[i][\"L\"]==4\n",
    "    eab_load_cpy_spam[i][\"counts\"]=counts_d4_spam[i-10].copy()\n",
    "#     print ( eab_load_cpy[i][\"counts_exp\"])\n",
    "#     print (eab_load_cpy_spam[i][\"counts\"])\n",
    "\n",
    "for i in range (C,2*C):\n",
    "    print (eab_load_cpy[i][\"counts\"])\n",
    "    print (eab_load_cpy_spam[i][\"counts\"])    "
   ]
  },
  {
   "cell_type": "code",
   "execution_count": 18,
   "id": "79919c69",
   "metadata": {
    "scrolled": true
   },
   "outputs": [
    {
     "name": "stdout",
     "output_type": "stream",
     "text": [
      "{'0000': 21, '1000': 328, '0100': 121, '1100': 48, '0010': 20, '1010': 33, '0110': 39, '1110': 7, '0001': 112, '1001': 2609, '0101': 78, '1101': 144, '0011': 96, '1011': 279, '0111': 44, '1111': 21}\n",
      "{'0000': 14, '1000': 304, '0100': 123, '1100': 43, '0010': 19, '1010': 31, '0110': 39, '1110': 5, '0001': 84, '1001': 2727, '0101': 81, '1101': 140, '0011': 94, '1011': 244, '0111': 41, '1111': 9}\n",
      "{'0000': 353, '1000': 23, '0100': 36, '1100': 66, '0010': 216, '1010': 17, '0110': 14, '1110': 14, '0001': 2317, '1001': 87, '0101': 90, '1101': 33, '0011': 541, '1011': 99, '0111': 40, '1111': 54}\n",
      "{'0000': 325, '1000': 21, '0100': 35, '1100': 67, '0010': 218, '1010': 16, '0110': 9, '1110': 13, '0001': 2390, '1001': 83, '0101': 90, '1101': 32, '0011': 518, '1011': 102, '0111': 27, '1111': 52}\n",
      "{'0000': 38, '1000': 121, '0100': 423, '1100': 65, '0010': 126, '1010': 584, '0110': 1904, '1110': 190, '0001': 6, '1001': 34, '0101': 53, '1101': 22, '0011': 30, '1011': 148, '0111': 209, '1111': 47}\n",
      "{'0000': 30, '1000': 116, '0100': 415, '1100': 56, '0010': 100, '1010': 619, '0110': 1985, '1110': 136, '0001': 5, '1001': 34, '0101': 53, '1101': 22, '0011': 27, '1011': 156, '0111': 209, '1111': 39}\n",
      "{'0000': 28, '1000': 38, '0100': 636, '1100': 62, '0010': 116, '1010': 170, '0110': 2172, '1110': 172, '0001': 12, '1001': 13, '0101': 113, '1101': 13, '0011': 28, '1011': 95, '0111': 285, '1111': 47}\n",
      "{'0000': 18, '1000': 36, '0100': 634, '1100': 49, '0010': 91, '1010': 180, '0110': 2269, '1110': 123, '0001': 10, '1001': 12, '0101': 117, '1101': 11, '0011': 24, '1011': 100, '0111': 287, '1111': 39}\n",
      "{'0000': 32, '1000': 71, '0100': 333, '1100': 22, '0010': 10, '1010': 18, '0110': 73, '1110': 15, '0001': 113, '1001': 45, '0101': 2527, '1101': 124, '0011': 27, '1011': 81, '0111': 426, '1111': 83}\n",
      "{'0000': 26, '1000': 72, '0100': 315, '1100': 14, '0010': 9, '1010': 18, '0110': 71, '1110': 13, '0001': 81, '1001': 45, '0101': 2710, '1101': 74, '0011': 21, '1011': 85, '0111': 376, '1111': 72}\n",
      "{'0000': 2372, '1000': 85, '0100': 75, '1100': 296, '0010': 325, '1010': 72, '0110': 33, '1110': 49, '0001': 359, '1001': 27, '0101': 45, '1101': 91, '0011': 117, '1011': 21, '0111': 15, '1111': 18}\n",
      "{'0000': 2383, '1000': 75, '0100': 68, '1100': 304, '0010': 330, '1010': 75, '0110': 26, '1110': 47, '0001': 364, '1001': 26, '0101': 46, '1101': 95, '0011': 114, '1011': 21, '0111': 12, '1111': 15}\n",
      "{'0000': 49, '1000': 77, '0100': 378, '1100': 32, '0010': 28, '1010': 25, '0110': 88, '1110': 23, '0001': 163, '1001': 166, '0101': 1951, '1101': 119, '0011': 72, '1011': 81, '0111': 616, '1111': 132}\n",
      "{'0000': 42, '1000': 77, '0100': 368, '1100': 23, '0010': 27, '1010': 25, '0110': 84, '1110': 20, '0001': 139, '1001': 173, '0101': 2088, '1101': 79, '0011': 64, '1011': 83, '0111': 591, '1111': 119}\n",
      "{'0000': 41, '1000': 94, '0100': 435, '1100': 68, '0010': 102, '1010': 587, '0110': 1898, '1110': 190, '0001': 10, '1001': 26, '0101': 64, '1101': 14, '0011': 30, '1011': 172, '0111': 224, '1111': 45}\n",
      "{'0000': 34, '1000': 89, '0100': 427, '1100': 59, '0010': 75, '1010': 624, '0110': 1979, '1110': 136, '0001': 9, '1001': 25, '0101': 65, '1101': 13, '0011': 26, '1011': 180, '0111': 225, '1111': 35}\n",
      "{'0000': 85, '1000': 138, '0100': 147, '1100': 2478, '0010': 157, '1010': 24, '0110': 69, '1110': 247, '0001': 74, '1001': 32, '0101': 26, '1101': 311, '0011': 79, '1011': 11, '0111': 24, '1111': 98}\n",
      "{'0000': 79, '1000': 107, '0100': 125, '1100': 2545, '0010': 160, '1010': 22, '0110': 65, '1110': 244, '0001': 74, '1001': 28, '0101': 24, '1101': 323, '0011': 80, '1011': 10, '0111': 21, '1111': 92}\n",
      "{'0000': 253, '1000': 155, '0100': 141, '1100': 2380, '0010': 61, '1010': 32, '0110': 62, '1110': 259, '0001': 67, '1001': 56, '0101': 26, '1101': 387, '0011': 36, '1011': 10, '0111': 15, '1111': 60}\n",
      "{'0000': 248, '1000': 126, '0100': 120, '1100': 2444, '0010': 61, '1010': 31, '0110': 60, '1110': 259, '0001': 67, '1001': 52, '0101': 23, '1101': 401, '0011': 36, '1011': 9, '0111': 13, '1111': 50}\n"
     ]
    }
   ],
   "source": [
    "for i in range (2*C,3*C):\n",
    "#     print (i)\n",
    "    assert eab_load_cpy[i][\"L\"]==8\n",
    "    eab_load_cpy[i][\"counts\"]=counts_d8[i-20].copy()\n",
    "#     print ( eab_load_cpy[i][\"counts_exp\"])\n",
    "#     print (eab_load_cpy[i])\n",
    "\n",
    "for i in range (2*C,3*C):\n",
    "#     print (i)\n",
    "    assert eab_load_cpy_spam[i][\"L\"]==8\n",
    "    eab_load_cpy_spam[i][\"counts\"]=counts_d8_spam[i-20].copy()\n",
    "#     print ( eab_load_cpy[i][\"counts_exp\"])\n",
    "#     print (eab_load_cpy_spam[i][\"counts\"])\n",
    "\n",
    "for i in range (2*C,3*C):\n",
    "    print (eab_load_cpy[i][\"counts\"])\n",
    "    print (eab_load_cpy_spam[i][\"counts\"])    "
   ]
  },
  {
   "cell_type": "code",
   "execution_count": 19,
   "id": "ff929b1b",
   "metadata": {
    "scrolled": true
   },
   "outputs": [
    {
     "name": "stdout",
     "output_type": "stream",
     "text": [
      "[{'n': 2, 'L': 2, 'clifford': {'stabilizer': ['+IZ', '-ZI'], 'destabilizer': ['+IX', '+XI']}, 'clifford_layer': 'XX', 'circuit': 'HAD2:HAD3:CNOT25:CNOT34:SKAY2+1.0000:AZ3+1.0000:XA230.2500+:SKAX1+1.0000:SKAX5+1.0000:SKAX4+1.0000:SKAX3+1.0000:XA230.2500+:AZ2+1.0000:SKAY3+1.0000:SKAX4+1.0000:CNOT34:SKAX5+1.0000:CNOT25:HAD3:HAD2', 'counts': {'0000': 77, '1000': 2931, '0100': 158, '1100': 100, '0010': 84, '1010': 206, '0110': 18, '1110': 21, '0001': 10, '1001': 195, '0101': 94, '1101': 44, '0011': 5, '1011': 32, '0111': 14, '1111': 11}}, {'n': 2, 'L': 2, 'clifford': {'stabilizer': ['+IZ', '+ZI'], 'destabilizer': ['-IX', '+XI']}, 'clifford_layer': 'XX', 'circuit': 'HAD2:HAD3:CNOT25:CNOT34:SKAX2+1.0000:SKAX1+1.0000:XA230.2500+:AZ2+1.0000:SKAX5+1.0000:SKAX4+1.0000:SKAY3+1.0000:XA230.2500+:SKAX1+1.0000:AZ3+1.0000:SKAX4+1.0000:CNOT34:SKAX5+1.0000:CNOT25:HAD3:HAD2', 'counts': {'0000': 257, '1000': 9, '0100': 34, '1100': 79, '0010': 24, '1010': 13, '0110': 6, '1110': 25, '0001': 2977, '1001': 49, '0101': 61, '1101': 105, '0011': 246, '1011': 78, '0111': 4, '1111': 33}}, {'n': 2, 'L': 2, 'clifford': {'stabilizer': ['+IZ', '-ZI'], 'destabilizer': ['-IX', '-XI']}, 'clifford_layer': 'XX', 'circuit': 'HAD2:HAD3:CNOT25:CNOT34:AZ2+1.0000:SKAX1+1.0000:XA230.2500+:SKAX1+1.0000:SKAX5+1.0000:SKAX4+1.0000:SKAX3+1.0000:XA230.2500+:SKAX2+1.0000:SKAY3+1.0000:SKAX4+1.0000:CNOT34:SKAX5+1.0000:CNOT25:HAD3:HAD2', 'counts': {'0000': 16, '1000': 60, '0100': 35, '1100': 10, '0010': 20, '1010': 512, '0110': 73, '1110': 51, '0001': 45, '1001': 142, '0101': 30, '1101': 14, '0011': 53, '1011': 2721, '0111': 91, '1111': 127}}, {'n': 2, 'L': 2, 'clifford': {'stabilizer': ['+IZ', '+ZI'], 'destabilizer': ['-IX', '-XI']}, 'clifford_layer': 'XX', 'circuit': 'HAD2:HAD3:CNOT25:CNOT34:AZ2+1.0000:SKAX1+1.0000:XA230.2500+:SKAY2+1.0000:SKAX5+1.0000:SKAX4+1.0000:AZ3+1.0000:XA230.2500+:AZ2+1.0000:SKAX3+1.0000:SKAX4+1.0000:CNOT34:SKAX5+1.0000:CNOT25:HAD3:HAD2', 'counts': {'0000': 55, '1000': 15, '0100': 3, '1100': 26, '0010': 339, '1010': 21, '0110': 28, '1110': 55, '0001': 185, '1001': 48, '0101': 8, '1101': 53, '0011': 2958, '1011': 101, '0111': 53, '1111': 52}}, {'n': 2, 'L': 2, 'clifford': {'stabilizer': ['-IZ', '-ZI'], 'destabilizer': ['-IX', '-XI']}, 'clifford_layer': 'XX', 'circuit': 'HAD2:HAD3:CNOT25:CNOT34:SKAY2+1.0000:AZ3+1.0000:XA230.2500+:SKAX2+1.0000:SKAX5+1.0000:SKAX4+1.0000:AZ3+1.0000:XA230.2500+:SKAX2+1.0000:SKAY3+1.0000:SKAX4+1.0000:CNOT34:SKAX5+1.0000:CNOT25:HAD3:HAD2', 'counts': {'0000': 10, '1000': 6, '0100': 20, '1100': 75, '0010': 19, '1010': 36, '0110': 17, '1110': 553, '0001': 52, '1001': 13, '0101': 52, '1101': 165, '0011': 15, '1011': 83, '0111': 72, '1111': 2812}}, {'n': 2, 'L': 2, 'clifford': {'stabilizer': ['+IZ', '-ZI'], 'destabilizer': ['+IX', '+XI']}, 'clifford_layer': 'XX', 'circuit': 'HAD2:HAD3:CNOT25:CNOT34:SKAX2+1.0000:SKAX1+1.0000:XA230.2500+:SKAX1+1.0000:SKAX5+1.0000:SKAX4+1.0000:SKAX3+1.0000:XA230.2500+:SKAX1+1.0000:SKAX3+1.0000:SKAX4+1.0000:CNOT34:SKAX5+1.0000:CNOT25:HAD3:HAD2', 'counts': {'0000': 84, '1000': 2897, '0100': 148, '1100': 85, '0010': 49, '1010': 190, '0110': 40, '1110': 31, '0001': 19, '1001': 219, '0101': 113, '1101': 50, '0011': 9, '1011': 26, '0111': 26, '1111': 14}}, {'n': 2, 'L': 2, 'clifford': {'stabilizer': ['-IZ', '-ZI'], 'destabilizer': ['-IX', '-XI']}, 'clifford_layer': 'XX', 'circuit': 'HAD2:HAD3:CNOT25:CNOT34:SKAX2+1.0000:SKAX3+1.0000:XA230.2500+:SKAY2+1.0000:SKAX5+1.0000:SKAX4+1.0000:SKAX3+1.0000:XA230.2500+:SKAX2+1.0000:SKAY3+1.0000:SKAX4+1.0000:CNOT34:SKAX5+1.0000:CNOT25:HAD3:HAD2', 'counts': {'0000': 4, '1000': 2, '0100': 18, '1100': 32, '0010': 35, '1010': 45, '0110': 14, '1110': 562, '0001': 17, '1001': 4, '0101': 55, '1101': 115, '0011': 16, '1011': 91, '0111': 60, '1111': 2930}}, {'n': 2, 'L': 2, 'clifford': {'stabilizer': ['-IZ', '-ZI'], 'destabilizer': ['+IX', '-XI']}, 'clifford_layer': 'XX', 'circuit': 'HAD2:HAD3:CNOT25:CNOT34:AZ2+1.0000:SKAY3+1.0000:XA230.2500+:SKAY2+1.0000:SKAX5+1.0000:SKAX4+1.0000:SKAY3+1.0000:XA230.2500+:SKAX2+1.0000:AZ3+1.0000:SKAX4+1.0000:CNOT34:SKAX5+1.0000:CNOT25:HAD3:HAD2', 'counts': {'0000': 40, '1000': 7, '0100': 48, '1100': 151, '0010': 183, '1010': 78, '0110': 77, '1110': 2537, '0001': 9, '1001': 6, '0101': 19, '1101': 76, '0011': 47, '1011': 45, '0111': 35, '1111': 642}}, {'n': 2, 'L': 2, 'clifford': {'stabilizer': ['+IZ', '+ZI'], 'destabilizer': ['-IX', '+XI']}, 'clifford_layer': 'XX', 'circuit': 'HAD2:HAD3:CNOT25:CNOT34:AZ2+1.0000:SKAX1+1.0000:XA230.2500+:SKAX1+1.0000:SKAX5+1.0000:SKAX4+1.0000:SKAY3+1.0000:XA230.2500+:SKAX1+1.0000:SKAY3+1.0000:SKAX4+1.0000:CNOT34:SKAX5+1.0000:CNOT25:HAD3:HAD2', 'counts': {'0000': 387, '1000': 6, '0100': 33, '1100': 57, '0010': 88, '1010': 8, '0110': 7, '1110': 12, '0001': 2856, '1001': 42, '0101': 48, '1101': 45, '0011': 330, '1011': 60, '0111': 9, '1111': 12}}, {'n': 2, 'L': 2, 'clifford': {'stabilizer': ['-IZ', '+ZI'], 'destabilizer': ['+IX', '+XI']}, 'clifford_layer': 'XX', 'circuit': 'HAD2:HAD3:CNOT25:CNOT34:SKAX2+1.0000:SKAX1+1.0000:XA230.2500+:SKAX1+1.0000:SKAX5+1.0000:SKAX4+1.0000:SKAY3+1.0000:XA230.2500+:SKAX1+1.0000:SKAY3+1.0000:SKAX4+1.0000:CNOT34:SKAX5+1.0000:CNOT25:HAD3:HAD2', 'counts': {'0000': 79, '1000': 14, '0100': 2615, '1100': 41, '0010': 15, '1010': 18, '0110': 252, '1110': 40, '0001': 33, '1001': 58, '0101': 619, '1101': 20, '0011': 7, '1011': 11, '0111': 152, '1111': 26}}, {'n': 2, 'L': 4, 'clifford': {'stabilizer': ['+IZ', '+ZI'], 'destabilizer': ['+IX', '+XI']}, 'clifford_layer': 'XX', 'circuit': 'HAD2:HAD3:CNOT25:CNOT34:SKAX1+1.0000:AZ3+1.0000:XA230.2500+:SKAY2+1.0000:SKAX1+1.0000:XA230.2500+:SKAX2+1.0000:SKAX5+1.0000:SKAX4+1.0000:AZ3+1.0000:XA230.2500+:SKAY2+1.0000:SKAY3+1.0000:XA230.2500+:SKAX1+1.0000:AZ3+1.0000:SKAX4+1.0000:CNOT34:SKAX5+1.0000:CNOT25:HAD3:HAD2', 'counts': {'0000': 2608, '1000': 51, '0100': 44, '1100': 95, '0010': 303, '1010': 43, '0110': 9, '1110': 45, '0001': 429, '1001': 17, '0101': 34, '1101': 46, '0011': 190, '1011': 26, '0111': 11, '1111': 49}}, {'n': 2, 'L': 4, 'clifford': {'stabilizer': ['+IZ', '-ZI'], 'destabilizer': ['-IX', '+XI']}, 'clifford_layer': 'XX', 'circuit': 'HAD2:HAD3:CNOT25:CNOT34:AZ2+1.0000:SKAY3+1.0000:XA230.2500+:AZ2+1.0000:SKAY3+1.0000:XA230.2500+:SKAX1+1.0000:SKAX5+1.0000:SKAX4+1.0000:AZ3+1.0000:XA230.2500+:SKAY2+1.0000:SKAY3+1.0000:XA230.2500+:SKAX2+1.0000:SKAX1+1.0000:SKAX4+1.0000:CNOT34:SKAX5+1.0000:CNOT25:HAD3:HAD2', 'counts': {'0000': 27, '1000': 801, '0100': 51, '1100': 52, '0010': 26, '1010': 152, '0110': 20, '1110': 15, '0001': 80, '1001': 2319, '0101': 37, '1101': 106, '0011': 53, '1011': 208, '0111': 38, '1111': 15}}, {'n': 2, 'L': 4, 'clifford': {'stabilizer': ['-IZ', '+ZI'], 'destabilizer': ['-IX', '-XI']}, 'clifford_layer': 'XX', 'circuit': 'HAD2:HAD3:CNOT25:CNOT34:SKAY2+1.0000:SKAY3+1.0000:XA230.2500+:SKAX1+1.0000:SKAX3+1.0000:XA230.2500+:SKAX2+1.0000:SKAX5+1.0000:SKAX4+1.0000:SKAX1+1.0000:XA230.2500+:SKAX1+1.0000:SKAY3+1.0000:XA230.2500+:SKAX1+1.0000:AZ3+1.0000:SKAX4+1.0000:CNOT34:SKAX5+1.0000:CNOT25:HAD3:HAD2', 'counts': {'0000': 15, '1000': 10, '0100': 187, '1100': 7, '0010': 45, '1010': 31, '0110': 576, '1110': 39, '0001': 16, '1001': 18, '0101': 435, '1101': 50, '0011': 66, '1011': 172, '0111': 2193, '1111': 140}}, {'n': 2, 'L': 4, 'clifford': {'stabilizer': ['-IZ', '+ZI'], 'destabilizer': ['+IX', '+XI']}, 'clifford_layer': 'XX', 'circuit': 'HAD2:HAD3:CNOT25:CNOT34:SKAX1+1.0000:AZ3+1.0000:XA230.2500+:AZ2+1.0000:AZ3+1.0000:XA230.2500+:SKAX1+1.0000:SKAX5+1.0000:SKAX4+1.0000:SKAX1+1.0000:XA230.2500+:SKAY2+1.0000:SKAY3+1.0000:XA230.2500+:SKAX1+1.0000:SKAY3+1.0000:SKAX4+1.0000:CNOT34:SKAX5+1.0000:CNOT25:HAD3:HAD2', 'counts': {'0000': 68, '1000': 362, '0100': 1965, '1100': 62, '0010': 21, '1010': 56, '0110': 383, '1110': 46, '0001': 27, '1001': 129, '0101': 461, '1101': 28, '0011': 21, '1011': 61, '0111': 284, '1111': 26}}, {'n': 2, 'L': 4, 'clifford': {'stabilizer': ['+IZ', '-ZI'], 'destabilizer': ['-IX', '+XI']}, 'clifford_layer': 'XX', 'circuit': 'HAD2:HAD3:CNOT25:CNOT34:SKAY2+1.0000:SKAX1+1.0000:XA230.2500+:AZ2+1.0000:AZ3+1.0000:XA230.2500+:SKAY2+1.0000:SKAX5+1.0000:SKAX4+1.0000:AZ3+1.0000:XA230.2500+:SKAX1+1.0000:AZ3+1.0000:XA230.2500+:SKAX2+1.0000:AZ3+1.0000:SKAX4+1.0000:CNOT34:SKAX5+1.0000:CNOT25:HAD3:HAD2', 'counts': {'0000': 24, '1000': 520, '0100': 45, '1100': 52, '0010': 22, '1010': 216, '0110': 26, '1110': 22, '0001': 77, '1001': 2347, '0101': 78, '1101': 101, '0011': 56, '1011': 297, '0111': 88, '1111': 29}}, {'n': 2, 'L': 4, 'clifford': {'stabilizer': ['+IZ', '-ZI'], 'destabilizer': ['-IX', '-XI']}, 'clifford_layer': 'XX', 'circuit': 'HAD2:HAD3:CNOT25:CNOT34:SKAY2+1.0000:SKAX1+1.0000:XA230.2500+:SKAX2+1.0000:SKAX3+1.0000:XA230.2500+:AZ2+1.0000:SKAX5+1.0000:SKAX4+1.0000:SKAY3+1.0000:XA230.2500+:SKAX1+1.0000:AZ3+1.0000:XA230.2500+:SKAY2+1.0000:AZ3+1.0000:SKAX4+1.0000:CNOT34:SKAX5+1.0000:CNOT25:HAD3:HAD2', 'counts': {'0000': 25, '1000': 225, '0100': 46, '1100': 14, '0010': 26, '1010': 508, '0110': 49, '1110': 50, '0001': 43, '1001': 343, '0101': 71, '1101': 20, '0011': 89, '1011': 2282, '0111': 96, '1111': 113}}, {'n': 2, 'L': 4, 'clifford': {'stabilizer': ['+IZ', '-ZI'], 'destabilizer': ['+IX', '-XI']}, 'clifford_layer': 'XX', 'circuit': 'HAD2:HAD3:CNOT25:CNOT34:AZ2+1.0000:SKAY3+1.0000:XA230.2500+:SKAX2+1.0000:SKAX3+1.0000:XA230.2500+:AZ2+1.0000:SKAX5+1.0000:SKAX4+1.0000:AZ3+1.0000:XA230.2500+:AZ2+1.0000:SKAY3+1.0000:XA230.2500+:SKAY2+1.0000:SKAX1+1.0000:SKAX4+1.0000:CNOT34:SKAX5+1.0000:CNOT25:HAD3:HAD2', 'counts': {'0000': 31, '1000': 210, '0100': 51, '1100': 19, '0010': 88, '1010': 2085, '0110': 624, '1110': 130, '0001': 10, '1001': 96, '0101': 21, '1101': 7, '0011': 23, '1011': 476, '0111': 85, '1111': 44}}, {'n': 2, 'L': 4, 'clifford': {'stabilizer': ['-IZ', '+ZI'], 'destabilizer': ['+IX', '+XI']}, 'clifford_layer': 'XX', 'circuit': 'HAD2:HAD3:CNOT25:CNOT34:AZ2+1.0000:SKAX3+1.0000:XA230.2500+:AZ2+1.0000:SKAX3+1.0000:XA230.2500+:AZ2+1.0000:SKAX5+1.0000:SKAX4+1.0000:AZ3+1.0000:XA230.2500+:SKAX1+1.0000:SKAY3+1.0000:XA230.2500+:SKAY2+1.0000:SKAX3+1.0000:SKAX4+1.0000:CNOT34:SKAX5+1.0000:CNOT25:HAD3:HAD2', 'counts': {'0000': 85, '1000': 70, '0100': 2555, '1100': 57, '0010': 16, '1010': 8, '0110': 326, '1110': 52, '0001': 26, '1001': 57, '0101': 507, '1101': 25, '0011': 9, '1011': 6, '0111': 183, '1111': 18}}, {'n': 2, 'L': 4, 'clifford': {'stabilizer': ['-IZ', '-ZI'], 'destabilizer': ['-IX', '-XI']}, 'clifford_layer': 'XX', 'circuit': 'HAD2:HAD3:CNOT25:CNOT34:SKAY2+1.0000:SKAX1+1.0000:XA230.2500+:SKAX2+1.0000:AZ3+1.0000:XA230.2500+:SKAX1+1.0000:SKAX5+1.0000:SKAX4+1.0000:SKAY3+1.0000:XA230.2500+:SKAY2+1.0000:SKAX1+1.0000:XA230.2500+:AZ2+1.0000:AZ3+1.0000:SKAX4+1.0000:CNOT34:SKAX5+1.0000:CNOT25:HAD3:HAD2', 'counts': {'0000': 18, '1000': 11, '0100': 23, '1100': 207, '0010': 29, '1010': 31, '0110': 25, '1110': 458, '0001': 68, '1001': 23, '0101': 49, '1101': 307, '0011': 42, '1011': 67, '0111': 104, '1111': 2538}}, {'n': 2, 'L': 4, 'clifford': {'stabilizer': ['-IZ', '-ZI'], 'destabilizer': ['+IX', '+XI']}, 'clifford_layer': 'XX', 'circuit': 'HAD2:HAD3:CNOT25:CNOT34:SKAX1+1.0000:SKAX3+1.0000:XA230.2500+:AZ2+1.0000:SKAX1+1.0000:XA230.2500+:AZ2+1.0000:SKAX5+1.0000:SKAX4+1.0000:SKAY3+1.0000:XA230.2500+:SKAX2+1.0000:SKAX3+1.0000:XA230.2500+:SKAX2+1.0000:SKAY3+1.0000:SKAX4+1.0000:CNOT34:SKAX5+1.0000:CNOT25:HAD3:HAD2', 'counts': {'0000': 115, '1000': 93, '0100': 91, '1100': 2628, '0010': 47, '1010': 14, '0110': 38, '1110': 99, '0001': 28, '1001': 26, '0101': 44, '1101': 660, '0011': 17, '1011': 10, '0111': 26, '1111': 64}}]\n"
     ]
    }
   ],
   "source": [
    "for i in range (C):\n",
    "    assert eab_load_cpy_24[i][\"L\"]==2\n",
    "    eab_load_cpy_24[i][\"counts\"]=counts_d2[i].copy()\n",
    "\n",
    "for i in range (C,2*C):\n",
    "    assert eab_load_cpy_24[i][\"L\"]==4\n",
    "    eab_load_cpy_24[i][\"counts\"]=counts_d4[i-10].copy()\n",
    "\n",
    "print (eab_load_cpy_24) "
   ]
  },
  {
   "cell_type": "code",
   "execution_count": 20,
   "id": "157a61e0",
   "metadata": {
    "scrolled": true
   },
   "outputs": [
    {
     "name": "stdout",
     "output_type": "stream",
     "text": [
      "[{'n': 2, 'L': 2, 'clifford': {'stabilizer': ['+IZ', '-ZI'], 'destabilizer': ['+IX', '+XI']}, 'clifford_layer': 'XX', 'circuit': 'HAD2:HAD3:CNOT25:CNOT34:SKAY2+1.0000:AZ3+1.0000:XA230.2500+:SKAX1+1.0000:SKAX5+1.0000:SKAX4+1.0000:SKAX3+1.0000:XA230.2500+:AZ2+1.0000:SKAY3+1.0000:SKAX4+1.0000:CNOT34:SKAX5+1.0000:CNOT25:HAD3:HAD2', 'counts': {'0000': 41, '1000': 2988, '0100': 160, '1100': 87, '0010': 84, '1010': 211, '0110': 16, '1110': 14, '0001': 7, '1001': 196, '0101': 99, '1101': 44, '0011': 4, '1011': 29, '0111': 12, '1111': 9}}, {'n': 2, 'L': 2, 'clifford': {'stabilizer': ['+IZ', '+ZI'], 'destabilizer': ['-IX', '+XI']}, 'clifford_layer': 'XX', 'circuit': 'HAD2:HAD3:CNOT25:CNOT34:SKAX2+1.0000:SKAX1+1.0000:XA230.2500+:AZ2+1.0000:SKAX5+1.0000:SKAX4+1.0000:SKAY3+1.0000:XA230.2500+:SKAX1+1.0000:AZ3+1.0000:SKAX4+1.0000:CNOT34:SKAX5+1.0000:CNOT25:HAD3:HAD2', 'counts': {'0000': 223, '1000': 7, '0100': 33, '1100': 80, '0010': 22, '1010': 13, '0110': 5, '1110': 25, '0001': 3076, '1001': 40, '0101': 56, '1101': 110, '0011': 198, '1011': 82, '0111': 0, '1111': 29}}, {'n': 2, 'L': 2, 'clifford': {'stabilizer': ['+IZ', '-ZI'], 'destabilizer': ['-IX', '-XI']}, 'clifford_layer': 'XX', 'circuit': 'HAD2:HAD3:CNOT25:CNOT34:AZ2+1.0000:SKAX1+1.0000:XA230.2500+:SKAX1+1.0000:SKAX5+1.0000:SKAX4+1.0000:SKAX3+1.0000:XA230.2500+:SKAX2+1.0000:SKAY3+1.0000:SKAX4+1.0000:CNOT34:SKAX5+1.0000:CNOT25:HAD3:HAD2', 'counts': {'0000': 14, '1000': 54, '0100': 35, '1100': 9, '0010': 13, '1010': 512, '0110': 74, '1110': 34, '0001': 44, '1001': 116, '0101': 31, '1101': 13, '0011': 21, '1011': 2899, '0111': 93, '1111': 39}}, {'n': 2, 'L': 2, 'clifford': {'stabilizer': ['+IZ', '+ZI'], 'destabilizer': ['-IX', '-XI']}, 'clifford_layer': 'XX', 'circuit': 'HAD2:HAD3:CNOT25:CNOT34:AZ2+1.0000:SKAX1+1.0000:XA230.2500+:SKAY2+1.0000:SKAX5+1.0000:SKAX4+1.0000:AZ3+1.0000:XA230.2500+:AZ2+1.0000:SKAX3+1.0000:SKAX4+1.0000:CNOT34:SKAX5+1.0000:CNOT25:HAD3:HAD2', 'counts': {'0000': 49, '1000': 14, '0100': 2, '1100': 25, '0010': 315, '1010': 20, '0110': 21, '1110': 56, '0001': 156, '1001': 48, '0101': 7, '1101': 56, '0011': 3080, '1011': 97, '0111': 2, '1111': 50}}, {'n': 2, 'L': 2, 'clifford': {'stabilizer': ['-IZ', '-ZI'], 'destabilizer': ['-IX', '-XI']}, 'clifford_layer': 'XX', 'circuit': 'HAD2:HAD3:CNOT25:CNOT34:SKAY2+1.0000:AZ3+1.0000:XA230.2500+:SKAX2+1.0000:SKAX5+1.0000:SKAX4+1.0000:AZ3+1.0000:XA230.2500+:SKAX2+1.0000:SKAY3+1.0000:SKAX4+1.0000:CNOT34:SKAX5+1.0000:CNOT25:HAD3:HAD2', 'counts': {'0000': 9, '1000': 5, '0100': 19, '1100': 68, '0010': 19, '1010': 31, '0110': 11, '1110': 542, '0001': 52, '1001': 11, '0101': 53, '1101': 143, '0011': 13, '1011': 54, '0111': 44, '1111': 2926}}, {'n': 2, 'L': 2, 'clifford': {'stabilizer': ['+IZ', '-ZI'], 'destabilizer': ['+IX', '+XI']}, 'clifford_layer': 'XX', 'circuit': 'HAD2:HAD3:CNOT25:CNOT34:SKAX2+1.0000:SKAX1+1.0000:XA230.2500+:SKAX1+1.0000:SKAX5+1.0000:SKAX4+1.0000:SKAX3+1.0000:XA230.2500+:SKAX1+1.0000:SKAX3+1.0000:SKAX4+1.0000:CNOT34:SKAX5+1.0000:CNOT25:HAD3:HAD2', 'counts': {'0000': 49, '1000': 2953, '0100': 150, '1100': 72, '0010': 48, '1010': 194, '0110': 39, '1110': 25, '0001': 15, '1001': 220, '0101': 119, '1101': 50, '0011': 8, '1011': 22, '0111': 24, '1111': 12}}, {'n': 2, 'L': 2, 'clifford': {'stabilizer': ['-IZ', '-ZI'], 'destabilizer': ['-IX', '-XI']}, 'clifford_layer': 'XX', 'circuit': 'HAD2:HAD3:CNOT25:CNOT34:SKAX2+1.0000:SKAX3+1.0000:XA230.2500+:SKAY2+1.0000:SKAX5+1.0000:SKAX4+1.0000:SKAX3+1.0000:XA230.2500+:SKAX2+1.0000:SKAY3+1.0000:SKAX4+1.0000:CNOT34:SKAX5+1.0000:CNOT25:HAD3:HAD2', 'counts': {'0000': 3, '1000': 1, '0100': 18, '1100': 25, '0010': 35, '1010': 41, '0110': 7, '1110': 549, '0001': 17, '1001': 2, '0101': 57, '1101': 88, '0011': 15, '1011': 61, '0111': 31, '1111': 3051}}, {'n': 2, 'L': 2, 'clifford': {'stabilizer': ['-IZ', '-ZI'], 'destabilizer': ['+IX', '-XI']}, 'clifford_layer': 'XX', 'circuit': 'HAD2:HAD3:CNOT25:CNOT34:AZ2+1.0000:SKAY3+1.0000:XA230.2500+:SKAY2+1.0000:SKAX5+1.0000:SKAX4+1.0000:SKAY3+1.0000:XA230.2500+:SKAX2+1.0000:AZ3+1.0000:SKAX4+1.0000:CNOT34:SKAX5+1.0000:CNOT25:HAD3:HAD2', 'counts': {'0000': 37, '1000': 5, '0100': 47, '1100': 124, '0010': 187, '1010': 52, '0110': 49, '1110': 2624, '0001': 8, '1001': 5, '0101': 19, '1101': 73, '0011': 47, '1011': 40, '0111': 28, '1111': 655}}, {'n': 2, 'L': 2, 'clifford': {'stabilizer': ['+IZ', '+ZI'], 'destabilizer': ['-IX', '+XI']}, 'clifford_layer': 'XX', 'circuit': 'HAD2:HAD3:CNOT25:CNOT34:AZ2+1.0000:SKAX1+1.0000:XA230.2500+:SKAX1+1.0000:SKAX5+1.0000:SKAX4+1.0000:SKAY3+1.0000:XA230.2500+:SKAX1+1.0000:SKAY3+1.0000:SKAX4+1.0000:CNOT34:SKAX5+1.0000:CNOT25:HAD3:HAD2', 'counts': {'0000': 355, '1000': 4, '0100': 32, '1100': 58, '0010': 87, '1010': 7, '0110': 5, '1110': 12, '0001': 2953, '1001': 35, '0101': 43, '1101': 47, '0011': 288, '1011': 63, '0111': 1, '1111': 9}}, {'n': 2, 'L': 2, 'clifford': {'stabilizer': ['-IZ', '+ZI'], 'destabilizer': ['+IX', '+XI']}, 'clifford_layer': 'XX', 'circuit': 'HAD2:HAD3:CNOT25:CNOT34:SKAX2+1.0000:SKAX1+1.0000:XA230.2500+:SKAX1+1.0000:SKAX5+1.0000:SKAX4+1.0000:SKAY3+1.0000:XA230.2500+:SKAX1+1.0000:SKAY3+1.0000:SKAX4+1.0000:CNOT34:SKAX5+1.0000:CNOT25:HAD3:HAD2', 'counts': {'0000': 44, '1000': 13, '0100': 2699, '1100': 0, '0010': 12, '1010': 19, '0110': 251, '1110': 35, '0001': 25, '1001': 61, '0101': 655, '1101': 7, '0011': 5, '1011': 10, '0111': 141, '1111': 23}}, {'n': 2, 'L': 4, 'clifford': {'stabilizer': ['+IZ', '+ZI'], 'destabilizer': ['+IX', '+XI']}, 'clifford_layer': 'XX', 'circuit': 'HAD2:HAD3:CNOT25:CNOT34:SKAX1+1.0000:AZ3+1.0000:XA230.2500+:SKAY2+1.0000:SKAX1+1.0000:XA230.2500+:SKAX2+1.0000:SKAX5+1.0000:SKAX4+1.0000:AZ3+1.0000:XA230.2500+:SKAY2+1.0000:SKAY3+1.0000:XA230.2500+:SKAX1+1.0000:AZ3+1.0000:SKAX4+1.0000:CNOT34:SKAX5+1.0000:CNOT25:HAD3:HAD2', 'counts': {'0000': 2622, '1000': 43, '0100': 38, '1100': 97, '0010': 306, '1010': 44, '0110': 1, '1110': 45, '0001': 435, '1001': 16, '0101': 35, '1101': 48, '0011': 189, '1011': 27, '0111': 6, '1111': 49}}, {'n': 2, 'L': 4, 'clifford': {'stabilizer': ['+IZ', '-ZI'], 'destabilizer': ['-IX', '+XI']}, 'clifford_layer': 'XX', 'circuit': 'HAD2:HAD3:CNOT25:CNOT34:AZ2+1.0000:SKAY3+1.0000:XA230.2500+:AZ2+1.0000:SKAY3+1.0000:XA230.2500+:SKAX1+1.0000:SKAX5+1.0000:SKAX4+1.0000:AZ3+1.0000:XA230.2500+:SKAY2+1.0000:SKAY3+1.0000:XA230.2500+:SKAX2+1.0000:SKAX1+1.0000:SKAX4+1.0000:CNOT34:SKAX5+1.0000:CNOT25:HAD3:HAD2', 'counts': {'0000': 16, '1000': 789, '0100': 51, '1100': 48, '0010': 24, '1010': 157, '0110': 20, '1110': 10, '0001': 55, '1001': 2420, '0101': 38, '1101': 102, '0011': 51, '1011': 176, '0111': 37, '1111': 6}}, {'n': 2, 'L': 4, 'clifford': {'stabilizer': ['-IZ', '+ZI'], 'destabilizer': ['-IX', '-XI']}, 'clifford_layer': 'XX', 'circuit': 'HAD2:HAD3:CNOT25:CNOT34:SKAY2+1.0000:SKAY3+1.0000:XA230.2500+:SKAX1+1.0000:SKAX3+1.0000:XA230.2500+:SKAX2+1.0000:SKAX5+1.0000:SKAX4+1.0000:SKAX1+1.0000:XA230.2500+:SKAX1+1.0000:SKAY3+1.0000:XA230.2500+:SKAX1+1.0000:AZ3+1.0000:SKAX4+1.0000:CNOT34:SKAX5+1.0000:CNOT25:HAD3:HAD2', 'counts': {'0000': 12, '1000': 10, '0100': 183, '1100': 2, '0010': 39, '1010': 31, '0110': 578, '1110': 25, '0001': 10, '1001': 16, '0101': 442, '1101': 42, '0011': 39, '1011': 184, '0111': 2297, '1111': 89}}, {'n': 2, 'L': 4, 'clifford': {'stabilizer': ['-IZ', '+ZI'], 'destabilizer': ['+IX', '+XI']}, 'clifford_layer': 'XX', 'circuit': 'HAD2:HAD3:CNOT25:CNOT34:SKAX1+1.0000:AZ3+1.0000:XA230.2500+:AZ2+1.0000:AZ3+1.0000:XA230.2500+:SKAX1+1.0000:SKAX5+1.0000:SKAX4+1.0000:SKAX1+1.0000:XA230.2500+:SKAY2+1.0000:SKAY3+1.0000:XA230.2500+:SKAX1+1.0000:SKAY3+1.0000:SKAX4+1.0000:CNOT34:SKAX5+1.0000:CNOT25:HAD3:HAD2', 'counts': {'0000': 38, '1000': 371, '0100': 2030, '1100': 18, '0010': 16, '1010': 58, '0110': 390, '1110': 37, '0001': 20, '1001': 134, '0101': 487, '1101': 19, '0011': 17, '1011': 63, '0111': 285, '1111': 18}}, {'n': 2, 'L': 4, 'clifford': {'stabilizer': ['+IZ', '-ZI'], 'destabilizer': ['-IX', '+XI']}, 'clifford_layer': 'XX', 'circuit': 'HAD2:HAD3:CNOT25:CNOT34:SKAY2+1.0000:SKAX1+1.0000:XA230.2500+:AZ2+1.0000:AZ3+1.0000:XA230.2500+:SKAY2+1.0000:SKAX5+1.0000:SKAX4+1.0000:AZ3+1.0000:XA230.2500+:SKAX1+1.0000:AZ3+1.0000:XA230.2500+:SKAX2+1.0000:AZ3+1.0000:SKAX4+1.0000:CNOT34:SKAX5+1.0000:CNOT25:HAD3:HAD2', 'counts': {'0000': 17, '1000': 501, '0100': 45, '1100': 49, '0010': 19, '1010': 225, '0110': 25, '1110': 15, '0001': 51, '1001': 2449, '0101': 81, '1101': 97, '0011': 52, '1011': 269, '0111': 88, '1111': 17}}, {'n': 2, 'L': 4, 'clifford': {'stabilizer': ['+IZ', '-ZI'], 'destabilizer': ['-IX', '-XI']}, 'clifford_layer': 'XX', 'circuit': 'HAD2:HAD3:CNOT25:CNOT34:SKAY2+1.0000:SKAX1+1.0000:XA230.2500+:SKAX2+1.0000:SKAX3+1.0000:XA230.2500+:AZ2+1.0000:SKAX5+1.0000:SKAX4+1.0000:SKAY3+1.0000:XA230.2500+:SKAX1+1.0000:AZ3+1.0000:XA230.2500+:SKAY2+1.0000:AZ3+1.0000:SKAX4+1.0000:CNOT34:SKAX5+1.0000:CNOT25:HAD3:HAD2', 'counts': {'0000': 21, '1000': 220, '0100': 46, '1100': 12, '0010': 19, '1010': 511, '0110': 49, '1110': 34, '0001': 39, '1001': 333, '0101': 74, '1101': 17, '0011': 64, '1011': 2426, '0111': 96, '1111': 39}}, {'n': 2, 'L': 4, 'clifford': {'stabilizer': ['+IZ', '-ZI'], 'destabilizer': ['+IX', '-XI']}, 'clifford_layer': 'XX', 'circuit': 'HAD2:HAD3:CNOT25:CNOT34:AZ2+1.0000:SKAY3+1.0000:XA230.2500+:SKAX2+1.0000:SKAX3+1.0000:XA230.2500+:AZ2+1.0000:SKAX5+1.0000:SKAX4+1.0000:AZ3+1.0000:XA230.2500+:AZ2+1.0000:SKAY3+1.0000:XA230.2500+:SKAY2+1.0000:SKAX1+1.0000:SKAX4+1.0000:CNOT34:SKAX5+1.0000:CNOT25:HAD3:HAD2', 'counts': {'0000': 27, '1000': 187, '0100': 45, '1100': 17, '0010': 59, '1010': 2211, '0110': 646, '1110': 51, '0001': 9, '1001': 95, '0101': 21, '1101': 6, '0011': 17, '1011': 497, '0111': 85, '1111': 28}}, {'n': 2, 'L': 4, 'clifford': {'stabilizer': ['-IZ', '+ZI'], 'destabilizer': ['+IX', '+XI']}, 'clifford_layer': 'XX', 'circuit': 'HAD2:HAD3:CNOT25:CNOT34:AZ2+1.0000:SKAX3+1.0000:XA230.2500+:AZ2+1.0000:SKAX3+1.0000:XA230.2500+:AZ2+1.0000:SKAX5+1.0000:SKAX4+1.0000:AZ3+1.0000:XA230.2500+:SKAX1+1.0000:SKAY3+1.0000:XA230.2500+:SKAY2+1.0000:SKAX3+1.0000:SKAX4+1.0000:CNOT34:SKAX5+1.0000:CNOT25:HAD3:HAD2', 'counts': {'0000': 50, '1000': 71, '0100': 2650, '1100': 0, '0010': 12, '1010': 8, '0110': 329, '1110': 47, '0001': 19, '1001': 60, '0101': 536, '1101': 15, '0011': 7, '1011': 5, '0111': 177, '1111': 14}}, {'n': 2, 'L': 4, 'clifford': {'stabilizer': ['-IZ', '-ZI'], 'destabilizer': ['-IX', '-XI']}, 'clifford_layer': 'XX', 'circuit': 'HAD2:HAD3:CNOT25:CNOT34:SKAY2+1.0000:SKAX1+1.0000:XA230.2500+:SKAX2+1.0000:AZ3+1.0000:XA230.2500+:SKAX1+1.0000:SKAX5+1.0000:SKAX4+1.0000:SKAY3+1.0000:XA230.2500+:SKAY2+1.0000:SKAX1+1.0000:XA230.2500+:AZ2+1.0000:AZ3+1.0000:SKAX4+1.0000:CNOT34:SKAX5+1.0000:CNOT25:HAD3:HAD2', 'counts': {'0000': 17, '1000': 8, '0100': 21, '1100': 204, '0010': 29, '1010': 27, '0110': 19, '1110': 445, '0001': 69, '1001': 20, '0101': 48, '1101': 297, '0011': 41, '1011': 41, '0111': 80, '1111': 2635}}, {'n': 2, 'L': 4, 'clifford': {'stabilizer': ['-IZ', '-ZI'], 'destabilizer': ['+IX', '+XI']}, 'clifford_layer': 'XX', 'circuit': 'HAD2:HAD3:CNOT25:CNOT34:SKAX1+1.0000:SKAX3+1.0000:XA230.2500+:AZ2+1.0000:SKAX1+1.0000:XA230.2500+:AZ2+1.0000:SKAX5+1.0000:SKAX4+1.0000:SKAY3+1.0000:XA230.2500+:SKAX2+1.0000:SKAX3+1.0000:XA230.2500+:SKAX2+1.0000:SKAY3+1.0000:SKAX4+1.0000:CNOT34:SKAX5+1.0000:CNOT25:HAD3:HAD2', 'counts': {'0000': 112, '1000': 60, '0100': 66, '1100': 2697, '0010': 48, '1010': 13, '0110': 37, '1110': 91, '0001': 28, '1001': 18, '0101': 40, '1101': 693, '0011': 16, '1011': 10, '0111': 25, '1111': 47}}]\n"
     ]
    }
   ],
   "source": [
    "eab_load_cpy_24_spam=deepcopy(eab_load[0:20]) #a copy that only has depth=[2,4]\n",
    "for i in range (C):\n",
    "    assert eab_load_cpy_24_spam[i][\"L\"]==2\n",
    "    eab_load_cpy_24_spam[i][\"counts\"]=counts_d2_spam[i].copy()\n",
    "\n",
    "for i in range (C,2*C):\n",
    "    assert eab_load_cpy_24_spam[i][\"L\"]==4\n",
    "    eab_load_cpy_24_spam[i][\"counts\"]=counts_d4_spam[i-10].copy()\n",
    "\n",
    "print (eab_load_cpy_24_spam) "
   ]
  },
  {
   "cell_type": "code",
   "execution_count": 21,
   "id": "a6b1b5eb",
   "metadata": {
    "scrolled": false
   },
   "outputs": [
    {
     "name": "stdout",
     "output_type": "stream",
     "text": [
      "{'fidelity_list': {'II': {2: [1.0, 1.0, 1.0, 1.0, 1.0, 1.0, 1.0, 1.0, 1.0, 1.0], 4: [1.0, 1.0, 1.0, 1.0, 1.0, 1.0, 1.0, 1.0, 1.0, 1.0], 8: [1.0, 1.0, 1.0, 1.0, 1.0, 1.0, 1.0, 1.0, 1.0, 1.0]}, 'IX': {2: [0.7975, 0.7765, 0.6115, 0.729, 0.632, 0.762, 0.644, 0.5605, 0.701, 0.537], 4: [0.599, 0.428, 0.545, 0.4815, 0.5365, 0.5285, 0.619, 0.5845, 0.599, 0.5625], 8: [0.6915, 0.6305, 0.7255, 0.697, 0.713, 0.6535, 0.65, 0.7075, 0.6725, 0.6715]}, 'IY': {2: [0.7305, 0.747, 0.565, 0.702, 0.586, 0.7115, 0.623, 0.46, 0.6985, 0.5285], 4: [0.5725, 0.399, 0.4595, 0.347, 0.461, 0.458, 0.2855, 0.544, 0.5435, 0.4685], 8: [0.6555, 0.587, 0.4, 0.595, 0.6455, 0.5115, 0.4985, 0.4145, 0.5685, 0.5055]}, 'IZ': {2: [0.77, 0.8265, 0.7845, 0.861, 0.883, 0.7465, 0.893, 0.7925, 0.8885, 0.8825], 4: [0.8335, 0.833, 0.8135, 0.6275, 0.7795, 0.7705, 0.5095, 0.8615, 0.8555, 0.825], 8: [0.749, 0.8265, 0.4565, 0.75, 0.8015, 0.689, 0.6695, 0.469, 0.7, 0.665]}, 'XI': {2: [0.8045, 0.7855, 0.824, 0.8035, 0.8035, 0.8075, 0.8765, 0.822, 0.737, 0.7395], 4: [0.662, 0.7365, 0.631, 0.551, 0.622, 0.6065, 0.7775, 0.691, 0.647, 0.8425], 8: [0.7305, 0.5025, 0.619, 0.5425, 0.6335, 0.675, 0.4675, 0.624, 0.6455, 0.7325]}, 'XX': {2: [0.664, 0.63, 0.5565, 0.6315, 0.5465, 0.6445, 0.5765, 0.4925, 0.553, 0.4725], 4: [0.537, 0.3775, 0.395, 0.4245, 0.4445, 0.445, 0.5305, 0.4915, 0.505, 0.522], 8: [0.521, 0.394, 0.4595, 0.3905, 0.4625, 0.4995, 0.2815, 0.4455, 0.53, 0.525]}, 'XY': {2: [0.611, 0.6065, 0.509, 0.6365, 0.5495, 0.625, 0.5705, 0.424, 0.5525, 0.479], 4: [0.5045, 0.3665, 0.3185, 0.285, 0.438, 0.4055, 0.239, 0.46, 0.5115, 0.462], 8: [0.504, 0.4165, 0.253, 0.3295, 0.475, 0.4065, 0.23, 0.2515, 0.517, 0.406]}, 'XZ': {2: [0.6385, 0.68, 0.6975, 0.7545, 0.7675, 0.665, 0.7965, 0.6765, 0.6655, 0.673], 4: [0.6095, 0.6575, 0.5035, 0.3375, 0.5665, 0.528, 0.385, 0.5915, 0.6225, 0.7555], 8: [0.5905, 0.451, 0.2745, 0.3835, 0.571, 0.479, 0.343, 0.264, 0.6165, 0.5365]}, 'YI': {2: [0.6955, 0.739, 0.7685, 0.76, 0.809, 0.6875, 0.861, 0.709, 0.708, 0.7205], 4: [0.639, 0.7075, 0.4825, 0.355, 0.606, 0.569, 0.424, 0.6285, 0.626, 0.7675], 8: [0.664, 0.49, 0.2555, 0.3635, 0.601, 0.5055, 0.401, 0.228, 0.644, 0.576]}, 'YX': {2: [0.64, 0.6335, 0.543, 0.623, 0.558, 0.6215, 0.588, 0.4335, 0.567, 0.4945], 4: [0.502, 0.3805, 0.2995, 0.2985, 0.4495, 0.4115, 0.254, 0.487, 0.497, 0.476], 8: [0.5375, 0.4395, 0.235, 0.3275, 0.49, 0.409, 0.276, 0.2265, 0.5255, 0.4105]}, 'YY': {2: [0.647, 0.628, 0.5185, 0.598, 0.515, 0.623, 0.55, 0.47, 0.5545, 0.45], 4: [0.5225, 0.3375, 0.356, 0.397, 0.414, 0.394, 0.4715, 0.4665, 0.4665, 0.473], 8: [0.4725, 0.389, 0.3775, 0.3165, 0.4135, 0.49, 0.2575, 0.3795, 0.4455, 0.4525]}, 'YZ': {2: [0.7495, 0.7595, 0.741, 0.739, 0.745, 0.74, 0.811, 0.7445, 0.7145, 0.697], 4: [0.6335, 0.6585, 0.53, 0.5155, 0.5595, 0.5185, 0.6685, 0.642, 0.5865, 0.7595], 8: [0.64, 0.4695, 0.488, 0.4185, 0.5555, 0.6295, 0.4135, 0.507, 0.538, 0.603]}, 'ZI': {2: [0.77, 0.8045, 0.8185, 0.8145, 0.8715, 0.756, 0.8905, 0.771, 0.879, 0.886], 4: [0.814, 0.834, 0.7665, 0.615, 0.792, 0.7775, 0.5335, 0.8535, 0.821, 0.797], 8: [0.7345, 0.8035, 0.3945, 0.695, 0.7705, 0.6705, 0.6725, 0.402, 0.6695, 0.6695]}, 'ZX': {2: [0.6905, 0.707, 0.574, 0.6605, 0.5695, 0.685, 0.6055, 0.4415, 0.663, 0.538], 4: [0.551, 0.386, 0.3985, 0.3405, 0.4455, 0.452, 0.2915, 0.544, 0.515, 0.4745], 8: [0.627, 0.554, 0.371, 0.56, 0.6095, 0.481, 0.4795, 0.3665, 0.545, 0.485]}, 'ZY': {2: [0.6915, 0.7115, 0.5405, 0.6575, 0.5615, 0.6835, 0.5785, 0.508, 0.6485, 0.4925], 4: [0.5695, 0.361, 0.462, 0.434, 0.465, 0.4535, 0.527, 0.5185, 0.5225, 0.4975], 8: [0.553, 0.5175, 0.5685, 0.558, 0.579, 0.575, 0.473, 0.5565, 0.53, 0.53]}, 'ZZ': {2: [0.824, 0.873, 0.832, 0.8615, 0.8505, 0.8295, 0.8555, 0.8425, 0.8935, 0.8695], 4: [0.8825, 0.813, 0.811, 0.8505, 0.8085, 0.81, 0.824, 0.856, 0.8335, 0.829], 8: [0.7655, 0.797, 0.738, 0.761, 0.787, 0.8135, 0.691, 0.75, 0.7645, 0.7515]}}}\n"
     ]
    }
   ],
   "source": [
    "sys.path.append(r\"/Volumes/funkflower/Users/Yingyue/Gates_Lab_Suite-master/PauliNoiseEstimation\")\n",
    "import EAB_process_modified \n",
    "import itertools\n",
    "import pdb\n",
    "\n",
    "'''Specify a set of Pauli you want to estimate'''\n",
    "# C=10\n",
    "depth=[2,4,8]\n",
    "pauli_request_list = [''.join(s) for s in itertools.product(['I','X','Y','Z'], repeat = nqubit)] #full\n",
    "\n",
    "#process_EAB(Lrange, cb_data, pauli_request_list)\n",
    "eab_result=EAB_process_modified.process_EAB(depth, eab_load_cpy, pauli_request_list)\n",
    "# eab_result_spam=EAB_process_modified.process_EAB(depth, eab_load_cpy_spam, pauli_request_list)\n",
    "\n",
    "print (eab_result)\n"
   ]
  },
  {
   "cell_type": "code",
   "execution_count": 22,
   "id": "130f10e4",
   "metadata": {},
   "outputs": [
    {
     "name": "stdout",
     "output_type": "stream",
     "text": [
      "{'fidelity_list': {'II': {2: [1.0, 1.0, 1.0, 1.0, 1.0, 1.0, 1.0, 1.0, 1.0, 1.0], 4: [1.0, 1.0, 1.0, 1.0, 1.0, 1.0, 1.0, 1.0, 1.0, 1.0]}, 'IX': {2: [0.7975, 0.7765, 0.6115, 0.729, 0.632, 0.762, 0.644, 0.5605, 0.701, 0.537], 4: [0.599, 0.428, 0.545, 0.4815, 0.5365, 0.5285, 0.619, 0.5845, 0.599, 0.5625]}, 'IY': {2: [0.7305, 0.747, 0.565, 0.702, 0.586, 0.7115, 0.623, 0.46, 0.6985, 0.5285], 4: [0.5725, 0.399, 0.4595, 0.347, 0.461, 0.458, 0.2855, 0.544, 0.5435, 0.4685]}, 'IZ': {2: [0.77, 0.8265, 0.7845, 0.861, 0.883, 0.7465, 0.893, 0.7925, 0.8885, 0.8825], 4: [0.8335, 0.833, 0.8135, 0.6275, 0.7795, 0.7705, 0.5095, 0.8615, 0.8555, 0.825]}, 'XI': {2: [0.8045, 0.7855, 0.824, 0.8035, 0.8035, 0.8075, 0.8765, 0.822, 0.737, 0.7395], 4: [0.662, 0.7365, 0.631, 0.551, 0.622, 0.6065, 0.7775, 0.691, 0.647, 0.8425]}, 'XX': {2: [0.664, 0.63, 0.5565, 0.6315, 0.5465, 0.6445, 0.5765, 0.4925, 0.553, 0.4725], 4: [0.537, 0.3775, 0.395, 0.4245, 0.4445, 0.445, 0.5305, 0.4915, 0.505, 0.522]}, 'XY': {2: [0.611, 0.6065, 0.509, 0.6365, 0.5495, 0.625, 0.5705, 0.424, 0.5525, 0.479], 4: [0.5045, 0.3665, 0.3185, 0.285, 0.438, 0.4055, 0.239, 0.46, 0.5115, 0.462]}, 'XZ': {2: [0.6385, 0.68, 0.6975, 0.7545, 0.7675, 0.665, 0.7965, 0.6765, 0.6655, 0.673], 4: [0.6095, 0.6575, 0.5035, 0.3375, 0.5665, 0.528, 0.385, 0.5915, 0.6225, 0.7555]}, 'YI': {2: [0.6955, 0.739, 0.7685, 0.76, 0.809, 0.6875, 0.861, 0.709, 0.708, 0.7205], 4: [0.639, 0.7075, 0.4825, 0.355, 0.606, 0.569, 0.424, 0.6285, 0.626, 0.7675]}, 'YX': {2: [0.64, 0.6335, 0.543, 0.623, 0.558, 0.6215, 0.588, 0.4335, 0.567, 0.4945], 4: [0.502, 0.3805, 0.2995, 0.2985, 0.4495, 0.4115, 0.254, 0.487, 0.497, 0.476]}, 'YY': {2: [0.647, 0.628, 0.5185, 0.598, 0.515, 0.623, 0.55, 0.47, 0.5545, 0.45], 4: [0.5225, 0.3375, 0.356, 0.397, 0.414, 0.394, 0.4715, 0.4665, 0.4665, 0.473]}, 'YZ': {2: [0.7495, 0.7595, 0.741, 0.739, 0.745, 0.74, 0.811, 0.7445, 0.7145, 0.697], 4: [0.6335, 0.6585, 0.53, 0.5155, 0.5595, 0.5185, 0.6685, 0.642, 0.5865, 0.7595]}, 'ZI': {2: [0.77, 0.8045, 0.8185, 0.8145, 0.8715, 0.756, 0.8905, 0.771, 0.879, 0.886], 4: [0.814, 0.834, 0.7665, 0.615, 0.792, 0.7775, 0.5335, 0.8535, 0.821, 0.797]}, 'ZX': {2: [0.6905, 0.707, 0.574, 0.6605, 0.5695, 0.685, 0.6055, 0.4415, 0.663, 0.538], 4: [0.551, 0.386, 0.3985, 0.3405, 0.4455, 0.452, 0.2915, 0.544, 0.515, 0.4745]}, 'ZY': {2: [0.6915, 0.7115, 0.5405, 0.6575, 0.5615, 0.6835, 0.5785, 0.508, 0.6485, 0.4925], 4: [0.5695, 0.361, 0.462, 0.434, 0.465, 0.4535, 0.527, 0.5185, 0.5225, 0.4975]}, 'ZZ': {2: [0.824, 0.873, 0.832, 0.8615, 0.8505, 0.8295, 0.8555, 0.8425, 0.8935, 0.8695], 4: [0.8825, 0.813, 0.811, 0.8505, 0.8085, 0.81, 0.824, 0.856, 0.8335, 0.829]}}}\n"
     ]
    }
   ],
   "source": [
    "depth=[2,4,8]\n",
    "eab_result_spam=EAB_process_modified.process_EAB(depth, eab_load_cpy_spam, pauli_request_list)\n",
    "# print (eab_result_spam)\n",
    "\n",
    "depth=[2,4]\n",
    "eab_result_24=EAB_process_modified.process_EAB(depth, eab_load_cpy_24, pauli_request_list)\n",
    "print (eab_result_24)\n",
    "\n",
    "depth=[2,4]\n",
    "eab_result_24_spam=EAB_process_modified.process_EAB(depth, eab_load_cpy_24_spam, pauli_request_list)"
   ]
  },
  {
   "cell_type": "code",
   "execution_count": 23,
   "id": "a747a63f",
   "metadata": {},
   "outputs": [
    {
     "name": "stdout",
     "output_type": "stream",
     "text": [
      "Parameters: n = 2, C = 10,  L =  [2, 4, 8]\n",
      "Measurement based simulation, shots = 2000\n",
      "No readout error\n",
      "Total error =  0.03896819746353608\n",
      "Label / Pauli infidelity / Standard deviation\n",
      "II 0.0 0.0\n",
      "XI -0.027450160655130063 0.006594743591364598\n",
      "YI 0.018335841254290886 0.012410279827227587\n",
      "ZI 0.034210207312767804 0.009690560194333817\n",
      "IX 0.04624720715133901 0.0076455624449686165\n",
      "XX 0.041814128724260935 0.011021704963361406\n",
      "YX 0.07248127214115507 0.015979465826672094\n",
      "ZX 0.07689464565971227 0.014079945369816093\n",
      "IY 0.0825478328276199 0.015675277939732998\n",
      "XY 0.0766935266844041 0.01655132787263551\n",
      "YY 0.054350165899018754 0.011534883606989952\n",
      "ZY 0.06154103350478268 0.007733880050604847\n",
      "IZ 0.03979175525156953 0.010614146386371787\n",
      "XZ 0.02809151635063234 0.0123184050428247\n",
      "YZ -0.00041645243841470503 0.0069935567220202\n",
      "ZZ 0.018358639748569106 0.00263288949283532\n"
     ]
    }
   ],
   "source": [
    "raw_fidelity_list = eab_result[\"fidelity_list\"]\n",
    "plot_dic={}\n",
    "err=[]\n",
    "# sys.exit(0)\n",
    "depth=[2,4,8]\n",
    "fidelity_list = {}\n",
    "stdev_list = {}\n",
    "\n",
    "for pauli_label in pauli_request_list:\n",
    "    if(pauli_label == 'I'*nqubit):\n",
    "        fidelity_list[pauli_label] = 1.0\n",
    "        stdev_list[pauli_label] = 0.0\n",
    "    else:\n",
    "        alpha, alpha_err = EAB_process_modified.fit_EAB(depth, raw_fidelity_list[pauli_label])\n",
    "        fidelity_list[pauli_label] = alpha\n",
    "        stdev_list[pauli_label] = alpha_err\n",
    "\n",
    "# print(fidelity_list)\n",
    "\n",
    "# print(stdev_list)\n",
    "\n",
    "print(\"Parameters: n = %d, C = %d, \" % (nqubit,C), \"L = \", str(depth))\n",
    "use_density_matrix=False\n",
    "use_readout_error =False\n",
    "shots=2000\n",
    "if use_density_matrix:\n",
    "    print(\"Density matrix based simulation\")\n",
    "else:\n",
    "    print(\"Measurement based simulation, shots = %d\" % shots)\n",
    "\n",
    "if use_readout_error is True:\n",
    "    print(\"Measurement bitflip rate = %f\" % eps_readout)\n",
    "else:\n",
    "    print(\"No readout error\")\n",
    "\n",
    "# Average fidelity\n",
    "print(\"Total error = \", 1-np.mean(list(fidelity_list.values())))\n",
    "\n",
    "print(\"Label / Pauli infidelity / Standard deviation\")\n",
    "for pauli_label in pauli_request_list:\n",
    "    print(pauli_label[::-1], 1-fidelity_list[pauli_label], stdev_list[pauli_label])\n",
    "# print('Effective noise rate = ' + str(1-np.average(list(fidelity_list.values()))))\n",
    "    plot_dic[pauli_label[::-1]]=1-fidelity_list[pauli_label]\n",
    "    err.append(stdev_list[pauli_label])\n",
    "# print('Effective noise rate = ' + str(1-np.average(list(fidelity_list.values()))))\n",
    "\n",
    "plot_c10={}\n",
    "plot_c10=plot_dic\n",
    "err_c10=err.copy()\n",
    "\n"
   ]
  },
  {
   "cell_type": "code",
   "execution_count": 24,
   "id": "d8122151",
   "metadata": {},
   "outputs": [
    {
     "name": "stdout",
     "output_type": "stream",
     "text": [
      "Label / Pauli error rates\n",
      "II 0.9610318025364639\n",
      "XI 0.003001221671699153\n",
      "YI -0.0001990052972862047\n",
      "ZI -0.005980717718508943\n",
      "IX 0.006151554764986647\n",
      "XX 0.014662627221732907\n",
      "YX -0.001250432140860555\n",
      "ZX -0.000540654613896345\n",
      "IY 0.0014396416100668635\n",
      "XY 0.0015795344675466477\n",
      "YY -0.0010808988444769227\n",
      "ZY -0.0010654948393144098\n",
      "IZ 0.02510302911050051\n",
      "XZ 0.0007556689445685355\n",
      "YZ -0.00036361236653961043\n",
      "ZZ -0.003244264506682068\n"
     ]
    }
   ],
   "source": [
    "error_list = fidelity_to_error(fidelity_list,nqubit)\n",
    "print(\"Label / Pauli error rates\")\n",
    "for pauli_label in pauli_request_list:\n",
    "    print(pauli_label[::-1], error_list[pauli_label])\n"
   ]
  },
  {
   "cell_type": "code",
   "execution_count": 25,
   "id": "ffa9c169",
   "metadata": {},
   "outputs": [
    {
     "name": "stdout",
     "output_type": "stream",
     "text": [
      "Parameters: n = 2, C = 10,  L =  [2, 4, 8]\n",
      "Measurement based simulation, shots = 2000\n",
      "No readout error\n",
      "Total error =  0.03781632619052078\n",
      "Label / Pauli infidelity / Standard deviation\n",
      "II 0.0 0.0\n",
      "XI -0.028594326370810164 0.006510626180306547\n",
      "YI 0.02146890924577627 0.012686271799146453\n",
      "ZI 0.03481809038529937 0.00982862302297178\n",
      "IX 0.0449200445649518 0.007316104814633831\n",
      "XX 0.03728582318473339 0.010348885175548989\n",
      "YX 0.07361825391227905 0.01606433353187097\n",
      "ZX 0.07718528350002818 0.014703027360280209\n",
      "IY 0.07976316288780194 0.015535730155393187\n",
      "XY 0.07469345878339118 0.01656805046553506\n",
      "YY 0.04920578442755863 0.010078711705059801\n",
      "ZY 0.05771793949898252 0.007140465810700363\n",
      "IZ 0.03783727366612599 0.01045468787250225\n",
      "XZ 0.02784182640012034 0.012514071271624431\n",
      "YZ 0.0003764349419688173 0.006698514451022694\n",
      "ZZ 0.01692326002012501 0.002126329096240127\n"
     ]
    }
   ],
   "source": [
    "raw_fidelity_list = eab_result_spam[\"fidelity_list\"]\n",
    "plot_dic={}\n",
    "err=[]\n",
    "# sys.exit(0)\n",
    "depth=[2,4,8]\n",
    "fidelity_list = {}\n",
    "stdev_list = {}\n",
    "\n",
    "for pauli_label in pauli_request_list:\n",
    "    if(pauli_label == 'I'*nqubit):\n",
    "        fidelity_list[pauli_label] = 1.0\n",
    "        stdev_list[pauli_label] = 0.0\n",
    "    else:\n",
    "        alpha, alpha_err = EAB_process_modified.fit_EAB(depth, raw_fidelity_list[pauli_label])\n",
    "        fidelity_list[pauli_label] = alpha\n",
    "        stdev_list[pauli_label] = alpha_err\n",
    "\n",
    "# print(fidelity_list)\n",
    "\n",
    "# print(stdev_list)\n",
    "\n",
    "print(\"Parameters: n = %d, C = %d, \" % (nqubit,C), \"L = \", str(depth))\n",
    "use_density_matrix=False\n",
    "use_readout_error =False\n",
    "shots=2000\n",
    "if use_density_matrix:\n",
    "    print(\"Density matrix based simulation\")\n",
    "else:\n",
    "    print(\"Measurement based simulation, shots = %d\" % shots)\n",
    "\n",
    "if use_readout_error is True:\n",
    "    print(\"Measurement bitflip rate = %f\" % eps_readout)\n",
    "else:\n",
    "    print(\"No readout error\")\n",
    "\n",
    "# Average fidelity\n",
    "print(\"Total error = \", 1-np.mean(list(fidelity_list.values())))\n",
    "\n",
    "print(\"Label / Pauli infidelity / Standard deviation\")\n",
    "for pauli_label in pauli_request_list:\n",
    "    print(pauli_label[::-1], 1-fidelity_list[pauli_label], stdev_list[pauli_label])\n",
    "    plot_dic[pauli_label[::-1]]=1-fidelity_list[pauli_label]\n",
    "    err.append(stdev_list[pauli_label])\n",
    "# print('Effective noise rate = ' + str(1-np.average(list(fidelity_list.values()))))\n",
    "\n",
    "plot_c10_spam={}\n",
    "plot_c10_spam=plot_dic\n",
    "err_c10_spam=err.copy()"
   ]
  },
  {
   "cell_type": "markdown",
   "id": "92a8a27d",
   "metadata": {},
   "source": [
    "spam results"
   ]
  },
  {
   "cell_type": "code",
   "execution_count": 26,
   "id": "917c595f",
   "metadata": {},
   "outputs": [
    {
     "name": "stdout",
     "output_type": "stream",
     "text": [
      "Label / Pauli error rates\n",
      "II 0.9621836738094793\n",
      "XI 0.0035979183009814536\n",
      "YI -0.0005824067652870427\n",
      "ZI -0.005829305624893588\n",
      "IX 0.005228566387738512\n",
      "XX 0.015586956157082013\n",
      "YX -0.0018316353626825072\n",
      "ZX -0.0008137891848940121\n",
      "IY 0.0016821988332708232\n",
      "XY 0.0010706352311727896\n",
      "YY -0.0008929300177471997\n",
      "ZY -0.0011113652108774158\n",
      "IZ 0.023982392654445087\n",
      "XZ 0.0009648218112352225\n",
      "YZ -0.0005043141621050226\n",
      "ZZ -0.0027314168569183145\n"
     ]
    }
   ],
   "source": [
    "error_list = fidelity_to_error(fidelity_list,nqubit)\n",
    "print(\"Label / Pauli error rates\")\n",
    "for pauli_label in pauli_request_list:\n",
    "    print(pauli_label[::-1], error_list[pauli_label])\n"
   ]
  },
  {
   "cell_type": "code",
   "execution_count": 27,
   "id": "3a46c233",
   "metadata": {},
   "outputs": [
    {
     "name": "stdout",
     "output_type": "stream",
     "text": [
      "Parameters: n = 2, C = 10,  L =  [2, 4]\n",
      "Measurement based simulation, shots = 2000\n",
      "No readout error\n",
      "Total error =  0.09641093967626202\n",
      "Label / Pauli infidelity / Standard deviation\n",
      "II 0.0 0.0\n",
      "XI 0.09875084630744269 0.024640795962512608\n",
      "YI 0.15471935413315063 0.03356847223534752\n",
      "ZI 0.037881280529566186 0.024678218089969218\n",
      "IX 0.0804864919304017 0.02012337786895582\n",
      "XX 0.09992053522320932 0.02377996630031044\n",
      "YX 0.15308541632949102 0.03556792190120347\n",
      "ZX 0.10993476433259464 0.03321182682319422\n",
      "IY 0.11775354388228876 0.03216139581435028\n",
      "XY 0.15664854918627336 0.03426332992701156\n",
      "YY 0.12025759163410699 0.025595658601398372\n",
      "ZY 0.0966621051690556 0.019473510849618632\n",
      "IZ 0.04061792365727701 0.022701651803872007\n",
      "XZ 0.15323536251690706 0.031965328619481904\n",
      "YZ 0.11002954031280854 0.02542060365478243\n",
      "ZZ 0.01259172967561828 0.0061007574055210925\n"
     ]
    }
   ],
   "source": [
    "raw_fidelity_list = eab_result_24[\"fidelity_list\"]\n",
    "plot_dic={}\n",
    "err=[]\n",
    "# sys.exit(0)\n",
    "depth=[2,4]\n",
    "fidelity_list = {}\n",
    "stdev_list = {}\n",
    "\n",
    "for pauli_label in pauli_request_list:\n",
    "    if(pauli_label == 'I'*nqubit):\n",
    "        fidelity_list[pauli_label] = 1.0\n",
    "        stdev_list[pauli_label] = 0.0\n",
    "    else:\n",
    "        alpha, alpha_err = EAB_process_modified.fit_EAB(depth, raw_fidelity_list[pauli_label])\n",
    "        fidelity_list[pauli_label] = alpha\n",
    "        stdev_list[pauli_label] = alpha_err\n",
    "\n",
    "# print(fidelity_list)\n",
    "\n",
    "# print(stdev_list)\n",
    "\n",
    "print(\"Parameters: n = %d, C = %d, \" % (nqubit,C), \"L = \", str(depth))\n",
    "use_density_matrix=False\n",
    "use_readout_error =False\n",
    "shots=2000\n",
    "if use_density_matrix:\n",
    "    print(\"Density matrix based simulation\")\n",
    "else:\n",
    "    print(\"Measurement based simulation, shots = %d\" % shots)\n",
    "\n",
    "if use_readout_error is True:\n",
    "    print(\"Measurement bitflip rate = %f\" % eps_readout)\n",
    "else:\n",
    "    print(\"No readout error\")\n",
    "\n",
    "# Average fidelity\n",
    "print(\"Total error = \", 1-np.mean(list(fidelity_list.values())))\n",
    "\n",
    "print(\"Label / Pauli infidelity / Standard deviation\")\n",
    "for pauli_label in pauli_request_list:\n",
    "    print(pauli_label[::-1], 1-fidelity_list[pauli_label], stdev_list[pauli_label])\n",
    "# print('Effective noise rate = ' + str(1-np.average(list(fidelity_list.values()))))\n",
    "    plot_dic[pauli_label[::-1]]=1-fidelity_list[pauli_label]\n",
    "    err.append(stdev_list[pauli_label])\n",
    "# print('Effective noise rate = ' + str(1-np.average(list(fidelity_list.values()))))\n",
    "\n",
    "plot_c10_24={}\n",
    "plot_c10_24=plot_dic\n",
    "err_c10_24=err.copy()\n",
    "\n"
   ]
  },
  {
   "cell_type": "code",
   "execution_count": 28,
   "id": "74e5c3f9",
   "metadata": {},
   "outputs": [
    {
     "name": "stdout",
     "output_type": "stream",
     "text": [
      "Parameters: n = 2, C = 10,  L =  [2, 4]\n",
      "Measurement based simulation, shots = 2000\n",
      "No readout error\n",
      "Total error =  0.0947256597543853\n",
      "Label / Pauli infidelity / Standard deviation\n",
      "II 0.0 0.0\n",
      "XI 0.10038151986051591 0.024346421717114805\n",
      "YI 0.1538816713371437 0.03220041883888443\n",
      "ZI 0.03578293459195414 0.02331524289429148\n",
      "IX 0.0810552086938533 0.020175570687758996\n",
      "XX 0.10369950749560175 0.022457911526817417\n",
      "YX 0.15408194870780412 0.03371557689434261\n",
      "ZX 0.10807269198864322 0.03228395155818058\n",
      "IY 0.11495756537806645 0.0318710655389655\n",
      "XY 0.1566794467294349 0.03335704129486217\n",
      "YY 0.11761543148581177 0.02274669819686065\n",
      "ZY 0.09174671715300686 0.01930847569687036\n",
      "IZ 0.03658877614103839 0.022686444112950996\n",
      "XZ 0.15064554384564421 0.03135492904076954\n",
      "YZ 0.10475562131242133 0.023624342360611027\n",
      "ZZ 0.00566597134922564 0.005894316038627735\n"
     ]
    }
   ],
   "source": [
    "raw_fidelity_list = eab_result_24_spam[\"fidelity_list\"]\n",
    "plot_dic={}\n",
    "err=[]\n",
    "# sys.exit(0)\n",
    "depth=[2,4]\n",
    "fidelity_list = {}\n",
    "stdev_list = {}\n",
    "\n",
    "for pauli_label in pauli_request_list:\n",
    "    if(pauli_label == 'I'*nqubit):\n",
    "        fidelity_list[pauli_label] = 1.0\n",
    "        stdev_list[pauli_label] = 0.0\n",
    "    else:\n",
    "        alpha, alpha_err = EAB_process_modified.fit_EAB(depth, raw_fidelity_list[pauli_label])\n",
    "        fidelity_list[pauli_label] = alpha\n",
    "        stdev_list[pauli_label] = alpha_err\n",
    "\n",
    "# print(fidelity_list)\n",
    "\n",
    "# print(stdev_list)\n",
    "\n",
    "print(\"Parameters: n = %d, C = %d, \" % (nqubit,C), \"L = \", str(depth))\n",
    "use_density_matrix=False\n",
    "use_readout_error =False\n",
    "shots=2000\n",
    "if use_density_matrix:\n",
    "    print(\"Density matrix based simulation\")\n",
    "else:\n",
    "    print(\"Measurement based simulation, shots = %d\" % shots)\n",
    "\n",
    "if use_readout_error is True:\n",
    "    print(\"Measurement bitflip rate = %f\" % eps_readout)\n",
    "else:\n",
    "    print(\"No readout error\")\n",
    "\n",
    "# Average fidelity\n",
    "print(\"Total error = \", 1-np.mean(list(fidelity_list.values())))\n",
    "\n",
    "print(\"Label / Pauli infidelity / Standard deviation\")\n",
    "for pauli_label in pauli_request_list:\n",
    "    print(pauli_label[::-1], 1-fidelity_list[pauli_label], stdev_list[pauli_label])\n",
    "# print('Effective noise rate = ' + str(1-np.average(list(fidelity_list.values()))))\n",
    "    plot_dic[pauli_label[::-1]]=1-fidelity_list[pauli_label]\n",
    "    err.append(stdev_list[pauli_label])\n",
    "# print('Effective noise rate = ' + str(1-np.average(list(fidelity_list.values()))))\n",
    "\n",
    "plot_c10_24_spam={}\n",
    "plot_c10_24_spam=plot_dic\n",
    "err_c10_24_spam=err.copy()\n"
   ]
  },
  {
   "cell_type": "code",
   "execution_count": 29,
   "id": "635c6ea4",
   "metadata": {},
   "outputs": [
    {
     "data": {
      "image/png": "[encoded data removed]",
      "text/plain": [
       "<Figure size 864x864 with 1 Axes>"
      ]
     },
     "metadata": {
      "needs_background": "light"
     },
     "output_type": "display_data"
    }
   ],
   "source": [
    "f=plt.figure(figsize=(12,12))\n",
    "# plt.plot(list(plot_c10.keys()),list(plot_c10.values()),\"*\",markersize=10)\n",
    "# plt.plot(list(plot_c10_spam.keys()),list(plot_c10_spam.values()),\"*\",markersize=10)\n",
    "\n",
    "plt.errorbar(list(plot_c10_spam.keys()),list(plot_c10_spam.values()), yerr=err_c10_spam, fmt='o',markersize=5)\n",
    "plt.errorbar(list(plot_c10.keys()),list(plot_c10.values()), yerr=err_c10, fmt='o',markersize=5)\n",
    "plt.errorbar(list(plot_c10_24.keys()),list(plot_c10_24.values()), yerr=err_c10_24, fmt='o',markersize=5)\n",
    "plt.errorbar(list(plot_c10_24_spam.keys()),list(plot_c10_24_spam.values()), yerr=err_c10_24_spam, fmt='o',markersize=5)\n",
    "\n",
    "# plt.plot(list(plot_c20.keys()),list(plot_c20.values()),\"*\",markersize=10)\n",
    "# plt.plot(list(plot_c10.keys()),list(plot_c10.values()),\"*\",markersize=10)\n",
    "# plt.plot(list(plot_c5.keys()),list(plot_c5.values()),\"*\",markersize=10)\n",
    "# plt.plot(list(plot_c3.keys()),list(plot_c3.values()),\"*\",markersize=10)\n",
    "plt.legend([\"data 3 steps\",\"spam 3 steps\",\"data 2 steps\",\"data 2 steps spam\"],fontsize=20)\n",
    "plt.ylabel(\"f_measure\",fontsize=20)\n",
    "plt.savefig(\"XX EAB.pdf\",format=\"pdf\",dpi=500)"
   ]
  },
  {
   "cell_type": "code",
   "execution_count": null,
   "id": "2787a638",
   "metadata": {},
   "outputs": [],
   "source": []
  },
  {
   "cell_type": "code",
   "execution_count": 25,
   "id": "5cbbc66c",
   "metadata": {},
   "outputs": [],
   "source": [
    "# True value for this specific noise model\n",
    "# eps=0\n",
    "# def f_true(P):\n",
    "#     ans = 0.0\n",
    "#     for Pi in P:\n",
    "#         if Pi == 'Z' or Pi == 'Y':\n",
    "#             ans += 2*eps\n",
    "#     return ans\n",
    "# def p_true(P):\n",
    "#     if P == \"XI\" or P == \"IX\":\n",
    "#         return eps\n",
    "#     else:\n",
    "#         return 0.0\n",
    "\n",
    "# print(\"Label / True infidelity/ True Pauli error\")\n",
    "# for P in pauli_request_list:\n",
    "#     print(P[::-1],\" \",f_true(P),\" \",p_true(P))"
   ]
  },
  {
   "cell_type": "code",
   "execution_count": 26,
   "id": "a7a60d9c",
   "metadata": {},
   "outputs": [
    {
     "name": "stdout",
     "output_type": "stream",
     "text": [
      "4\n",
      "3\n",
      "2\n",
      "1\n",
      "0\n"
     ]
    }
   ],
   "source": [
    "for i in range (4,-1,-1):\n",
    "    print (i)"
   ]
  },
  {
   "cell_type": "code",
   "execution_count": null,
   "id": "4ee86076",
   "metadata": {},
   "outputs": [],
   "source": []
  }
 ],
 "metadata": {
  "kernelspec": {
   "display_name": "snowflakes",
   "language": "python",
   "name": "snowflakes"
  },
  "language_info": {
   "codemirror_mode": {
    "name": "ipython",
    "version": 3
   },
   "file_extension": ".py",
   "mimetype": "text/x-python",
   "name": "python",
   "nbconvert_exporter": "python",
   "pygments_lexer": "ipython3",
   "version": "3.8.15"
  }
 },
 "nbformat": 4,
 "nbformat_minor": 5
}
