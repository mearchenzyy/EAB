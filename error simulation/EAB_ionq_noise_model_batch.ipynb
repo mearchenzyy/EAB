{
 "cells": [
  {
   "cell_type": "markdown",
   "metadata": {},
   "source": [
    "# Entanglement-assisted benchmarking\n",
    "\n",
    "- With parallel CNOT\n",
    "\n"
   ]
  },
  {
   "cell_type": "code",
   "execution_count": 5,
   "metadata": {},
   "outputs": [],
   "source": [
    "import numpy as np\n",
    "import sys, json, copy, time, pickle, random\n",
    "from concurrent.futures import ThreadPoolExecutor\n",
    "import qiskit\n",
    "from qiskit import IBMQ, QuantumCircuit, execute\n",
    "from qiskit_aer import StatevectorSimulator, AerSimulator\n",
    "from qiskit_aer.noise import NoiseModel, pauli_error, amplitude_damping_error, ReadoutError\n",
    "# from qiskit.providers.ibmq.managed import IBMQJobManager, ManagedJobSet\n",
    "# from qiskit.providers.ibmq.apiconstants import ApiJobShareLevel\n",
    "from qiskit.quantum_info.operators.symplectic import pauli\n",
    "import matplotlib.pyplot as plt\n",
    "from scipy.stats import sem, unitary_group\n",
    "from scipy import sparse\n",
    "\n",
    "# import EAB_submit_2 as EAB_submit\n",
    "# import EAB_process\n",
    "from statistics import stdev\n",
    "import itertools\n",
    "from qiskit.compiler import transpile\n",
    "\n",
    "from qiskit.quantum_info import Pauli\n",
    "from qiskit_ionq import IonQProvider\n",
    "import os\n",
    "sys.path.append(r\"/Users/yzhu/yzhu_work/gates projects/EAB/EAB_code from Senrui\")\n",
    "import EAB_submit, EAB_process\n",
    "from qubit_map import my_qubit_maps"
   ]
  },
  {
   "cell_type": "markdown",
   "metadata": {},
   "source": [
    "## Additional functions"
   ]
  },
  {
   "cell_type": "code",
   "execution_count": 6,
   "metadata": {},
   "outputs": [],
   "source": [
    "## Additional functions\n",
    "\n",
    "def int_to_pauli(i,n):\n",
    "    p = np.base_repr(i,base=4)\n",
    "    p = '0'*(n-len(p)) + p\n",
    "    p = p.replace('0','I').replace('1', 'X').replace('2', 'Y').replace('3', 'Z')\n",
    "    return p\n",
    "\n",
    "def commute(p,q):\n",
    "    c = 1\n",
    "    n = len(p)\n",
    "    for i in range(n):\n",
    "        if p[i] != 'I' and q[i] != 'I':\n",
    "            if p[i] != q[i]:\n",
    "                c *= -1\n",
    "    return c\n",
    "\n",
    "def fidelity_to_error(pauli_fidelity,n):\n",
    "    N = 4**n\n",
    "    pauli_error = {}\n",
    "    for i in range(N):\n",
    "        p = int_to_pauli(i,n)\n",
    "        pauli_error[p] = 0\n",
    "        for j in range(N):\n",
    "            q = int_to_pauli(j,n)\n",
    "            pauli_error[p] += pauli_fidelity[q] * commute(p,q) / N\n",
    "    return pauli_error\n",
    "    "
   ]
  },
  {
   "cell_type": "markdown",
   "metadata": {},
   "source": [
    "## Data generation"
   ]
  },
  {
   "cell_type": "code",
   "execution_count": 7,
   "metadata": {},
   "outputs": [
    {
     "name": "stdout",
     "output_type": "stream",
     "text": [
      "created 100 circuits\n",
      "length of data_batch 100\n",
      "     ┌───┐           ░ ┌───┐┌───────────┐ ░ ┌───┐┌───────────┐ ░ ┌───┐ ░      »\n",
      "q_0: ┤ H ├──■────────░─┤ X ├┤0          ├─░─┤ X ├┤0          ├─░─┤ Z ├─░───■──»\n",
      "     ├───┤  │        ░ ├───┤│  Rxx(π/2) │ ░ ├───┤│  Rxx(π/2) │ ░ ├───┤ ░   │  »\n",
      "q_1: ┤ H ├──┼────■───░─┤ Z ├┤1          ├─░─┤ Z ├┤1          ├─░─┤ Y ├─░───┼──»\n",
      "     └───┘┌─┴─┐  │   ░ └───┘└───────────┘ ░ └───┘└───────────┘ ░ └───┘ ░ ┌─┴─┐»\n",
      "q_2: ─────┤ X ├──┼───░─────────────────────────────────────────────────░─┤ X ├»\n",
      "          └───┘┌─┴─┐ ░                                                 ░ └───┘»\n",
      "q_3: ──────────┤ X ├─░─────────────────────────────────────────────────░──────»\n",
      "               └───┘ ░                                                 ░      »\n",
      "c: 4/═════════════════════════════════════════════════════════════════════════»\n",
      "                                                                              »\n",
      "«     ┌───┐      ░ ┌─┐         \n",
      "«q_0: ┤ H ├──────░─┤M├─────────\n",
      "«     └───┘┌───┐ ░ └╥┘┌─┐      \n",
      "«q_1: ──■──┤ H ├─░──╫─┤M├──────\n",
      "«       │  └───┘ ░  ║ └╥┘┌─┐   \n",
      "«q_2: ──┼────────░──╫──╫─┤M├───\n",
      "«     ┌─┴─┐      ░  ║  ║ └╥┘┌─┐\n",
      "«q_3: ┤ X ├──────░──╫──╫──╫─┤M├\n",
      "«     └───┘      ░  ║  ║  ║ └╥┘\n",
      "«c: 4/══════════════╩══╩══╩══╩═\n",
      "«                   0  1  2  3 \n",
      "OPENQASM 2.0;\n",
      "include \"qelib1.inc\";\n",
      "qreg q[4];\n",
      "creg c[4];\n",
      "h q[0];\n",
      "cx q[0],q[2];\n",
      "h q[1];\n",
      "cx q[1],q[3];\n",
      "barrier q[0],q[1],q[2],q[3];\n",
      "x q[0];\n",
      "z q[1];\n",
      "rxx(pi/2) q[0],q[1];\n",
      "barrier q[0],q[1];\n",
      "x q[0];\n",
      "z q[1];\n",
      "rxx(pi/2) q[0],q[1];\n",
      "barrier q[0],q[1];\n",
      "z q[0];\n",
      "y q[1];\n",
      "barrier q[0],q[1],q[2],q[3];\n",
      "cx q[0],q[2];\n",
      "h q[0];\n",
      "cx q[1],q[3];\n",
      "h q[1];\n",
      "barrier q[0],q[1],q[2],q[3];\n",
      "measure q[0] -> c[0];\n",
      "measure q[1] -> c[1];\n",
      "measure q[2] -> c[2];\n",
      "measure q[3] -> c[3];\n",
      "\n",
      "here\n"
     ]
    },
    {
     "name": "stderr",
     "output_type": "stream",
     "text": [
      "/var/folders/6l/f5pw0tyx785dhvmqpb7282h00000gn/T/ipykernel_14440/3975056056.py:123: DeprecationWarning: The method ``qiskit.circuit.quantumcircuit.QuantumCircuit.qasm()`` is deprecated as of qiskit 0.46. It will be removed in the 1.0.0 release. Instead use the qiskit.qasm2.dump() or qiskit.qasm2.dumps() function\n",
      "  print (eab_circ_all[0][0].qasm())\n"
     ]
    },
    {
     "name": "stdout",
     "output_type": "stream",
     "text": [
      "7915552751\n"
     ]
    }
   ],
   "source": [
    "\n",
    "use_density_matrix = False # density matrix based / measurement based simulation\n",
    "\n",
    "# choose one\n",
    "use_ibmq = False\n",
    "use_stabilizer_simulator = True # whether stabilizer simulator is used (valid only for Pauli noise)\n",
    "use_density_matrix_sample = False # use density matrix simulation, but returns samples\n",
    "use_state_vector_sample = False # use state vector simulation, which returns samples\n",
    "\n",
    "# parameters: n, Lrange, C, shots\n",
    "use_readout_error = True\n",
    "shots = 2000\n",
    "n = 2 # num of qubit\n",
    "n_total = 2*n\n",
    "# Lrange = list(range(2,39,4)) # len = 10\n",
    "Lrange = [2**x for x in range(1,6)]\n",
    "C = 20\n",
    "batch = 1\n",
    "gset = \"Pauli\"\n",
    "q = my_qubit_maps['local']\n",
    "repeat = [1 for k in Lrange] # not used\n",
    "periodic = False # not used\n",
    "\n",
    "# For specific IBM device structure\n",
    "# TODO: put these in qubit_map.py\n",
    "# q = {\n",
    "#     0:0,\n",
    "#     2:1,\n",
    "#     1:3,\n",
    "#     3:4,\n",
    "#     4:2\n",
    "# }\n",
    "# q = {\n",
    "#     0:0,\n",
    "#     2:1,\n",
    "#     1:2,\n",
    "#     3:3,\n",
    "#     4:4\n",
    "# }\n",
    "\n",
    "clifford_layer = 'XX'\n",
    "# clifford_layer = 'Id'\n",
    "\n",
    "# Simulation parameters\n",
    "eps = 0.01# two parallel Cnot ~ 2%\n",
    "# eps_amp = 0.025 # SPAM error at CNOT\n",
    "eps_readout = 0.005 # readout bitflip ~ 1%\n",
    "# eps_cross = 0.025 # SPAM error at CNOT\n",
    "\n",
    "noise_model = NoiseModel()\n",
    "# # noise_model.add_all_qubit_quantum_error(pauli_error([('I',1-eps),('X',eps)]),['id', 'x', 'y','z'])\n",
    "noise_model.add_all_qubit_quantum_error(pauli_error([('II',(1-eps)**2),('XX',eps**2),('IX',eps*(1-eps)),('XI',eps*(1-eps))]),['cx'])\n",
    "\n",
    "# # phase/amplitude damping error\n",
    "# amp_noise_1q = amplitude_damping_error(eps_amp)\n",
    "# noise_model.add_all_qubit_quantum_error(amp_noise_1q.tensor(amp_noise_1q),['cx'])\n",
    "\n",
    "# # crosstalk between CNOTs (choose it to be ZZ)\n",
    "# crosstalk_noise = pauli_error([('II',1-eps_cross),('ZZ',eps_cross)])\n",
    "# for i in range(n-2):\n",
    "#     noise_model.add_nonlocal_quantum_error(crosstalk_noise, ['cx'], [i,i+1], [i+1,i+2])\n",
    "# noise_model.add_nonlocal_quantum_error(crosstalk_noise, ['cx'], [n-2,n-1], [n-1,0])\n",
    "# noise_model.add_nonlocal_quantum_error(crosstalk_noise, ['cx'], [n-1,0], [0,1])\n",
    "\n",
    "# readout error\n",
    "if use_readout_error is True:\n",
    "    p0given1 = eps_readout\n",
    "    p1given0 = eps_readout\n",
    "    readout_noise_1q = ReadoutError([[1 - p1given0, p1given0], [p0given1, 1 - p0given1]])\n",
    "    noise_model.add_all_qubit_readout_error(readout_noise_1q)\n",
    "\n",
    "\n",
    "\n",
    "if use_ibmq is False:\n",
    "    filename = 'sim_eab_cnot_2022oct'\n",
    "else:\n",
    "    filename = 'exp_eab_cnot_2022oct'\n",
    "    job_manager = IBMQJobManager()\n",
    "\n",
    "\n",
    "\n",
    "# if use_density_matrix or use_density_matrix_sample:\n",
    "#     backend = AerSimulator(method='density_matrix', noise_model=noise_model)\n",
    "# elif use_state_vector_sample:\n",
    "#     backend = AerSimulator(method='statevector', noise_model=noise_model)\n",
    "# elif use_stabilizer_simulator:\n",
    "#     backend = AerSimulator(method='stabilizer', noise_model=noise_model)\n",
    "# elif use_ibmq:\n",
    "#     provider = IBMQ.load_account()\n",
    "#     backend = provider.get_backend('ibmq_manila')\n",
    "# else:\n",
    "#     assert 1==0\n",
    "\n",
    "# print(\"EAB, \", \"n=%d\" % n)\n",
    "# print(\"simulation method:\", backend.configuration().description)\n",
    "\n",
    "os.environ[\"IONQ_API_KEY\"] = \"5YIT8WaP7SCAtLap1uvzz8AQIM99BYqq\"\n",
    "my_api_key = os.getenv(\"IONQ_API_KEY\")\n",
    "provider = IonQProvider(my_api_key)\n",
    "backend = provider.get_backend(\"ionq_simulator\")\n",
    "\n",
    "\n",
    "\n",
    "data = {}\n",
    "token = ''.join(random.choice([str(j) for j in range(10)]) for i in range(10))\n",
    "filename += '_' + token\n",
    "\n",
    "\n",
    "# generate EAB circuit:\n",
    "#Lrange: depth\n",
    "#C=sample size per depth\n",
    "# batch: 1??\n",
    "#qubit_map=\n",
    "#gset= Pauli\n",
    "#repeat=[1,1,1,1,1]??\n",
    "# periodic=False??\n",
    "\n",
    "eab_data, eab_circ_all = EAB_submit.submit_eab(n,n_total,clifford_layer = clifford_layer,Lrange=Lrange,C=C,batch=batch, qubit_map=q,gset=gset,repeat=repeat,periodic=periodic,use_density_matrix=use_density_matrix)\n",
    "print(\"created %d circuits\" % len(eab_circ_all[0]))\n",
    "data_batch = eab_data[\"batch_0\"]\n",
    "print(\"length of data_batch %d\" %len(data_batch))\n",
    "\n",
    "print(eab_circ_all[0][0]) # print a typical example\n",
    "print (eab_circ_all[0][0].qasm())\n",
    "# print(transpile(eab_circ_all[0][0],basis_gates=backend.configuration().basis_gates))\n",
    "# print(transpile(eab_circ_all[0][0],optimization_level=3,basis_gates=backend.configuration().basis_gates,coupling_map=backend.configuration().coupling_map,initial_layout=q))\n",
    "\n",
    "# sys.exit(0)\n",
    "\n",
    "if use_density_matrix is True:\n",
    "    job = backend.run(eab_circ_all[0], shots=1, max_parallel_experiments=0) \n",
    "elif use_ibmq is False:\n",
    "    print (\"here\")\n",
    "    job = backend.run(eab_circ_all[0], shots=shots, max_parallel_experiments=0,noise_model=\"harmony\") \n",
    "else:\n",
    "    job = backend.run(transpile(eab_circ_all[0],basis_gates=backend.configuration().basis_gates), shots=shots) \n",
    "result = job.result()\n",
    "eab_data[\"result\"] = [result.to_dict()]\n",
    "\n",
    "eab_data[\"parameters\"] = {}\n",
    "eab_data[\"parameters\"]['n'] = n \n",
    "eab_data[\"parameters\"]['n_total'] = n_total\n",
    "eab_data[\"parameters\"]['shots'] = shots \n",
    "eab_data[\"parameters\"]['Lrange'] = Lrange \n",
    "eab_data[\"parameters\"]['C'] = C\n",
    "eab_data[\"parameters\"]['eps_readout'] = eps_readout\n",
    "eab_data[\"parameters\"]['repeat'] = repeat\n",
    "\n",
    "eab_data['token'] = token\n",
    "\n",
    "# if use_ibmq is False:\n",
    "#     eab_data[\"result\"] = [result]\n",
    "# else:\n",
    "#     eab_data[\"job_set_id\"] = job_set_id\n",
    "\n",
    "# test: data saving\n",
    "# print(eab_data)\n",
    "print(token)\n",
    "# open ('data/' + filename, 'x')\n",
    "# with open('/Volumes/funkflower/Users/Yingyue/Gates_Lab_Suite-master/PauliNoiseEstimation/EAB(code from Senrui)/data/' + filename, 'wb') as outfile:\n",
    "#     pickle.dump(eab_data, outfile)\n",
    "\n",
    "# print(token)"
   ]
  },
  {
   "cell_type": "code",
   "execution_count": 11,
   "metadata": {},
   "outputs": [
    {
     "name": "stdout",
     "output_type": "stream",
     "text": [
      "{'0000': 12, '0001': 14, '0010': 1495, '0100': 47, '0111': 139, '1000': 142, '1010': 5, '1011': 31, '1100': 3, '1101': 30, '1110': 82}\n",
      "Result(backend_name='ionq_simulator', backend_version='0.0.1', qobj_id='None', job_id='09fb8de7-8beb-4f8b-b85b-74e9ed530420', success=True, results=[ExperimentResult(shots=2000, success=True, meas_level=2, data=ExperimentResultData(counts={'0x0': 5, '0x2': 9, '0x5': 14, '0x7': 138, '0x8': 105, '0xd': 1729}, probabilities={'0x0': 0.0025, '0x2': 0.005, '0x5': 0.0085, '0x7': 0.072, '0x8': 0.062, '0xd': 0.85}, metadata={'memory_slots': 4, 'global_phase': 0.0, 'n_qubits': 4, 'name': 'circuit-500', 'creg_sizes': [['c', 4]], 'clbit_labels': [['c', 0], ['c', 1], ['c', 2], ['c', 3]], 'qreg_sizes': [['q', 4]], 'qubit_labels': [['q', 0], ['q', 1], ['q', 2], ['q', 3]]}), header=QobjExperimentHeader(clbit_labels=[['c', 0], ['c', 1], ['c', 2], ['c', 3]], creg_sizes=[['c', 4]], global_phase=0.0, memory_slots=4, n_qubits=4, name='circuit-500', qreg_sizes=[['q', 4]], qubit_labels=[['q', 0], ['q', 1], ['q', 2], ['q', 3]])), ExperimentResult(shots=2000, success=True, meas_level=2, data=ExperimentResultData(counts={'0x0': 12, '0x1': 14, '0x2': 1495, '0x4': 47, '0x7': 139, '0x8': 142, '0xa': 5, '0xb': 31, '0xc': 3, '0xd': 30, '0xe': 82}, probabilities={'0x0': 0.0065, '0x1': 0.004, '0x2': 0.7625, '0x4': 0.0155, '0x7': 0.07, '0x8': 0.0735, '0xa': 0.001, '0xb': 0.0155, '0xc': 0.0005, '0xd': 0.014, '0xe': 0.037}, metadata={'memory_slots': 4, 'global_phase': 0.0, 'n_qubits': 4, 'name': 'circuit-503', 'creg_sizes': [['c', 4]], 'clbit_labels': [['c', 0], ['c', 1], ['c', 2], ['c', 3]], 'qreg_sizes': [['q', 4]], 'qubit_labels': [['q', 0], ['q', 1], ['q', 2], ['q', 3]]}), header=QobjExperimentHeader(clbit_labels=[['c', 0], ['c', 1], ['c', 2], ['c', 3]], creg_sizes=[['c', 4]], global_phase=0.0, memory_slots=4, n_qubits=4, name='circuit-503', qreg_sizes=[['q', 4]], qubit_labels=[['q', 0], ['q', 1], ['q', 2], ['q', 3]])), ExperimentResult(shots=2000, success=True, meas_level=2, data=ExperimentResultData(counts={'0x0': 5, '0x3': 1536, '0x5': 35, '0x6': 140, '0x9': 141, '0xa': 38, '0xc': 23, '0xf': 82}, probabilities={'0x0': 0.002, '0x3': 0.7665, '0x5': 0.0185, '0x6': 0.0745, '0x9': 0.0705, '0xa': 0.016, '0xc': 0.01, '0xf': 0.042}, metadata={'memory_slots': 4, 'global_phase': 0.0, 'n_qubits': 4, 'name': 'circuit-506', 'creg_sizes': [['c', 4]], 'clbit_labels': [['c', 0], ['c', 1], ['c', 2], ['c', 3]], 'qreg_sizes': [['q', 4]], 'qubit_labels': [['q', 0], ['q', 1], ['q', 2], ['q', 3]]}), header=QobjExperimentHeader(clbit_labels=[['c', 0], ['c', 1], ['c', 2], ['c', 3]], creg_sizes=[['c', 4]], global_phase=0.0, memory_slots=4, n_qubits=4, name='circuit-506', qreg_sizes=[['q', 4]], qubit_labels=[['q', 0], ['q', 1], ['q', 2], ['q', 3]])), ExperimentResult(shots=2000, success=True, meas_level=2, data=ExperimentResultData(counts={'0x0': 162, '0x3': 38, '0x5': 1497, '0x6': 7, '0x9': 93, '0xa': 6, '0xc': 34, '0xf': 163}, probabilities={'0x0': 0.076, '0x3': 0.0175, '0x5': 0.7515, '0x6': 0.003, '0x9': 0.045, '0xa': 0.006, '0xc': 0.017, '0xf': 0.084}, metadata={'memory_slots': 4, 'global_phase': 0.0, 'n_qubits': 4, 'name': 'circuit-509', 'creg_sizes': [['c', 4]], 'clbit_labels': [['c', 0], ['c', 1], ['c', 2], ['c', 3]], 'qreg_sizes': [['q', 4]], 'qubit_labels': [['q', 0], ['q', 1], ['q', 2], ['q', 3]]}), header=QobjExperimentHeader(clbit_labels=[['c', 0], ['c', 1], ['c', 2], ['c', 3]], creg_sizes=[['c', 4]], global_phase=0.0, memory_slots=4, n_qubits=4, name='circuit-509', qreg_sizes=[['q', 4]], qubit_labels=[['q', 0], ['q', 1], ['q', 2], ['q', 3]])), ExperimentResult(shots=2000, success=True, meas_level=2, data=ExperimentResultData(counts={'0x0': 16, '0x2': 3, '0x3': 146, '0x4': 2, '0x5': 5, '0x6': 1519, '0x7': 17, '0x9': 15, '0xa': 79, '0xb': 2, '0xc': 145, '0xd': 3, '0xe': 16, '0xf': 32}, probabilities={'0x0': 0.0115, '0x2': 0.002, '0x3': 0.0735, '0x4': 0.0005, '0x5': 0.003, '0x6': 0.7485, '0x7': 0.0105, '0x9': 0.007, '0xa': 0.047, '0xb': 0.0005, '0xc': 0.0745, '0xd': 0.001, '0xe': 0.0075, '0xf': 0.013}, metadata={'memory_slots': 4, 'global_phase': 0.0, 'n_qubits': 4, 'name': 'circuit-512', 'creg_sizes': [['c', 4]], 'clbit_labels': [['c', 0], ['c', 1], ['c', 2], ['c', 3]], 'qreg_sizes': [['q', 4]], 'qubit_labels': [['q', 0], ['q', 1], ['q', 2], ['q', 3]]}), header=QobjExperimentHeader(clbit_labels=[['c', 0], ['c', 1], ['c', 2], ['c', 3]], creg_sizes=[['c', 4]], global_phase=0.0, memory_slots=4, n_qubits=4, name='circuit-512', qreg_sizes=[['q', 4]], qubit_labels=[['q', 0], ['q', 1], ['q', 2], ['q', 3]])), ExperimentResult(shots=2000, success=True, meas_level=2, data=ExperimentResultData(counts={'0x0': 12, '0x1': 6, '0x2': 1502, '0x4': 24, '0x5': 3, '0x6': 1, '0x7': 159, '0x8': 160, '0xa': 5, '0xb': 29, '0xd': 28, '0xe': 71}, probabilities={'0x0': 0.007, '0x1': 0.0025, '0x2': 0.7565, '0x4': 0.0155, '0x5': 0.0015, '0x6': 0.0005, '0x7': 0.075, '0x8': 0.0745, '0xa': 0.002, '0xb': 0.015, '0xd': 0.0125, '0xe': 0.0375}, metadata={'memory_slots': 4, 'global_phase': 0.0, 'n_qubits': 4, 'name': 'circuit-515', 'creg_sizes': [['c', 4]], 'clbit_labels': [['c', 0], ['c', 1], ['c', 2], ['c', 3]], 'qreg_sizes': [['q', 4]], 'qubit_labels': [['q', 0], ['q', 1], ['q', 2], ['q', 3]]}), header=QobjExperimentHeader(clbit_labels=[['c', 0], ['c', 1], ['c', 2], ['c', 3]], creg_sizes=[['c', 4]], global_phase=0.0, memory_slots=4, n_qubits=4, name='circuit-515', qreg_sizes=[['q', 4]], qubit_labels=[['q', 0], ['q', 1], ['q', 2], ['q', 3]])), ExperimentResult(shots=2000, success=True, meas_level=2, data=ExperimentResultData(counts={'0x0': 21, '0x2': 22, '0x3': 122, '0x4': 24, '0x5': 3, '0x6': 1479, '0x7': 3, '0x8': 2, '0x9': 25, '0xa': 98, '0xb': 3, '0xc': 172, '0xe': 1, '0xf': 25}, probabilities={'0x0': 0.0105, '0x2': 0.007, '0x3': 0.0705, '0x4': 0.012, '0x5': 0.0025, '0x6': 0.736, '0x7': 0.002, '0x8': 0.001, '0x9': 0.009, '0xa': 0.0495, '0xb': 0.0005, '0xc': 0.084, '0xe': 0.001, '0xf': 0.014}, metadata={'memory_slots': 4, 'global_phase': 0.0, 'n_qubits': 4, 'name': 'circuit-518', 'creg_sizes': [['c', 4]], 'clbit_labels': [['c', 0], ['c', 1], ['c', 2], ['c', 3]], 'qreg_sizes': [['q', 4]], 'qubit_labels': [['q', 0], ['q', 1], ['q', 2], ['q', 3]]}), header=QobjExperimentHeader(clbit_labels=[['c', 0], ['c', 1], ['c', 2], ['c', 3]], creg_sizes=[['c', 4]], global_phase=0.0, memory_slots=4, n_qubits=4, name='circuit-518', qreg_sizes=[['q', 4]], qubit_labels=[['q', 0], ['q', 1], ['q', 2], ['q', 3]])), ExperimentResult(shots=2000, success=True, meas_level=2, data=ExperimentResultData(counts={'0x1': 81, '0x2': 26, '0x3': 2, '0x4': 30, '0x7': 152, '0x8': 153, '0xa': 3, '0xb': 36, '0xd': 1486, '0xe': 3, '0xf': 28}, probabilities={'0x1': 0.043, '0x2': 0.0085, '0x3': 0.0005, '0x4': 0.016, '0x7': 0.0665, '0x8': 0.072, '0xa': 0.001, '0xb': 0.016, '0xd': 0.7655, '0xe': 0.002, '0xf': 0.009}, metadata={'memory_slots': 4, 'global_phase': 0.0, 'n_qubits': 4, 'name': 'circuit-521', 'creg_sizes': [['c', 4]], 'clbit_labels': [['c', 0], ['c', 1], ['c', 2], ['c', 3]], 'qreg_sizes': [['q', 4]], 'qubit_labels': [['q', 0], ['q', 1], ['q', 2], ['q', 3]]}), header=QobjExperimentHeader(clbit_labels=[['c', 0], ['c', 1], ['c', 2], ['c', 3]], creg_sizes=[['c', 4]], global_phase=0.0, memory_slots=4, n_qubits=4, name='circuit-521', qreg_sizes=[['q', 4]], qubit_labels=[['q', 0], ['q', 1], ['q', 2], ['q', 3]])), ExperimentResult(shots=2000, success=True, meas_level=2, data=ExperimentResultData(counts={'0x0': 19, '0x1': 3, '0x2': 2, '0x3': 141, '0x4': 16, '0x6': 1478, '0x7': 17, '0x9': 18, '0xa': 105, '0xc': 174, '0xe': 2, '0xf': 25}, probabilities={'0x0': 0.0105, '0x1': 0.001, '0x2': 0.001, '0x3': 0.074, '0x4': 0.0085, '0x6': 0.737, '0x7': 0.009, '0x9': 0.0095, '0xa': 0.0485, '0xc': 0.086, '0xe': 0.0005, '0xf': 0.0135}, metadata={'memory_slots': 4, 'global_phase': 0.0, 'n_qubits': 4, 'name': 'circuit-524', 'creg_sizes': [['c', 4]], 'clbit_labels': [['c', 0], ['c', 1], ['c', 2], ['c', 3]], 'qreg_sizes': [['q', 4]], 'qubit_labels': [['q', 0], ['q', 1], ['q', 2], ['q', 3]]}), header=QobjExperimentHeader(clbit_labels=[['c', 0], ['c', 1], ['c', 2], ['c', 3]], creg_sizes=[['c', 4]], global_phase=0.0, memory_slots=4, n_qubits=4, name='circuit-524', qreg_sizes=[['q', 4]], qubit_labels=[['q', 0], ['q', 1], ['q', 2], ['q', 3]])), ExperimentResult(shots=2000, success=True, meas_level=2, data=ExperimentResultData(counts={'0x1': 21, '0x2': 94, '0x3': 3, '0x4': 128, '0x5': 2, '0x7': 23, '0x8': 18, '0x9': 2, '0xb': 138, '0xd': 5, '0xe': 1552, '0xf': 14}, probabilities={'0x1': 0.0075, '0x2': 0.047, '0x3': 0.0005, '0x4': 0.068, '0x5': 0.0005, '0x7': 0.0145, '0x8': 0.011, '0x9': 0.0005, '0xb': 0.0735, '0xd': 0.0015, '0xe': 0.766, '0xf': 0.0095}, metadata={'memory_slots': 4, 'global_phase': 0.0, 'n_qubits': 4, 'name': 'circuit-527', 'creg_sizes': [['c', 4]], 'clbit_labels': [['c', 0], ['c', 1], ['c', 2], ['c', 3]], 'qreg_sizes': [['q', 4]], 'qubit_labels': [['q', 0], ['q', 1], ['q', 2], ['q', 3]]}), header=QobjExperimentHeader(clbit_labels=[['c', 0], ['c', 1], ['c', 2], ['c', 3]], creg_sizes=[['c', 4]], global_phase=0.0, memory_slots=4, n_qubits=4, name='circuit-527', qreg_sizes=[['q', 4]], qubit_labels=[['q', 0], ['q', 1], ['q', 2], ['q', 3]])), ExperimentResult(shots=2000, success=True, meas_level=2, data=ExperimentResultData(counts={'0x1': 141, '0x2': 17, '0x4': 18, '0x5': 4, '0x7': 86, '0x8': 4, '0x9': 21, '0xb': 1506, '0xd': 20, '0xe': 183}, probabilities={'0x1': 0.0715, '0x2': 0.0095, '0x4': 0.012, '0x5': 0.001, '0x7': 0.042, '0x8': 0.0025, '0x9': 0.01, '0xb': 0.7495, '0xd': 0.0145, '0xe': 0.0865}, metadata={'memory_slots': 4, 'global_phase': 0.0, 'n_qubits': 4, 'name': 'circuit-530', 'creg_sizes': [['c', 4]], 'clbit_labels': [['c', 0], ['c', 1], ['c', 2], ['c', 3]], 'qreg_sizes': [['q', 4]], 'qubit_labels': [['q', 0], ['q', 1], ['q', 2], ['q', 3]]}), header=QobjExperimentHeader(clbit_labels=[['c', 0], ['c', 1], ['c', 2], ['c', 3]], creg_sizes=[['c', 4]], global_phase=0.0, memory_slots=4, n_qubits=4, name='circuit-530', qreg_sizes=[['q', 4]], qubit_labels=[['q', 0], ['q', 1], ['q', 2], ['q', 3]])), ExperimentResult(shots=2000, success=True, meas_level=2, data=ExperimentResultData(counts={'0x0': 19, '0x1': 163, '0x2': 36, '0x4': 1456, '0x5': 2, '0x6': 18, '0x7': 3, '0x8': 90, '0x9': 1, '0xa': 3, '0xb': 16, '0xc': 12, '0xd': 17, '0xe': 164}, probabilities={'0x0': 0.007, '0x1': 0.079, '0x2': 0.0145, '0x4': 0.725, '0x5': 0.0015, '0x6': 0.0105, '0x7': 0.002, '0x8': 0.047, '0x9': 0.0005, '0xa': 0.002, '0xb': 0.0105, '0xc': 0.0055, '0xd': 0.0115, '0xe': 0.0825}, metadata={'memory_slots': 4, 'global_phase': 0.0, 'n_qubits': 4, 'name': 'circuit-533', 'creg_sizes': [['c', 4]], 'clbit_labels': [['c', 0], ['c', 1], ['c', 2], ['c', 3]], 'qreg_sizes': [['q', 4]], 'qubit_labels': [['q', 0], ['q', 1], ['q', 2], ['q', 3]]}), header=QobjExperimentHeader(clbit_labels=[['c', 0], ['c', 1], ['c', 2], ['c', 3]], creg_sizes=[['c', 4]], global_phase=0.0, memory_slots=4, n_qubits=4, name='circuit-533', qreg_sizes=[['q', 4]], qubit_labels=[['q', 0], ['q', 1], ['q', 2], ['q', 3]])), ExperimentResult(shots=2000, success=True, meas_level=2, data=ExperimentResultData(counts={'0x1': 29, '0x2': 168, '0x3': 13, '0x4': 2, '0x6': 5, '0x7': 1514, '0x8': 8, '0x9': 5, '0xb': 79, '0xd': 154, '0xe': 22, '0xf': 1}, probabilities={'0x1': 0.0135, '0x2': 0.0875, '0x3': 0.007, '0x4': 0.002, '0x6': 0.0015, '0x7': 0.751, '0x8': 0.0055, '0x9': 0.0025, '0xb': 0.04, '0xd': 0.0755, '0xe': 0.0135, '0xf': 0.0005}, metadata={'memory_slots': 4, 'global_phase': 0.0, 'n_qubits': 4, 'name': 'circuit-536', 'creg_sizes': [['c', 4]], 'clbit_labels': [['c', 0], ['c', 1], ['c', 2], ['c', 3]], 'qreg_sizes': [['q', 4]], 'qubit_labels': [['q', 0], ['q', 1], ['q', 2], ['q', 3]]}), header=QobjExperimentHeader(clbit_labels=[['c', 0], ['c', 1], ['c', 2], ['c', 3]], creg_sizes=[['c', 4]], global_phase=0.0, memory_slots=4, n_qubits=4, name='circuit-536', qreg_sizes=[['q', 4]], qubit_labels=[['q', 0], ['q', 1], ['q', 2], ['q', 3]])), ExperimentResult(shots=2000, success=True, meas_level=2, data=ExperimentResultData(counts={'0x0': 117, '0x1': 22, '0x3': 41, '0x4': 14, '0x5': 1456, '0x6': 4, '0x8': 3, '0x9': 102, '0xa': 9, '0xb': 3, '0xc': 43, '0xd': 1, '0xe': 1, '0xf': 184}, probabilities={'0x0': 0.0685, '0x1': 0.0105, '0x3': 0.0185, '0x4': 0.0095, '0x5': 0.7305, '0x6': 0.002, '0x8': 0.0005, '0x9': 0.0495, '0xa': 0.006, '0xb': 0.002, '0xc': 0.0185, '0xd': 0.0005, '0xe': 0.0005, '0xf': 0.083}, metadata={'memory_slots': 4, 'global_phase': 0.0, 'n_qubits': 4, 'name': 'circuit-539', 'creg_sizes': [['c', 4]], 'clbit_labels': [['c', 0], ['c', 1], ['c', 2], ['c', 3]], 'qreg_sizes': [['q', 4]], 'qubit_labels': [['q', 0], ['q', 1], ['q', 2], ['q', 3]]}), header=QobjExperimentHeader(clbit_labels=[['c', 0], ['c', 1], ['c', 2], ['c', 3]], creg_sizes=[['c', 4]], global_phase=0.0, memory_slots=4, n_qubits=4, name='circuit-539', qreg_sizes=[['q', 4]], qubit_labels=[['q', 0], ['q', 1], ['q', 2], ['q', 3]])), ExperimentResult(shots=2000, success=True, meas_level=2, data=ExperimentResultData(counts={'0x0': 11, '0x2': 163, '0x8': 1822, '0xa': 4}, probabilities={'0x0': 0.0075, '0x2': 0.0765, '0x8': 0.915, '0xa': 0.001}, metadata={'memory_slots': 4, 'global_phase': 0.0, 'n_qubits': 4, 'name': 'circuit-542', 'creg_sizes': [['c', 4]], 'clbit_labels': [['c', 0], ['c', 1], ['c', 2], ['c', 3]], 'qreg_sizes': [['q', 4]], 'qubit_labels': [['q', 0], ['q', 1], ['q', 2], ['q', 3]]}), header=QobjExperimentHeader(clbit_labels=[['c', 0], ['c', 1], ['c', 2], ['c', 3]], creg_sizes=[['c', 4]], global_phase=0.0, memory_slots=4, n_qubits=4, name='circuit-542', qreg_sizes=[['q', 4]], qubit_labels=[['q', 0], ['q', 1], ['q', 2], ['q', 3]])), ExperimentResult(shots=2000, success=True, meas_level=2, data=ExperimentResultData(counts={'0x1': 17, '0x2': 21, '0x3': 1658, '0x4': 1, '0x6': 154, '0x7': 1, '0x9': 138, '0xc': 10}, probabilities={'0x1': 0.007, '0x2': 0.009, '0x3': 0.834, '0x4': 0.0005, '0x6': 0.068, '0x7': 0.0005, '0x9': 0.076, '0xc': 0.0045}, metadata={'memory_slots': 4, 'global_phase': 0.0, 'n_qubits': 4, 'name': 'circuit-545', 'creg_sizes': [['c', 4]], 'clbit_labels': [['c', 0], ['c', 1], ['c', 2], ['c', 3]], 'qreg_sizes': [['q', 4]], 'qubit_labels': [['q', 0], ['q', 1], ['q', 2], ['q', 3]]}), header=QobjExperimentHeader(clbit_labels=[['c', 0], ['c', 1], ['c', 2], ['c', 3]], creg_sizes=[['c', 4]], global_phase=0.0, memory_slots=4, n_qubits=4, name='circuit-545', qreg_sizes=[['q', 4]], qubit_labels=[['q', 0], ['q', 1], ['q', 2], ['q', 3]])), ExperimentResult(shots=2000, success=True, meas_level=2, data=ExperimentResultData(counts={'0x0': 1, '0x4': 158, '0xa': 19, '0xe': 1822}, probabilities={'0x0': 0.001, '0x4': 0.0715, '0xa': 0.0115, '0xe': 0.916}, metadata={'memory_slots': 4, 'global_phase': 0.0, 'n_qubits': 4, 'name': 'circuit-548', 'creg_sizes': [['c', 4]], 'clbit_labels': [['c', 0], ['c', 1], ['c', 2], ['c', 3]], 'qreg_sizes': [['q', 4]], 'qubit_labels': [['q', 0], ['q', 1], ['q', 2], ['q', 3]]}), header=QobjExperimentHeader(clbit_labels=[['c', 0], ['c', 1], ['c', 2], ['c', 3]], creg_sizes=[['c', 4]], global_phase=0.0, memory_slots=4, n_qubits=4, name='circuit-548', qreg_sizes=[['q', 4]], qubit_labels=[['q', 0], ['q', 1], ['q', 2], ['q', 3]])), ExperimentResult(shots=2000, success=True, meas_level=2, data=ExperimentResultData(counts={'0x0': 14, '0x1': 15, '0x2': 1, '0x3': 169, '0x4': 5, '0x5': 99, '0x6': 12, '0x8': 7, '0x9': 1481, '0xa': 5, '0xb': 1, '0xc': 171, '0xe': 1, '0xf': 19}, probabilities={'0x0': 0.0095, '0x1': 0.0075, '0x2': 0.0005, '0x3': 0.0875, '0x4': 0.002, '0x5': 0.0505, '0x6': 0.0055, '0x8': 0.0085, '0x9': 0.7295, '0xa': 0.003, '0xb': 0.001, '0xc': 0.079, '0xe': 0.0005, '0xf': 0.015}, metadata={'memory_slots': 4, 'global_phase': 0.0, 'n_qubits': 4, 'name': 'circuit-551', 'creg_sizes': [['c', 4]], 'clbit_labels': [['c', 0], ['c', 1], ['c', 2], ['c', 3]], 'qreg_sizes': [['q', 4]], 'qubit_labels': [['q', 0], ['q', 1], ['q', 2], ['q', 3]]}), header=QobjExperimentHeader(clbit_labels=[['c', 0], ['c', 1], ['c', 2], ['c', 3]], creg_sizes=[['c', 4]], global_phase=0.0, memory_slots=4, n_qubits=4, name='circuit-551', qreg_sizes=[['q', 4]], qubit_labels=[['q', 0], ['q', 1], ['q', 2], ['q', 3]])), ExperimentResult(shots=2000, success=True, meas_level=2, data=ExperimentResultData(counts={'0x1': 5, '0x2': 1508, '0x3': 16, '0x4': 27, '0x6': 5, '0x7': 149, '0x8': 165, '0x9': 1, '0xb': 26, '0xd': 18, '0xe': 80}, probabilities={'0x1': 0.0025, '0x2': 0.7605, '0x3': 0.0105, '0x4': 0.0135, '0x6': 0.0015, '0x7': 0.073, '0x8': 0.071, '0x9': 0.001, '0xb': 0.014, '0xd': 0.011, '0xe': 0.0405}, metadata={'memory_slots': 4, 'global_phase': 0.0, 'n_qubits': 4, 'name': 'circuit-554', 'creg_sizes': [['c', 4]], 'clbit_labels': [['c', 0], ['c', 1], ['c', 2], ['c', 3]], 'qreg_sizes': [['q', 4]], 'qubit_labels': [['q', 0], ['q', 1], ['q', 2], ['q', 3]]}), header=QobjExperimentHeader(clbit_labels=[['c', 0], ['c', 1], ['c', 2], ['c', 3]], creg_sizes=[['c', 4]], global_phase=0.0, memory_slots=4, n_qubits=4, name='circuit-554', qreg_sizes=[['q', 4]], qubit_labels=[['q', 0], ['q', 1], ['q', 2], ['q', 3]])), ExperimentResult(shots=2000, success=True, meas_level=2, data=ExperimentResultData(counts={'0x0': 145, '0x3': 27, '0x5': 14, '0x6': 82, '0x9': 1, '0xa': 1533, '0xc': 29, '0xf': 169}, probabilities={'0x0': 0.073, '0x3': 0.0175, '0x5': 0.007, '0x6': 0.0445, '0x9': 0.0015, '0xa': 0.7605, '0xc': 0.015, '0xf': 0.081}, metadata={'memory_slots': 4, 'global_phase': 0.0, 'n_qubits': 4, 'name': 'circuit-557', 'creg_sizes': [['c', 4]], 'clbit_labels': [['c', 0], ['c', 1], ['c', 2], ['c', 3]], 'qreg_sizes': [['q', 4]], 'qubit_labels': [['q', 0], ['q', 1], ['q', 2], ['q', 3]]}), header=QobjExperimentHeader(clbit_labels=[['c', 0], ['c', 1], ['c', 2], ['c', 3]], creg_sizes=[['c', 4]], global_phase=0.0, memory_slots=4, n_qubits=4, name='circuit-557', qreg_sizes=[['q', 4]], qubit_labels=[['q', 0], ['q', 1], ['q', 2], ['q', 3]])), ExperimentResult(shots=2000, success=True, meas_level=2, data=ExperimentResultData(counts={'0x1': 156, '0x2': 23, '0x3': 5, '0x4': 1441, '0x5': 17, '0x6': 18, '0x7': 6, '0x8': 95, '0x9': 1, '0xa': 1, '0xb': 10, '0xc': 18, '0xd': 35, '0xe': 172, '0xf': 2}, probabilities={'0x1': 0.082, '0x2': 0.0135, '0x3': 0.001, '0x4': 0.727, '0x5': 0.0065, '0x6': 0.0095, '0x7': 0.003, '0x8': 0.045, '0x9': 0.0015, '0xa': 0.0005, '0xb': 0.007, '0xc': 0.0085, '0xd': 0.015, '0xe': 0.079, '0xf': 0.0005}, metadata={'memory_slots': 4, 'global_phase': 0.0, 'n_qubits': 4, 'name': 'circuit-560', 'creg_sizes': [['c', 4]], 'clbit_labels': [['c', 0], ['c', 1], ['c', 2], ['c', 3]], 'qreg_sizes': [['q', 4]], 'qubit_labels': [['q', 0], ['q', 1], ['q', 2], ['q', 3]]}), header=QobjExperimentHeader(clbit_labels=[['c', 0], ['c', 1], ['c', 2], ['c', 3]], creg_sizes=[['c', 4]], global_phase=0.0, memory_slots=4, n_qubits=4, name='circuit-560', qreg_sizes=[['q', 4]], qubit_labels=[['q', 0], ['q', 1], ['q', 2], ['q', 3]])), ExperimentResult(shots=2000, success=True, meas_level=2, data=ExperimentResultData(counts={'0x0': 2, '0x1': 15, '0x3': 1427, '0x5': 47, '0x6': 109, '0x7': 20, '0x9': 150, '0xa': 48, '0xb': 1, '0xc': 19, '0xd': 4, '0xf': 158}, probabilities={'0x0': 0.0035, '0x1': 0.008, '0x3': 0.6905, '0x5': 0.0295, '0x6': 0.061, '0x7': 0.0105, '0x9': 0.078, '0xa': 0.028, '0xb': 0.001, '0xc': 0.008, '0xd': 0.0015, '0xf': 0.0795}, metadata={'memory_slots': 4, 'global_phase': 0.0, 'n_qubits': 4, 'name': 'circuit-563', 'creg_sizes': [['c', 4]], 'clbit_labels': [['c', 0], ['c', 1], ['c', 2], ['c', 3]], 'qreg_sizes': [['q', 4]], 'qubit_labels': [['q', 0], ['q', 1], ['q', 2], ['q', 3]]}), header=QobjExperimentHeader(clbit_labels=[['c', 0], ['c', 1], ['c', 2], ['c', 3]], creg_sizes=[['c', 4]], global_phase=0.0, memory_slots=4, n_qubits=4, name='circuit-563', qreg_sizes=[['q', 4]], qubit_labels=[['q', 0], ['q', 1], ['q', 2], ['q', 3]])), ExperimentResult(shots=2000, success=True, meas_level=2, data=ExperimentResultData(counts={'0x0': 1353, '0x3': 9, '0x5': 129, '0x6': 77, '0x9': 64, '0xa': 188, '0xc': 167, '0xf': 13}, probabilities={'0x0': 0.6935, '0x3': 0.0035, '0x5': 0.066, '0x6': 0.034, '0x9': 0.0315, '0xa': 0.0845, '0xc': 0.0795, '0xf': 0.0075}, metadata={'memory_slots': 4, 'global_phase': 0.0, 'n_qubits': 4, 'name': 'circuit-566', 'creg_sizes': [['c', 4]], 'clbit_labels': [['c', 0], ['c', 1], ['c', 2], ['c', 3]], 'qreg_sizes': [['q', 4]], 'qubit_labels': [['q', 0], ['q', 1], ['q', 2], ['q', 3]]}), header=QobjExperimentHeader(clbit_labels=[['c', 0], ['c', 1], ['c', 2], ['c', 3]], creg_sizes=[['c', 4]], global_phase=0.0, memory_slots=4, n_qubits=4, name='circuit-566', qreg_sizes=[['q', 4]], qubit_labels=[['q', 0], ['q', 1], ['q', 2], ['q', 3]])), ExperimentResult(shots=2000, success=True, meas_level=2, data=ExperimentResultData(counts={'0x0': 19, '0x3': 141, '0x5': 133, '0x6': 51, '0x9': 50, '0xa': 189, '0xc': 19, '0xf': 1398}, probabilities={'0x0': 0.008, '0x3': 0.076, '0x5': 0.07, '0x6': 0.0295, '0x9': 0.028, '0xa': 0.0845, '0xc': 0.008, '0xf': 0.696}, metadata={'memory_slots': 4, 'global_phase': 0.0, 'n_qubits': 4, 'name': 'circuit-569', 'creg_sizes': [['c', 4]], 'clbit_labels': [['c', 0], ['c', 1], ['c', 2], ['c', 3]], 'qreg_sizes': [['q', 4]], 'qubit_labels': [['q', 0], ['q', 1], ['q', 2], ['q', 3]]}), header=QobjExperimentHeader(clbit_labels=[['c', 0], ['c', 1], ['c', 2], ['c', 3]], creg_sizes=[['c', 4]], global_phase=0.0, memory_slots=4, n_qubits=4, name='circuit-569', qreg_sizes=[['q', 4]], qubit_labels=[['q', 0], ['q', 1], ['q', 2], ['q', 3]])), ExperimentResult(shots=2000, success=True, meas_level=2, data=ExperimentResultData(counts={'0x0': 16, '0x2': 1479, '0x3': 16, '0x4': 22, '0x6': 7, '0x7': 135, '0x8': 171, '0x9': 1, '0xa': 19, '0xb': 31, '0xd': 15, '0xe': 88}, probabilities={'0x0': 0.009, '0x2': 0.7395, '0x3': 0.009, '0x4': 0.0095, '0x6': 0.0035, '0x7': 0.063, '0x8': 0.08, '0x9': 0.0005, '0xa': 0.0105, '0xb': 0.0185, '0xd': 0.006, '0xe': 0.049}, metadata={'memory_slots': 4, 'global_phase': 0.0, 'n_qubits': 4, 'name': 'circuit-572', 'creg_sizes': [['c', 4]], 'clbit_labels': [['c', 0], ['c', 1], ['c', 2], ['c', 3]], 'qreg_sizes': [['q', 4]], 'qubit_labels': [['q', 0], ['q', 1], ['q', 2], ['q', 3]]}), header=QobjExperimentHeader(clbit_labels=[['c', 0], ['c', 1], ['c', 2], ['c', 3]], creg_sizes=[['c', 4]], global_phase=0.0, memory_slots=4, n_qubits=4, name='circuit-572', qreg_sizes=[['q', 4]], qubit_labels=[['q', 0], ['q', 1], ['q', 2], ['q', 3]])), ExperimentResult(shots=2000, success=True, meas_level=2, data=ExperimentResultData(counts={'0x1': 41, '0x2': 158, '0x4': 49, '0x5': 1, '0x6': 1, '0x7': 9, '0x8': 1515, '0x9': 12, '0xb': 3, '0xd': 180, '0xe': 31}, probabilities={'0x1': 0.018, '0x2': 0.0765, '0x4': 0.0375, '0x5': 0.001, '0x6': 0.0005, '0x7': 0.0065, '0x8': 0.751, '0x9': 0.009, '0xb': 0.002, '0xd': 0.0875, '0xe': 0.0105}, metadata={'memory_slots': 4, 'global_phase': 0.0, 'n_qubits': 4, 'name': 'circuit-575', 'creg_sizes': [['c', 4]], 'clbit_labels': [['c', 0], ['c', 1], ['c', 2], ['c', 3]], 'qreg_sizes': [['q', 4]], 'qubit_labels': [['q', 0], ['q', 1], ['q', 2], ['q', 3]]}), header=QobjExperimentHeader(clbit_labels=[['c', 0], ['c', 1], ['c', 2], ['c', 3]], creg_sizes=[['c', 4]], global_phase=0.0, memory_slots=4, n_qubits=4, name='circuit-575', qreg_sizes=[['q', 4]], qubit_labels=[['q', 0], ['q', 1], ['q', 2], ['q', 3]])), ExperimentResult(shots=2000, success=True, meas_level=2, data=ExperimentResultData(counts={'0x2': 1, '0x3': 133, '0x6': 7, '0x8': 20, '0x9': 1666, '0xb': 17, '0xc': 155, '0xd': 1}, probabilities={'0x2': 0.0005, '0x3': 0.066, '0x6': 0.006, '0x8': 0.0105, '0x9': 0.8315, '0xb': 0.0085, '0xc': 0.075, '0xd': 0.001}, metadata={'memory_slots': 4, 'global_phase': 0.0, 'n_qubits': 4, 'name': 'circuit-578', 'creg_sizes': [['c', 4]], 'clbit_labels': [['c', 0], ['c', 1], ['c', 2], ['c', 3]], 'qreg_sizes': [['q', 4]], 'qubit_labels': [['q', 0], ['q', 1], ['q', 2], ['q', 3]]}), header=QobjExperimentHeader(clbit_labels=[['c', 0], ['c', 1], ['c', 2], ['c', 3]], creg_sizes=[['c', 4]], global_phase=0.0, memory_slots=4, n_qubits=4, name='circuit-578', qreg_sizes=[['q', 4]], qubit_labels=[['q', 0], ['q', 1], ['q', 2], ['q', 3]])), ExperimentResult(shots=2000, success=True, meas_level=2, data=ExperimentResultData(counts={'0x0': 49, '0x3': 167, '0x5': 15, '0x6': 1396, '0x9': 19, '0xa': 142, '0xc': 152, '0xf': 60}, probabilities={'0x0': 0.0265, '0x3': 0.074, '0x5': 0.0065, '0x6': 0.6985, '0x9': 0.0085, '0xa': 0.0755, '0xc': 0.0825, '0xf': 0.028}, metadata={'memory_slots': 4, 'global_phase': 0.0, 'n_qubits': 4, 'name': 'circuit-581', 'creg_sizes': [['c', 4]], 'clbit_labels': [['c', 0], ['c', 1], ['c', 2], ['c', 3]], 'qreg_sizes': [['q', 4]], 'qubit_labels': [['q', 0], ['q', 1], ['q', 2], ['q', 3]]}), header=QobjExperimentHeader(clbit_labels=[['c', 0], ['c', 1], ['c', 2], ['c', 3]], creg_sizes=[['c', 4]], global_phase=0.0, memory_slots=4, n_qubits=4, name='circuit-581', qreg_sizes=[['q', 4]], qubit_labels=[['q', 0], ['q', 1], ['q', 2], ['q', 3]])), ExperimentResult(shots=2000, success=True, meas_level=2, data=ExperimentResultData(counts={'0x0': 145, '0x2': 2, '0x3': 22, '0x5': 1488, '0x6': 4, '0x7': 22, '0x8': 3, '0x9': 94, '0xa': 10, '0xc': 49, '0xd': 30, '0xf': 131}, probabilities={'0x0': 0.0725, '0x2': 0.0015, '0x3': 0.0155, '0x5': 0.746, '0x6': 0.003, '0x7': 0.011, '0x8': 0.0015, '0x9': 0.0465, '0xa': 0.0055, '0xc': 0.0205, '0xd': 0.01, '0xf': 0.0665}, metadata={'memory_slots': 4, 'global_phase': 0.0, 'n_qubits': 4, 'name': 'circuit-584', 'creg_sizes': [['c', 4]], 'clbit_labels': [['c', 0], ['c', 1], ['c', 2], ['c', 3]], 'qreg_sizes': [['q', 4]], 'qubit_labels': [['q', 0], ['q', 1], ['q', 2], ['q', 3]]}), header=QobjExperimentHeader(clbit_labels=[['c', 0], ['c', 1], ['c', 2], ['c', 3]], creg_sizes=[['c', 4]], global_phase=0.0, memory_slots=4, n_qubits=4, name='circuit-584', qreg_sizes=[['q', 4]], qubit_labels=[['q', 0], ['q', 1], ['q', 2], ['q', 3]])), ExperimentResult(shots=2000, success=True, meas_level=2, data=ExperimentResultData(counts={'0x0': 155, '0x1': 5, '0x3': 61, '0x4': 18, '0x5': 1349, '0x6': 11, '0x7': 11, '0x8': 1, '0x9': 160, '0xa': 28, '0xb': 1, '0xc': 52, '0xd': 4, '0xe': 1, '0xf': 143}, probabilities={'0x0': 0.0725, '0x1': 0.0025, '0x3': 0.0275, '0x4': 0.0085, '0x5': 0.682, '0x6': 0.0055, '0x7': 0.007, '0x8': 0.0005, '0x9': 0.0835, '0xa': 0.0115, '0xb': 0.0015, '0xc': 0.0235, '0xd': 0.001, '0xe': 0.0005, '0xf': 0.072}, metadata={'memory_slots': 4, 'global_phase': 0.0, 'n_qubits': 4, 'name': 'circuit-587', 'creg_sizes': [['c', 4]], 'clbit_labels': [['c', 0], ['c', 1], ['c', 2], ['c', 3]], 'qreg_sizes': [['q', 4]], 'qubit_labels': [['q', 0], ['q', 1], ['q', 2], ['q', 3]]}), header=QobjExperimentHeader(clbit_labels=[['c', 0], ['c', 1], ['c', 2], ['c', 3]], creg_sizes=[['c', 4]], global_phase=0.0, memory_slots=4, n_qubits=4, name='circuit-587', qreg_sizes=[['q', 4]], qubit_labels=[['q', 0], ['q', 1], ['q', 2], ['q', 3]])), ExperimentResult(shots=2000, success=True, meas_level=2, data=ExperimentResultData(counts={'0x0': 120, '0x2': 2, '0x5': 1697, '0x7': 20, '0xa': 10, '0xd': 17, '0xf': 134}, probabilities={'0x0': 0.066, '0x2': 0.0025, '0x5': 0.837, '0x7': 0.0125, '0xa': 0.0055, '0xd': 0.009, '0xf': 0.067}, metadata={'memory_slots': 4, 'global_phase': 0.0, 'n_qubits': 4, 'name': 'circuit-590', 'creg_sizes': [['c', 4]], 'clbit_labels': [['c', 0], ['c', 1], ['c', 2], ['c', 3]], 'qreg_sizes': [['q', 4]], 'qubit_labels': [['q', 0], ['q', 1], ['q', 2], ['q', 3]]}), header=QobjExperimentHeader(clbit_labels=[['c', 0], ['c', 1], ['c', 2], ['c', 3]], creg_sizes=[['c', 4]], global_phase=0.0, memory_slots=4, n_qubits=4, name='circuit-590', qreg_sizes=[['q', 4]], qubit_labels=[['q', 0], ['q', 1], ['q', 2], ['q', 3]])), ExperimentResult(shots=2000, success=True, meas_level=2, data=ExperimentResultData(counts={'0x0': 32, '0x1': 3, '0x2': 4, '0x3': 162, '0x4': 12, '0x6': 1459, '0x7': 19, '0x9': 23, '0xa': 81, '0xc': 171, '0xd': 3, '0xe': 2, '0xf': 29}, probabilities={'0x0': 0.011, '0x1': 0.0005, '0x2': 0.001, '0x3': 0.074, '0x4': 0.0085, '0x6': 0.737, '0x7': 0.009, '0x9': 0.0095, '0xa': 0.0485, '0xc': 0.086, '0xd': 0.001, '0xe': 0.001, '0xf': 0.013}, metadata={'memory_slots': 4, 'global_phase': 0.0, 'n_qubits': 4, 'name': 'circuit-593', 'creg_sizes': [['c', 4]], 'clbit_labels': [['c', 0], ['c', 1], ['c', 2], ['c', 3]], 'qreg_sizes': [['q', 4]], 'qubit_labels': [['q', 0], ['q', 1], ['q', 2], ['q', 3]]}), header=QobjExperimentHeader(clbit_labels=[['c', 0], ['c', 1], ['c', 2], ['c', 3]], creg_sizes=[['c', 4]], global_phase=0.0, memory_slots=4, n_qubits=4, name='circuit-593', qreg_sizes=[['q', 4]], qubit_labels=[['q', 0], ['q', 1], ['q', 2], ['q', 3]])), ExperimentResult(shots=2000, success=True, meas_level=2, data=ExperimentResultData(counts={'0x0': 2, '0x1': 12, '0x2': 9, '0x3': 1496, '0x4': 5, '0x5': 24, '0x6': 124, '0x7': 8, '0x8': 1, '0x9': 165, '0xa': 41, '0xb': 8, '0xc': 17, '0xd': 8, '0xe': 1, '0xf': 79}, probabilities={'0x0': 0.0015, '0x1': 0.0075, '0x2': 0.005, '0x3': 0.7425, '0x4': 0.0025, '0x5': 0.0155, '0x6': 0.065, '0x7': 0.002, '0x8': 0.001, '0x9': 0.0775, '0xa': 0.0195, '0xb': 0.003, '0xc': 0.012, '0xd': 0.0015, '0xe': 0.0005, '0xf': 0.0435}, metadata={'memory_slots': 4, 'global_phase': 0.0, 'n_qubits': 4, 'name': 'circuit-596', 'creg_sizes': [['c', 4]], 'clbit_labels': [['c', 0], ['c', 1], ['c', 2], ['c', 3]], 'qreg_sizes': [['q', 4]], 'qubit_labels': [['q', 0], ['q', 1], ['q', 2], ['q', 3]]}), header=QobjExperimentHeader(clbit_labels=[['c', 0], ['c', 1], ['c', 2], ['c', 3]], creg_sizes=[['c', 4]], global_phase=0.0, memory_slots=4, n_qubits=4, name='circuit-596', qreg_sizes=[['q', 4]], qubit_labels=[['q', 0], ['q', 1], ['q', 2], ['q', 3]])), ExperimentResult(shots=2000, success=True, meas_level=2, data=ExperimentResultData(counts={'0x0': 1504, '0x1': 1, '0x2': 8, '0x3': 2, '0x4': 20, '0x5': 133, '0x6': 32, '0x7': 3, '0x8': 1, '0x9': 23, '0xa': 177, '0xc': 82, '0xd': 1, '0xe': 4, '0xf': 9}, probabilities={'0x0': 0.751, '0x1': 0.0005, '0x2': 0.0045, '0x3': 0.0005, '0x4': 0.0105, '0x5': 0.067, '0x6': 0.015, '0x7': 0.0015, '0x8': 0.001, '0x9': 0.014, '0xa': 0.079, '0xc': 0.049, '0xd': 0.0005, '0xe': 0.001, '0xf': 0.005}, metadata={'memory_slots': 4, 'global_phase': 0.0, 'n_qubits': 4, 'name': 'circuit-599', 'creg_sizes': [['c', 4]], 'clbit_labels': [['c', 0], ['c', 1], ['c', 2], ['c', 3]], 'qreg_sizes': [['q', 4]], 'qubit_labels': [['q', 0], ['q', 1], ['q', 2], ['q', 3]]}), header=QobjExperimentHeader(clbit_labels=[['c', 0], ['c', 1], ['c', 2], ['c', 3]], creg_sizes=[['c', 4]], global_phase=0.0, memory_slots=4, n_qubits=4, name='circuit-599', qreg_sizes=[['q', 4]], qubit_labels=[['q', 0], ['q', 1], ['q', 2], ['q', 3]])), ExperimentResult(shots=2000, success=True, meas_level=2, data=ExperimentResultData(counts={'0x0': 148, '0x3': 21, '0x5': 1522, '0x6': 9, '0x9': 101, '0xa': 15, '0xc': 21, '0xf': 163}, probabilities={'0x0': 0.076, '0x3': 0.0115, '0x5': 0.761, '0x6': 0.0035, '0x9': 0.0445, '0xa': 0.0075, '0xc': 0.0135, '0xf': 0.0825}, metadata={'memory_slots': 4, 'global_phase': 0.0, 'n_qubits': 4, 'name': 'circuit-602', 'creg_sizes': [['c', 4]], 'clbit_labels': [['c', 0], ['c', 1], ['c', 2], ['c', 3]], 'qreg_sizes': [['q', 4]], 'qubit_labels': [['q', 0], ['q', 1], ['q', 2], ['q', 3]]}), header=QobjExperimentHeader(clbit_labels=[['c', 0], ['c', 1], ['c', 2], ['c', 3]], creg_sizes=[['c', 4]], global_phase=0.0, memory_slots=4, n_qubits=4, name='circuit-602', qreg_sizes=[['q', 4]], qubit_labels=[['q', 0], ['q', 1], ['q', 2], ['q', 3]])), ExperimentResult(shots=2000, success=True, meas_level=2, data=ExperimentResultData(counts={'0x0': 19, '0x1': 57, '0x2': 147, '0x4': 127, '0x5': 1, '0x6': 2, '0x7': 21, '0x8': 1331, '0x9': 25, '0xa': 4, '0xb': 24, '0xc': 24, '0xd': 167, '0xe': 48, '0xf': 3}, probabilities={'0x0': 0.008, '0x1': 0.029, '0x2': 0.08, '0x4': 0.068, '0x5': 0.0025, '0x6': 0.0015, '0x7': 0.009, '0x8': 0.6695, '0x9': 0.0085, '0xa': 0.0015, '0xb': 0.0085, '0xc': 0.011, '0xd': 0.0795, '0xe': 0.023, '0xf': 0.0005}, metadata={'memory_slots': 4, 'global_phase': 0.0, 'n_qubits': 4, 'name': 'circuit-605', 'creg_sizes': [['c', 4]], 'clbit_labels': [['c', 0], ['c', 1], ['c', 2], ['c', 3]], 'qreg_sizes': [['q', 4]], 'qubit_labels': [['q', 0], ['q', 1], ['q', 2], ['q', 3]]}), header=QobjExperimentHeader(clbit_labels=[['c', 0], ['c', 1], ['c', 2], ['c', 3]], creg_sizes=[['c', 4]], global_phase=0.0, memory_slots=4, n_qubits=4, name='circuit-605', qreg_sizes=[['q', 4]], qubit_labels=[['q', 0], ['q', 1], ['q', 2], ['q', 3]])), ExperimentResult(shots=2000, success=True, meas_level=2, data=ExperimentResultData(counts={'0x0': 10, '0x1': 2, '0x3': 170, '0x4': 1, '0x5': 159, '0x6': 44, '0x9': 45, '0xa': 151, '0xb': 18, '0xc': 3, '0xd': 18, '0xf': 1379}, probabilities={'0x0': 0.0075, '0x1': 0.0015, '0x3': 0.074, '0x4': 0.001, '0x5': 0.076, '0x6': 0.028, '0x9': 0.025, '0xa': 0.0765, '0xb': 0.012, '0xc': 0.0025, '0xd': 0.006, '0xf': 0.689}, metadata={'memory_slots': 4, 'global_phase': 0.0, 'n_qubits': 4, 'name': 'circuit-608', 'creg_sizes': [['c', 4]], 'clbit_labels': [['c', 0], ['c', 1], ['c', 2], ['c', 3]], 'qreg_sizes': [['q', 4]], 'qubit_labels': [['q', 0], ['q', 1], ['q', 2], ['q', 3]]}), header=QobjExperimentHeader(clbit_labels=[['c', 0], ['c', 1], ['c', 2], ['c', 3]], creg_sizes=[['c', 4]], global_phase=0.0, memory_slots=4, n_qubits=4, name='circuit-608', qreg_sizes=[['q', 4]], qubit_labels=[['q', 0], ['q', 1], ['q', 2], ['q', 3]])), ExperimentResult(shots=2000, success=True, meas_level=2, data=ExperimentResultData(counts={'0x0': 2, '0x1': 151, '0x2': 53, '0x4': 1345, '0x5': 15, '0x7': 8, '0x8': 158, '0xb': 25, '0xc': 2, '0xd': 61, '0xe': 180}, probabilities={'0x0': 0.001, '0x1': 0.075, '0x2': 0.024, '0x4': 0.6815, '0x5': 0.009, '0x7': 0.0035, '0x8': 0.0765, '0xb': 0.013, '0xc': 0.001, '0xd': 0.029, '0xe': 0.0855}, metadata={'memory_slots': 4, 'global_phase': 0.0, 'n_qubits': 4, 'name': 'circuit-611', 'creg_sizes': [['c', 4]], 'clbit_labels': [['c', 0], ['c', 1], ['c', 2], ['c', 3]], 'qreg_sizes': [['q', 4]], 'qubit_labels': [['q', 0], ['q', 1], ['q', 2], ['q', 3]]}), header=QobjExperimentHeader(clbit_labels=[['c', 0], ['c', 1], ['c', 2], ['c', 3]], creg_sizes=[['c', 4]], global_phase=0.0, memory_slots=4, n_qubits=4, name='circuit-611', qreg_sizes=[['q', 4]], qubit_labels=[['q', 0], ['q', 1], ['q', 2], ['q', 3]])), ExperimentResult(shots=2000, success=True, meas_level=2, data=ExperimentResultData(counts={'0x0': 119, '0x1': 17, '0x2': 3, '0x3': 60, '0x4': 18, '0x5': 1330, '0x6': 11, '0x7': 16, '0x8': 10, '0x9': 145, '0xa': 14, '0xc': 68, '0xd': 19, '0xf': 170}, probabilities={'0x0': 0.0705, '0x1': 0.008, '0x2': 0.0015, '0x3': 0.0275, '0x4': 0.0095, '0x5': 0.666, '0x6': 0.005, '0x7': 0.0065, '0x8': 0.004, '0x9': 0.075, '0xa': 0.0075, '0xc': 0.0275, '0xd': 0.0105, '0xf': 0.079}, metadata={'memory_slots': 4, 'global_phase': 0.0, 'n_qubits': 4, 'name': 'circuit-614', 'creg_sizes': [['c', 4]], 'clbit_labels': [['c', 0], ['c', 1], ['c', 2], ['c', 3]], 'qreg_sizes': [['q', 4]], 'qubit_labels': [['q', 0], ['q', 1], ['q', 2], ['q', 3]]}), header=QobjExperimentHeader(clbit_labels=[['c', 0], ['c', 1], ['c', 2], ['c', 3]], creg_sizes=[['c', 4]], global_phase=0.0, memory_slots=4, n_qubits=4, name='circuit-614', qreg_sizes=[['q', 4]], qubit_labels=[['q', 0], ['q', 1], ['q', 2], ['q', 3]])), ExperimentResult(shots=2000, success=True, meas_level=2, data=ExperimentResultData(counts={'0x1': 159, '0x2': 18, '0x3': 4, '0x4': 21, '0x5': 1, '0x7': 101, '0x8': 2, '0x9': 15, '0xb': 1501, '0xd': 15, '0xe': 163}, probabilities={'0x1': 0.0755, '0x2': 0.011, '0x3': 0.0015, '0x4': 0.0095, '0x5': 0.0005, '0x7': 0.0435, '0x8': 0.0015, '0x9': 0.01, '0xb': 0.7485, '0xd': 0.0135, '0xe': 0.084}, metadata={'memory_slots': 4, 'global_phase': 0.0, 'n_qubits': 4, 'name': 'circuit-617', 'creg_sizes': [['c', 4]], 'clbit_labels': [['c', 0], ['c', 1], ['c', 2], ['c', 3]], 'qreg_sizes': [['q', 4]], 'qubit_labels': [['q', 0], ['q', 1], ['q', 2], ['q', 3]]}), header=QobjExperimentHeader(clbit_labels=[['c', 0], ['c', 1], ['c', 2], ['c', 3]], creg_sizes=[['c', 4]], global_phase=0.0, memory_slots=4, n_qubits=4, name='circuit-617', qreg_sizes=[['q', 4]], qubit_labels=[['q', 0], ['q', 1], ['q', 2], ['q', 3]])), ExperimentResult(shots=2000, success=True, meas_level=2, data=ExperimentResultData(counts={'0x0': 104, '0x3': 157, '0x5': 263, '0x6': 28, '0x9': 1144, '0xa': 21, '0xc': 167, '0xf': 116}, probabilities={'0x0': 0.0485, '0x3': 0.0765, '0x5': 0.1245, '0x6': 0.0135, '0x9': 0.5825, '0xa': 0.0095, '0xc': 0.0885, '0xf': 0.0565}, metadata={'memory_slots': 4, 'global_phase': 0.0, 'n_qubits': 4, 'name': 'circuit-620', 'creg_sizes': [['c', 4]], 'clbit_labels': [['c', 0], ['c', 1], ['c', 2], ['c', 3]], 'qreg_sizes': [['q', 4]], 'qubit_labels': [['q', 0], ['q', 1], ['q', 2], ['q', 3]]}), header=QobjExperimentHeader(clbit_labels=[['c', 0], ['c', 1], ['c', 2], ['c', 3]], creg_sizes=[['c', 4]], global_phase=0.0, memory_slots=4, n_qubits=4, name='circuit-620', qreg_sizes=[['q', 4]], qubit_labels=[['q', 0], ['q', 1], ['q', 2], ['q', 3]])), ExperimentResult(shots=2000, success=True, meas_level=2, data=ExperimentResultData(counts={'0x0': 1238, '0x1': 16, '0x3': 11, '0x4': 1, '0x5': 173, '0x6': 75, '0x8': 5, '0x9': 65, '0xa': 164, '0xb': 1, '0xc': 226, '0xd': 4, '0xf': 21}, probabilities={'0x0': 0.621, '0x1': 0.007, '0x3': 0.0055, '0x4': 0.0005, '0x5': 0.0755, '0x6': 0.0335, '0x8': 0.007, '0x9': 0.035, '0xa': 0.0915, '0xb': 0.0005, '0xc': 0.104, '0xd': 0.003, '0xf': 0.0155}, metadata={'memory_slots': 4, 'global_phase': 0.0, 'n_qubits': 4, 'name': 'circuit-623', 'creg_sizes': [['c', 4]], 'clbit_labels': [['c', 0], ['c', 1], ['c', 2], ['c', 3]], 'qreg_sizes': [['q', 4]], 'qubit_labels': [['q', 0], ['q', 1], ['q', 2], ['q', 3]]}), header=QobjExperimentHeader(clbit_labels=[['c', 0], ['c', 1], ['c', 2], ['c', 3]], creg_sizes=[['c', 4]], global_phase=0.0, memory_slots=4, n_qubits=4, name='circuit-623', qreg_sizes=[['q', 4]], qubit_labels=[['q', 0], ['q', 1], ['q', 2], ['q', 3]])), ExperimentResult(shots=2000, success=True, meas_level=2, data=ExperimentResultData(counts={'0x0': 1394, '0x3': 4, '0x5': 144, '0x6': 68, '0x9': 65, '0xa': 141, '0xc': 173, '0xf': 11}, probabilities={'0x0': 0.6935, '0x3': 0.0035, '0x5': 0.066, '0x6': 0.034, '0x9': 0.0315, '0xa': 0.0845, '0xc': 0.0795, '0xf': 0.0075}, metadata={'memory_slots': 4, 'global_phase': 0.0, 'n_qubits': 4, 'name': 'circuit-626', 'creg_sizes': [['c', 4]], 'clbit_labels': [['c', 0], ['c', 1], ['c', 2], ['c', 3]], 'qreg_sizes': [['q', 4]], 'qubit_labels': [['q', 0], ['q', 1], ['q', 2], ['q', 3]]}), header=QobjExperimentHeader(clbit_labels=[['c', 0], ['c', 1], ['c', 2], ['c', 3]], creg_sizes=[['c', 4]], global_phase=0.0, memory_slots=4, n_qubits=4, name='circuit-626', qreg_sizes=[['q', 4]], qubit_labels=[['q', 0], ['q', 1], ['q', 2], ['q', 3]])), ExperimentResult(shots=2000, success=True, meas_level=2, data=ExperimentResultData(counts={'0x1': 71, '0x2': 158, '0x4': 13, '0x5': 10, '0x6': 3, '0x7': 1253, '0x8': 12, '0xb': 213, '0xc': 1, '0xd': 173, '0xe': 88, '0xf': 5}, probabilities={'0x1': 0.036, '0x2': 0.0845, '0x4': 0.006, '0x5': 0.004, '0x6': 0.001, '0x7': 0.6245, '0x8': 0.0095, '0xb': 0.1, '0xc': 0.0005, '0xd': 0.0925, '0xe': 0.0385, '0xf': 0.002}, metadata={'memory_slots': 4, 'global_phase': 0.0, 'n_qubits': 4, 'name': 'circuit-629', 'creg_sizes': [['c', 4]], 'clbit_labels': [['c', 0], ['c', 1], ['c', 2], ['c', 3]], 'qreg_sizes': [['q', 4]], 'qubit_labels': [['q', 0], ['q', 1], ['q', 2], ['q', 3]]}), header=QobjExperimentHeader(clbit_labels=[['c', 0], ['c', 1], ['c', 2], ['c', 3]], creg_sizes=[['c', 4]], global_phase=0.0, memory_slots=4, n_qubits=4, name='circuit-629', qreg_sizes=[['q', 4]], qubit_labels=[['q', 0], ['q', 1], ['q', 2], ['q', 3]])), ExperimentResult(shots=2000, success=True, meas_level=2, data=ExperimentResultData(counts={'0x0': 10, '0x1': 15, '0x3': 1302, '0x4': 6, '0x5': 47, '0x6': 148, '0x7': 1, '0x8': 1, '0x9': 181, '0xa': 55, '0xb': 26, '0xc': 22, '0xd': 6, '0xe': 3, '0xf': 177}, probabilities={'0x0': 0.004, '0x1': 0.007, '0x3': 0.664, '0x4': 0.0035, '0x5': 0.028, '0x6': 0.0785, '0x7': 0.0005, '0x8': 0.0005, '0x9': 0.0755, '0xa': 0.028, '0xb': 0.011, '0xc': 0.009, '0xd': 0.002, '0xe': 0.0015, '0xf': 0.087}, metadata={'memory_slots': 4, 'global_phase': 0.0, 'n_qubits': 4, 'name': 'circuit-632', 'creg_sizes': [['c', 4]], 'clbit_labels': [['c', 0], ['c', 1], ['c', 2], ['c', 3]], 'qreg_sizes': [['q', 4]], 'qubit_labels': [['q', 0], ['q', 1], ['q', 2], ['q', 3]]}), header=QobjExperimentHeader(clbit_labels=[['c', 0], ['c', 1], ['c', 2], ['c', 3]], creg_sizes=[['c', 4]], global_phase=0.0, memory_slots=4, n_qubits=4, name='circuit-632', qreg_sizes=[['q', 4]], qubit_labels=[['q', 0], ['q', 1], ['q', 2], ['q', 3]])), ExperimentResult(shots=2000, success=True, meas_level=2, data=ExperimentResultData(counts={'0x0': 8, '0x1': 61, '0x2': 163, '0x4': 212, '0x7': 24, '0x8': 1261, '0xa': 2, '0xb': 19, '0xc': 1, '0xd': 171, '0xe': 78}, probabilities={'0x0': 0.005, '0x1': 0.0375, '0x2': 0.0835, '0x4': 0.106, '0x7': 0.0095, '0x8': 0.6235, '0xa': 0.001, '0xb': 0.0085, '0xc': 0.0005, '0xd': 0.087, '0xe': 0.0365}, metadata={'memory_slots': 4, 'global_phase': 0.0, 'n_qubits': 4, 'name': 'circuit-635', 'creg_sizes': [['c', 4]], 'clbit_labels': [['c', 0], ['c', 1], ['c', 2], ['c', 3]], 'qreg_sizes': [['q', 4]], 'qubit_labels': [['q', 0], ['q', 1], ['q', 2], ['q', 3]]}), header=QobjExperimentHeader(clbit_labels=[['c', 0], ['c', 1], ['c', 2], ['c', 3]], creg_sizes=[['c', 4]], global_phase=0.0, memory_slots=4, n_qubits=4, name='circuit-635', qreg_sizes=[['q', 4]], qubit_labels=[['q', 0], ['q', 1], ['q', 2], ['q', 3]])), ExperimentResult(shots=2000, success=True, meas_level=2, data=ExperimentResultData(counts={'0x0': 51, '0x1': 12, '0x3': 171, '0x4': 2, '0x5': 149, '0x6': 8, '0x7': 1, '0x9': 1342, '0xa': 11, '0xb': 16, '0xc': 182, '0xe': 3, '0xf': 52}, probabilities={'0x0': 0.0205, '0x1': 0.009, '0x3': 0.0745, '0x4': 0.001, '0x5': 0.081, '0x6': 0.006, '0x7': 0.0005, '0x9': 0.6775, '0xa': 0.007, '0xb': 0.009, '0xc': 0.0865, '0xe': 0.0015, '0xf': 0.025}, metadata={'memory_slots': 4, 'global_phase': 0.0, 'n_qubits': 4, 'name': 'circuit-638', 'creg_sizes': [['c', 4]], 'clbit_labels': [['c', 0], ['c', 1], ['c', 2], ['c', 3]], 'qreg_sizes': [['q', 4]], 'qubit_labels': [['q', 0], ['q', 1], ['q', 2], ['q', 3]]}), header=QobjExperimentHeader(clbit_labels=[['c', 0], ['c', 1], ['c', 2], ['c', 3]], creg_sizes=[['c', 4]], global_phase=0.0, memory_slots=4, n_qubits=4, name='circuit-638', qreg_sizes=[['q', 4]], qubit_labels=[['q', 0], ['q', 1], ['q', 2], ['q', 3]])), ExperimentResult(shots=2000, success=True, meas_level=2, data=ExperimentResultData(counts={'0x0': 2, '0x1': 154, '0x2': 51, '0x4': 1369, '0x5': 15, '0x7': 14, '0x8': 138, '0xb': 20, '0xd': 67, '0xe': 167, '0xf': 3}, probabilities={'0x0': 0.001, '0x1': 0.0765, '0x2': 0.0275, '0x4': 0.678, '0x5': 0.007, '0x7': 0.008, '0x8': 0.075, '0xb': 0.011, '0xd': 0.028, '0xe': 0.0875, '0xf': 0.0005}, metadata={'memory_slots': 4, 'global_phase': 0.0, 'n_qubits': 4, 'name': 'circuit-641', 'creg_sizes': [['c', 4]], 'clbit_labels': [['c', 0], ['c', 1], ['c', 2], ['c', 3]], 'qreg_sizes': [['q', 4]], 'qubit_labels': [['q', 0], ['q', 1], ['q', 2], ['q', 3]]}), header=QobjExperimentHeader(clbit_labels=[['c', 0], ['c', 1], ['c', 2], ['c', 3]], creg_sizes=[['c', 4]], global_phase=0.0, memory_slots=4, n_qubits=4, name='circuit-641', qreg_sizes=[['q', 4]], qubit_labels=[['q', 0], ['q', 1], ['q', 2], ['q', 3]])), ExperimentResult(shots=2000, success=True, meas_level=2, data=ExperimentResultData(counts={'0x0': 143, '0x1': 3, '0x2': 2, '0x3': 58, '0x4': 26, '0x5': 1322, '0x6': 13, '0x7': 1, '0x8': 4, '0x9': 165, '0xa': 26, '0xc': 48, '0xd': 17, '0xe': 1, '0xf': 171}, probabilities={'0x0': 0.077, '0x1': 0.001, '0x2': 0.0015, '0x3': 0.032, '0x4': 0.012, '0x5': 0.656, '0x6': 0.006, '0x7': 0.0005, '0x8': 0.0035, '0x9': 0.083, '0xa': 0.014, '0xc': 0.0255, '0xd': 0.0085, '0xe': 0.0005, '0xf': 0.0785}, metadata={'memory_slots': 4, 'global_phase': 0.0, 'n_qubits': 4, 'name': 'circuit-644', 'creg_sizes': [['c', 4]], 'clbit_labels': [['c', 0], ['c', 1], ['c', 2], ['c', 3]], 'qreg_sizes': [['q', 4]], 'qubit_labels': [['q', 0], ['q', 1], ['q', 2], ['q', 3]]}), header=QobjExperimentHeader(clbit_labels=[['c', 0], ['c', 1], ['c', 2], ['c', 3]], creg_sizes=[['c', 4]], global_phase=0.0, memory_slots=4, n_qubits=4, name='circuit-644', qreg_sizes=[['q', 4]], qubit_labels=[['q', 0], ['q', 1], ['q', 2], ['q', 3]])), ExperimentResult(shots=2000, success=True, meas_level=2, data=ExperimentResultData(counts={'0x0': 3, '0x1': 2, '0x2': 1386, '0x4': 52, '0x5': 2, '0x6': 2, '0x7': 142, '0x8': 141, '0xa': 13, '0xb': 49, '0xd': 29, '0xe': 175, '0xf': 4}, probabilities={'0x0': 0.0015, '0x1': 0.002, '0x2': 0.695, '0x4': 0.021, '0x5': 0.0005, '0x6': 0.0015, '0x7': 0.073, '0x8': 0.074, '0xa': 0.0075, '0xb': 0.027, '0xd': 0.011, '0xe': 0.0845, '0xf': 0.0015}, metadata={'memory_slots': 4, 'global_phase': 0.0, 'n_qubits': 4, 'name': 'circuit-647', 'creg_sizes': [['c', 4]], 'clbit_labels': [['c', 0], ['c', 1], ['c', 2], ['c', 3]], 'qreg_sizes': [['q', 4]], 'qubit_labels': [['q', 0], ['q', 1], ['q', 2], ['q', 3]]}), header=QobjExperimentHeader(clbit_labels=[['c', 0], ['c', 1], ['c', 2], ['c', 3]], creg_sizes=[['c', 4]], global_phase=0.0, memory_slots=4, n_qubits=4, name='circuit-647', qreg_sizes=[['q', 4]], qubit_labels=[['q', 0], ['q', 1], ['q', 2], ['q', 3]])), ExperimentResult(shots=2000, success=True, meas_level=2, data=ExperimentResultData(counts={'0x0': 3, '0x1': 106, '0x2': 143, '0x4': 268, '0x5': 3, '0x7': 28, '0x8': 1124, '0xb': 20, '0xc': 3, '0xd': 205, '0xe': 97}, probabilities={'0x0': 0.0045, '0x1': 0.048, '0x2': 0.084, '0x4': 0.131, '0x5': 0.0005, '0x7': 0.0135, '0x8': 0.5585, '0xb': 0.013, '0xc': 0.0015, '0xd': 0.0945, '0xe': 0.0505}, metadata={'memory_slots': 4, 'global_phase': 0.0, 'n_qubits': 4, 'name': 'circuit-650', 'creg_sizes': [['c', 4]], 'clbit_labels': [['c', 0], ['c', 1], ['c', 2], ['c', 3]], 'qreg_sizes': [['q', 4]], 'qubit_labels': [['q', 0], ['q', 1], ['q', 2], ['q', 3]]}), header=QobjExperimentHeader(clbit_labels=[['c', 0], ['c', 1], ['c', 2], ['c', 3]], creg_sizes=[['c', 4]], global_phase=0.0, memory_slots=4, n_qubits=4, name='circuit-650', qreg_sizes=[['q', 4]], qubit_labels=[['q', 0], ['q', 1], ['q', 2], ['q', 3]])), ExperimentResult(shots=2000, success=True, meas_level=2, data=ExperimentResultData(counts={'0x0': 15, '0x1': 26, '0x2': 1, '0x3': 1223, '0x4': 1, '0x5': 71, '0x6': 155, '0x7': 16, '0x8': 1, '0x9': 181, '0xa': 71, '0xb': 4, '0xc': 26, '0xd': 2, '0xf': 207}, probabilities={'0x0': 0.007, '0x1': 0.011, '0x2': 0.0005, '0x3': 0.612, '0x4': 0.001, '0x5': 0.04, '0x6': 0.0765, '0x7': 0.0075, '0x8': 0.0005, '0x9': 0.0815, '0xa': 0.0375, '0xb': 0.0025, '0xc': 0.013, '0xd': 0.002, '0xf': 0.1075}, metadata={'memory_slots': 4, 'global_phase': 0.0, 'n_qubits': 4, 'name': 'circuit-653', 'creg_sizes': [['c', 4]], 'clbit_labels': [['c', 0], ['c', 1], ['c', 2], ['c', 3]], 'qreg_sizes': [['q', 4]], 'qubit_labels': [['q', 0], ['q', 1], ['q', 2], ['q', 3]]}), header=QobjExperimentHeader(clbit_labels=[['c', 0], ['c', 1], ['c', 2], ['c', 3]], creg_sizes=[['c', 4]], global_phase=0.0, memory_slots=4, n_qubits=4, name='circuit-653', qreg_sizes=[['q', 4]], qubit_labels=[['q', 0], ['q', 1], ['q', 2], ['q', 3]])), ExperimentResult(shots=2000, success=True, meas_level=2, data=ExperimentResultData(counts={'0x0': 59, '0x1': 5, '0x2': 10, '0x3': 174, '0x4': 11, '0x5': 24, '0x6': 1174, '0x7': 8, '0x8': 1, '0x9': 24, '0xa': 231, '0xb': 1, '0xc': 184, '0xd': 3, '0xe': 3, '0xf': 88}, probabilities={'0x0': 0.0315, '0x1': 0.0025, '0x2': 0.003, '0x3': 0.084, '0x4': 0.0065, '0x5': 0.0095, '0x6': 0.603, '0x7': 0.0055, '0x8': 0.0005, '0x9': 0.0095, '0xa': 0.1065, '0xb': 0.0005, '0xc': 0.095, '0xd': 0.003, '0xe': 0.0015, '0xf': 0.038}, metadata={'memory_slots': 4, 'global_phase': 0.0, 'n_qubits': 4, 'name': 'circuit-656', 'creg_sizes': [['c', 4]], 'clbit_labels': [['c', 0], ['c', 1], ['c', 2], ['c', 3]], 'qreg_sizes': [['q', 4]], 'qubit_labels': [['q', 0], ['q', 1], ['q', 2], ['q', 3]]}), header=QobjExperimentHeader(clbit_labels=[['c', 0], ['c', 1], ['c', 2], ['c', 3]], creg_sizes=[['c', 4]], global_phase=0.0, memory_slots=4, n_qubits=4, name='circuit-656', qreg_sizes=[['q', 4]], qubit_labels=[['q', 0], ['q', 1], ['q', 2], ['q', 3]])), ExperimentResult(shots=2000, success=True, meas_level=2, data=ExperimentResultData(counts={'0x0': 51, '0x1': 3, '0x2': 1, '0x3': 151, '0x4': 8, '0x5': 23, '0x6': 1252, '0x7': 22, '0x8': 1, '0x9': 14, '0xa': 218, '0xc': 170, '0xe': 2, '0xf': 84}, probabilities={'0x0': 0.03, '0x1': 0.002, '0x2': 0.002, '0x3': 0.083, '0x4': 0.005, '0x5': 0.0125, '0x6': 0.6085, '0x7': 0.008, '0x8': 0.001, '0x9': 0.01, '0xa': 0.11, '0xc': 0.088, '0xe': 0.0005, '0xf': 0.039}, metadata={'memory_slots': 4, 'global_phase': 0.0, 'n_qubits': 4, 'name': 'circuit-659', 'creg_sizes': [['c', 4]], 'clbit_labels': [['c', 0], ['c', 1], ['c', 2], ['c', 3]], 'qreg_sizes': [['q', 4]], 'qubit_labels': [['q', 0], ['q', 1], ['q', 2], ['q', 3]]}), header=QobjExperimentHeader(clbit_labels=[['c', 0], ['c', 1], ['c', 2], ['c', 3]], creg_sizes=[['c', 4]], global_phase=0.0, memory_slots=4, n_qubits=4, name='circuit-659', qreg_sizes=[['q', 4]], qubit_labels=[['q', 0], ['q', 1], ['q', 2], ['q', 3]])), ExperimentResult(shots=2000, success=True, meas_level=2, data=ExperimentResultData(counts={'0x0': 1089, '0x1': 11, '0x2': 23, '0x3': 29, '0x4': 14, '0x5': 149, '0x6': 105, '0x7': 3, '0x8': 29, '0x9': 89, '0xa': 153, '0xb': 2, '0xc': 269, '0xd': 5, '0xe': 2, '0xf': 28}, probabilities={'0x0': 0.5425, '0x1': 0.0055, '0x2': 0.012, '0x3': 0.012, '0x4': 0.009, '0x5': 0.082, '0x6': 0.0515, '0x7': 0.0025, '0x8': 0.012, '0x9': 0.04, '0xa': 0.08, '0xb': 0.0025, '0xc': 0.1325, '0xd': 0.0015, '0xe': 0.0015, '0xf': 0.013}, metadata={'memory_slots': 4, 'global_phase': 0.0, 'n_qubits': 4, 'name': 'circuit-662', 'creg_sizes': [['c', 4]], 'clbit_labels': [['c', 0], ['c', 1], ['c', 2], ['c', 3]], 'qreg_sizes': [['q', 4]], 'qubit_labels': [['q', 0], ['q', 1], ['q', 2], ['q', 3]]}), header=QobjExperimentHeader(clbit_labels=[['c', 0], ['c', 1], ['c', 2], ['c', 3]], creg_sizes=[['c', 4]], global_phase=0.0, memory_slots=4, n_qubits=4, name='circuit-662', qreg_sizes=[['q', 4]], qubit_labels=[['q', 0], ['q', 1], ['q', 2], ['q', 3]])), ExperimentResult(shots=2000, success=True, meas_level=2, data=ExperimentResultData(counts={'0x0': 12, '0x1': 184, '0x2': 63, '0x4': 1212, '0x5': 3, '0x6': 18, '0x7': 9, '0x8': 218, '0xa': 1, '0xb': 35, '0xc': 23, '0xd': 66, '0xe': 156}, probabilities={'0x0': 0.0075, '0x1': 0.0835, '0x2': 0.032, '0x4': 0.606, '0x5': 0.0015, '0x6': 0.009, '0x7': 0.0065, '0x8': 0.105, '0xa': 0.001, '0xb': 0.0155, '0xc': 0.01, '0xd': 0.0365, '0xe': 0.0845}, metadata={'memory_slots': 4, 'global_phase': 0.0, 'n_qubits': 4, 'name': 'circuit-665', 'creg_sizes': [['c', 4]], 'clbit_labels': [['c', 0], ['c', 1], ['c', 2], ['c', 3]], 'qreg_sizes': [['q', 4]], 'qubit_labels': [['q', 0], ['q', 1], ['q', 2], ['q', 3]]}), header=QobjExperimentHeader(clbit_labels=[['c', 0], ['c', 1], ['c', 2], ['c', 3]], creg_sizes=[['c', 4]], global_phase=0.0, memory_slots=4, n_qubits=4, name='circuit-665', qreg_sizes=[['q', 4]], qubit_labels=[['q', 0], ['q', 1], ['q', 2], ['q', 3]])), ExperimentResult(shots=2000, success=True, meas_level=2, data=ExperimentResultData(counts={'0x0': 212, '0x1': 3, '0x2': 1, '0x3': 24, '0x4': 25, '0x5': 89, '0x6': 166, '0x9': 156, '0xa': 60, '0xb': 4, '0xc': 1236, '0xe': 11, '0xf': 13}, probabilities={'0x0': 0.1055, '0x1': 0.0015, '0x2': 0.0005, '0x3': 0.0095, '0x4': 0.0095, '0x5': 0.044, '0x6': 0.0785, '0x9': 0.079, '0xa': 0.034, '0xb': 0.0015, '0xc': 0.622, '0xe': 0.0065, '0xf': 0.0075}, metadata={'memory_slots': 4, 'global_phase': 0.0, 'n_qubits': 4, 'name': 'circuit-668', 'creg_sizes': [['c', 4]], 'clbit_labels': [['c', 0], ['c', 1], ['c', 2], ['c', 3]], 'qreg_sizes': [['q', 4]], 'qubit_labels': [['q', 0], ['q', 1], ['q', 2], ['q', 3]]}), header=QobjExperimentHeader(clbit_labels=[['c', 0], ['c', 1], ['c', 2], ['c', 3]], creg_sizes=[['c', 4]], global_phase=0.0, memory_slots=4, n_qubits=4, name='circuit-668', qreg_sizes=[['q', 4]], qubit_labels=[['q', 0], ['q', 1], ['q', 2], ['q', 3]])), ExperimentResult(shots=2000, success=True, meas_level=2, data=ExperimentResultData(counts={'0x0': 82, '0x1': 2, '0x2': 9, '0x3': 167, '0x4': 13, '0x5': 28, '0x6': 1094, '0x8': 1, '0x9': 18, '0xa': 291, '0xc': 197, '0xe': 18, '0xf': 80}, probabilities={'0x0': 0.0435, '0x1': 0.001, '0x2': 0.0035, '0x3': 0.089, '0x4': 0.008, '0x5': 0.0115, '0x6': 0.5615, '0x8': 0.0015, '0x9': 0.0095, '0xa': 0.128, '0xc': 0.087, '0xe': 0.007, '0xf': 0.047}, metadata={'memory_slots': 4, 'global_phase': 0.0, 'n_qubits': 4, 'name': 'circuit-671', 'creg_sizes': [['c', 4]], 'clbit_labels': [['c', 0], ['c', 1], ['c', 2], ['c', 3]], 'qreg_sizes': [['q', 4]], 'qubit_labels': [['q', 0], ['q', 1], ['q', 2], ['q', 3]]}), header=QobjExperimentHeader(clbit_labels=[['c', 0], ['c', 1], ['c', 2], ['c', 3]], creg_sizes=[['c', 4]], global_phase=0.0, memory_slots=4, n_qubits=4, name='circuit-671', qreg_sizes=[['q', 4]], qubit_labels=[['q', 0], ['q', 1], ['q', 2], ['q', 3]])), ExperimentResult(shots=2000, success=True, meas_level=2, data=ExperimentResultData(counts={'0x1': 163, '0x2': 15, '0x3': 1, '0x4': 40, '0x7': 155, '0x8': 148, '0x9': 15, '0xb': 49, '0xd': 1405, '0xe': 9}, probabilities={'0x1': 0.0775, '0x2': 0.007, '0x3': 0.001, '0x4': 0.0235, '0x7': 0.079, '0x8': 0.0735, '0x9': 0.0075, '0xb': 0.0335, '0xd': 0.691, '0xe': 0.0055}, metadata={'memory_slots': 4, 'global_phase': 0.0, 'n_qubits': 4, 'name': 'circuit-674', 'creg_sizes': [['c', 4]], 'clbit_labels': [['c', 0], ['c', 1], ['c', 2], ['c', 3]], 'qreg_sizes': [['q', 4]], 'qubit_labels': [['q', 0], ['q', 1], ['q', 2], ['q', 3]]}), header=QobjExperimentHeader(clbit_labels=[['c', 0], ['c', 1], ['c', 2], ['c', 3]], creg_sizes=[['c', 4]], global_phase=0.0, memory_slots=4, n_qubits=4, name='circuit-674', qreg_sizes=[['q', 4]], qubit_labels=[['q', 0], ['q', 1], ['q', 2], ['q', 3]])), ExperimentResult(shots=2000, success=True, meas_level=2, data=ExperimentResultData(counts={'0x0': 6, '0x1': 135, '0x2': 91, '0x3': 1, '0x4': 1133, '0x5': 22, '0x7': 32, '0x8': 276, '0x9': 1, '0xa': 2, '0xb': 27, '0xc': 1, '0xd': 101, '0xe': 172}, probabilities={'0x0': 0.002, '0x1': 0.0765, '0x2': 0.0475, '0x3': 0.0005, '0x4': 0.562, '0x5': 0.0065, '0x7': 0.0125, '0x8': 0.14, '0x9': 0.0005, '0xa': 0.0005, '0xb': 0.0145, '0xc': 0.001, '0xd': 0.0525, '0xe': 0.082}, metadata={'memory_slots': 4, 'global_phase': 0.0, 'n_qubits': 4, 'name': 'circuit-677', 'creg_sizes': [['c', 4]], 'clbit_labels': [['c', 0], ['c', 1], ['c', 2], ['c', 3]], 'qreg_sizes': [['q', 4]], 'qubit_labels': [['q', 0], ['q', 1], ['q', 2], ['q', 3]]}), header=QobjExperimentHeader(clbit_labels=[['c', 0], ['c', 1], ['c', 2], ['c', 3]], creg_sizes=[['c', 4]], global_phase=0.0, memory_slots=4, n_qubits=4, name='circuit-677', qreg_sizes=[['q', 4]], qubit_labels=[['q', 0], ['q', 1], ['q', 2], ['q', 3]])), ExperimentResult(shots=2000, success=True, meas_level=2, data=ExperimentResultData(counts={'0x0': 20, '0x1': 9, '0x2': 19, '0x3': 1087, '0x4': 2, '0x5': 103, '0x6': 155, '0x7': 1, '0x8': 6, '0x9': 171, '0xa': 98, '0xb': 3, '0xc': 43, '0xd': 6, '0xe': 13, '0xf': 264}, probabilities={'0x0': 0.0095, '0x1': 0.005, '0x2': 0.0055, '0x3': 0.5565, '0x4': 0.0005, '0x5': 0.0485, '0x6': 0.0815, '0x7': 0.001, '0x8': 0.003, '0x9': 0.08, '0xa': 0.0465, '0xb': 0.001, '0xc': 0.0185, '0xd': 0.002, '0xe': 0.004, '0xf': 0.137}, metadata={'memory_slots': 4, 'global_phase': 0.0, 'n_qubits': 4, 'name': 'circuit-680', 'creg_sizes': [['c', 4]], 'clbit_labels': [['c', 0], ['c', 1], ['c', 2], ['c', 3]], 'qreg_sizes': [['q', 4]], 'qubit_labels': [['q', 0], ['q', 1], ['q', 2], ['q', 3]]}), header=QobjExperimentHeader(clbit_labels=[['c', 0], ['c', 1], ['c', 2], ['c', 3]], creg_sizes=[['c', 4]], global_phase=0.0, memory_slots=4, n_qubits=4, name='circuit-680', qreg_sizes=[['q', 4]], qubit_labels=[['q', 0], ['q', 1], ['q', 2], ['q', 3]])), ExperimentResult(shots=2000, success=True, meas_level=2, data=ExperimentResultData(counts={'0x1': 80, '0x2': 185, '0x4': 254, '0x5': 1, '0x7': 21, '0x8': 1122, '0x9': 14, '0xb': 17, '0xc': 3, '0xd': 210, '0xe': 92, '0xf': 1}, probabilities={'0x1': 0.047, '0x2': 0.0865, '0x4': 0.126, '0x5': 0.001, '0x7': 0.0145, '0x8': 0.561, '0x9': 0.006, '0xb': 0.013, '0xc': 0.0015, '0xd': 0.0955, '0xe': 0.047, '0xf': 0.0005}, metadata={'memory_slots': 4, 'global_phase': 0.0, 'n_qubits': 4, 'name': 'circuit-683', 'creg_sizes': [['c', 4]], 'clbit_labels': [['c', 0], ['c', 1], ['c', 2], ['c', 3]], 'qreg_sizes': [['q', 4]], 'qubit_labels': [['q', 0], ['q', 1], ['q', 2], ['q', 3]]}), header=QobjExperimentHeader(clbit_labels=[['c', 0], ['c', 1], ['c', 2], ['c', 3]], creg_sizes=[['c', 4]], global_phase=0.0, memory_slots=4, n_qubits=4, name='circuit-683', qreg_sizes=[['q', 4]], qubit_labels=[['q', 0], ['q', 1], ['q', 2], ['q', 3]])), ExperimentResult(shots=2000, success=True, meas_level=2, data=ExperimentResultData(counts={'0x1': 178, '0x2': 91, '0x3': 19, '0x4': 31, '0x5': 14, '0x6': 2, '0x7': 239, '0x8': 17, '0x9': 17, '0xb': 1099, '0xd': 97, '0xe': 181, '0xf': 15}, probabilities={'0x1': 0.0825, '0x2': 0.0445, '0x3': 0.0085, '0x4': 0.015, '0x5': 0.0055, '0x6': 0.002, '0x7': 0.124, '0x8': 0.0065, '0x9': 0.006, '0xb': 0.559, '0xd': 0.0455, '0xe': 0.092, '0xf': 0.008}, metadata={'memory_slots': 4, 'global_phase': 0.0, 'n_qubits': 4, 'name': 'circuit-686', 'creg_sizes': [['c', 4]], 'clbit_labels': [['c', 0], ['c', 1], ['c', 2], ['c', 3]], 'qreg_sizes': [['q', 4]], 'qubit_labels': [['q', 0], ['q', 1], ['q', 2], ['q', 3]]}), header=QobjExperimentHeader(clbit_labels=[['c', 0], ['c', 1], ['c', 2], ['c', 3]], creg_sizes=[['c', 4]], global_phase=0.0, memory_slots=4, n_qubits=4, name='circuit-686', qreg_sizes=[['q', 4]], qubit_labels=[['q', 0], ['q', 1], ['q', 2], ['q', 3]])), ExperimentResult(shots=2000, success=True, meas_level=2, data=ExperimentResultData(counts={'0x1': 323, '0x2': 29, '0x4': 141, '0x5': 4, '0x7': 169, '0x8': 188, '0xa': 9, '0xb': 134, '0xd': 944, '0xe': 45, '0xf': 14}, probabilities={'0x1': 0.158, '0x2': 0.0185, '0x4': 0.066, '0x5': 0.0025, '0x7': 0.0865, '0x8': 0.095, '0xa': 0.0025, '0xb': 0.0645, '0xd': 0.481, '0xe': 0.0195, '0xf': 0.005}, metadata={'memory_slots': 4, 'global_phase': 0.0, 'n_qubits': 4, 'name': 'circuit-689', 'creg_sizes': [['c', 4]], 'clbit_labels': [['c', 0], ['c', 1], ['c', 2], ['c', 3]], 'qreg_sizes': [['q', 4]], 'qubit_labels': [['q', 0], ['q', 1], ['q', 2], ['q', 3]]}), header=QobjExperimentHeader(clbit_labels=[['c', 0], ['c', 1], ['c', 2], ['c', 3]], creg_sizes=[['c', 4]], global_phase=0.0, memory_slots=4, n_qubits=4, name='circuit-689', qreg_sizes=[['q', 4]], qubit_labels=[['q', 0], ['q', 1], ['q', 2], ['q', 3]])), ExperimentResult(shots=2000, success=True, meas_level=2, data=ExperimentResultData(counts={'0x0': 1, '0x1': 35, '0x2': 322, '0x3': 2, '0x4': 153, '0x7': 83, '0x8': 104, '0xa': 3, '0xb': 188, '0xd': 41, '0xe': 1059, '0xf': 9}, probabilities={'0x0': 0.0005, '0x1': 0.015, '0x2': 0.159, '0x3': 0.002, '0x4': 0.085, '0x7': 0.0425, '0x8': 0.0545, '0xa': 0.0015, '0xb': 0.0915, '0xd': 0.0185, '0xe': 0.5235, '0xf': 0.006}, metadata={'memory_slots': 4, 'global_phase': 0.0, 'n_qubits': 4, 'name': 'circuit-692', 'creg_sizes': [['c', 4]], 'clbit_labels': [['c', 0], ['c', 1], ['c', 2], ['c', 3]], 'qreg_sizes': [['q', 4]], 'qubit_labels': [['q', 0], ['q', 1], ['q', 2], ['q', 3]]}), header=QobjExperimentHeader(clbit_labels=[['c', 0], ['c', 1], ['c', 2], ['c', 3]], creg_sizes=[['c', 4]], global_phase=0.0, memory_slots=4, n_qubits=4, name='circuit-692', qreg_sizes=[['q', 4]], qubit_labels=[['q', 0], ['q', 1], ['q', 2], ['q', 3]])), ExperimentResult(shots=2000, success=True, meas_level=2, data=ExperimentResultData(counts={'0x0': 38, '0x1': 4, '0x2': 7, '0x3': 352, '0x4': 6, '0x5': 172, '0x6': 123, '0x8': 2, '0x9': 153, '0xa': 179, '0xb': 7, '0xc': 35, '0xd': 15, '0xe': 6, '0xf': 901}, probabilities={'0x0': 0.021, '0x1': 0.002, '0x2': 0.0015, '0x3': 0.1735, '0x4': 0.003, '0x5': 0.091, '0x6': 0.0615, '0x8': 0.0025, '0x9': 0.0715, '0xa': 0.0965, '0xb': 0.004, '0xc': 0.019, '0xd': 0.006, '0xe': 0.0045, '0xf': 0.442}, metadata={'memory_slots': 4, 'global_phase': 0.0, 'n_qubits': 4, 'name': 'circuit-695', 'creg_sizes': [['c', 4]], 'clbit_labels': [['c', 0], ['c', 1], ['c', 2], ['c', 3]], 'qreg_sizes': [['q', 4]], 'qubit_labels': [['q', 0], ['q', 1], ['q', 2], ['q', 3]]}), header=QobjExperimentHeader(clbit_labels=[['c', 0], ['c', 1], ['c', 2], ['c', 3]], creg_sizes=[['c', 4]], global_phase=0.0, memory_slots=4, n_qubits=4, name='circuit-695', qreg_sizes=[['q', 4]], qubit_labels=[['q', 0], ['q', 1], ['q', 2], ['q', 3]])), ExperimentResult(shots=2000, success=True, meas_level=2, data=ExperimentResultData(counts={'0x0': 131, '0x1': 13, '0x2': 2, '0x3': 206, '0x4': 4, '0x5': 310, '0x6': 38, '0x7': 3, '0x8': 4, '0x9': 915, '0xa': 31, '0xc': 188, '0xd': 2, '0xe': 2, '0xf': 151}, probabilities={'0x0': 0.0635, '0x1': 0.007, '0x2': 0.003, '0x3': 0.0995, '0x4': 0.0005, '0x5': 0.1615, '0x6': 0.02, '0x7': 0.001, '0x8': 0.0025, '0x9': 0.4615, '0xa': 0.014, '0xc': 0.0955, '0xd': 0.0025, '0xe': 0.001, '0xf': 0.0665}, metadata={'memory_slots': 4, 'global_phase': 0.0, 'n_qubits': 4, 'name': 'circuit-698', 'creg_sizes': [['c', 4]], 'clbit_labels': [['c', 0], ['c', 1], ['c', 2], ['c', 3]], 'qreg_sizes': [['q', 4]], 'qubit_labels': [['q', 0], ['q', 1], ['q', 2], ['q', 3]]}), header=QobjExperimentHeader(clbit_labels=[['c', 0], ['c', 1], ['c', 2], ['c', 3]], creg_sizes=[['c', 4]], global_phase=0.0, memory_slots=4, n_qubits=4, name='circuit-698', qreg_sizes=[['q', 4]], qubit_labels=[['q', 0], ['q', 1], ['q', 2], ['q', 3]])), ExperimentResult(shots=2000, success=True, meas_level=2, data=ExperimentResultData(counts={'0x0': 3, '0x1': 35, '0x2': 845, '0x3': 2, '0x4': 137, '0x6': 1, '0x7': 171, '0x8': 188, '0x9': 1, '0xa': 11, '0xb': 192, '0xd': 57, '0xe': 357}, probabilities={'0x0': 0.002, '0x1': 0.017, '0x2': 0.4395, '0x3': 0.001, '0x4': 0.0705, '0x6': 0.001, '0x7': 0.0875, '0x8': 0.0885, '0x9': 0.0005, '0xa': 0.005, '0xb': 0.082, '0xd': 0.0295, '0xe': 0.1755}, metadata={'memory_slots': 4, 'global_phase': 0.0, 'n_qubits': 4, 'name': 'circuit-701', 'creg_sizes': [['c', 4]], 'clbit_labels': [['c', 0], ['c', 1], ['c', 2], ['c', 3]], 'qreg_sizes': [['q', 4]], 'qubit_labels': [['q', 0], ['q', 1], ['q', 2], ['q', 3]]}), header=QobjExperimentHeader(clbit_labels=[['c', 0], ['c', 1], ['c', 2], ['c', 3]], creg_sizes=[['c', 4]], global_phase=0.0, memory_slots=4, n_qubits=4, name='circuit-701', qreg_sizes=[['q', 4]], qubit_labels=[['q', 0], ['q', 1], ['q', 2], ['q', 3]])), ExperimentResult(shots=2000, success=True, meas_level=2, data=ExperimentResultData(counts={'0x0': 8, '0x1': 159, '0x2': 160, '0x3': 5, '0x4': 922, '0x5': 7, '0x6': 6, '0x7': 31, '0x8': 334, '0x9': 9, '0xa': 8, '0xb': 58, '0xc': 8, '0xd': 132, '0xe': 151, '0xf': 2}, probabilities={'0x0': 0.005, '0x1': 0.088, '0x2': 0.072, '0x3': 0.003, '0x4': 0.458, '0x5': 0.0045, '0x6': 0.004, '0x7': 0.012, '0x8': 0.158, '0x9': 0.0025, '0xa': 0.003, '0xb': 0.0265, '0xc': 0.0045, '0xd': 0.0655, '0xe': 0.0915, '0xf': 0.002}, metadata={'memory_slots': 4, 'global_phase': 0.0, 'n_qubits': 4, 'name': 'circuit-704', 'creg_sizes': [['c', 4]], 'clbit_labels': [['c', 0], ['c', 1], ['c', 2], ['c', 3]], 'qreg_sizes': [['q', 4]], 'qubit_labels': [['q', 0], ['q', 1], ['q', 2], ['q', 3]]}), header=QobjExperimentHeader(clbit_labels=[['c', 0], ['c', 1], ['c', 2], ['c', 3]], creg_sizes=[['c', 4]], global_phase=0.0, memory_slots=4, n_qubits=4, name='circuit-704', qreg_sizes=[['q', 4]], qubit_labels=[['q', 0], ['q', 1], ['q', 2], ['q', 3]])), ExperimentResult(shots=2000, success=True, meas_level=2, data=ExperimentResultData(counts={'0x0': 103, '0x2': 1, '0x3': 173, '0x4': 6, '0x5': 348, '0x6': 37, '0x7': 6, '0x8': 4, '0x9': 952, '0xa': 37, '0xb': 13, '0xc': 179, '0xd': 3, '0xe': 3, '0xf': 135}, probabilities={'0x0': 0.0575, '0x2': 0.001, '0x3': 0.09, '0x4': 0.0015, '0x5': 0.172, '0x6': 0.016, '0x7': 0.002, '0x8': 0.003, '0x9': 0.476, '0xa': 0.019, '0xb': 0.007, '0xc': 0.0875, '0xd': 0.001, '0xe': 0.0025, '0xf': 0.064}, metadata={'memory_slots': 4, 'global_phase': 0.0, 'n_qubits': 4, 'name': 'circuit-707', 'creg_sizes': [['c', 4]], 'clbit_labels': [['c', 0], ['c', 1], ['c', 2], ['c', 3]], 'qreg_sizes': [['q', 4]], 'qubit_labels': [['q', 0], ['q', 1], ['q', 2], ['q', 3]]}), header=QobjExperimentHeader(clbit_labels=[['c', 0], ['c', 1], ['c', 2], ['c', 3]], creg_sizes=[['c', 4]], global_phase=0.0, memory_slots=4, n_qubits=4, name='circuit-707', qreg_sizes=[['q', 4]], qubit_labels=[['q', 0], ['q', 1], ['q', 2], ['q', 3]])), ExperimentResult(shots=2000, success=True, meas_level=2, data=ExperimentResultData(counts={'0x0': 189, '0x3': 110, '0x5': 1053, '0x6': 26, '0x9': 290, '0xa': 30, '0xc': 99, '0xf': 203}, probabilities={'0x0': 0.084, '0x3': 0.058, '0x5': 0.5275, '0x6': 0.011, '0x9': 0.143, '0xa': 0.0165, '0xc': 0.0565, '0xf': 0.1035}, metadata={'memory_slots': 4, 'global_phase': 0.0, 'n_qubits': 4, 'name': 'circuit-710', 'creg_sizes': [['c', 4]], 'clbit_labels': [['c', 0], ['c', 1], ['c', 2], ['c', 3]], 'qreg_sizes': [['q', 4]], 'qubit_labels': [['q', 0], ['q', 1], ['q', 2], ['q', 3]]}), header=QobjExperimentHeader(clbit_labels=[['c', 0], ['c', 1], ['c', 2], ['c', 3]], creg_sizes=[['c', 4]], global_phase=0.0, memory_slots=4, n_qubits=4, name='circuit-710', qreg_sizes=[['q', 4]], qubit_labels=[['q', 0], ['q', 1], ['q', 2], ['q', 3]])), ExperimentResult(shots=2000, success=True, meas_level=2, data=ExperimentResultData(counts={'0x0': 139, '0x3': 179, '0x5': 325, '0x6': 40, '0x9': 967, '0xa': 38, '0xc': 166, '0xf': 146}, probabilities={'0x0': 0.066, '0x3': 0.0965, '0x5': 0.149, '0x6': 0.0225, '0x9': 0.485, '0xa': 0.0165, '0xc': 0.0815, '0xf': 0.083}, metadata={'memory_slots': 4, 'global_phase': 0.0, 'n_qubits': 4, 'name': 'circuit-713', 'creg_sizes': [['c', 4]], 'clbit_labels': [['c', 0], ['c', 1], ['c', 2], ['c', 3]], 'qreg_sizes': [['q', 4]], 'qubit_labels': [['q', 0], ['q', 1], ['q', 2], ['q', 3]]}), header=QobjExperimentHeader(clbit_labels=[['c', 0], ['c', 1], ['c', 2], ['c', 3]], creg_sizes=[['c', 4]], global_phase=0.0, memory_slots=4, n_qubits=4, name='circuit-713', qreg_sizes=[['q', 4]], qubit_labels=[['q', 0], ['q', 1], ['q', 2], ['q', 3]])), ExperimentResult(shots=2000, success=True, meas_level=2, data=ExperimentResultData(counts={'0x0': 43, '0x1': 1, '0x2': 3, '0x3': 319, '0x4': 5, '0x5': 167, '0x6': 104, '0x7': 25, '0x8': 6, '0x9': 142, '0xa': 153, '0xb': 18, '0xc': 36, '0xd': 10, '0xe': 21, '0xf': 947}, probabilities={'0x0': 0.0185, '0x1': 0.003, '0x2': 0.0015, '0x3': 0.154, '0x4': 0.002, '0x5': 0.0815, '0x6': 0.0535, '0x7': 0.0125, '0x8': 0.004, '0x9': 0.0675, '0xa': 0.081, '0xb': 0.007, '0xc': 0.0175, '0xd': 0.0045, '0xe': 0.0085, '0xf': 0.4835}, metadata={'memory_slots': 4, 'global_phase': 0.0, 'n_qubits': 4, 'name': 'circuit-716', 'creg_sizes': [['c', 4]], 'clbit_labels': [['c', 0], ['c', 1], ['c', 2], ['c', 3]], 'qreg_sizes': [['q', 4]], 'qubit_labels': [['q', 0], ['q', 1], ['q', 2], ['q', 3]]}), header=QobjExperimentHeader(clbit_labels=[['c', 0], ['c', 1], ['c', 2], ['c', 3]], creg_sizes=[['c', 4]], global_phase=0.0, memory_slots=4, n_qubits=4, name='circuit-716', qreg_sizes=[['q', 4]], qubit_labels=[['q', 0], ['q', 1], ['q', 2], ['q', 3]])), ExperimentResult(shots=2000, success=True, meas_level=2, data=ExperimentResultData(counts={'0x0': 109, '0x1': 5, '0x2': 23, '0x3': 190, '0x4': 12, '0x5': 17, '0x6': 1006, '0x7': 13, '0x8': 5, '0x9': 29, '0xa': 291, '0xb': 5, '0xc': 170, '0xd': 3, '0xe': 23, '0xf': 99}, probabilities={'0x0': 0.0495, '0x1': 0.0025, '0x2': 0.011, '0x3': 0.0885, '0x4': 0.007, '0x5': 0.0125, '0x6': 0.498, '0x7': 0.008, '0x8': 0.0025, '0x9': 0.0135, '0xa': 0.1495, '0xb': 0.003, '0xc': 0.0855, '0xd': 0.001, '0xe': 0.011, '0xf': 0.057}, metadata={'memory_slots': 4, 'global_phase': 0.0, 'n_qubits': 4, 'name': 'circuit-719', 'creg_sizes': [['c', 4]], 'clbit_labels': [['c', 0], ['c', 1], ['c', 2], ['c', 3]], 'qreg_sizes': [['q', 4]], 'qubit_labels': [['q', 0], ['q', 1], ['q', 2], ['q', 3]]}), header=QobjExperimentHeader(clbit_labels=[['c', 0], ['c', 1], ['c', 2], ['c', 3]], creg_sizes=[['c', 4]], global_phase=0.0, memory_slots=4, n_qubits=4, name='circuit-719', qreg_sizes=[['q', 4]], qubit_labels=[['q', 0], ['q', 1], ['q', 2], ['q', 3]])), ExperimentResult(shots=2000, success=True, meas_level=2, data=ExperimentResultData(counts={'0x0': 152, '0x1': 2, '0x3': 105, '0x4': 12, '0x5': 1085, '0x6': 31, '0x7': 21, '0x8': 8, '0x9': 264, '0xa': 23, '0xb': 7, '0xc': 114, '0xd': 5, '0xe': 7, '0xf': 164}, probabilities={'0x0': 0.0815, '0x1': 0.0005, '0x3': 0.054, '0x4': 0.007, '0x5': 0.554, '0x6': 0.01, '0x7': 0.009, '0x8': 0.003, '0x9': 0.1295, '0xa': 0.013, '0xb': 0.002, '0xc': 0.054, '0xd': 0.002, '0xe': 0.002, '0xf': 0.0785}, metadata={'memory_slots': 4, 'global_phase': 0.0, 'n_qubits': 4, 'name': 'circuit-722', 'creg_sizes': [['c', 4]], 'clbit_labels': [['c', 0], ['c', 1], ['c', 2], ['c', 3]], 'qreg_sizes': [['q', 4]], 'qubit_labels': [['q', 0], ['q', 1], ['q', 2], ['q', 3]]}), header=QobjExperimentHeader(clbit_labels=[['c', 0], ['c', 1], ['c', 2], ['c', 3]], creg_sizes=[['c', 4]], global_phase=0.0, memory_slots=4, n_qubits=4, name='circuit-722', qreg_sizes=[['q', 4]], qubit_labels=[['q', 0], ['q', 1], ['q', 2], ['q', 3]])), ExperimentResult(shots=2000, success=True, meas_level=2, data=ExperimentResultData(counts={'0x1': 106, '0x2': 186, '0x3': 1, '0x4': 257, '0x5': 4, '0x7': 42, '0x8': 1085, '0x9': 22, '0xb': 21, '0xc': 3, '0xd': 163, '0xe': 109, '0xf': 1}, probabilities={'0x1': 0.057, '0x2': 0.0915, '0x3': 0.001, '0x4': 0.1435, '0x5': 0.0005, '0x7': 0.0175, '0x8': 0.5205, '0x9': 0.008, '0xb': 0.013, '0xc': 0.002, '0xd': 0.0825, '0xe': 0.062, '0xf': 0.0005}, metadata={'memory_slots': 4, 'global_phase': 0.0, 'n_qubits': 4, 'name': 'circuit-725', 'creg_sizes': [['c', 4]], 'clbit_labels': [['c', 0], ['c', 1], ['c', 2], ['c', 3]], 'qreg_sizes': [['q', 4]], 'qubit_labels': [['q', 0], ['q', 1], ['q', 2], ['q', 3]]}), header=QobjExperimentHeader(clbit_labels=[['c', 0], ['c', 1], ['c', 2], ['c', 3]], creg_sizes=[['c', 4]], global_phase=0.0, memory_slots=4, n_qubits=4, name='circuit-725', qreg_sizes=[['q', 4]], qubit_labels=[['q', 0], ['q', 1], ['q', 2], ['q', 3]])), ExperimentResult(shots=2000, success=True, meas_level=2, data=ExperimentResultData(counts={'0x0': 9, '0x1': 122, '0x2': 179, '0x4': 327, '0x5': 8, '0x6': 9, '0x7': 36, '0x8': 889, '0x9': 10, '0xa': 19, '0xb': 46, '0xc': 5, '0xd': 186, '0xe': 149, '0xf': 6}, probabilities={'0x0': 0.007, '0x1': 0.0655, '0x2': 0.093, '0x4': 0.1685, '0x5': 0.0025, '0x6': 0.005, '0x7': 0.0205, '0x8': 0.4345, '0x9': 0.0065, '0xa': 0.0065, '0xb': 0.022, '0xc': 0.003, '0xd': 0.093, '0xe': 0.07, '0xf': 0.002}, metadata={'memory_slots': 4, 'global_phase': 0.0, 'n_qubits': 4, 'name': 'circuit-728', 'creg_sizes': [['c', 4]], 'clbit_labels': [['c', 0], ['c', 1], ['c', 2], ['c', 3]], 'qreg_sizes': [['q', 4]], 'qubit_labels': [['q', 0], ['q', 1], ['q', 2], ['q', 3]]}), header=QobjExperimentHeader(clbit_labels=[['c', 0], ['c', 1], ['c', 2], ['c', 3]], creg_sizes=[['c', 4]], global_phase=0.0, memory_slots=4, n_qubits=4, name='circuit-728', qreg_sizes=[['q', 4]], qubit_labels=[['q', 0], ['q', 1], ['q', 2], ['q', 3]])), ExperimentResult(shots=2000, success=True, meas_level=2, data=ExperimentResultData(counts={'0x0': 183, '0x1': 1, '0x2': 2, '0x3': 102, '0x4': 12, '0x5': 979, '0x6': 28, '0x7': 11, '0x8': 7, '0x9': 281, '0xa': 50, '0xc': 133, '0xd': 2, '0xe': 9, '0xf': 200}, probabilities={'0x0': 0.0845, '0x1': 0.001, '0x2': 0.002, '0x3': 0.06, '0x4': 0.0065, '0x5': 0.5065, '0x6': 0.0135, '0x7': 0.0085, '0x8': 0.002, '0x9': 0.142, '0xa': 0.0185, '0xc': 0.0555, '0xd': 0.0015, '0xe': 0.003, '0xf': 0.0945}, metadata={'memory_slots': 4, 'global_phase': 0.0, 'n_qubits': 4, 'name': 'circuit-731', 'creg_sizes': [['c', 4]], 'clbit_labels': [['c', 0], ['c', 1], ['c', 2], ['c', 3]], 'qreg_sizes': [['q', 4]], 'qubit_labels': [['q', 0], ['q', 1], ['q', 2], ['q', 3]]}), header=QobjExperimentHeader(clbit_labels=[['c', 0], ['c', 1], ['c', 2], ['c', 3]], creg_sizes=[['c', 4]], global_phase=0.0, memory_slots=4, n_qubits=4, name='circuit-731', qreg_sizes=[['q', 4]], qubit_labels=[['q', 0], ['q', 1], ['q', 2], ['q', 3]])), ExperimentResult(shots=2000, success=True, meas_level=2, data=ExperimentResultData(counts={'0x0': 171, '0x3': 90, '0x5': 1252, '0x6': 6, '0x9': 197, '0xa': 17, '0xc': 79, '0xf': 188}, probabilities={'0x0': 0.078, '0x3': 0.042, '0x5': 0.6305, '0x6': 0.005, '0x9': 0.1, '0xa': 0.011, '0xc': 0.037, '0xf': 0.0965}, metadata={'memory_slots': 4, 'global_phase': 0.0, 'n_qubits': 4, 'name': 'circuit-734', 'creg_sizes': [['c', 4]], 'clbit_labels': [['c', 0], ['c', 1], ['c', 2], ['c', 3]], 'qreg_sizes': [['q', 4]], 'qubit_labels': [['q', 0], ['q', 1], ['q', 2], ['q', 3]]}), header=QobjExperimentHeader(clbit_labels=[['c', 0], ['c', 1], ['c', 2], ['c', 3]], creg_sizes=[['c', 4]], global_phase=0.0, memory_slots=4, n_qubits=4, name='circuit-734', qreg_sizes=[['q', 4]], qubit_labels=[['q', 0], ['q', 1], ['q', 2], ['q', 3]])), ExperimentResult(shots=2000, success=True, meas_level=2, data=ExperimentResultData(counts={'0x0': 6, '0x1': 54, '0x2': 847, '0x3': 2, '0x4': 142, '0x6': 2, '0x7': 196, '0x8': 170, '0xa': 8, '0xb': 131, '0xc': 1, '0xd': 52, '0xe': 389}, probabilities={'0x0': 0.002, '0x1': 0.0195, '0x2': 0.448, '0x3': 0.001, '0x4': 0.067, '0x6': 0.001, '0x7': 0.0965, '0x8': 0.084, '0xa': 0.0035, '0xb': 0.069, '0xc': 0.0005, '0xd': 0.021, '0xe': 0.1865}, metadata={'memory_slots': 4, 'global_phase': 0.0, 'n_qubits': 4, 'name': 'circuit-737', 'creg_sizes': [['c', 4]], 'clbit_labels': [['c', 0], ['c', 1], ['c', 2], ['c', 3]], 'qreg_sizes': [['q', 4]], 'qubit_labels': [['q', 0], ['q', 1], ['q', 2], ['q', 3]]}), header=QobjExperimentHeader(clbit_labels=[['c', 0], ['c', 1], ['c', 2], ['c', 3]], creg_sizes=[['c', 4]], global_phase=0.0, memory_slots=4, n_qubits=4, name='circuit-737', qreg_sizes=[['q', 4]], qubit_labels=[['q', 0], ['q', 1], ['q', 2], ['q', 3]])), ExperimentResult(shots=2000, success=True, meas_level=2, data=ExperimentResultData(counts={'0x0': 11, '0x1': 129, '0x2': 209, '0x3': 4, '0x4': 355, '0x5': 2, '0x6': 4, '0x7': 58, '0x8': 826, '0x9': 5, '0xa': 13, '0xb': 51, '0xc': 22, '0xd': 171, '0xe': 140}, probabilities={'0x0': 0.0055, '0x1': 0.0705, '0x2': 0.0975, '0x3': 0.001, '0x4': 0.177, '0x5': 0.002, '0x6': 0.0015, '0x7': 0.028, '0x8': 0.4, '0x9': 0.0025, '0xa': 0.008, '0xb': 0.025, '0xc': 0.0115, '0xd': 0.0925, '0xe': 0.077}, metadata={'memory_slots': 4, 'global_phase': 0.0, 'n_qubits': 4, 'name': 'circuit-740', 'creg_sizes': [['c', 4]], 'clbit_labels': [['c', 0], ['c', 1], ['c', 2], ['c', 3]], 'qreg_sizes': [['q', 4]], 'qubit_labels': [['q', 0], ['q', 1], ['q', 2], ['q', 3]]}), header=QobjExperimentHeader(clbit_labels=[['c', 0], ['c', 1], ['c', 2], ['c', 3]], creg_sizes=[['c', 4]], global_phase=0.0, memory_slots=4, n_qubits=4, name='circuit-740', qreg_sizes=[['q', 4]], qubit_labels=[['q', 0], ['q', 1], ['q', 2], ['q', 3]])), ExperimentResult(shots=2000, success=True, meas_level=2, data=ExperimentResultData(counts={'0x0': 55, '0x1': 11, '0x2': 10, '0x3': 379, '0x4': 5, '0x5': 183, '0x6': 136, '0x7': 6, '0x8': 7, '0x9': 132, '0xa': 183, '0xb': 8, '0xc': 58, '0xd': 12, '0xe': 15, '0xf': 800}, probabilities={'0x0': 0.023, '0x1': 0.0035, '0x2': 0.0065, '0x3': 0.186, '0x4': 0.0025, '0x5': 0.096, '0x6': 0.069, '0x7': 0.002, '0x8': 0.003, '0x9': 0.0795, '0xa': 0.0895, '0xb': 0.004, '0xc': 0.028, '0xd': 0.0035, '0xe': 0.0055, '0xf': 0.3985}, metadata={'memory_slots': 4, 'global_phase': 0.0, 'n_qubits': 4, 'name': 'circuit-743', 'creg_sizes': [['c', 4]], 'clbit_labels': [['c', 0], ['c', 1], ['c', 2], ['c', 3]], 'qreg_sizes': [['q', 4]], 'qubit_labels': [['q', 0], ['q', 1], ['q', 2], ['q', 3]]}), header=QobjExperimentHeader(clbit_labels=[['c', 0], ['c', 1], ['c', 2], ['c', 3]], creg_sizes=[['c', 4]], global_phase=0.0, memory_slots=4, n_qubits=4, name='circuit-743', qreg_sizes=[['q', 4]], qubit_labels=[['q', 0], ['q', 1], ['q', 2], ['q', 3]])), ExperimentResult(shots=2000, success=True, meas_level=2, data=ExperimentResultData(counts={'0x0': 181, '0x1': 24, '0x2': 4, '0x3': 202, '0x4': 1, '0x5': 350, '0x6': 68, '0x7': 2, '0x9': 650, '0xa': 86, '0xb': 4, '0xc': 204, '0xd': 9, '0xe': 3, '0xf': 212}, probabilities={'0x0': 0.087, '0x1': 0.0085, '0x2': 0.001, '0x3': 0.101, '0x4': 0.002, '0x5': 0.2005, '0x6': 0.0375, '0x7': 0.003, '0x9': 0.317, '0xa': 0.0345, '0xb': 0.0025, '0xc': 0.0985, '0xd': 0.002, '0xe': 0.0015, '0xf': 0.1035}, metadata={'memory_slots': 4, 'global_phase': 0.0, 'n_qubits': 4, 'name': 'circuit-746', 'creg_sizes': [['c', 4]], 'clbit_labels': [['c', 0], ['c', 1], ['c', 2], ['c', 3]], 'qreg_sizes': [['q', 4]], 'qubit_labels': [['q', 0], ['q', 1], ['q', 2], ['q', 3]]}), header=QobjExperimentHeader(clbit_labels=[['c', 0], ['c', 1], ['c', 2], ['c', 3]], creg_sizes=[['c', 4]], global_phase=0.0, memory_slots=4, n_qubits=4, name='circuit-746', qreg_sizes=[['q', 4]], qubit_labels=[['q', 0], ['q', 1], ['q', 2], ['q', 3]])), ExperimentResult(shots=2000, success=True, meas_level=2, data=ExperimentResultData(counts={'0x0': 177, '0x1': 9, '0x2': 8, '0x3': 221, '0x4': 5, '0x5': 630, '0x6': 99, '0x7': 6, '0x9': 344, '0xa': 72, '0xb': 10, '0xc': 184, '0xd': 11, '0xe': 7, '0xf': 217}, probabilities={'0x0': 0.0955, '0x1': 0.004, '0x2': 0.0025, '0x3': 0.1055, '0x4': 0.001, '0x5': 0.299, '0x6': 0.0435, '0x7': 0.0025, '0x9': 0.1815, '0xa': 0.042, '0xb': 0.005, '0xc': 0.095, '0xd': 0.0075, '0xe': 0.0025, '0xf': 0.112}, metadata={'memory_slots': 4, 'global_phase': 0.0, 'n_qubits': 4, 'name': 'circuit-749', 'creg_sizes': [['c', 4]], 'clbit_labels': [['c', 0], ['c', 1], ['c', 2], ['c', 3]], 'qreg_sizes': [['q', 4]], 'qubit_labels': [['q', 0], ['q', 1], ['q', 2], ['q', 3]]}), header=QobjExperimentHeader(clbit_labels=[['c', 0], ['c', 1], ['c', 2], ['c', 3]], creg_sizes=[['c', 4]], global_phase=0.0, memory_slots=4, n_qubits=4, name='circuit-749', qreg_sizes=[['q', 4]], qubit_labels=[['q', 0], ['q', 1], ['q', 2], ['q', 3]])), ExperimentResult(shots=2000, success=True, meas_level=2, data=ExperimentResultData(counts={'0x0': 3, '0x1': 754, '0x2': 58, '0x3': 8, '0x4': 204, '0x5': 2, '0x7': 156, '0x8': 138, '0x9': 3, '0xb': 195, '0xc': 4, '0xd': 391, '0xe': 75, '0xf': 9}, probabilities={'0x0': 0.0005, '0x1': 0.3665, '0x2': 0.0345, '0x3': 0.0045, '0x4': 0.0995, '0x5': 0.0005, '0x7': 0.085, '0x8': 0.072, '0x9': 0.0005, '0xb': 0.097, '0xc': 0.001, '0xd': 0.1975, '0xe': 0.0365, '0xf': 0.004}, metadata={'memory_slots': 4, 'global_phase': 0.0, 'n_qubits': 4, 'name': 'circuit-752', 'creg_sizes': [['c', 4]], 'clbit_labels': [['c', 0], ['c', 1], ['c', 2], ['c', 3]], 'qreg_sizes': [['q', 4]], 'qubit_labels': [['q', 0], ['q', 1], ['q', 2], ['q', 3]]}), header=QobjExperimentHeader(clbit_labels=[['c', 0], ['c', 1], ['c', 2], ['c', 3]], creg_sizes=[['c', 4]], global_phase=0.0, memory_slots=4, n_qubits=4, name='circuit-752', qreg_sizes=[['q', 4]], qubit_labels=[['q', 0], ['q', 1], ['q', 2], ['q', 3]])), ExperimentResult(shots=2000, success=True, meas_level=2, data=ExperimentResultData(counts={'0x0': 66, '0x1': 8, '0x2': 3, '0x3': 398, '0x4': 2, '0x5': 179, '0x6': 137, '0x7': 15, '0x9': 192, '0xa': 162, '0xb': 9, '0xc': 54, '0xd': 6, '0xe': 4, '0xf': 765}, probabilities={'0x0': 0.027, '0x1': 0.0025, '0x2': 0.0015, '0x3': 0.184, '0x4': 0.001, '0x5': 0.093, '0x6': 0.0785, '0x7': 0.006, '0x9': 0.092, '0xa': 0.088, '0xb': 0.006, '0xc': 0.034, '0xd': 0.0025, '0xe': 0.002, '0xf': 0.382}, metadata={'memory_slots': 4, 'global_phase': 0.0, 'n_qubits': 4, 'name': 'circuit-755', 'creg_sizes': [['c', 4]], 'clbit_labels': [['c', 0], ['c', 1], ['c', 2], ['c', 3]], 'qreg_sizes': [['q', 4]], 'qubit_labels': [['q', 0], ['q', 1], ['q', 2], ['q', 3]]}), header=QobjExperimentHeader(clbit_labels=[['c', 0], ['c', 1], ['c', 2], ['c', 3]], creg_sizes=[['c', 4]], global_phase=0.0, memory_slots=4, n_qubits=4, name='circuit-755', qreg_sizes=[['q', 4]], qubit_labels=[['q', 0], ['q', 1], ['q', 2], ['q', 3]])), ExperimentResult(shots=2000, success=True, meas_level=2, data=ExperimentResultData(counts={'0x0': 58, '0x1': 1, '0x2': 19, '0x3': 676, '0x4': 2, '0x5': 208, '0x6': 186, '0x7': 7, '0x9': 194, '0xa': 169, '0xb': 7, '0xc': 74, '0xd': 3, '0xe': 9, '0xf': 387}, probabilities={'0x0': 0.0285, '0x1': 0.001, '0x2': 0.0055, '0x3': 0.341, '0x4': 0.002, '0x5': 0.096, '0x6': 0.1025, '0x7': 0.0035, '0x9': 0.102, '0xa': 0.0755, '0xb': 0.0035, '0xc': 0.0345, '0xd': 0.0025, '0xe': 0.004, '0xf': 0.197}, metadata={'memory_slots': 4, 'global_phase': 0.0, 'n_qubits': 4, 'name': 'circuit-758', 'creg_sizes': [['c', 4]], 'clbit_labels': [['c', 0], ['c', 1], ['c', 2], ['c', 3]], 'qreg_sizes': [['q', 4]], 'qubit_labels': [['q', 0], ['q', 1], ['q', 2], ['q', 3]]}), header=QobjExperimentHeader(clbit_labels=[['c', 0], ['c', 1], ['c', 2], ['c', 3]], creg_sizes=[['c', 4]], global_phase=0.0, memory_slots=4, n_qubits=4, name='circuit-758', qreg_sizes=[['q', 4]], qubit_labels=[['q', 0], ['q', 1], ['q', 2], ['q', 3]])), ExperimentResult(shots=2000, success=True, meas_level=2, data=ExperimentResultData(counts={'0x0': 209, '0x1': 2, '0x2': 25, '0x3': 170, '0x4': 3, '0x5': 66, '0x6': 362, '0x7': 8, '0x8': 28, '0x9': 56, '0xa': 643, '0xb': 12, '0xc': 172, '0xd': 5, '0xe': 27, '0xf': 212}, probabilities={'0x0': 0.101, '0x1': 0.001, '0x2': 0.013, '0x3': 0.0975, '0x4': 0.003, '0x5': 0.0305, '0x6': 0.185, '0x7': 0.0055, '0x8': 0.0105, '0x9': 0.024, '0xa': 0.3255, '0xb': 0.0065, '0xc': 0.0895, '0xd': 0.002, '0xe': 0.01, '0xf': 0.0955}, metadata={'memory_slots': 4, 'global_phase': 0.0, 'n_qubits': 4, 'name': 'circuit-761', 'creg_sizes': [['c', 4]], 'clbit_labels': [['c', 0], ['c', 1], ['c', 2], ['c', 3]], 'qreg_sizes': [['q', 4]], 'qubit_labels': [['q', 0], ['q', 1], ['q', 2], ['q', 3]]}), header=QobjExperimentHeader(clbit_labels=[['c', 0], ['c', 1], ['c', 2], ['c', 3]], creg_sizes=[['c', 4]], global_phase=0.0, memory_slots=4, n_qubits=4, name='circuit-761', qreg_sizes=[['q', 4]], qubit_labels=[['q', 0], ['q', 1], ['q', 2], ['q', 3]])), ExperimentResult(shots=2000, success=True, meas_level=2, data=ExperimentResultData(counts={'0x0': 179, '0x3': 250, '0x5': 406, '0x6': 85, '0x9': 647, '0xa': 59, '0xc': 186, '0xf': 188}, probabilities={'0x0': 0.088, '0x3': 0.108, '0x5': 0.193, '0x6': 0.04, '0x9': 0.339, '0xa': 0.0335, '0xc': 0.099, '0xf': 0.0995}, metadata={'memory_slots': 4, 'global_phase': 0.0, 'n_qubits': 4, 'name': 'circuit-764', 'creg_sizes': [['c', 4]], 'clbit_labels': [['c', 0], ['c', 1], ['c', 2], ['c', 3]], 'qreg_sizes': [['q', 4]], 'qubit_labels': [['q', 0], ['q', 1], ['q', 2], ['q', 3]]}), header=QobjExperimentHeader(clbit_labels=[['c', 0], ['c', 1], ['c', 2], ['c', 3]], creg_sizes=[['c', 4]], global_phase=0.0, memory_slots=4, n_qubits=4, name='circuit-764', qreg_sizes=[['q', 4]], qubit_labels=[['q', 0], ['q', 1], ['q', 2], ['q', 3]])), ExperimentResult(shots=2000, success=True, meas_level=2, data=ExperimentResultData(counts={'0x0': 418, '0x1': 6, '0x2': 7, '0x3': 80, '0x4': 9, '0x5': 144, '0x6': 204, '0x7': 3, '0x8': 5, '0x9': 173, '0xa': 213, '0xb': 4, '0xc': 644, '0xd': 4, '0xe': 12, '0xf': 74}, probabilities={'0x0': 0.2015, '0x1': 0.002, '0x2': 0.0025, '0x3': 0.042, '0x4': 0.0045, '0x5': 0.08, '0x6': 0.1055, '0x7': 0.0015, '0x8': 0.0025, '0x9': 0.0885, '0xa': 0.0985, '0xb': 0.002, '0xc': 0.324, '0xd': 0.0035, '0xe': 0.007, '0xf': 0.0345}, metadata={'memory_slots': 4, 'global_phase': 0.0, 'n_qubits': 4, 'name': 'circuit-767', 'creg_sizes': [['c', 4]], 'clbit_labels': [['c', 0], ['c', 1], ['c', 2], ['c', 3]], 'qreg_sizes': [['q', 4]], 'qubit_labels': [['q', 0], ['q', 1], ['q', 2], ['q', 3]]}), header=QobjExperimentHeader(clbit_labels=[['c', 0], ['c', 1], ['c', 2], ['c', 3]], creg_sizes=[['c', 4]], global_phase=0.0, memory_slots=4, n_qubits=4, name='circuit-767', qreg_sizes=[['q', 4]], qubit_labels=[['q', 0], ['q', 1], ['q', 2], ['q', 3]])), ExperimentResult(shots=2000, success=True, meas_level=2, data=ExperimentResultData(counts={'0x0': 6, '0x1': 33, '0x2': 336, '0x3': 2, '0x4': 194, '0x6': 2, '0x7': 128, '0x8': 148, '0x9': 1, '0xa': 11, '0xb': 212, '0xc': 3, '0xd': 36, '0xe': 887, '0xf': 1}, probabilities={'0x0': 0.002, '0x1': 0.02, '0x2': 0.171, '0x3': 0.001, '0x4': 0.0995, '0x6': 0.0035, '0x7': 0.0665, '0x8': 0.0685, '0x9': 0.001, '0xa': 0.0045, '0xb': 0.0925, '0xc': 0.0015, '0xd': 0.019, '0xe': 0.449, '0xf': 0.0005}, metadata={'memory_slots': 4, 'global_phase': 0.0, 'n_qubits': 4, 'name': 'circuit-770', 'creg_sizes': [['c', 4]], 'clbit_labels': [['c', 0], ['c', 1], ['c', 2], ['c', 3]], 'qreg_sizes': [['q', 4]], 'qubit_labels': [['q', 0], ['q', 1], ['q', 2], ['q', 3]]}), header=QobjExperimentHeader(clbit_labels=[['c', 0], ['c', 1], ['c', 2], ['c', 3]], creg_sizes=[['c', 4]], global_phase=0.0, memory_slots=4, n_qubits=4, name='circuit-770', qreg_sizes=[['q', 4]], qubit_labels=[['q', 0], ['q', 1], ['q', 2], ['q', 3]])), ExperimentResult(shots=2000, success=True, meas_level=2, data=ExperimentResultData(counts={'0x0': 3, '0x1': 174, '0x2': 219, '0x4': 404, '0x5': 5, '0x7': 86, '0x8': 651, '0x9': 10, '0xa': 1, '0xb': 83, '0xc': 3, '0xd': 164, '0xe': 196, '0xf': 1}, probabilities={'0x0': 0.0015, '0x1': 0.0865, '0x2': 0.1125, '0x4': 0.2005, '0x5': 0.0025, '0x7': 0.043, '0x8': 0.296, '0x9': 0.0035, '0xa': 0.0005, '0xb': 0.0405, '0xc': 0.0015, '0xd': 0.101, '0xe': 0.1085, '0xf': 0.001}, metadata={'memory_slots': 4, 'global_phase': 0.0, 'n_qubits': 4, 'name': 'circuit-773', 'creg_sizes': [['c', 4]], 'clbit_labels': [['c', 0], ['c', 1], ['c', 2], ['c', 3]], 'qreg_sizes': [['q', 4]], 'qubit_labels': [['q', 0], ['q', 1], ['q', 2], ['q', 3]]}), header=QobjExperimentHeader(clbit_labels=[['c', 0], ['c', 1], ['c', 2], ['c', 3]], creg_sizes=[['c', 4]], global_phase=0.0, memory_slots=4, n_qubits=4, name='circuit-773', qreg_sizes=[['q', 4]], qubit_labels=[['q', 0], ['q', 1], ['q', 2], ['q', 3]])), ExperimentResult(shots=2000, success=True, meas_level=2, data=ExperimentResultData(counts={'0x0': 378, '0x3': 63, '0x5': 133, '0x6': 214, '0x9': 193, '0xa': 164, '0xc': 797, '0xf': 58}, probabilities={'0x0': 0.19, '0x3': 0.0295, '0x5': 0.074, '0x6': 0.0965, '0x9': 0.091, '0xa': 0.084, '0xc': 0.4125, '0xf': 0.0225}, metadata={'memory_slots': 4, 'global_phase': 0.0, 'n_qubits': 4, 'name': 'circuit-776', 'creg_sizes': [['c', 4]], 'clbit_labels': [['c', 0], ['c', 1], ['c', 2], ['c', 3]], 'qreg_sizes': [['q', 4]], 'qubit_labels': [['q', 0], ['q', 1], ['q', 2], ['q', 3]]}), header=QobjExperimentHeader(clbit_labels=[['c', 0], ['c', 1], ['c', 2], ['c', 3]], creg_sizes=[['c', 4]], global_phase=0.0, memory_slots=4, n_qubits=4, name='circuit-776', qreg_sizes=[['q', 4]], qubit_labels=[['q', 0], ['q', 1], ['q', 2], ['q', 3]])), ExperimentResult(shots=2000, success=True, meas_level=2, data=ExperimentResultData(counts={'0x0': 1, '0x1': 742, '0x2': 56, '0x4': 180, '0x5': 2, '0x7': 205, '0x8': 147, '0x9': 12, '0xa': 3, '0xb': 213, '0xc': 4, '0xd': 372, '0xe': 63}, probabilities={'0x0': 0.0005, '0x1': 0.3785, '0x2': 0.028, '0x4': 0.093, '0x5': 0.002, '0x7': 0.0875, '0x8': 0.0785, '0x9': 0.0045, '0xa': 0.0005, '0xb': 0.109, '0xc': 0.002, '0xd': 0.186, '0xe': 0.0295}, metadata={'memory_slots': 4, 'global_phase': 0.0, 'n_qubits': 4, 'name': 'circuit-779', 'creg_sizes': [['c', 4]], 'clbit_labels': [['c', 0], ['c', 1], ['c', 2], ['c', 3]], 'qreg_sizes': [['q', 4]], 'qubit_labels': [['q', 0], ['q', 1], ['q', 2], ['q', 3]]}), header=QobjExperimentHeader(clbit_labels=[['c', 0], ['c', 1], ['c', 2], ['c', 3]], creg_sizes=[['c', 4]], global_phase=0.0, memory_slots=4, n_qubits=4, name='circuit-779', qreg_sizes=[['q', 4]], qubit_labels=[['q', 0], ['q', 1], ['q', 2], ['q', 3]])), ExperimentResult(shots=2000, success=True, meas_level=2, data=ExperimentResultData(counts={'0x0': 8, '0x1': 608, '0x2': 59, '0x3': 10, '0x4': 181, '0x5': 8, '0x6': 3, '0x7': 217, '0x8': 177, '0x9': 11, '0xa': 9, '0xb': 221, '0xc': 7, '0xd': 382, '0xe': 87, '0xf': 12}, probabilities={'0x0': 0.0035, '0x1': 0.3145, '0x2': 0.034, '0x3': 0.004, '0x4': 0.096, '0x5': 0.005, '0x6': 0.001, '0x7': 0.101, '0x8': 0.0825, '0x9': 0.0055, '0xa': 0.0045, '0xb': 0.113, '0xc': 0.0045, '0xd': 0.1865, '0xe': 0.042, '0xf': 0.0025}, metadata={'memory_slots': 4, 'global_phase': 0.0, 'n_qubits': 4, 'name': 'circuit-782', 'creg_sizes': [['c', 4]], 'clbit_labels': [['c', 0], ['c', 1], ['c', 2], ['c', 3]], 'qreg_sizes': [['q', 4]], 'qubit_labels': [['q', 0], ['q', 1], ['q', 2], ['q', 3]]}), header=QobjExperimentHeader(clbit_labels=[['c', 0], ['c', 1], ['c', 2], ['c', 3]], creg_sizes=[['c', 4]], global_phase=0.0, memory_slots=4, n_qubits=4, name='circuit-782', qreg_sizes=[['q', 4]], qubit_labels=[['q', 0], ['q', 1], ['q', 2], ['q', 3]])), ExperimentResult(shots=2000, success=True, meas_level=2, data=ExperimentResultData(counts={'0x0': 174, '0x1': 2, '0x2': 1, '0x3': 210, '0x4': 14, '0x5': 43, '0x6': 692, '0x7': 14, '0x8': 15, '0x9': 51, '0xa': 393, '0xb': 3, '0xc': 201, '0xd': 2, '0xe': 8, '0xf': 177}, probabilities={'0x0': 0.079, '0x1': 0.001, '0x2': 0.003, '0x3': 0.093, '0x4': 0.006, '0x5': 0.0235, '0x6': 0.3765, '0x7': 0.008, '0x8': 0.0045, '0x9': 0.0275, '0xa': 0.192, '0xb': 0.002, '0xc': 0.097, '0xd': 0.002, '0xe': 0.0045, '0xf': 0.0805}, metadata={'memory_slots': 4, 'global_phase': 0.0, 'n_qubits': 4, 'name': 'circuit-785', 'creg_sizes': [['c', 4]], 'clbit_labels': [['c', 0], ['c', 1], ['c', 2], ['c', 3]], 'qreg_sizes': [['q', 4]], 'qubit_labels': [['q', 0], ['q', 1], ['q', 2], ['q', 3]]}), header=QobjExperimentHeader(clbit_labels=[['c', 0], ['c', 1], ['c', 2], ['c', 3]], creg_sizes=[['c', 4]], global_phase=0.0, memory_slots=4, n_qubits=4, name='circuit-785', qreg_sizes=[['q', 4]], qubit_labels=[['q', 0], ['q', 1], ['q', 2], ['q', 3]])), ExperimentResult(shots=2000, success=True, meas_level=2, data=ExperimentResultData(counts={'0x0': 2, '0x1': 86, '0x2': 420, '0x3': 12, '0x4': 208, '0x5': 3, '0x6': 8, '0x7': 168, '0x8': 145, '0x9': 7, '0xa': 3, '0xb': 207, '0xc': 17, '0xd': 70, '0xe': 637, '0xf': 7}, probabilities={'0x0': 0.0015, '0x1': 0.041, '0x2': 0.203, '0x3': 0.0045, '0x4': 0.11, '0x5': 0.0015, '0x6': 0.0045, '0x7': 0.081, '0x8': 0.0795, '0x9': 0.0025, '0xa': 0.002, '0xb': 0.1005, '0xc': 0.0055, '0xd': 0.0375, '0xe': 0.3205, '0xf': 0.005}, metadata={'memory_slots': 4, 'global_phase': 0.0, 'n_qubits': 4, 'name': 'circuit-788', 'creg_sizes': [['c', 4]], 'clbit_labels': [['c', 0], ['c', 1], ['c', 2], ['c', 3]], 'qreg_sizes': [['q', 4]], 'qubit_labels': [['q', 0], ['q', 1], ['q', 2], ['q', 3]]}), header=QobjExperimentHeader(clbit_labels=[['c', 0], ['c', 1], ['c', 2], ['c', 3]], creg_sizes=[['c', 4]], global_phase=0.0, memory_slots=4, n_qubits=4, name='circuit-788', qreg_sizes=[['q', 4]], qubit_labels=[['q', 0], ['q', 1], ['q', 2], ['q', 3]])), ExperimentResult(shots=2000, success=True, meas_level=2, data=ExperimentResultData(counts={'0x0': 394, '0x1': 5, '0x2': 4, '0x3': 59, '0x4': 1, '0x5': 152, '0x6': 205, '0x8': 5, '0x9': 167, '0xa': 155, '0xb': 4, '0xc': 773, '0xd': 12, '0xe': 4, '0xf': 60}, probabilities={'0x0': 0.2015, '0x1': 0.003, '0x2': 0.002, '0x3': 0.027, '0x4': 0.002, '0x5': 0.07, '0x6': 0.1075, '0x8': 0.003, '0x9': 0.09, '0xa': 0.0735, '0xb': 0.0015, '0xc': 0.3755, '0xd': 0.006, '0xe': 0.0015, '0xf': 0.035}, metadata={'memory_slots': 4, 'global_phase': 0.0, 'n_qubits': 4, 'name': 'circuit-791', 'creg_sizes': [['c', 4]], 'clbit_labels': [['c', 0], ['c', 1], ['c', 2], ['c', 3]], 'qreg_sizes': [['q', 4]], 'qubit_labels': [['q', 0], ['q', 1], ['q', 2], ['q', 3]]}), header=QobjExperimentHeader(clbit_labels=[['c', 0], ['c', 1], ['c', 2], ['c', 3]], creg_sizes=[['c', 4]], global_phase=0.0, memory_slots=4, n_qubits=4, name='circuit-791', qreg_sizes=[['q', 4]], qubit_labels=[['q', 0], ['q', 1], ['q', 2], ['q', 3]])), ExperimentResult(shots=2000, success=True, meas_level=2, data=ExperimentResultData(counts={'0x0': 192, '0x1': 9, '0x2': 2, '0x3': 188, '0x4': 15, '0x5': 604, '0x6': 86, '0x7': 3, '0x8': 4, '0x9': 378, '0xa': 97, '0xc': 177, '0xd': 8, '0xe': 7, '0xf': 230}, probabilities={'0x0': 0.104, '0x1': 0.004, '0x2': 0.0015, '0x3': 0.0995, '0x4': 0.007, '0x5': 0.286, '0x6': 0.0455, '0x7': 0.003, '0x8': 0.0015, '0x9': 0.192, '0xa': 0.045, '0xc': 0.084, '0xd': 0.0075, '0xe': 0.003, '0xf': 0.116}, metadata={'memory_slots': 4, 'global_phase': 0.0, 'n_qubits': 4, 'name': 'circuit-794', 'creg_sizes': [['c', 4]], 'clbit_labels': [['c', 0], ['c', 1], ['c', 2], ['c', 3]], 'qreg_sizes': [['q', 4]], 'qubit_labels': [['q', 0], ['q', 1], ['q', 2], ['q', 3]]}), header=QobjExperimentHeader(clbit_labels=[['c', 0], ['c', 1], ['c', 2], ['c', 3]], creg_sizes=[['c', 4]], global_phase=0.0, memory_slots=4, n_qubits=4, name='circuit-794', qreg_sizes=[['q', 4]], qubit_labels=[['q', 0], ['q', 1], ['q', 2], ['q', 3]])), ExperimentResult(shots=2000, success=True, meas_level=2, data=ExperimentResultData(counts={'0x0': 55, '0x3': 377, '0x5': 176, '0x6': 169, '0x9': 137, '0xa': 199, '0xc': 51, '0xf': 836}, probabilities={'0x0': 0.0235, '0x3': 0.196, '0x5': 0.0925, '0x6': 0.077, '0x9': 0.0745, '0xa': 0.1025, '0xc': 0.0265, '0xf': 0.4075}, metadata={'memory_slots': 4, 'global_phase': 0.0, 'n_qubits': 4, 'name': 'circuit-797', 'creg_sizes': [['c', 4]], 'clbit_labels': [['c', 0], ['c', 1], ['c', 2], ['c', 3]], 'qreg_sizes': [['q', 4]], 'qubit_labels': [['q', 0], ['q', 1], ['q', 2], ['q', 3]]}), header=QobjExperimentHeader(clbit_labels=[['c', 0], ['c', 1], ['c', 2], ['c', 3]], creg_sizes=[['c', 4]], global_phase=0.0, memory_slots=4, n_qubits=4, name='circuit-797', qreg_sizes=[['q', 4]], qubit_labels=[['q', 0], ['q', 1], ['q', 2], ['q', 3]]))], date=None, status=None, header=None, time_taken=15.47)\n"
     ]
    }
   ],
   "source": [
    "# for item in (eab_data[\"result\"][0]['results']):\n",
    "#     print (item)\n",
    "# print (eab_data[\"result\"][0]['results'][0]['data']['counts'])\n",
    "# print (eab_data[\"result\"][0]['results'][1]['data']['counts'])\n",
    "# from qiskit.result import Result\n",
    "# print ((eab_data[\"batch_0\"][0]))\n",
    "# print ((eab_data[\"batch_0\"][99]))\n",
    "\n",
    "# result_batch = Result.from_dict(eab_data[\"result\"][0])\n",
    "outcomes = result.get_counts(1)\n",
    "# # print (outcomes.items()[\"0010\"])\n",
    "# print (outcomes)\n",
    "print (outcomes)\n",
    "print (result)"
   ]
  },
  {
   "cell_type": "markdown",
   "metadata": {},
   "source": [
    "Similarly, in the estimation $\\hat{p}_{XI}=\\hat{p}_{XX}=0.0025$ due to degeneracy."
   ]
  },
  {
   "cell_type": "markdown",
   "metadata": {},
   "source": [
    "## Data analysis"
   ]
  },
  {
   "cell_type": "code",
   "execution_count": 4,
   "metadata": {},
   "outputs": [
    {
     "name": "stdout",
     "output_type": "stream",
     "text": [
      "Parameters: n = 2, C = 20,  L =  [2, 4, 8, 16, 32]\n",
      "Measurement based simulation, shots = 2000\n",
      "Measurement bitflip rate = 0.005000\n",
      "Total error =  0.030505369473220023\n",
      "Label / Pauli infidelity / Standard deviation\n",
      "II 0.0 0.0\n",
      "XI 0.015482745906000406 0.0006212016811898653\n",
      "YI 0.046253797411797026 0.002085180075078686\n",
      "ZI 0.044520639033180376 0.0020368368127758308\n",
      "IX 0.016022915937473403 0.0006811710262440361\n",
      "XX 0.030803785915117787 0.0013207698505124958\n",
      "YX 0.046415320574239805 0.002166599661555424\n",
      "ZX 0.04523889897258504 0.0020708515723224467\n",
      "IY 0.046473849632192143 0.002079824629987424\n",
      "XY 0.04457848190199387 0.002038020862313699\n",
      "YY -0.00034648698053496574 0.00023927962722653697\n",
      "ZY 0.01508417478884605 0.0006706546695761496\n",
      "IZ 0.04629268745533943 0.0020202799987988503\n",
      "XZ 0.045131846855825164 0.0020078688781424298\n",
      "YZ 0.015810682209998927 0.000762891677696839\n",
      "ZZ 0.03032257195746435 0.00131485075487044\n"
     ]
    }
   ],
   "source": [
    "# import EAB_process\n",
    "'''Use these if read from file'''\n",
    "# token = \"1011327761\"\n",
    "# filename = \"sim_eab_cnot_2022oct_\" + token\n",
    "# with open('data/' + filename, 'rb') as infile:\n",
    "#     eab_data = pickle.load(infile)\n",
    "\n",
    "\n",
    "\n",
    "n = eab_data[\"parameters\"]['n']\n",
    "n_total = eab_data[\"parameters\"]['n_total'] \n",
    "shots = eab_data[\"parameters\"]['shots'] \n",
    "Lrange = eab_data[\"parameters\"]['Lrange']\n",
    "C = eab_data[\"parameters\"]['C'] \n",
    "eps_readout = eab_data[\"parameters\"]['eps_readout'] \n",
    "repeat = eab_data[\"parameters\"]['repeat']\n",
    "\n",
    "'''Specify a set of Pauli you want to estimate'''\n",
    "pauli_request_list = [''.join(s) for s in itertools.product(['I','X','Y','Z'], repeat = n)] #full\n",
    "\n",
    "# pauli_request_list = ['XX']\n",
    "\n",
    "eab_result = EAB_process.process_EAB(batch, Lrange, eab_data, pauli_request_list, repeat=repeat, periodic=periodic,use_density_matrix=use_density_matrix)\n",
    "\n",
    "# fidelity_list[1..512] = [0.99,0.98,...]\n",
    "\n",
    "raw_fidelity_list = eab_result[\"fidelity_list\"]\n",
    "\n",
    "\n",
    "# sys.exit(0)\n",
    "\n",
    "fidelity_list = {}\n",
    "stdev_list = {}\n",
    "\n",
    "for pauli_label in pauli_request_list:\n",
    "    if(pauli_label == 'I'*n):\n",
    "        fidelity_list[pauli_label] = 1.0\n",
    "        stdev_list[pauli_label] = 0.0\n",
    "    else:\n",
    "        alpha, alpha_err = EAB_process.fit_EAB(Lrange, raw_fidelity_list[pauli_label])\n",
    "        fidelity_list[pauli_label] = alpha\n",
    "        stdev_list[pauli_label] = alpha_err\n",
    "# print(fidelity_list)\n",
    "\n",
    "# print(stdev_list)\n",
    "print(\"Parameters: n = %d, C = %d, \" % (n,C), \"L = \", str(Lrange))\n",
    "\n",
    "if use_density_matrix:\n",
    "    print(\"Density matrix based simulation\")\n",
    "else:\n",
    "    print(\"Measurement based simulation, shots = %d\" % shots)\n",
    "\n",
    "if use_readout_error is True:\n",
    "    print(\"Measurement bitflip rate = %f\" % eps_readout)\n",
    "else:\n",
    "    print(\"No readout error\")\n",
    "\n",
    "# Average fidelity\n",
    "print(\"Total error = \", 1-np.mean(list(fidelity_list.values())))\n",
    "\n",
    "print(\"Label / Pauli infidelity / Standard deviation\")\n",
    "for pauli_label in pauli_request_list:\n",
    "    print(pauli_label[::-1], 1-fidelity_list[pauli_label], stdev_list[pauli_label])\n",
    "# print('Effective noise rate = ' + str(1-np.average(list(fidelity_list.values()))))\n",
    "\n"
   ]
  },
  {
   "cell_type": "code",
   "execution_count": null,
   "metadata": {},
   "outputs": [],
   "source": []
  },
  {
   "cell_type": "markdown",
   "metadata": {},
   "source": [
    "Note that, the estimation suffers from some degeneracy. E.g., $\\lambda_{IZ}$ and $\\lambda_{ZZ}$ cannot be individually addressed. Only their geometric mean is estimated and reported. This issue is detailed in [The learnability of Pauli noise](https://arxiv.org/abs/2206.06362)."
   ]
  },
  {
   "cell_type": "code",
   "execution_count": 5,
   "metadata": {},
   "outputs": [
    {
     "name": "stdout",
     "output_type": "stream",
     "text": [
      "Label / Pauli error rates\n",
      "II 0.96949463052678\n",
      "XI -9.291972727287767e-05\n",
      "YI 0.0033900236931566977\n",
      "ZI 1.0902251084833614e-05\n",
      "IX -8.68934955792211e-05\n",
      "XX 0.015107820756424167\n",
      "YX 2.923079476496726e-05\n",
      "ZX 0.004135747231904706\n",
      "IY 0.003999469261535542\n",
      "XY -3.494942108939192e-05\n",
      "YY 2.0586502664107775e-05\n",
      "ZY -2.466790295511251e-05\n",
      "IZ 2.8498119519188014e-05\n",
      "XZ 0.003842971026682289\n",
      "YZ -2.4441087398408e-06\n",
      "ZZ 0.00018199449111983707\n"
     ]
    }
   ],
   "source": [
    "error_list = fidelity_to_error(fidelity_list,n)\n",
    "print(\"Label / Pauli error rates\")\n",
    "for pauli_label in pauli_request_list:\n",
    "    print(pauli_label[::-1], error_list[pauli_label])"
   ]
  },
  {
   "cell_type": "code",
   "execution_count": 6,
   "metadata": {},
   "outputs": [
    {
     "data": {
      "text/plain": [
       "<BarContainer object of 15 artists>"
      ]
     },
     "execution_count": 6,
     "metadata": {},
     "output_type": "execute_result"
    },
    {
     "data": {
      "image/png": "[encoded data removed]",
      "text/plain": [
       "<Figure size 640x480 with 1 Axes>"
      ]
     },
     "metadata": {},
     "output_type": "display_data"
    }
   ],
   "source": [
    "plt.bar([label for label in error_list.keys()][1:],[error_list[label] for label in error_list.keys()][1:])"
   ]
  },
  {
   "cell_type": "markdown",
   "metadata": {},
   "source": [
    "Similarly, in the estimation $\\hat{p}_{XI}=\\hat{p}_{XX}=0.0025$ due to degeneracy."
   ]
  },
  {
   "cell_type": "code",
   "execution_count": 7,
   "metadata": {},
   "outputs": [
    {
     "name": "stdout",
     "output_type": "stream",
     "text": [
      "Label / True infidelity/ True Pauli error\n",
      "II   0.0   0.0\n",
      "XI   0.0   0.01\n",
      "YI   0.02   0.0\n",
      "ZI   0.02   0.0\n",
      "IX   0.0   0.01\n",
      "XX   0.0   0.0\n",
      "YX   0.02   0.0\n",
      "ZX   0.02   0.0\n",
      "IY   0.02   0.0\n",
      "XY   0.02   0.0\n",
      "YY   0.04   0.0\n",
      "ZY   0.04   0.0\n",
      "IZ   0.02   0.0\n",
      "XZ   0.02   0.0\n",
      "YZ   0.04   0.0\n",
      "ZZ   0.04   0.0\n"
     ]
    }
   ],
   "source": [
    "# True value for this specific noise model\n",
    "def f_true(P):\n",
    "    ans = 0.0\n",
    "    for Pi in P:\n",
    "        if Pi == 'Z' or Pi == 'Y':\n",
    "            ans += 2*eps\n",
    "    return ans\n",
    "def p_true(P):\n",
    "    if P == \"XI\" or P == \"IX\":\n",
    "        return eps\n",
    "    else:\n",
    "        return 0.0\n",
    "\n",
    "print(\"Label / True infidelity/ True Pauli error\")\n",
    "for P in pauli_request_list:\n",
    "    print(P[::-1],\" \",f_true(P),\" \",p_true(P))"
   ]
  },
  {
   "cell_type": "code",
   "execution_count": 8,
   "metadata": {},
   "outputs": [
    {
     "name": "stdout",
     "output_type": "stream",
     "text": [
      "II 0.0\n",
      "XI 3.3201099060020667e-06\n",
      "YI -0.0005111871584372145\n",
      "ZI -0.00033004173029758596\n",
      "IX -2.4565815118782197e-05\n",
      "XX -6.963699108464283e-06\n",
      "YX -0.0005570673255199492\n",
      "ZX -0.0003608693658354416\n",
      "IY 0.009727975101719095\n",
      "XY 0.009694016999577743\n",
      "YY -0.010444557418704058\n",
      "ZY -0.010403352430777467\n",
      "IZ 0.009820235421757268\n",
      "XZ 0.009793584856456001\n",
      "YZ -0.010338551447318066\n",
      "ZZ -0.010319975755474907\n"
     ]
    }
   ],
   "source": [
    "plot_dic={}\n",
    "for pauli_label in pauli_request_list:\n",
    "    print(pauli_label[::-1], (1-fidelity_list[pauli_label])-f_true(pauli_label))\n",
    "    plot_dic[pauli_label[::-1]]=(1-fidelity_list[pauli_label])-f_true(pauli_label)"
   ]
  },
  {
   "cell_type": "code",
   "execution_count": 9,
   "metadata": {},
   "outputs": [
    {
     "name": "stdout",
     "output_type": "stream",
     "text": [
      "{'II': 0.0, 'XI': 3.3201099060020667e-06, 'YI': -0.0005111871584372145, 'ZI': -0.00033004173029758596, 'IX': -2.4565815118782197e-05, 'XX': -6.963699108464283e-06, 'YX': -0.0005570673255199492, 'ZX': -0.0003608693658354416, 'IY': 0.009727975101719095, 'XY': 0.009694016999577743, 'YY': -0.010444557418704058, 'ZY': -0.010403352430777467, 'IZ': 0.009820235421757268, 'XZ': 0.009793584856456001, 'YZ': -0.010338551447318066, 'ZZ': -0.010319975755474907}\n"
     ]
    }
   ],
   "source": [
    "print (plot_dic)"
   ]
  },
  {
   "cell_type": "code",
   "execution_count": 10,
   "metadata": {},
   "outputs": [],
   "source": [
    "# plot_c100={}\n",
    "# plot_c100=plot_dic"
   ]
  },
  {
   "cell_type": "code",
   "execution_count": 11,
   "metadata": {},
   "outputs": [],
   "source": [
    "# plot_c30={}\n",
    "# plot_c30=plot_dic"
   ]
  },
  {
   "cell_type": "code",
   "execution_count": 12,
   "metadata": {},
   "outputs": [],
   "source": [
    "# plot_c20={}\n",
    "# plot_c20=plot_dic"
   ]
  },
  {
   "cell_type": "code",
   "execution_count": 13,
   "metadata": {},
   "outputs": [],
   "source": [
    "# plot_c10={}\n",
    "# plot_c10=plot_dic"
   ]
  },
  {
   "cell_type": "code",
   "execution_count": 14,
   "metadata": {},
   "outputs": [],
   "source": [
    "# plot_c5={}\n",
    "# plot_c5=plot_dic"
   ]
  },
  {
   "cell_type": "code",
   "execution_count": 15,
   "metadata": {},
   "outputs": [],
   "source": [
    "# plot_c3={}\n",
    "# plot_c3=plot_dic"
   ]
  },
  {
   "cell_type": "code",
   "execution_count": 16,
   "metadata": {},
   "outputs": [
    {
     "ename": "NameError",
     "evalue": "name 'plot_c100' is not defined",
     "output_type": "error",
     "traceback": [
      "\u001b[0;31m---------------------------------------------------------------------------\u001b[0m",
      "\u001b[0;31mNameError\u001b[0m                                 Traceback (most recent call last)",
      "Input \u001b[0;32mIn [16]\u001b[0m, in \u001b[0;36m<cell line: 2>\u001b[0;34m()\u001b[0m\n\u001b[1;32m      1\u001b[0m plt\u001b[38;5;241m.\u001b[39mfigure(figsize\u001b[38;5;241m=\u001b[39m(\u001b[38;5;241m15\u001b[39m,\u001b[38;5;241m10\u001b[39m))\n\u001b[0;32m----> 2\u001b[0m plt\u001b[38;5;241m.\u001b[39mplot(\u001b[38;5;28mlist\u001b[39m(\u001b[43mplot_c100\u001b[49m\u001b[38;5;241m.\u001b[39mkeys()),\u001b[38;5;28mlist\u001b[39m(plot_c100\u001b[38;5;241m.\u001b[39mvalues()),\u001b[38;5;124m\"\u001b[39m\u001b[38;5;124m*\u001b[39m\u001b[38;5;124m\"\u001b[39m,markersize\u001b[38;5;241m=\u001b[39m\u001b[38;5;241m10\u001b[39m)\n\u001b[1;32m      3\u001b[0m plt\u001b[38;5;241m.\u001b[39mplot(\u001b[38;5;28mlist\u001b[39m(plot_c30\u001b[38;5;241m.\u001b[39mkeys()),\u001b[38;5;28mlist\u001b[39m(plot_c30\u001b[38;5;241m.\u001b[39mvalues()),\u001b[38;5;124m\"\u001b[39m\u001b[38;5;124m*\u001b[39m\u001b[38;5;124m\"\u001b[39m,markersize\u001b[38;5;241m=\u001b[39m\u001b[38;5;241m10\u001b[39m)\n\u001b[1;32m      4\u001b[0m plt\u001b[38;5;241m.\u001b[39mplot(\u001b[38;5;28mlist\u001b[39m(plot_c20\u001b[38;5;241m.\u001b[39mkeys()),\u001b[38;5;28mlist\u001b[39m(plot_c20\u001b[38;5;241m.\u001b[39mvalues()),\u001b[38;5;124m\"\u001b[39m\u001b[38;5;124m*\u001b[39m\u001b[38;5;124m\"\u001b[39m,markersize\u001b[38;5;241m=\u001b[39m\u001b[38;5;241m10\u001b[39m)\n",
      "\u001b[0;31mNameError\u001b[0m: name 'plot_c100' is not defined"
     ]
    },
    {
     "data": {
      "text/plain": [
       "<Figure size 1080x720 with 0 Axes>"
      ]
     },
     "metadata": {},
     "output_type": "display_data"
    }
   ],
   "source": [
    "plt.figure(figsize=(15,10))\n",
    "plt.plot(list(plot_c100.keys()),list(plot_c100.values()),\"*\",markersize=10)\n",
    "plt.plot(list(plot_c30.keys()),list(plot_c30.values()),\"*\",markersize=10)\n",
    "plt.plot(list(plot_c20.keys()),list(plot_c20.values()),\"*\",markersize=10)\n",
    "plt.plot(list(plot_c10.keys()),list(plot_c10.values()),\"*\",markersize=10)\n",
    "plt.plot(list(plot_c5.keys()),list(plot_c5.values()),\"*\",markersize=10)\n",
    "# plt.plot(list(plot_c3.keys()),list(plot_c3.values()),\"*\",markersize=10)\n",
    "plt.legend([\"C=100\",\"C=30\",\"C=20\",\"C=10\",\"C=5\"])\n",
    "plt.ylabel(\"f_measure - f_true\",fontsize=20)\n",
    "plt.savefig(\"eps=0.01 single CNOT EAB.pdf\",format=\"pdf\",dpi=500)"
   ]
  },
  {
   "cell_type": "code",
   "execution_count": null,
   "metadata": {},
   "outputs": [],
   "source": [
    "print (eab_result)"
   ]
  },
  {
   "cell_type": "code",
   "execution_count": 8,
   "metadata": {},
   "outputs": [
    {
     "name": "stdout",
     "output_type": "stream",
     "text": [
      "1\n",
      "2\n"
     ]
    }
   ],
   "source": [
    "for i in range (1,3):\n",
    "    print (i)"
   ]
  },
  {
   "cell_type": "code",
   "execution_count": null,
   "metadata": {},
   "outputs": [],
   "source": []
  }
 ],
 "metadata": {
  "kernelspec": {
   "display_name": "Python 3 (ipykernel)",
   "language": "python",
   "name": "python3"
  },
  "language_info": {
   "codemirror_mode": {
    "name": "ipython",
    "version": 3
   },
   "file_extension": ".py",
   "mimetype": "text/x-python",
   "name": "python",
   "nbconvert_exporter": "python",
   "pygments_lexer": "ipython3",
   "version": "3.8.12"
  },
  "vscode": {
   "interpreter": {
    "hash": "eb0ed426dfdf04494def9e575b5f0e4953a90811145bd0c3aaa77ba1aa39290a"
   }
  }
 },
 "nbformat": 4,
 "nbformat_minor": 2
}
