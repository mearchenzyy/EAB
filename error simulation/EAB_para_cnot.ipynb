{
 "cells": [
  {
   "cell_type": "markdown",
   "metadata": {},
   "source": [
    "# Entanglement-assisted benchmarking\n",
    "\n",
    "- With parallel CNOT\n",
    "\n"
   ]
  },
  {
   "cell_type": "code",
   "execution_count": 7,
   "metadata": {},
   "outputs": [],
   "source": [
    "import numpy as np\n",
    "import sys, json, copy, time, pickle, random\n",
    "from concurrent.futures import ThreadPoolExecutor\n",
    "import qiskit\n",
    "from qiskit import IBMQ, QuantumCircuit, execute\n",
    "from qiskit.providers.aer import StatevectorSimulator, AerSimulator\n",
    "from qiskit.providers.aer.noise import NoiseModel, pauli_error, amplitude_damping_error, ReadoutError,depolarizing_error\n",
    "# from qiskit.providers.ibmq.managed import IBMQJobManager, ManagedJobSet\n",
    "# from qiskit.providers.ibmq.apiconstants import ApiJobShareLevel\n",
    "from qiskit.quantum_info.operators.symplectic import pauli\n",
    "# from qubit_map import my_qubit_maps\n",
    "import matplotlib.pyplot as plt\n",
    "from scipy.stats import sem, unitary_group\n",
    "from scipy import sparse\n",
    "# import EAB_submit, EAB_process\n",
    "# import EAB_submit_2 as EAB_submit\n",
    "# import EAB_process\n",
    "from statistics import stdev\n",
    "import itertools\n",
    "from qiskit.compiler import transpile\n",
    "\n",
    "from qiskit.quantum_info import Pauli\n",
    "\n",
    "sys.path.append(r\"/Users/yzhu/yzhu_work/gates projects/EAB/EAB_code from Senrui\")\n",
    "import EAB_submit, EAB_process\n",
    "from qubit_map import my_qubit_maps"
   ]
  },
  {
   "cell_type": "markdown",
   "metadata": {},
   "source": [
    "## Additional functions"
   ]
  },
  {
   "cell_type": "code",
   "execution_count": 8,
   "metadata": {},
   "outputs": [],
   "source": [
    "## Additional functions\n",
    "\n",
    "def int_to_pauli(i,n):\n",
    "    p = np.base_repr(i,base=4)\n",
    "    p = '0'*(n-len(p)) + p\n",
    "    p = p.replace('0','I').replace('1', 'X').replace('2', 'Y').replace('3', 'Z')\n",
    "    return p\n",
    "\n",
    "def commute(p,q):\n",
    "    c = 1\n",
    "    n = len(p)\n",
    "    for i in range(n):\n",
    "        if p[i] != 'I' and q[i] != 'I':\n",
    "            if p[i] != q[i]:\n",
    "                c *= -1\n",
    "    return c\n",
    "\n",
    "def fidelity_to_error(pauli_fidelity,n):\n",
    "    N = 4**n\n",
    "    pauli_error = {}\n",
    "    for i in range(N):\n",
    "        p = int_to_pauli(i,n)\n",
    "        pauli_error[p] = 0\n",
    "        for j in range(N):\n",
    "            q = int_to_pauli(j,n)\n",
    "            pauli_error[p] += pauli_fidelity[q] * commute(p,q) / N\n",
    "    return pauli_error\n",
    "    "
   ]
  },
  {
   "cell_type": "markdown",
   "metadata": {},
   "source": [
    "## Data generation"
   ]
  },
  {
   "cell_type": "code",
   "execution_count": 13,
   "metadata": {},
   "outputs": [
    {
     "name": "stdout",
     "output_type": "stream",
     "text": [
      "NoiseModel:\n",
      "  Basis gates: ['cx', 'id', 'rz', 'sx']\n",
      "  Instructions with noise: ['cx']\n",
      "  Qubits with noise: [0, 1, 2, 3]\n",
      "  Specific qubit errors: [('cx', (0, 2)), ('cx', (1, 3))]\n",
      "EAB,  n=2\n",
      "simulation method: A C++ Clifford stabilizer simulator with noise\n",
      "created 100 circuits\n",
      "length of data_batch 100\n",
      "     ┌───┐           ░ ┌───┐┌───┐┌───┐┌───┐┌───┐     ┌───┐┌───┐┌───┐ ░ ┌───┐»\n",
      "q_0: ┤ H ├──■────────░─┤ Z ├┤ Z ├┤ H ├┤ X ├┤ Z ├──■──┤ S ├┤ H ├┤ X ├─░─┤ X ├»\n",
      "     ├───┤  │        ░ ├───┤└───┘└───┘└───┘└───┘┌─┴─┐├───┤├───┤├───┤ ░ ├───┤»\n",
      "q_1: ┤ H ├──┼────■───░─┤ I ├────────────────────┤ X ├┤ H ├┤ S ├┤ H ├─░─┤ Z ├»\n",
      "     └───┘┌─┴─┐  │   ░ └───┘                    └───┘└───┘└───┘└───┘ ░ └───┘»\n",
      "q_2: ─────┤ X ├──┼───░──────────────────────────────────────────────────────»\n",
      "          └───┘┌─┴─┐ ░                                                      »\n",
      "q_3: ──────────┤ X ├─░──────────────────────────────────────────────────────»\n",
      "               └───┘ ░                                                      »\n",
      "c: 4/═══════════════════════════════════════════════════════════════════════»\n",
      "                                                                            »\n",
      "«     ┌───┐┌───┐┌───┐┌───┐     ┌───┐┌───┐┌───┐ ░ ┌───┐ ░      ┌───┐      ░ ┌─┐»\n",
      "«q_0: ┤ Z ├┤ H ├┤ X ├┤ Z ├──■──┤ S ├┤ H ├┤ X ├─░─┤ I ├─░───■──┤ H ├──────░─┤M├»\n",
      "«     └───┘└───┘└───┘└───┘┌─┴─┐├───┤├───┤├───┤ ░ ├───┤ ░   │  └───┘┌───┐ ░ └╥┘»\n",
      "«q_1: ────────────────────┤ X ├┤ H ├┤ S ├┤ H ├─░─┤ I ├─░───┼────■──┤ H ├─░──╫─»\n",
      "«                         └───┘└───┘└───┘└───┘ ░ └───┘ ░ ┌─┴─┐  │  └───┘ ░  ║ »\n",
      "«q_2: ─────────────────────────────────────────────────░─┤ X ├──┼────────░──╫─»\n",
      "«                                                      ░ └───┘┌─┴─┐      ░  ║ »\n",
      "«q_3: ─────────────────────────────────────────────────░──────┤ X ├──────░──╫─»\n",
      "«                                                      ░      └───┘      ░  ║ »\n",
      "«c: 4/══════════════════════════════════════════════════════════════════════╩═»\n",
      "«                                                                           0 »\n",
      "«              \n",
      "«q_0: ─────────\n",
      "«     ┌─┐      \n",
      "«q_1: ┤M├──────\n",
      "«     └╥┘┌─┐   \n",
      "«q_2: ─╫─┤M├───\n",
      "«      ║ └╥┘┌─┐\n",
      "«q_3: ─╫──╫─┤M├\n",
      "«      ║  ║ └╥┘\n",
      "«c: 4/═╩══╩══╩═\n",
      "«      1  2  3 \n",
      "OPENQASM 2.0;\n",
      "include \"qelib1.inc\";\n",
      "qreg q[4];\n",
      "creg c[4];\n",
      "h q[0];\n",
      "cx q[0],q[2];\n",
      "h q[1];\n",
      "cx q[1],q[3];\n",
      "barrier q[0],q[1],q[2],q[3];\n",
      "z q[0];\n",
      "id q[1];\n",
      "z q[0];\n",
      "h q[0];\n",
      "x q[0];\n",
      "z q[0];\n",
      "cx q[0],q[1];\n",
      "s q[0];\n",
      "h q[0];\n",
      "x q[0];\n",
      "h q[1];\n",
      "s q[1];\n",
      "h q[1];\n",
      "barrier q[0],q[1];\n",
      "x q[0];\n",
      "z q[1];\n",
      "z q[0];\n",
      "h q[0];\n",
      "x q[0];\n",
      "z q[0];\n",
      "cx q[0],q[1];\n",
      "s q[0];\n",
      "h q[0];\n",
      "x q[0];\n",
      "h q[1];\n",
      "s q[1];\n",
      "h q[1];\n",
      "barrier q[0],q[1];\n",
      "id q[0];\n",
      "id q[1];\n",
      "barrier q[0],q[1],q[2],q[3];\n",
      "cx q[0],q[2];\n",
      "h q[0];\n",
      "cx q[1],q[3];\n",
      "h q[1];\n",
      "barrier q[0],q[1],q[2],q[3];\n",
      "measure q[0] -> c[0];\n",
      "measure q[1] -> c[1];\n",
      "measure q[2] -> c[2];\n",
      "measure q[3] -> c[3];\n",
      "\n"
     ]
    },
    {
     "name": "stderr",
     "output_type": "stream",
     "text": [
      "/var/folders/6l/f5pw0tyx785dhvmqpb7282h00000gn/T/ipykernel_78803/3188363930.py:122: DeprecationWarning: The method ``qiskit.circuit.quantumcircuit.QuantumCircuit.qasm()`` is deprecated as of qiskit 0.46. It will be removed in the 1.0.0 release. Instead use the qiskit.qasm2.dump() or qiskit.qasm2.dumps() function\n",
      "  print (eab_circ_all[0][0].qasm())\n"
     ]
    },
    {
     "name": "stdout",
     "output_type": "stream",
     "text": [
      "4993948144\n"
     ]
    }
   ],
   "source": [
    "\n",
    "use_density_matrix = False # density matrix based / measurement based simulation\n",
    "\n",
    "# choose one\n",
    "use_ibmq = False\n",
    "use_stabilizer_simulator = True # whether stabilizer simulator is used (valid only for Pauli noise)\n",
    "use_density_matrix_sample = False # use density matrix simulation, but returns samples\n",
    "use_state_vector_sample = False # use state vector simulation, which returns samples\n",
    "\n",
    "# parameters: n, Lrange, C, shots\n",
    "use_readout_error = True\n",
    "shots = 1000\n",
    "n = 2 # num of qubit\n",
    "n_total = 2*n\n",
    "# Lrange = list(range(2,39,4)) # len = 10\n",
    "Lrange = [2**x for x in range(1,6)]\n",
    "C = 20\n",
    "batch = 1\n",
    "gset = \"Pauli\"\n",
    "q = my_qubit_maps['local']\n",
    "repeat = [1 for k in Lrange] # not used\n",
    "periodic = False # not used\n",
    "\n",
    "# For specific IBM device structure\n",
    "# TODO: put these in qubit_map.py\n",
    "# q = {\n",
    "#     0:0,\n",
    "#     2:1,\n",
    "#     1:3,\n",
    "#     3:4,\n",
    "#     4:2\n",
    "# }\n",
    "# q = {\n",
    "#     0:0,\n",
    "#     2:1,\n",
    "#     1:2,\n",
    "#     3:3,\n",
    "#     4:4\n",
    "# }\n",
    "\n",
    "clifford_layer = 'XX'\n",
    "# clifford_layer = 'Id'\n",
    "\n",
    "# Simulation parameters\n",
    "eps = 0.01# two parallel Cnot ~ 2%\n",
    "# eps_amp = 0.025 # SPAM error at CNOT\n",
    "eps_readout = 0.005 # readout bitflip ~ 1%\n",
    "# eps_cross = 0.025 # SPAM error at CNOT\n",
    "\n",
    "noise_model = NoiseModel()\n",
    "# # noise_model.add_all_qubit_quantum_error(pauli_error([('I',1-eps),('X',eps)]),['id', 'x', 'y','z'])\n",
    "# noise_model.add_all_qubit_quantum_error(pauli_error([('II',(1-eps)**2),('XX',eps**2),('IX',eps*(1-eps)),('XI',eps*(1-eps))]),['cx'])\n",
    "#depolarizing error\n",
    "error = depolarizing_error(0.1, 2)\n",
    "noise_model.add_quantum_error(error, ['cx'], [0,2])\n",
    "noise_model.add_quantum_error(error, ['cx'], [1,3])\n",
    "print (noise_model)\n",
    "\n",
    "# # phase/amplitude damping error\n",
    "# amp_noise_1q = amplitude_damping_error(eps_amp)\n",
    "# noise_model.add_all_qubit_quantum_error(amp_noise_1q.tensor(amp_noise_1q),['cx'])\n",
    "\n",
    "# # crosstalk between CNOTs (choose it to be ZZ)\n",
    "# crosstalk_noise = pauli_error([('II',1-eps_cross),('ZZ',eps_cross)])\n",
    "# for i in range(n-2):\n",
    "#     noise_model.add_nonlocal_quantum_error(crosstalk_noise, ['cx'], [i,i+1], [i+1,i+2])\n",
    "# noise_model.add_nonlocal_quantum_error(crosstalk_noise, ['cx'], [n-2,n-1], [n-1,0])\n",
    "# noise_model.add_nonlocal_quantum_error(crosstalk_noise, ['cx'], [n-1,0], [0,1])\n",
    "\n",
    "# readout error\n",
    "if use_readout_error is True:\n",
    "    p0given1 = eps_readout\n",
    "    p1given0 = eps_readout\n",
    "    readout_noise_1q = ReadoutError([[1 - p1given0, p1given0], [p0given1, 1 - p0given1]])\n",
    "    noise_model.add_all_qubit_readout_error(readout_noise_1q)\n",
    "\n",
    "\n",
    "\n",
    "if use_ibmq is False:\n",
    "    filename = 'sim_eab_cnot_2022oct'\n",
    "else:\n",
    "    filename = 'exp_eab_cnot_2022oct'\n",
    "    job_manager = IBMQJobManager()\n",
    "\n",
    "\n",
    "\n",
    "if use_density_matrix or use_density_matrix_sample:\n",
    "    backend = AerSimulator(method='density_matrix', noise_model=noise_model)\n",
    "elif use_state_vector_sample:\n",
    "    backend = AerSimulator(method='statevector', noise_model=noise_model)\n",
    "elif use_stabilizer_simulator:\n",
    "    backend = AerSimulator(method='stabilizer', noise_model=noise_model)\n",
    "elif use_ibmq:\n",
    "    provider = IBMQ.load_account()\n",
    "    backend = provider.get_backend('ibmq_manila')\n",
    "else:\n",
    "    assert 1==0\n",
    "\n",
    "print(\"EAB, \", \"n=%d\" % n)\n",
    "print(\"simulation method:\", backend.configuration().description)\n",
    "\n",
    "\n",
    "\n",
    "data = {}\n",
    "token = ''.join(random.choice([str(j) for j in range(10)]) for i in range(10))\n",
    "filename += '_' + token\n",
    "\n",
    "\n",
    "# generate EAB circuit:\n",
    "#Lrange: depth\n",
    "#C=sample size per depth\n",
    "# batch: 1??\n",
    "#qubit_map=\n",
    "#gset= Pauli\n",
    "#repeat=[1,1,1,1,1]??\n",
    "# periodic=False??\n",
    "eab_data, eab_circ_all = EAB_submit.submit_eab(n,n_total,clifford_layer = clifford_layer,Lrange=Lrange,C=C,batch=batch, qubit_map=q,gset=gset,repeat=repeat,periodic=periodic,use_density_matrix=use_density_matrix)\n",
    "print(\"created %d circuits\" % len(eab_circ_all[0]))\n",
    "data_batch = eab_data[\"batch_0\"]\n",
    "print(\"length of data_batch %d\" %len(data_batch))\n",
    "\n",
    "print(eab_circ_all[0][0]) # print a typical example\n",
    "print (eab_circ_all[0][0].qasm())\n",
    "# print(transpile(eab_circ_all[0][0],basis_gates=backend.configuration().basis_gates))\n",
    "# print(transpile(eab_circ_all[0][0],optimization_level=3,basis_gates=backend.configuration().basis_gates,coupling_map=backend.configuration().coupling_map,initial_layout=q))\n",
    "\n",
    "# sys.exit(0)\n",
    "\n",
    "if use_density_matrix is True:\n",
    "    job = backend.run(eab_circ_all[0], shots=1, max_parallel_experiments=0) \n",
    "elif use_ibmq is False:\n",
    "    job = backend.run(eab_circ_all[0], shots=shots, max_parallel_experiments=0) \n",
    "else:\n",
    "    job = backend.run(transpile(eab_circ_all[0],basis_gates=backend.configuration().basis_gates), shots=shots) \n",
    "result = job.result()\n",
    "eab_data[\"result\"] = [result.to_dict()]\n",
    "\n",
    "eab_data[\"parameters\"] = {}\n",
    "eab_data[\"parameters\"]['n'] = n \n",
    "eab_data[\"parameters\"]['n_total'] = n_total\n",
    "eab_data[\"parameters\"]['shots'] = shots \n",
    "eab_data[\"parameters\"]['Lrange'] = Lrange \n",
    "eab_data[\"parameters\"]['C'] = C\n",
    "eab_data[\"parameters\"]['eps_readout'] = eps_readout\n",
    "eab_data[\"parameters\"]['repeat'] = repeat\n",
    "\n",
    "eab_data['token'] = token\n",
    "\n",
    "# if use_ibmq is False:\n",
    "#     eab_data[\"result\"] = [result]\n",
    "# else:\n",
    "#     eab_data[\"job_set_id\"] = job_set_id\n",
    "\n",
    "# test: data saving\n",
    "# print(eab_data)\n",
    "print(token)\n",
    "# open ('data/' + filename, 'x')\n",
    "with open('/Volumes/funkflower/Users/Yingyue/Gates_Lab_Suite-master/PauliNoiseEstimation/EAB(code from Senrui)/data/' + filename, 'wb') as outfile:\n",
    "    pickle.dump(eab_data, outfile)\n",
    "\n",
    "# print(token)"
   ]
  },
  {
   "cell_type": "code",
   "execution_count": 14,
   "metadata": {},
   "outputs": [
    {
     "name": "stdout",
     "output_type": "stream",
     "text": [
      "{'1010': 4, '1000': 3, '0000': 3, '1001': 3, '1011': 3, '1111': 37, '1101': 35, '0110': 49, '0010': 42, '0111': 703, '0001': 4, '0011': 49, '0101': 53, '1110': 6, '1100': 6}\n",
      "Result(backend_name='aer_simulator', backend_version='0.13.2', qobj_id='', job_id='84d610eb-c443-4a62-be92-62ef1c23f9e8', success=True, results=[ExperimentResult(shots=1000, success=True, meas_level=2, data=ExperimentResultData(counts={'0xe': 4, '0x0': 3, '0xb': 4, '0xa': 1, '0x2': 41, '0xf': 51, '0xd': 38, '0x3': 51, '0x1': 3, '0x6': 40, '0xc': 2, '0x4': 4, '0x7': 711, '0x8': 3, '0x5': 44}), header=QobjExperimentHeader(creg_sizes=[['c', 4]], global_phase=0.0, memory_slots=4, metadata={}, n_qubits=4, name='circuit-1130', qreg_sizes=[['q', 4]]), status=DONE, seed_simulator=706845717, metadata={'num_bind_params': 1, 'runtime_parameter_bind': False, 'parallel_state_update': 1, 'parallel_shots': 1, 'noise': 'circuit', 'batched_shots_optimization': False, 'remapped_qubits': False, 'active_input_qubits': [0, 1, 2, 3], 'device': 'CPU', 'time_taken': 0.17425975, 'measure_sampling': False, 'num_clbits': 4, 'max_memory_mb': 16384, 'input_qubit_map': [[3, 3], [2, 2], [1, 1], [0, 0]], 'num_qubits': 4, 'method': 'stabilizer', 'required_memory_mb': 0, 'fusion': {'enabled': False}}, time_taken=0.17425975), ExperimentResult(shots=1000, success=True, meas_level=2, data=ExperimentResultData(counts={'0xa': 4, '0x8': 3, '0x0': 3, '0x9': 3, '0xb': 3, '0xf': 37, '0xd': 35, '0x6': 49, '0x2': 42, '0x7': 703, '0x1': 4, '0x3': 49, '0x5': 53, '0xe': 6, '0xc': 6}), header=QobjExperimentHeader(creg_sizes=[['c', 4]], global_phase=0.0, memory_slots=4, metadata={}, n_qubits=4, name='circuit-1133', qreg_sizes=[['q', 4]]), status=DONE, seed_simulator=706847830, metadata={'num_bind_params': 1, 'runtime_parameter_bind': False, 'parallel_state_update': 1, 'parallel_shots': 1, 'noise': 'circuit', 'batched_shots_optimization': False, 'remapped_qubits': False, 'active_input_qubits': [0, 1, 2, 3], 'device': 'CPU', 'time_taken': 0.154337334, 'measure_sampling': False, 'num_clbits': 4, 'max_memory_mb': 16384, 'input_qubit_map': [[3, 3], [2, 2], [1, 1], [0, 0]], 'num_qubits': 4, 'method': 'stabilizer', 'required_memory_mb': 0, 'fusion': {'enabled': False}}, time_taken=0.154337334), ExperimentResult(shots=1000, success=True, meas_level=2, data=ExperimentResultData(counts={'0x6': 2, '0xf': 3, '0xd': 3, '0x9': 4, '0x5': 37, '0xa': 36, '0x3': 5, '0x1': 42, '0xc': 5, '0x4': 45, '0x7': 4, '0x2': 44, '0x0': 719, '0xe': 3, '0x8': 48}), header=QobjExperimentHeader(creg_sizes=[['c', 4]], global_phase=0.0, memory_slots=4, metadata={}, n_qubits=4, name='circuit-1136', qreg_sizes=[['q', 4]]), status=DONE, seed_simulator=706849943, metadata={'num_bind_params': 1, 'runtime_parameter_bind': False, 'parallel_state_update': 1, 'parallel_shots': 1, 'noise': 'circuit', 'batched_shots_optimization': False, 'remapped_qubits': False, 'active_input_qubits': [0, 1, 2, 3], 'device': 'CPU', 'time_taken': 0.148299375, 'measure_sampling': False, 'num_clbits': 4, 'max_memory_mb': 16384, 'input_qubit_map': [[3, 3], [2, 2], [1, 1], [0, 0]], 'num_qubits': 4, 'method': 'stabilizer', 'required_memory_mb': 0, 'fusion': {'enabled': False}}, time_taken=0.148299375), ExperimentResult(shots=1000, success=True, meas_level=2, data=ExperimentResultData(counts={'0x6': 1, '0x2': 2, '0x8': 3, '0xe': 4, '0x9': 46, '0x0': 32, '0x5': 54, '0x3': 39, '0x1': 725, '0xc': 3, '0x4': 41, '0xb': 39, '0xa': 4, '0xd': 1, '0xf': 4, '0x7': 2}), header=QobjExperimentHeader(creg_sizes=[['c', 4]], global_phase=0.0, memory_slots=4, metadata={}, n_qubits=4, name='circuit-1139', qreg_sizes=[['q', 4]]), status=DONE, seed_simulator=706852056, metadata={'num_bind_params': 1, 'runtime_parameter_bind': False, 'parallel_state_update': 1, 'parallel_shots': 1, 'noise': 'circuit', 'batched_shots_optimization': False, 'remapped_qubits': False, 'active_input_qubits': [0, 1, 2, 3], 'device': 'CPU', 'time_taken': 0.137186042, 'measure_sampling': False, 'num_clbits': 4, 'max_memory_mb': 16384, 'input_qubit_map': [[3, 3], [2, 2], [1, 1], [0, 0]], 'num_qubits': 4, 'method': 'stabilizer', 'required_memory_mb': 0, 'fusion': {'enabled': False}}, time_taken=0.137186042), ExperimentResult(shots=1000, success=True, meas_level=2, data=ExperimentResultData(counts={'0x8': 2, '0x2': 1, '0x9': 2, '0x0': 40, '0xa': 3, '0x5': 50, '0xd': 6, '0xf': 2, '0x7': 4, '0x3': 2, '0x1': 37, '0xc': 52, '0x4': 715, '0x6': 46, '0xe': 38}), header=QobjExperimentHeader(creg_sizes=[['c', 4]], global_phase=0.0, memory_slots=4, metadata={}, n_qubits=4, name='circuit-1142', qreg_sizes=[['q', 4]]), status=DONE, seed_simulator=706854169, metadata={'num_bind_params': 1, 'runtime_parameter_bind': False, 'parallel_state_update': 1, 'parallel_shots': 1, 'noise': 'circuit', 'batched_shots_optimization': False, 'remapped_qubits': False, 'active_input_qubits': [0, 1, 2, 3], 'device': 'CPU', 'time_taken': 0.1719195, 'measure_sampling': False, 'num_clbits': 4, 'max_memory_mb': 16384, 'input_qubit_map': [[3, 3], [2, 2], [1, 1], [0, 0]], 'num_qubits': 4, 'method': 'stabilizer', 'required_memory_mb': 0, 'fusion': {'enabled': False}}, time_taken=0.1719195), ExperimentResult(shots=1000, success=True, meas_level=2, data=ExperimentResultData(counts={'0x9': 2, '0x8': 2, '0x0': 3, '0x6': 3, '0xf': 737, '0xd': 41, '0x5': 33, '0xa': 43, '0xc': 2, '0xe': 43, '0x3': 5, '0x7': 39, '0xb': 47}), header=QobjExperimentHeader(creg_sizes=[['c', 4]], global_phase=0.0, memory_slots=4, metadata={}, n_qubits=4, name='circuit-1145', qreg_sizes=[['q', 4]]), status=DONE, seed_simulator=706856282, metadata={'num_bind_params': 1, 'runtime_parameter_bind': False, 'parallel_state_update': 1, 'parallel_shots': 1, 'noise': 'circuit', 'batched_shots_optimization': False, 'remapped_qubits': False, 'active_input_qubits': [0, 1, 2, 3], 'device': 'CPU', 'time_taken': 0.206964625, 'measure_sampling': False, 'num_clbits': 4, 'max_memory_mb': 16384, 'input_qubit_map': [[3, 3], [2, 2], [1, 1], [0, 0]], 'num_qubits': 4, 'method': 'stabilizer', 'required_memory_mb': 0, 'fusion': {'enabled': False}}, time_taken=0.206964625), ExperimentResult(shots=1000, success=True, meas_level=2, data=ExperimentResultData(counts={'0xe': 2, '0xa': 3, '0x6': 2, '0xb': 1, '0x5': 42, '0x1': 2, '0x3': 1, '0x7': 32, '0xd': 722, '0xf': 44, '0x8': 44, '0xc': 44, '0x9': 50, '0x0': 8, '0x2': 3}), header=QobjExperimentHeader(creg_sizes=[['c', 4]], global_phase=0.0, memory_slots=4, metadata={}, n_qubits=4, name='circuit-1148', qreg_sizes=[['q', 4]]), status=DONE, seed_simulator=706858395, metadata={'num_bind_params': 1, 'runtime_parameter_bind': False, 'parallel_state_update': 1, 'parallel_shots': 1, 'noise': 'circuit', 'batched_shots_optimization': False, 'remapped_qubits': False, 'active_input_qubits': [0, 1, 2, 3], 'device': 'CPU', 'time_taken': 0.151175375, 'measure_sampling': False, 'num_clbits': 4, 'max_memory_mb': 16384, 'input_qubit_map': [[3, 3], [2, 2], [1, 1], [0, 0]], 'num_qubits': 4, 'method': 'stabilizer', 'required_memory_mb': 0, 'fusion': {'enabled': False}}, time_taken=0.151175375), ExperimentResult(shots=1000, success=True, meas_level=2, data=ExperimentResultData(counts={'0xf': 2, '0x2': 2, '0xa': 2, '0xe': 4, '0x8': 6, '0xb': 38, '0x5': 34, '0x9': 46, '0x6': 1, '0x3': 32, '0x1': 744, '0xc': 2, '0x4': 46, '0x7': 2, '0x0': 39}), header=QobjExperimentHeader(creg_sizes=[['c', 4]], global_phase=0.0, memory_slots=4, metadata={}, n_qubits=4, name='circuit-1151', qreg_sizes=[['q', 4]]), status=DONE, seed_simulator=706860508, metadata={'num_bind_params': 1, 'runtime_parameter_bind': False, 'parallel_state_update': 1, 'parallel_shots': 1, 'noise': 'circuit', 'batched_shots_optimization': False, 'remapped_qubits': False, 'active_input_qubits': [0, 1, 2, 3], 'device': 'CPU', 'time_taken': 0.147315958, 'measure_sampling': False, 'num_clbits': 4, 'max_memory_mb': 16384, 'input_qubit_map': [[3, 3], [2, 2], [1, 1], [0, 0]], 'num_qubits': 4, 'method': 'stabilizer', 'required_memory_mb': 0, 'fusion': {'enabled': False}}, time_taken=0.147315958), ExperimentResult(shots=1000, success=True, meas_level=2, data=ExperimentResultData(counts={'0xa': 1, '0xb': 1, '0x9': 4, '0xe': 5, '0x4': 35, '0x1': 50, '0x3': 3, '0xd': 40, '0xf': 36, '0x7': 45, '0x0': 47, '0x5': 733}), header=QobjExperimentHeader(creg_sizes=[['c', 4]], global_phase=0.0, memory_slots=4, metadata={}, n_qubits=4, name='circuit-1154', qreg_sizes=[['q', 4]]), status=DONE, seed_simulator=706862621, metadata={'num_bind_params': 1, 'runtime_parameter_bind': False, 'parallel_state_update': 1, 'parallel_shots': 1, 'noise': 'circuit', 'batched_shots_optimization': False, 'remapped_qubits': False, 'active_input_qubits': [0, 1, 2, 3], 'device': 'CPU', 'time_taken': 0.152497375, 'measure_sampling': False, 'num_clbits': 4, 'max_memory_mb': 16384, 'input_qubit_map': [[3, 3], [2, 2], [1, 1], [0, 0]], 'num_qubits': 4, 'method': 'stabilizer', 'required_memory_mb': 0, 'fusion': {'enabled': False}}, time_taken=0.152497375), ExperimentResult(shots=1000, success=True, meas_level=2, data=ExperimentResultData(counts={'0xb': 2, '0xa': 2, '0x7': 2, '0xd': 2, '0xf': 4, '0x9': 1, '0x5': 36, '0x8': 4, '0xe': 44, '0x4': 722, '0xc': 50, '0x2': 3, '0x0': 43, '0x6': 45, '0x3': 3, '0x1': 37}), header=QobjExperimentHeader(creg_sizes=[['c', 4]], global_phase=0.0, memory_slots=4, metadata={}, n_qubits=4, name='circuit-1157', qreg_sizes=[['q', 4]]), status=DONE, seed_simulator=706864734, metadata={'num_bind_params': 1, 'runtime_parameter_bind': False, 'parallel_state_update': 1, 'parallel_shots': 1, 'noise': 'circuit', 'batched_shots_optimization': False, 'remapped_qubits': False, 'active_input_qubits': [0, 1, 2, 3], 'device': 'CPU', 'time_taken': 0.177854417, 'measure_sampling': False, 'num_clbits': 4, 'max_memory_mb': 16384, 'input_qubit_map': [[3, 3], [2, 2], [1, 1], [0, 0]], 'num_qubits': 4, 'method': 'stabilizer', 'required_memory_mb': 0, 'fusion': {'enabled': False}}, time_taken=0.177854417), ExperimentResult(shots=1000, success=True, meas_level=2, data=ExperimentResultData(counts={'0xa': 3, '0xb': 1, '0x5': 3, '0x2': 7, '0xf': 3, '0xd': 36, '0x0': 5, '0x7': 2, '0x1': 1, '0x3': 6, '0xc': 732, '0x4': 39, '0x6': 49, '0x8': 38, '0xe': 35, '0x9': 40}), header=QobjExperimentHeader(creg_sizes=[['c', 4]], global_phase=0.0, memory_slots=4, metadata={}, n_qubits=4, name='circuit-1160', qreg_sizes=[['q', 4]]), status=DONE, seed_simulator=706866847, metadata={'num_bind_params': 1, 'runtime_parameter_bind': False, 'parallel_state_update': 1, 'parallel_shots': 1, 'noise': 'circuit', 'batched_shots_optimization': False, 'remapped_qubits': False, 'active_input_qubits': [0, 1, 2, 3], 'device': 'CPU', 'time_taken': 0.167064417, 'measure_sampling': False, 'num_clbits': 4, 'max_memory_mb': 16384, 'input_qubit_map': [[3, 3], [2, 2], [1, 1], [0, 0]], 'num_qubits': 4, 'method': 'stabilizer', 'required_memory_mb': 0, 'fusion': {'enabled': False}}, time_taken=0.167064417), ExperimentResult(shots=1000, success=True, meas_level=2, data=ExperimentResultData(counts={'0x7': 1, '0x6': 2, '0x5': 3, '0x2': 1, '0x0': 4, '0x4': 1, '0xc': 4, '0xe': 40, '0x8': 5, '0x3': 35, '0x1': 46, '0xa': 32, '0xd': 1, '0xf': 55, '0x9': 49, '0xb': 721}), header=QobjExperimentHeader(creg_sizes=[['c', 4]], global_phase=0.0, memory_slots=4, metadata={}, n_qubits=4, name='circuit-1163', qreg_sizes=[['q', 4]]), status=DONE, seed_simulator=706868960, metadata={'num_bind_params': 1, 'runtime_parameter_bind': False, 'parallel_state_update': 1, 'parallel_shots': 1, 'noise': 'circuit', 'batched_shots_optimization': False, 'remapped_qubits': False, 'active_input_qubits': [0, 1, 2, 3], 'device': 'CPU', 'time_taken': 0.169809875, 'measure_sampling': False, 'num_clbits': 4, 'max_memory_mb': 16384, 'input_qubit_map': [[3, 3], [2, 2], [1, 1], [0, 0]], 'num_qubits': 4, 'method': 'stabilizer', 'required_memory_mb': 0, 'fusion': {'enabled': False}}, time_taken=0.169809875), ExperimentResult(shots=1000, success=True, meas_level=2, data=ExperimentResultData(counts={'0xb': 2, '0x5': 1, '0xa': 2, '0x7': 4, '0x1': 2, '0x3': 3, '0xf': 3, '0xd': 43, '0x0': 2, '0x2': 6, '0xc': 717, '0x4': 52, '0x6': 36, '0x8': 44, '0xe': 45, '0x9': 38}), header=QobjExperimentHeader(creg_sizes=[['c', 4]], global_phase=0.0, memory_slots=4, metadata={}, n_qubits=4, name='circuit-1166', qreg_sizes=[['q', 4]]), status=DONE, seed_simulator=706871073, metadata={'num_bind_params': 1, 'runtime_parameter_bind': False, 'parallel_state_update': 1, 'parallel_shots': 1, 'noise': 'circuit', 'batched_shots_optimization': False, 'remapped_qubits': False, 'active_input_qubits': [0, 1, 2, 3], 'device': 'CPU', 'time_taken': 0.174126458, 'measure_sampling': False, 'num_clbits': 4, 'max_memory_mb': 16384, 'input_qubit_map': [[3, 3], [2, 2], [1, 1], [0, 0]], 'num_qubits': 4, 'method': 'stabilizer', 'required_memory_mb': 0, 'fusion': {'enabled': False}}, time_taken=0.174126458), ExperimentResult(shots=1000, success=True, meas_level=2, data=ExperimentResultData(counts={'0x6': 1, '0x2': 1, '0xa': 1, '0xb': 40, '0x9': 36, '0xf': 2, '0xd': 7, '0xe': 5, '0x8': 2, '0x3': 43, '0x1': 740, '0x4': 39, '0x7': 5, '0x0': 42, '0x5': 36}), header=QobjExperimentHeader(creg_sizes=[['c', 4]], global_phase=0.0, memory_slots=4, metadata={}, n_qubits=4, name='circuit-1169', qreg_sizes=[['q', 4]]), status=DONE, seed_simulator=706873186, metadata={'num_bind_params': 1, 'runtime_parameter_bind': False, 'parallel_state_update': 1, 'parallel_shots': 1, 'noise': 'circuit', 'batched_shots_optimization': False, 'remapped_qubits': False, 'active_input_qubits': [0, 1, 2, 3], 'device': 'CPU', 'time_taken': 0.15946125, 'measure_sampling': False, 'num_clbits': 4, 'max_memory_mb': 16384, 'input_qubit_map': [[3, 3], [2, 2], [1, 1], [0, 0]], 'num_qubits': 4, 'method': 'stabilizer', 'required_memory_mb': 0, 'fusion': {'enabled': False}}, time_taken=0.15946125), ExperimentResult(shots=1000, success=True, meas_level=2, data=ExperimentResultData(counts={'0x0': 1, '0x2': 2, '0xa': 1, '0x7': 2, '0x5': 3, '0x6': 2, '0x3': 52, '0x1': 41, '0xb': 40, '0xe': 4, '0x4': 1, '0xc': 37, '0x8': 42, '0xf': 11, '0xd': 37, '0x9': 724}), header=QobjExperimentHeader(creg_sizes=[['c', 4]], global_phase=0.0, memory_slots=4, metadata={}, n_qubits=4, name='circuit-1172', qreg_sizes=[['q', 4]]), status=DONE, seed_simulator=706875299, metadata={'num_bind_params': 1, 'runtime_parameter_bind': False, 'parallel_state_update': 1, 'parallel_shots': 1, 'noise': 'circuit', 'batched_shots_optimization': False, 'remapped_qubits': False, 'active_input_qubits': [0, 1, 2, 3], 'device': 'CPU', 'time_taken': 0.2019295, 'measure_sampling': False, 'num_clbits': 4, 'max_memory_mb': 16384, 'input_qubit_map': [[3, 3], [2, 2], [1, 1], [0, 0]], 'num_qubits': 4, 'method': 'stabilizer', 'required_memory_mb': 0, 'fusion': {'enabled': False}}, time_taken=0.2019295), ExperimentResult(shots=1000, success=True, meas_level=2, data=ExperimentResultData(counts={'0x2': 1, '0xe': 1, '0xa': 3, '0x3': 2, '0x1': 2, '0xb': 4, '0x0': 4, '0xc': 45, '0x4': 4, '0x6': 5, '0x5': 40, '0x8': 39, '0x9': 41, '0x7': 37, '0xf': 55, '0xd': 717}), header=QobjExperimentHeader(creg_sizes=[['c', 4]], global_phase=0.0, memory_slots=4, metadata={}, n_qubits=4, name='circuit-1175', qreg_sizes=[['q', 4]]), status=DONE, seed_simulator=706877412, metadata={'num_bind_params': 1, 'runtime_parameter_bind': False, 'parallel_state_update': 1, 'parallel_shots': 1, 'noise': 'circuit', 'batched_shots_optimization': False, 'remapped_qubits': False, 'active_input_qubits': [0, 1, 2, 3], 'device': 'CPU', 'time_taken': 0.174591458, 'measure_sampling': False, 'num_clbits': 4, 'max_memory_mb': 16384, 'input_qubit_map': [[3, 3], [2, 2], [1, 1], [0, 0]], 'num_qubits': 4, 'method': 'stabilizer', 'required_memory_mb': 0, 'fusion': {'enabled': False}}, time_taken=0.174591458), ExperimentResult(shots=1000, success=True, meas_level=2, data=ExperimentResultData(counts={'0x9': 2, '0xe': 4, '0xb': 3, '0x8': 3, '0x7': 46, '0xd': 54, '0xf': 37, '0x6': 3, '0xc': 1, '0x4': 37, '0x3': 1, '0x1': 32, '0x2': 4, '0x0': 47, '0x5': 726}), header=QobjExperimentHeader(creg_sizes=[['c', 4]], global_phase=0.0, memory_slots=4, metadata={}, n_qubits=4, name='circuit-1178', qreg_sizes=[['q', 4]]), status=DONE, seed_simulator=706879525, metadata={'num_bind_params': 1, 'runtime_parameter_bind': False, 'parallel_state_update': 1, 'parallel_shots': 1, 'noise': 'circuit', 'batched_shots_optimization': False, 'remapped_qubits': False, 'active_input_qubits': [0, 1, 2, 3], 'device': 'CPU', 'time_taken': 0.15870925, 'measure_sampling': False, 'num_clbits': 4, 'max_memory_mb': 16384, 'input_qubit_map': [[3, 3], [2, 2], [1, 1], [0, 0]], 'num_qubits': 4, 'method': 'stabilizer', 'required_memory_mb': 0, 'fusion': {'enabled': False}}, time_taken=0.15870925), ExperimentResult(shots=1000, success=True, meas_level=2, data=ExperimentResultData(counts={'0x8': 1, '0x6': 2, '0x2': 2, '0x9': 2, '0x0': 1, '0x3': 1, '0x1': 3, '0xb': 37, '0x4': 1, '0xc': 4, '0xe': 35, '0xf': 745, '0xd': 45, '0x5': 37, '0xa': 35, '0x7': 49}), header=QobjExperimentHeader(creg_sizes=[['c', 4]], global_phase=0.0, memory_slots=4, metadata={}, n_qubits=4, name='circuit-1181', qreg_sizes=[['q', 4]]), status=DONE, seed_simulator=706881638, metadata={'num_bind_params': 1, 'runtime_parameter_bind': False, 'parallel_state_update': 1, 'parallel_shots': 1, 'noise': 'circuit', 'batched_shots_optimization': False, 'remapped_qubits': False, 'active_input_qubits': [0, 1, 2, 3], 'device': 'CPU', 'time_taken': 0.157105292, 'measure_sampling': False, 'num_clbits': 4, 'max_memory_mb': 16384, 'input_qubit_map': [[3, 3], [2, 2], [1, 1], [0, 0]], 'num_qubits': 4, 'method': 'stabilizer', 'required_memory_mb': 0, 'fusion': {'enabled': False}}, time_taken=0.157105292), ExperimentResult(shots=1000, success=True, meas_level=2, data=ExperimentResultData(counts={'0xa': 2, '0x8': 2, '0x2': 4, '0xe': 3, '0x9': 52, '0x4': 34, '0xc': 3, '0x5': 47, '0x0': 47, '0x6': 5, '0x3': 38, '0x1': 720, '0xf': 2, '0xd': 3, '0x7': 5, '0xb': 33}), header=QobjExperimentHeader(creg_sizes=[['c', 4]], global_phase=0.0, memory_slots=4, metadata={}, n_qubits=4, name='circuit-1184', qreg_sizes=[['q', 4]]), status=DONE, seed_simulator=706883751, metadata={'num_bind_params': 1, 'runtime_parameter_bind': False, 'parallel_state_update': 1, 'parallel_shots': 1, 'noise': 'circuit', 'batched_shots_optimization': False, 'remapped_qubits': False, 'active_input_qubits': [0, 1, 2, 3], 'device': 'CPU', 'time_taken': 0.21777075, 'measure_sampling': False, 'num_clbits': 4, 'max_memory_mb': 16384, 'input_qubit_map': [[3, 3], [2, 2], [1, 1], [0, 0]], 'num_qubits': 4, 'method': 'stabilizer', 'required_memory_mb': 0, 'fusion': {'enabled': False}}, time_taken=0.21777075), ExperimentResult(shots=1000, success=True, meas_level=2, data=ExperimentResultData(counts={'0x9': 1, '0x2': 2, '0x0': 3, '0xf': 734, '0xd': 54, '0xa': 39, '0x3': 5, '0x1': 1, '0x5': 43, '0x4': 4, '0xc': 2, '0x8': 3, '0xe': 43, '0x7': 30, '0xb': 36}), header=QobjExperimentHeader(creg_sizes=[['c', 4]], global_phase=0.0, memory_slots=4, metadata={}, n_qubits=4, name='circuit-1187', qreg_sizes=[['q', 4]]), status=DONE, seed_simulator=706885864, metadata={'num_bind_params': 1, 'runtime_parameter_bind': False, 'parallel_state_update': 1, 'parallel_shots': 1, 'noise': 'circuit', 'batched_shots_optimization': False, 'remapped_qubits': False, 'active_input_qubits': [0, 1, 2, 3], 'device': 'CPU', 'time_taken': 0.136570792, 'measure_sampling': False, 'num_clbits': 4, 'max_memory_mb': 16384, 'input_qubit_map': [[3, 3], [2, 2], [1, 1], [0, 0]], 'num_qubits': 4, 'method': 'stabilizer', 'required_memory_mb': 0, 'fusion': {'enabled': False}}, time_taken=0.136570792), ExperimentResult(shots=1000, success=True, meas_level=2, data=ExperimentResultData(counts={'0x7': 3, '0xb': 3, '0x9': 2, '0xd': 4, '0xf': 3, '0x1': 45, '0x3': 7, '0x5': 38, '0xa': 37, '0x6': 3, '0xc': 5, '0x4': 46, '0x8': 45, '0xe': 2, '0x2': 46, '0x0': 711}), header=QobjExperimentHeader(creg_sizes=[['c', 4]], global_phase=0.0, memory_slots=4, metadata={}, n_qubits=4, name='circuit-1190', qreg_sizes=[['q', 4]]), status=DONE, seed_simulator=706887977, metadata={'num_bind_params': 1, 'runtime_parameter_bind': False, 'parallel_state_update': 1, 'parallel_shots': 1, 'noise': 'circuit', 'batched_shots_optimization': False, 'remapped_qubits': False, 'active_input_qubits': [0, 1, 2, 3], 'device': 'CPU', 'time_taken': 0.241973209, 'measure_sampling': False, 'num_clbits': 4, 'max_memory_mb': 16384, 'input_qubit_map': [[3, 3], [2, 2], [1, 1], [0, 0]], 'num_qubits': 4, 'method': 'stabilizer', 'required_memory_mb': 0, 'fusion': {'enabled': False}}, time_taken=0.241973209), ExperimentResult(shots=1000, success=True, meas_level=2, data=ExperimentResultData(counts={'0x6': 1, '0x7': 1, '0xe': 1, '0x5': 4, '0xb': 3, '0xc': 52, '0x4': 4, '0x3': 2, '0x1': 5, '0xa': 44, '0x9': 41, '0x2': 35, '0x0': 47, '0xf': 4, '0xd': 40, '0x8': 716}), header=QobjExperimentHeader(creg_sizes=[['c', 4]], global_phase=0.0, memory_slots=4, metadata={}, n_qubits=4, name='circuit-1193', qreg_sizes=[['q', 4]]), status=DONE, seed_simulator=706890090, metadata={'num_bind_params': 1, 'runtime_parameter_bind': False, 'parallel_state_update': 1, 'parallel_shots': 1, 'noise': 'circuit', 'batched_shots_optimization': False, 'remapped_qubits': False, 'active_input_qubits': [0, 1, 2, 3], 'device': 'CPU', 'time_taken': 0.22726025, 'measure_sampling': False, 'num_clbits': 4, 'max_memory_mb': 16384, 'input_qubit_map': [[3, 3], [2, 2], [1, 1], [0, 0]], 'num_qubits': 4, 'method': 'stabilizer', 'required_memory_mb': 0, 'fusion': {'enabled': False}}, time_taken=0.22726025), ExperimentResult(shots=1000, success=True, meas_level=2, data=ExperimentResultData(counts={'0x0': 1, '0x8': 2, '0x9': 3, '0x6': 3, '0x4': 2, '0xb': 43, '0x5': 33, '0xf': 752, '0xd': 39, '0xe': 39, '0xa': 33, '0x1': 1, '0x3': 2, '0x7': 47}), header=QobjExperimentHeader(creg_sizes=[['c', 4]], global_phase=0.0, memory_slots=4, metadata={}, n_qubits=4, name='circuit-1196', qreg_sizes=[['q', 4]]), status=DONE, seed_simulator=706892203, metadata={'num_bind_params': 1, 'runtime_parameter_bind': False, 'parallel_state_update': 1, 'parallel_shots': 1, 'noise': 'circuit', 'batched_shots_optimization': False, 'remapped_qubits': False, 'active_input_qubits': [0, 1, 2, 3], 'device': 'CPU', 'time_taken': 0.235466667, 'measure_sampling': False, 'num_clbits': 4, 'max_memory_mb': 16384, 'input_qubit_map': [[3, 3], [2, 2], [1, 1], [0, 0]], 'num_qubits': 4, 'method': 'stabilizer', 'required_memory_mb': 0, 'fusion': {'enabled': False}}, time_taken=0.235466667), ExperimentResult(shots=1000, success=True, meas_level=2, data=ExperimentResultData(counts={'0x2': 3, '0x7': 7, '0x6': 2, '0x0': 6, '0x5': 1, '0xc': 1, '0x4': 2, '0x3': 44, '0x1': 53, '0xa': 51, '0xd': 1, '0xf': 48, '0x9': 45, '0xb': 699, '0x8': 4, '0xe': 33}), header=QobjExperimentHeader(creg_sizes=[['c', 4]], global_phase=0.0, memory_slots=4, metadata={}, n_qubits=4, name='circuit-1199', qreg_sizes=[['q', 4]]), status=DONE, seed_simulator=706894316, metadata={'num_bind_params': 1, 'runtime_parameter_bind': False, 'parallel_state_update': 1, 'parallel_shots': 1, 'noise': 'circuit', 'batched_shots_optimization': False, 'remapped_qubits': False, 'active_input_qubits': [0, 1, 2, 3], 'device': 'CPU', 'time_taken': 0.254332875, 'measure_sampling': False, 'num_clbits': 4, 'max_memory_mb': 16384, 'input_qubit_map': [[3, 3], [2, 2], [1, 1], [0, 0]], 'num_qubits': 4, 'method': 'stabilizer', 'required_memory_mb': 0, 'fusion': {'enabled': False}}, time_taken=0.254332875), ExperimentResult(shots=1000, success=True, meas_level=2, data=ExperimentResultData(counts={'0xe': 1, '0x9': 3, '0xd': 1, '0x8': 38, '0xb': 1, '0x5': 3, '0x1': 4, '0x3': 44, '0x7': 40, '0xa': 48, '0x4': 5, '0x6': 51, '0x2': 722, '0x0': 39}), header=QobjExperimentHeader(creg_sizes=[['c', 4]], global_phase=0.0, memory_slots=4, metadata={}, n_qubits=4, name='circuit-1202', qreg_sizes=[['q', 4]]), status=DONE, seed_simulator=706896429, metadata={'num_bind_params': 1, 'runtime_parameter_bind': False, 'parallel_state_update': 1, 'parallel_shots': 1, 'noise': 'circuit', 'batched_shots_optimization': False, 'remapped_qubits': False, 'active_input_qubits': [0, 1, 2, 3], 'device': 'CPU', 'time_taken': 0.180246542, 'measure_sampling': False, 'num_clbits': 4, 'max_memory_mb': 16384, 'input_qubit_map': [[3, 3], [2, 2], [1, 1], [0, 0]], 'num_qubits': 4, 'method': 'stabilizer', 'required_memory_mb': 0, 'fusion': {'enabled': False}}, time_taken=0.180246542), ExperimentResult(shots=1000, success=True, meas_level=2, data=ExperimentResultData(counts={'0x5': 1, '0xb': 7, '0xc': 4, '0x4': 3, '0x9': 3, '0xa': 37, '0xd': 2, '0xf': 4, '0x1': 2, '0x3': 49, '0x7': 44, '0xe': 9, '0x8': 43, '0x0': 36, '0x2': 714, '0x6': 42}), header=QobjExperimentHeader(creg_sizes=[['c', 4]], global_phase=0.0, memory_slots=4, metadata={}, n_qubits=4, name='circuit-1205', qreg_sizes=[['q', 4]]), status=DONE, seed_simulator=706898542, metadata={'num_bind_params': 1, 'runtime_parameter_bind': False, 'parallel_state_update': 1, 'parallel_shots': 1, 'noise': 'circuit', 'batched_shots_optimization': False, 'remapped_qubits': False, 'active_input_qubits': [0, 1, 2, 3], 'device': 'CPU', 'time_taken': 0.213438666, 'measure_sampling': False, 'num_clbits': 4, 'max_memory_mb': 16384, 'input_qubit_map': [[3, 3], [2, 2], [1, 1], [0, 0]], 'num_qubits': 4, 'method': 'stabilizer', 'required_memory_mb': 0, 'fusion': {'enabled': False}}, time_taken=0.213438666), ExperimentResult(shots=1000, success=True, meas_level=2, data=ExperimentResultData(counts={'0xb': 1, '0x7': 7, '0xf': 5, '0xd': 2, '0xa': 36, '0x6': 3, '0x4': 40, '0x3': 1, '0x1': 35, '0xe': 3, '0x8': 44, '0x5': 38, '0x2': 46, '0x0': 739}), header=QobjExperimentHeader(creg_sizes=[['c', 4]], global_phase=0.0, memory_slots=4, metadata={}, n_qubits=4, name='circuit-1208', qreg_sizes=[['q', 4]]), status=DONE, seed_simulator=706900655, metadata={'num_bind_params': 1, 'runtime_parameter_bind': False, 'parallel_state_update': 1, 'parallel_shots': 1, 'noise': 'circuit', 'batched_shots_optimization': False, 'remapped_qubits': False, 'active_input_qubits': [0, 1, 2, 3], 'device': 'CPU', 'time_taken': 0.223689167, 'measure_sampling': False, 'num_clbits': 4, 'max_memory_mb': 16384, 'input_qubit_map': [[3, 3], [2, 2], [1, 1], [0, 0]], 'num_qubits': 4, 'method': 'stabilizer', 'required_memory_mb': 0, 'fusion': {'enabled': False}}, time_taken=0.223689167), ExperimentResult(shots=1000, success=True, meas_level=2, data=ExperimentResultData(counts={'0x5': 2, '0x8': 1, '0x0': 2, '0xb': 2, '0x9': 2, '0x2': 41, '0x3': 54, '0x7': 41, '0xd': 1, '0xf': 3, '0x4': 57, '0xc': 41, '0xe': 41, '0xa': 3, '0x6': 709}), header=QobjExperimentHeader(creg_sizes=[['c', 4]], global_phase=0.0, memory_slots=4, metadata={}, n_qubits=4, name='circuit-1211', qreg_sizes=[['q', 4]]), status=DONE, seed_simulator=706902768, metadata={'num_bind_params': 1, 'runtime_parameter_bind': False, 'parallel_state_update': 1, 'parallel_shots': 1, 'noise': 'circuit', 'batched_shots_optimization': False, 'remapped_qubits': False, 'active_input_qubits': [0, 1, 2, 3], 'device': 'CPU', 'time_taken': 0.208188083, 'measure_sampling': False, 'num_clbits': 4, 'max_memory_mb': 16384, 'input_qubit_map': [[3, 3], [2, 2], [1, 1], [0, 0]], 'num_qubits': 4, 'method': 'stabilizer', 'required_memory_mb': 0, 'fusion': {'enabled': False}}, time_taken=0.208188083), ExperimentResult(shots=1000, success=True, meas_level=2, data=ExperimentResultData(counts={'0x8': 1, '0x0': 5, '0xb': 2, '0xe': 2, '0x9': 3, '0xf': 52, '0xd': 51, '0x5': 40, '0x2': 36, '0xa': 5, '0x7': 709, '0x1': 3, '0x3': 43, '0x4': 3, '0x6': 45}), header=QobjExperimentHeader(creg_sizes=[['c', 4]], global_phase=0.0, memory_slots=4, metadata={}, n_qubits=4, name='circuit-1214', qreg_sizes=[['q', 4]]), status=DONE, seed_simulator=706904881, metadata={'num_bind_params': 1, 'runtime_parameter_bind': False, 'parallel_state_update': 1, 'parallel_shots': 1, 'noise': 'circuit', 'batched_shots_optimization': False, 'remapped_qubits': False, 'active_input_qubits': [0, 1, 2, 3], 'device': 'CPU', 'time_taken': 0.220582042, 'measure_sampling': False, 'num_clbits': 4, 'max_memory_mb': 16384, 'input_qubit_map': [[3, 3], [2, 2], [1, 1], [0, 0]], 'num_qubits': 4, 'method': 'stabilizer', 'required_memory_mb': 0, 'fusion': {'enabled': False}}, time_taken=0.220582042), ExperimentResult(shots=1000, success=True, meas_level=2, data=ExperimentResultData(counts={'0x7': 1, '0x2': 3, '0x5': 2, '0x9': 1, '0x0': 2, '0xf': 53, '0xd': 3, '0xb': 42, '0xa': 47, '0x3': 1, '0x1': 5, '0xc': 30, '0x4': 40, '0x6': 49, '0x8': 5, '0xe': 716}), header=QobjExperimentHeader(creg_sizes=[['c', 4]], global_phase=0.0, memory_slots=4, metadata={}, n_qubits=4, name='circuit-1217', qreg_sizes=[['q', 4]]), status=DONE, seed_simulator=706906994, metadata={'num_bind_params': 1, 'runtime_parameter_bind': False, 'parallel_state_update': 1, 'parallel_shots': 1, 'noise': 'circuit', 'batched_shots_optimization': False, 'remapped_qubits': False, 'active_input_qubits': [0, 1, 2, 3], 'device': 'CPU', 'time_taken': 0.245249833, 'measure_sampling': False, 'num_clbits': 4, 'max_memory_mb': 16384, 'input_qubit_map': [[3, 3], [2, 2], [1, 1], [0, 0]], 'num_qubits': 4, 'method': 'stabilizer', 'required_memory_mb': 0, 'fusion': {'enabled': False}}, time_taken=0.245249833), ExperimentResult(shots=1000, success=True, meas_level=2, data=ExperimentResultData(counts={'0x9': 3, '0xb': 5, '0xa': 4, '0x5': 34, '0x8': 2, '0xe': 30, '0x4': 733, '0xc': 47, '0xd': 3, '0xf': 2, '0x7': 3, '0x6': 47, '0x3': 2, '0x1': 29, '0x2': 2, '0x0': 54}), header=QobjExperimentHeader(creg_sizes=[['c', 4]], global_phase=0.0, memory_slots=4, metadata={}, n_qubits=4, name='circuit-1220', qreg_sizes=[['q', 4]]), status=DONE, seed_simulator=706909107, metadata={'num_bind_params': 1, 'runtime_parameter_bind': False, 'parallel_state_update': 1, 'parallel_shots': 1, 'noise': 'circuit', 'batched_shots_optimization': False, 'remapped_qubits': False, 'active_input_qubits': [0, 1, 2, 3], 'device': 'CPU', 'time_taken': 0.257262709, 'measure_sampling': False, 'num_clbits': 4, 'max_memory_mb': 16384, 'input_qubit_map': [[3, 3], [2, 2], [1, 1], [0, 0]], 'num_qubits': 4, 'method': 'stabilizer', 'required_memory_mb': 0, 'fusion': {'enabled': False}}, time_taken=0.257262709), ExperimentResult(shots=1000, success=True, meas_level=2, data=ExperimentResultData(counts={'0x9': 2, '0x6': 4, '0xb': 2, '0xa': 35, '0x7': 3, '0xd': 2, '0xf': 4, '0x3': 2, '0x1': 55, '0xc': 4, '0x4': 38, '0x5': 49, '0x0': 722, '0x2': 25, '0xe': 2, '0x8': 51}), header=QobjExperimentHeader(creg_sizes=[['c', 4]], global_phase=0.0, memory_slots=4, metadata={}, n_qubits=4, name='circuit-1223', qreg_sizes=[['q', 4]]), status=DONE, seed_simulator=706911220, metadata={'num_bind_params': 1, 'runtime_parameter_bind': False, 'parallel_state_update': 1, 'parallel_shots': 1, 'noise': 'circuit', 'batched_shots_optimization': False, 'remapped_qubits': False, 'active_input_qubits': [0, 1, 2, 3], 'device': 'CPU', 'time_taken': 0.244194375, 'measure_sampling': False, 'num_clbits': 4, 'max_memory_mb': 16384, 'input_qubit_map': [[3, 3], [2, 2], [1, 1], [0, 0]], 'num_qubits': 4, 'method': 'stabilizer', 'required_memory_mb': 0, 'fusion': {'enabled': False}}, time_taken=0.244194375), ExperimentResult(shots=1000, success=True, meas_level=2, data=ExperimentResultData(counts={'0xb': 3, '0x2': 3, '0x9': 5, '0xa': 3, '0x6': 7, '0xc': 4, '0x4': 39, '0x3': 3, '0x1': 42, '0xd': 55, '0xf': 32, '0x7': 48, '0xe': 6, '0x8': 2, '0x0': 37, '0x5': 711}), header=QobjExperimentHeader(creg_sizes=[['c', 4]], global_phase=0.0, memory_slots=4, metadata={}, n_qubits=4, name='circuit-1226', qreg_sizes=[['q', 4]]), status=DONE, seed_simulator=706913333, metadata={'num_bind_params': 1, 'runtime_parameter_bind': False, 'parallel_state_update': 1, 'parallel_shots': 1, 'noise': 'circuit', 'batched_shots_optimization': False, 'remapped_qubits': False, 'active_input_qubits': [0, 1, 2, 3], 'device': 'CPU', 'time_taken': 0.245955625, 'measure_sampling': False, 'num_clbits': 4, 'max_memory_mb': 16384, 'input_qubit_map': [[3, 3], [2, 2], [1, 1], [0, 0]], 'num_qubits': 4, 'method': 'stabilizer', 'required_memory_mb': 0, 'fusion': {'enabled': False}}, time_taken=0.245955625), ExperimentResult(shots=1000, success=True, meas_level=2, data=ExperimentResultData(counts={'0xc': 2, '0x9': 2, '0xe': 1, '0xb': 4, '0xf': 1, '0xd': 4, '0xa': 48, '0x1': 5, '0x3': 37, '0x7': 38, '0x6': 53, '0x5': 5, '0x8': 33, '0x0': 31, '0x2': 736}), header=QobjExperimentHeader(creg_sizes=[['c', 4]], global_phase=0.0, memory_slots=4, metadata={}, n_qubits=4, name='circuit-1229', qreg_sizes=[['q', 4]]), status=DONE, seed_simulator=706915446, metadata={'num_bind_params': 1, 'runtime_parameter_bind': False, 'parallel_state_update': 1, 'parallel_shots': 1, 'noise': 'circuit', 'batched_shots_optimization': False, 'remapped_qubits': False, 'active_input_qubits': [0, 1, 2, 3], 'device': 'CPU', 'time_taken': 0.235259291, 'measure_sampling': False, 'num_clbits': 4, 'max_memory_mb': 16384, 'input_qubit_map': [[3, 3], [2, 2], [1, 1], [0, 0]], 'num_qubits': 4, 'method': 'stabilizer', 'required_memory_mb': 0, 'fusion': {'enabled': False}}, time_taken=0.235259291), ExperimentResult(shots=1000, success=True, meas_level=2, data=ExperimentResultData(counts={'0xe': 1, '0x9': 2, '0x7': 3, '0xd': 2, '0xf': 4, '0xb': 3, '0x1': 35, '0x3': 5, '0xa': 42, '0x5': 40, '0x6': 3, '0x4': 45, '0xc': 2, '0x8': 46, '0x2': 33, '0x0': 734}), header=QobjExperimentHeader(creg_sizes=[['c', 4]], global_phase=0.0, memory_slots=4, metadata={}, n_qubits=4, name='circuit-1232', qreg_sizes=[['q', 4]]), status=DONE, seed_simulator=706917559, metadata={'num_bind_params': 1, 'runtime_parameter_bind': False, 'parallel_state_update': 1, 'parallel_shots': 1, 'noise': 'circuit', 'batched_shots_optimization': False, 'remapped_qubits': False, 'active_input_qubits': [0, 1, 2, 3], 'device': 'CPU', 'time_taken': 0.271859333, 'measure_sampling': False, 'num_clbits': 4, 'max_memory_mb': 16384, 'input_qubit_map': [[3, 3], [2, 2], [1, 1], [0, 0]], 'num_qubits': 4, 'method': 'stabilizer', 'required_memory_mb': 0, 'fusion': {'enabled': False}}, time_taken=0.271859333), ExperimentResult(shots=1000, success=True, meas_level=2, data=ExperimentResultData(counts={'0x0': 1, '0xa': 1, '0x6': 2, '0xe': 2, '0x8': 37, '0xc': 48, '0x9': 46, '0x5': 36, '0xf': 50, '0xd': 734, '0x3': 1, '0x7': 42}), header=QobjExperimentHeader(creg_sizes=[['c', 4]], global_phase=0.0, memory_slots=4, metadata={}, n_qubits=4, name='circuit-1235', qreg_sizes=[['q', 4]]), status=DONE, seed_simulator=706919672, metadata={'num_bind_params': 1, 'runtime_parameter_bind': False, 'parallel_state_update': 1, 'parallel_shots': 1, 'noise': 'circuit', 'batched_shots_optimization': False, 'remapped_qubits': False, 'active_input_qubits': [0, 1, 2, 3], 'device': 'CPU', 'time_taken': 0.19680625, 'measure_sampling': False, 'num_clbits': 4, 'max_memory_mb': 16384, 'input_qubit_map': [[3, 3], [2, 2], [1, 1], [0, 0]], 'num_qubits': 4, 'method': 'stabilizer', 'required_memory_mb': 0, 'fusion': {'enabled': False}}, time_taken=0.19680625), ExperimentResult(shots=1000, success=True, meas_level=2, data=ExperimentResultData(counts={'0x5': 3, '0x1': 1, '0x3': 1, '0x0': 3, '0xa': 2, '0xb': 5, '0x2': 2, '0x7': 2, '0xf': 6, '0xd': 52, '0xc': 723, '0x4': 40, '0x6': 43, '0x8': 37, '0xe': 37, '0x9': 43}), header=QobjExperimentHeader(creg_sizes=[['c', 4]], global_phase=0.0, memory_slots=4, metadata={}, n_qubits=4, name='circuit-1238', qreg_sizes=[['q', 4]]), status=DONE, seed_simulator=706921785, metadata={'num_bind_params': 1, 'runtime_parameter_bind': False, 'parallel_state_update': 1, 'parallel_shots': 1, 'noise': 'circuit', 'batched_shots_optimization': False, 'remapped_qubits': False, 'active_input_qubits': [0, 1, 2, 3], 'device': 'CPU', 'time_taken': 0.187533666, 'measure_sampling': False, 'num_clbits': 4, 'max_memory_mb': 16384, 'input_qubit_map': [[3, 3], [2, 2], [1, 1], [0, 0]], 'num_qubits': 4, 'method': 'stabilizer', 'required_memory_mb': 0, 'fusion': {'enabled': False}}, time_taken=0.187533666), ExperimentResult(shots=1000, success=True, meas_level=2, data=ExperimentResultData(counts={'0x4': 2, '0xc': 4, '0x5': 2, '0x9': 4, '0xb': 35, '0x2': 45, '0x0': 51, '0xe': 38, '0x8': 59, '0x7': 2, '0x1': 2, '0x3': 4, '0xd': 2, '0xf': 31, '0xa': 719}), header=QobjExperimentHeader(creg_sizes=[['c', 4]], global_phase=0.0, memory_slots=4, metadata={}, n_qubits=4, name='circuit-1241', qreg_sizes=[['q', 4]]), status=DONE, seed_simulator=706923898, metadata={'num_bind_params': 1, 'runtime_parameter_bind': False, 'parallel_state_update': 1, 'parallel_shots': 1, 'noise': 'circuit', 'batched_shots_optimization': False, 'remapped_qubits': False, 'active_input_qubits': [0, 1, 2, 3], 'device': 'CPU', 'time_taken': 0.172526166, 'measure_sampling': False, 'num_clbits': 4, 'max_memory_mb': 16384, 'input_qubit_map': [[3, 3], [2, 2], [1, 1], [0, 0]], 'num_qubits': 4, 'method': 'stabilizer', 'required_memory_mb': 0, 'fusion': {'enabled': False}}, time_taken=0.172526166), ExperimentResult(shots=1000, success=True, meas_level=2, data=ExperimentResultData(counts={'0xb': 5, '0xc': 3, '0xf': 1, '0xd': 3, '0x5': 4, '0x6': 41, '0xa': 39, '0x1': 1, '0x3': 41, '0x7': 36, '0x9': 5, '0x0': 44, '0x2': 728, '0xe': 2, '0x8': 47}), header=QobjExperimentHeader(creg_sizes=[['c', 4]], global_phase=0.0, memory_slots=4, metadata={}, n_qubits=4, name='circuit-1244', qreg_sizes=[['q', 4]]), status=DONE, seed_simulator=706926011, metadata={'num_bind_params': 1, 'runtime_parameter_bind': False, 'parallel_state_update': 1, 'parallel_shots': 1, 'noise': 'circuit', 'batched_shots_optimization': False, 'remapped_qubits': False, 'active_input_qubits': [0, 1, 2, 3], 'device': 'CPU', 'time_taken': 0.174016292, 'measure_sampling': False, 'num_clbits': 4, 'max_memory_mb': 16384, 'input_qubit_map': [[3, 3], [2, 2], [1, 1], [0, 0]], 'num_qubits': 4, 'method': 'stabilizer', 'required_memory_mb': 0, 'fusion': {'enabled': False}}, time_taken=0.174016292), ExperimentResult(shots=1000, success=True, meas_level=2, data=ExperimentResultData(counts={'0xd': 2, '0x2': 4, '0x8': 2, '0x9': 5, '0x7': 4, '0xb': 3, '0x0': 44, '0x5': 29, '0xa': 3, '0x4': 749, '0xc': 42, '0xe': 31, '0x6': 41, '0x3': 2, '0x1': 39}), header=QobjExperimentHeader(creg_sizes=[['c', 4]], global_phase=0.0, memory_slots=4, metadata={}, n_qubits=4, name='circuit-1247', qreg_sizes=[['q', 4]]), status=DONE, seed_simulator=706928124, metadata={'num_bind_params': 1, 'runtime_parameter_bind': False, 'parallel_state_update': 1, 'parallel_shots': 1, 'noise': 'circuit', 'batched_shots_optimization': False, 'remapped_qubits': False, 'active_input_qubits': [0, 1, 2, 3], 'device': 'CPU', 'time_taken': 0.258100875, 'measure_sampling': False, 'num_clbits': 4, 'max_memory_mb': 16384, 'input_qubit_map': [[3, 3], [2, 2], [1, 1], [0, 0]], 'num_qubits': 4, 'method': 'stabilizer', 'required_memory_mb': 0, 'fusion': {'enabled': False}}, time_taken=0.258100875), ExperimentResult(shots=1000, success=True, meas_level=2, data=ExperimentResultData(counts={'0xe': 2, '0xb': 2, '0x6': 2, '0xa': 49, '0xc': 48, '0x4': 3, '0x9': 47, '0xd': 45, '0xf': 3, '0x7': 3, '0x1': 3, '0x3': 4, '0x0': 43, '0x2': 53, '0x8': 693}), header=QobjExperimentHeader(creg_sizes=[['c', 4]], global_phase=0.0, memory_slots=4, metadata={}, n_qubits=4, name='circuit-1250', qreg_sizes=[['q', 4]]), status=DONE, seed_simulator=706930237, metadata={'num_bind_params': 1, 'runtime_parameter_bind': False, 'parallel_state_update': 1, 'parallel_shots': 1, 'noise': 'circuit', 'batched_shots_optimization': False, 'remapped_qubits': False, 'active_input_qubits': [0, 1, 2, 3], 'device': 'CPU', 'time_taken': 0.386673334, 'measure_sampling': False, 'num_clbits': 4, 'max_memory_mb': 16384, 'input_qubit_map': [[3, 3], [2, 2], [1, 1], [0, 0]], 'num_qubits': 4, 'method': 'stabilizer', 'required_memory_mb': 0, 'fusion': {'enabled': False}}, time_taken=0.386673334), ExperimentResult(shots=1000, success=True, meas_level=2, data=ExperimentResultData(counts={'0xa': 5, '0xe': 4, '0x6': 2, '0x5': 47, '0xb': 25, '0xd': 1, '0xf': 3, '0x7': 4, '0x1': 745, '0x3': 35, '0x9': 49, '0x2': 2, '0x0': 40, '0x8': 3, '0xc': 3, '0x4': 32}), header=QobjExperimentHeader(creg_sizes=[['c', 4]], global_phase=0.0, memory_slots=4, metadata={}, n_qubits=4, name='circuit-1253', qreg_sizes=[['q', 4]]), status=DONE, seed_simulator=706932350, metadata={'num_bind_params': 1, 'runtime_parameter_bind': False, 'parallel_state_update': 1, 'parallel_shots': 1, 'noise': 'circuit', 'batched_shots_optimization': False, 'remapped_qubits': False, 'active_input_qubits': [0, 1, 2, 3], 'device': 'CPU', 'time_taken': 0.442374834, 'measure_sampling': False, 'num_clbits': 4, 'max_memory_mb': 16384, 'input_qubit_map': [[3, 3], [2, 2], [1, 1], [0, 0]], 'num_qubits': 4, 'method': 'stabilizer', 'required_memory_mb': 0, 'fusion': {'enabled': False}}, time_taken=0.442374834), ExperimentResult(shots=1000, success=True, meas_level=2, data=ExperimentResultData(counts={'0x5': 2, '0xa': 1, '0xb': 2, '0xf': 1, '0xd': 5, '0x9': 2, '0x3': 33, '0x7': 33, '0x0': 2, '0x2': 63, '0x8': 2, '0xe': 52, '0xc': 41, '0x4': 47, '0x6': 714}), header=QobjExperimentHeader(creg_sizes=[['c', 4]], global_phase=0.0, memory_slots=4, metadata={}, n_qubits=4, name='circuit-1256', qreg_sizes=[['q', 4]]), status=DONE, seed_simulator=706934463, metadata={'num_bind_params': 1, 'runtime_parameter_bind': False, 'parallel_state_update': 1, 'parallel_shots': 1, 'noise': 'circuit', 'batched_shots_optimization': False, 'remapped_qubits': False, 'active_input_qubits': [0, 1, 2, 3], 'device': 'CPU', 'time_taken': 0.366870375, 'measure_sampling': False, 'num_clbits': 4, 'max_memory_mb': 16384, 'input_qubit_map': [[3, 3], [2, 2], [1, 1], [0, 0]], 'num_qubits': 4, 'method': 'stabilizer', 'required_memory_mb': 0, 'fusion': {'enabled': False}}, time_taken=0.366870375), ExperimentResult(shots=1000, success=True, meas_level=2, data=ExperimentResultData(counts={'0x7': 2, '0x5': 1, '0x6': 4, '0x3': 3, '0x1': 4, '0xc': 48, '0x4': 6, '0x9': 44, '0xa': 33, '0x8': 718, '0xe': 3, '0xb': 3, '0xf': 9, '0xd': 46, '0x2': 40, '0x0': 36}), header=QobjExperimentHeader(creg_sizes=[['c', 4]], global_phase=0.0, memory_slots=4, metadata={}, n_qubits=4, name='circuit-1259', qreg_sizes=[['q', 4]]), status=DONE, seed_simulator=706936576, metadata={'num_bind_params': 1, 'runtime_parameter_bind': False, 'parallel_state_update': 1, 'parallel_shots': 1, 'noise': 'circuit', 'batched_shots_optimization': False, 'remapped_qubits': False, 'active_input_qubits': [0, 1, 2, 3], 'device': 'CPU', 'time_taken': 0.417255875, 'measure_sampling': False, 'num_clbits': 4, 'max_memory_mb': 16384, 'input_qubit_map': [[3, 3], [2, 2], [1, 1], [0, 0]], 'num_qubits': 4, 'method': 'stabilizer', 'required_memory_mb': 0, 'fusion': {'enabled': False}}, time_taken=0.417255875), ExperimentResult(shots=1000, success=True, meas_level=2, data=ExperimentResultData(counts={'0x5': 2, '0x7': 2, '0x6': 3, '0x3': 4, '0x1': 4, '0x9': 2, '0x4': 1, '0xc': 4, '0x8': 45, '0xe': 39, '0xb': 40, '0xd': 3, '0xf': 42, '0x2': 31, '0x0': 34, '0xa': 744}), header=QobjExperimentHeader(creg_sizes=[['c', 4]], global_phase=0.0, memory_slots=4, metadata={}, n_qubits=4, name='circuit-1262', qreg_sizes=[['q', 4]]), status=DONE, seed_simulator=706938689, metadata={'num_bind_params': 1, 'runtime_parameter_bind': False, 'parallel_state_update': 1, 'parallel_shots': 1, 'noise': 'circuit', 'batched_shots_optimization': False, 'remapped_qubits': False, 'active_input_qubits': [0, 1, 2, 3], 'device': 'CPU', 'time_taken': 0.355213458, 'measure_sampling': False, 'num_clbits': 4, 'max_memory_mb': 16384, 'input_qubit_map': [[3, 3], [2, 2], [1, 1], [0, 0]], 'num_qubits': 4, 'method': 'stabilizer', 'required_memory_mb': 0, 'fusion': {'enabled': False}}, time_taken=0.355213458), ExperimentResult(shots=1000, success=True, meas_level=2, data=ExperimentResultData(counts={'0x7': 1, '0xa': 4, '0xb': 2, '0x2': 2, '0x0': 7, '0x8': 51, '0x4': 40, '0xc': 729, '0xe': 51, '0x3': 1, '0x1': 5, '0x6': 34, '0xf': 3, '0xd': 52, '0x9': 18}), header=QobjExperimentHeader(creg_sizes=[['c', 4]], global_phase=0.0, memory_slots=4, metadata={}, n_qubits=4, name='circuit-1265', qreg_sizes=[['q', 4]]), status=DONE, seed_simulator=706940802, metadata={'num_bind_params': 1, 'runtime_parameter_bind': False, 'parallel_state_update': 1, 'parallel_shots': 1, 'noise': 'circuit', 'batched_shots_optimization': False, 'remapped_qubits': False, 'active_input_qubits': [0, 1, 2, 3], 'device': 'CPU', 'time_taken': 0.339924041, 'measure_sampling': False, 'num_clbits': 4, 'max_memory_mb': 16384, 'input_qubit_map': [[3, 3], [2, 2], [1, 1], [0, 0]], 'num_qubits': 4, 'method': 'stabilizer', 'required_memory_mb': 0, 'fusion': {'enabled': False}}, time_taken=0.339924041), ExperimentResult(shots=1000, success=True, meas_level=2, data=ExperimentResultData(counts={'0x9': 2, '0x7': 3, '0x8': 2, '0xf': 2, '0xd': 3, '0x1': 52, '0x3': 2, '0x5': 39, '0x2': 2, '0x0': 49, '0xe': 43, '0x4': 716, '0xc': 43, '0x6': 39, '0xa': 3}), header=QobjExperimentHeader(creg_sizes=[['c', 4]], global_phase=0.0, memory_slots=4, metadata={}, n_qubits=4, name='circuit-1268', qreg_sizes=[['q', 4]]), status=DONE, seed_simulator=706942915, metadata={'num_bind_params': 1, 'runtime_parameter_bind': False, 'parallel_state_update': 1, 'parallel_shots': 1, 'noise': 'circuit', 'batched_shots_optimization': False, 'remapped_qubits': False, 'active_input_qubits': [0, 1, 2, 3], 'device': 'CPU', 'time_taken': 0.27387775, 'measure_sampling': False, 'num_clbits': 4, 'max_memory_mb': 16384, 'input_qubit_map': [[3, 3], [2, 2], [1, 1], [0, 0]], 'num_qubits': 4, 'method': 'stabilizer', 'required_memory_mb': 0, 'fusion': {'enabled': False}}, time_taken=0.27387775), ExperimentResult(shots=1000, success=True, meas_level=2, data=ExperimentResultData(counts={'0x9': 3, '0xe': 3, '0xa': 2, '0x6': 1, '0x8': 3, '0xb': 2, '0xc': 5, '0x4': 36, '0x1': 46, '0x3': 2, '0xd': 43, '0xf': 47, '0x7': 22, '0x2': 4, '0x0': 34, '0x5': 747}), header=QobjExperimentHeader(creg_sizes=[['c', 4]], global_phase=0.0, memory_slots=4, metadata={}, n_qubits=4, name='circuit-1271', qreg_sizes=[['q', 4]]), status=DONE, seed_simulator=706945028, metadata={'num_bind_params': 1, 'runtime_parameter_bind': False, 'parallel_state_update': 1, 'parallel_shots': 1, 'noise': 'circuit', 'batched_shots_optimization': False, 'remapped_qubits': False, 'active_input_qubits': [0, 1, 2, 3], 'device': 'CPU', 'time_taken': 0.207360166, 'measure_sampling': False, 'num_clbits': 4, 'max_memory_mb': 16384, 'input_qubit_map': [[3, 3], [2, 2], [1, 1], [0, 0]], 'num_qubits': 4, 'method': 'stabilizer', 'required_memory_mb': 0, 'fusion': {'enabled': False}}, time_taken=0.207360166), ExperimentResult(shots=1000, success=True, meas_level=2, data=ExperimentResultData(counts={'0xe': 1, '0x2': 1, '0xa': 4, '0x6': 2, '0x9': 3, '0xf': 48, '0xd': 39, '0x0': 42, '0x8': 2, '0x4': 34, '0xc': 3, '0xb': 4, '0x1': 54, '0x3': 3, '0x7': 45, '0x5': 715}), header=QobjExperimentHeader(creg_sizes=[['c', 4]], global_phase=0.0, memory_slots=4, metadata={}, n_qubits=4, name='circuit-1274', qreg_sizes=[['q', 4]]), status=DONE, seed_simulator=706947141, metadata={'num_bind_params': 1, 'runtime_parameter_bind': False, 'parallel_state_update': 1, 'parallel_shots': 1, 'noise': 'circuit', 'batched_shots_optimization': False, 'remapped_qubits': False, 'active_input_qubits': [0, 1, 2, 3], 'device': 'CPU', 'time_taken': 0.195150292, 'measure_sampling': False, 'num_clbits': 4, 'max_memory_mb': 16384, 'input_qubit_map': [[3, 3], [2, 2], [1, 1], [0, 0]], 'num_qubits': 4, 'method': 'stabilizer', 'required_memory_mb': 0, 'fusion': {'enabled': False}}, time_taken=0.195150292), ExperimentResult(shots=1000, success=True, meas_level=2, data=ExperimentResultData(counts={'0xb': 1, '0x6': 4, '0xa': 3, '0x3': 4, '0x1': 4, '0x2': 1, '0x8': 33, '0x4': 2, '0xc': 45, '0xe': 6, '0x7': 41, '0xd': 716, '0xf': 39, '0x5': 52, '0x9': 49}), header=QobjExperimentHeader(creg_sizes=[['c', 4]], global_phase=0.0, memory_slots=4, metadata={}, n_qubits=4, name='circuit-1277', qreg_sizes=[['q', 4]]), status=DONE, seed_simulator=706949254, metadata={'num_bind_params': 1, 'runtime_parameter_bind': False, 'parallel_state_update': 1, 'parallel_shots': 1, 'noise': 'circuit', 'batched_shots_optimization': False, 'remapped_qubits': False, 'active_input_qubits': [0, 1, 2, 3], 'device': 'CPU', 'time_taken': 0.187401416, 'measure_sampling': False, 'num_clbits': 4, 'max_memory_mb': 16384, 'input_qubit_map': [[3, 3], [2, 2], [1, 1], [0, 0]], 'num_qubits': 4, 'method': 'stabilizer', 'required_memory_mb': 0, 'fusion': {'enabled': False}}, time_taken=0.187401416), ExperimentResult(shots=1000, success=True, meas_level=2, data=ExperimentResultData(counts={'0x0': 2, '0xc': 1, '0x4': 2, '0x6': 4, '0x3': 1, '0x1': 5, '0x9': 4, '0x2': 3, '0x5': 35, '0xe': 54, '0xb': 46, '0xf': 745, '0xd': 31, '0x7': 32, '0xa': 35}), header=QobjExperimentHeader(creg_sizes=[['c', 4]], global_phase=0.0, memory_slots=4, metadata={}, n_qubits=4, name='circuit-1280', qreg_sizes=[['q', 4]]), status=DONE, seed_simulator=706951367, metadata={'num_bind_params': 1, 'runtime_parameter_bind': False, 'parallel_state_update': 1, 'parallel_shots': 1, 'noise': 'circuit', 'batched_shots_optimization': False, 'remapped_qubits': False, 'active_input_qubits': [0, 1, 2, 3], 'device': 'CPU', 'time_taken': 0.190406666, 'measure_sampling': False, 'num_clbits': 4, 'max_memory_mb': 16384, 'input_qubit_map': [[3, 3], [2, 2], [1, 1], [0, 0]], 'num_qubits': 4, 'method': 'stabilizer', 'required_memory_mb': 0, 'fusion': {'enabled': False}}, time_taken=0.190406666), ExperimentResult(shots=1000, success=True, meas_level=2, data=ExperimentResultData(counts={'0x5': 2, '0xf': 1, '0xd': 33, '0x7': 1, '0x1': 3, '0x3': 2, '0xb': 5, '0xa': 49, '0x9': 53, '0x2': 43, '0x0': 38, '0x6': 1, '0x4': 2, '0xc': 32, '0x8': 735}), header=QobjExperimentHeader(creg_sizes=[['c', 4]], global_phase=0.0, memory_slots=4, metadata={}, n_qubits=4, name='circuit-1283', qreg_sizes=[['q', 4]]), status=DONE, seed_simulator=706953480, metadata={'num_bind_params': 1, 'runtime_parameter_bind': False, 'parallel_state_update': 1, 'parallel_shots': 1, 'noise': 'circuit', 'batched_shots_optimization': False, 'remapped_qubits': False, 'active_input_qubits': [0, 1, 2, 3], 'device': 'CPU', 'time_taken': 0.204864875, 'measure_sampling': False, 'num_clbits': 4, 'max_memory_mb': 16384, 'input_qubit_map': [[3, 3], [2, 2], [1, 1], [0, 0]], 'num_qubits': 4, 'method': 'stabilizer', 'required_memory_mb': 0, 'fusion': {'enabled': False}}, time_taken=0.204864875), ExperimentResult(shots=1000, success=True, meas_level=2, data=ExperimentResultData(counts={'0x8': 1, '0xd': 4, '0xf': 2, '0x7': 1, '0xa': 5, '0x1': 41, '0x3': 3, '0xb': 4, '0x5': 50, '0x2': 6, '0x0': 43, '0x6': 29, '0xc': 46, '0x4': 722, '0x9': 5, '0xe': 38}), header=QobjExperimentHeader(creg_sizes=[['c', 4]], global_phase=0.0, memory_slots=4, metadata={}, n_qubits=4, name='circuit-1286', qreg_sizes=[['q', 4]]), status=DONE, seed_simulator=706955593, metadata={'num_bind_params': 1, 'runtime_parameter_bind': False, 'parallel_state_update': 1, 'parallel_shots': 1, 'noise': 'circuit', 'batched_shots_optimization': False, 'remapped_qubits': False, 'active_input_qubits': [0, 1, 2, 3], 'device': 'CPU', 'time_taken': 0.378594667, 'measure_sampling': False, 'num_clbits': 4, 'max_memory_mb': 16384, 'input_qubit_map': [[3, 3], [2, 2], [1, 1], [0, 0]], 'num_qubits': 4, 'method': 'stabilizer', 'required_memory_mb': 0, 'fusion': {'enabled': False}}, time_taken=0.378594667), ExperimentResult(shots=1000, success=True, meas_level=2, data=ExperimentResultData(counts={'0x0': 2, '0x5': 3, '0x2': 2, '0xb': 2, '0x9': 38, '0x1': 1, '0x3': 4, '0x7': 1, '0x4': 39, '0xc': 731, '0x8': 42, '0xe': 44, '0xf': 2, '0xd': 43, '0x6': 46}), header=QobjExperimentHeader(creg_sizes=[['c', 4]], global_phase=0.0, memory_slots=4, metadata={}, n_qubits=4, name='circuit-1289', qreg_sizes=[['q', 4]]), status=DONE, seed_simulator=706957706, metadata={'num_bind_params': 1, 'runtime_parameter_bind': False, 'parallel_state_update': 1, 'parallel_shots': 1, 'noise': 'circuit', 'batched_shots_optimization': False, 'remapped_qubits': False, 'active_input_qubits': [0, 1, 2, 3], 'device': 'CPU', 'time_taken': 0.429197833, 'measure_sampling': False, 'num_clbits': 4, 'max_memory_mb': 16384, 'input_qubit_map': [[3, 3], [2, 2], [1, 1], [0, 0]], 'num_qubits': 4, 'method': 'stabilizer', 'required_memory_mb': 0, 'fusion': {'enabled': False}}, time_taken=0.429197833), ExperimentResult(shots=1000, success=True, meas_level=2, data=ExperimentResultData(counts={'0xc': 2, '0xa': 2, '0xb': 5, '0xe': 2, '0x9': 5, '0x0': 5, '0x2': 35, '0xd': 41, '0xf': 41, '0x1': 2, '0x3': 49, '0x7': 706, '0x5': 59, '0x6': 46}), header=QobjExperimentHeader(creg_sizes=[['c', 4]], global_phase=0.0, memory_slots=4, metadata={}, n_qubits=4, name='circuit-1292', qreg_sizes=[['q', 4]]), status=DONE, seed_simulator=706959819, metadata={'num_bind_params': 1, 'runtime_parameter_bind': False, 'parallel_state_update': 1, 'parallel_shots': 1, 'noise': 'circuit', 'batched_shots_optimization': False, 'remapped_qubits': False, 'active_input_qubits': [0, 1, 2, 3], 'device': 'CPU', 'time_taken': 0.431762042, 'measure_sampling': False, 'num_clbits': 4, 'max_memory_mb': 16384, 'input_qubit_map': [[3, 3], [2, 2], [1, 1], [0, 0]], 'num_qubits': 4, 'method': 'stabilizer', 'required_memory_mb': 0, 'fusion': {'enabled': False}}, time_taken=0.431762042), ExperimentResult(shots=1000, success=True, meas_level=2, data=ExperimentResultData(counts={'0x9': 2, '0xb': 4, '0x5': 1, '0xc': 1, '0x4': 5, '0x6': 52, '0x8': 32, '0xe': 2, '0xa': 43, '0x0': 41, '0x2': 736, '0xd': 5, '0xf': 3, '0x7': 27, '0x1': 5, '0x3': 41}), header=QobjExperimentHeader(creg_sizes=[['c', 4]], global_phase=0.0, memory_slots=4, metadata={}, n_qubits=4, name='circuit-1295', qreg_sizes=[['q', 4]]), status=DONE, seed_simulator=706961932, metadata={'num_bind_params': 1, 'runtime_parameter_bind': False, 'parallel_state_update': 1, 'parallel_shots': 1, 'noise': 'circuit', 'batched_shots_optimization': False, 'remapped_qubits': False, 'active_input_qubits': [0, 1, 2, 3], 'device': 'CPU', 'time_taken': 0.3989345, 'measure_sampling': False, 'num_clbits': 4, 'max_memory_mb': 16384, 'input_qubit_map': [[3, 3], [2, 2], [1, 1], [0, 0]], 'num_qubits': 4, 'method': 'stabilizer', 'required_memory_mb': 0, 'fusion': {'enabled': False}}, time_taken=0.3989345), ExperimentResult(shots=1000, success=True, meas_level=2, data=ExperimentResultData(counts={'0xc': 3, '0x6': 4, '0xf': 43, '0xd': 8, '0x0': 3, '0x2': 3, '0xa': 47, '0x8': 5, '0xe': 54, '0x3': 32, '0x1': 38, '0x9': 48, '0xb': 712}), header=QobjExperimentHeader(creg_sizes=[['c', 4]], global_phase=0.0, memory_slots=4, metadata={}, n_qubits=4, name='circuit-1298', qreg_sizes=[['q', 4]]), status=DONE, seed_simulator=706964045, metadata={'num_bind_params': 1, 'runtime_parameter_bind': False, 'parallel_state_update': 1, 'parallel_shots': 1, 'noise': 'circuit', 'batched_shots_optimization': False, 'remapped_qubits': False, 'active_input_qubits': [0, 1, 2, 3], 'device': 'CPU', 'time_taken': 0.362208083, 'measure_sampling': False, 'num_clbits': 4, 'max_memory_mb': 16384, 'input_qubit_map': [[3, 3], [2, 2], [1, 1], [0, 0]], 'num_qubits': 4, 'method': 'stabilizer', 'required_memory_mb': 0, 'fusion': {'enabled': False}}, time_taken=0.362208083), ExperimentResult(shots=1000, success=True, meas_level=2, data=ExperimentResultData(counts={'0xe': 1, '0xb': 2, '0xa': 4, '0x8': 4, '0x9': 4, '0x4': 2, '0xc': 3, '0x0': 5, '0x2': 42, '0x3': 40, '0x1': 3, '0x6': 46, '0x7': 710, '0xf': 40, '0xd': 49, '0x5': 45}), header=QobjExperimentHeader(creg_sizes=[['c', 4]], global_phase=0.0, memory_slots=4, metadata={}, n_qubits=4, name='circuit-1301', qreg_sizes=[['q', 4]]), status=DONE, seed_simulator=706966158, metadata={'num_bind_params': 1, 'runtime_parameter_bind': False, 'parallel_state_update': 1, 'parallel_shots': 1, 'noise': 'circuit', 'batched_shots_optimization': False, 'remapped_qubits': False, 'active_input_qubits': [0, 1, 2, 3], 'device': 'CPU', 'time_taken': 0.36418675, 'measure_sampling': False, 'num_clbits': 4, 'max_memory_mb': 16384, 'input_qubit_map': [[3, 3], [2, 2], [1, 1], [0, 0]], 'num_qubits': 4, 'method': 'stabilizer', 'required_memory_mb': 0, 'fusion': {'enabled': False}}, time_taken=0.36418675), ExperimentResult(shots=1000, success=True, meas_level=2, data=ExperimentResultData(counts={'0x1': 4, '0x3': 2, '0x2': 3, '0x0': 4, '0x6': 3, '0xc': 57, '0x4': 4, '0xa': 3, '0xb': 3, '0x7': 39, '0xd': 714, '0xf': 44, '0x9': 27, '0xe': 4, '0x8': 50, '0x5': 39}), header=QobjExperimentHeader(creg_sizes=[['c', 4]], global_phase=0.0, memory_slots=4, metadata={}, n_qubits=4, name='circuit-1304', qreg_sizes=[['q', 4]]), status=DONE, seed_simulator=706968271, metadata={'num_bind_params': 1, 'runtime_parameter_bind': False, 'parallel_state_update': 1, 'parallel_shots': 1, 'noise': 'circuit', 'batched_shots_optimization': False, 'remapped_qubits': False, 'active_input_qubits': [0, 1, 2, 3], 'device': 'CPU', 'time_taken': 0.335491458, 'measure_sampling': False, 'num_clbits': 4, 'max_memory_mb': 16384, 'input_qubit_map': [[3, 3], [2, 2], [1, 1], [0, 0]], 'num_qubits': 4, 'method': 'stabilizer', 'required_memory_mb': 0, 'fusion': {'enabled': False}}, time_taken=0.335491458), ExperimentResult(shots=1000, success=True, meas_level=2, data=ExperimentResultData(counts={'0xa': 2, '0x6': 1, '0x9': 3, '0x8': 3, '0xb': 1, '0xe': 1, '0x4': 40, '0xc': 2, '0xd': 50, '0xf': 37, '0x7': 41, '0x3': 4, '0x1': 35, '0x2': 2, '0x0': 37, '0x5': 741}), header=QobjExperimentHeader(creg_sizes=[['c', 4]], global_phase=0.0, memory_slots=4, metadata={}, n_qubits=4, name='circuit-1307', qreg_sizes=[['q', 4]]), status=DONE, seed_simulator=706970384, metadata={'num_bind_params': 1, 'runtime_parameter_bind': False, 'parallel_state_update': 1, 'parallel_shots': 1, 'noise': 'circuit', 'batched_shots_optimization': False, 'remapped_qubits': False, 'active_input_qubits': [0, 1, 2, 3], 'device': 'CPU', 'time_taken': 0.252177916, 'measure_sampling': False, 'num_clbits': 4, 'max_memory_mb': 16384, 'input_qubit_map': [[3, 3], [2, 2], [1, 1], [0, 0]], 'num_qubits': 4, 'method': 'stabilizer', 'required_memory_mb': 0, 'fusion': {'enabled': False}}, time_taken=0.252177916), ExperimentResult(shots=1000, success=True, meas_level=2, data=ExperimentResultData(counts={'0xb': 2, '0xe': 1, '0x9': 2, '0x2': 4, '0x8': 2, '0xa': 5, '0x0': 48, '0x1': 38, '0x3': 1, '0x7': 37, '0xd': 44, '0xf': 37, '0x6': 2, '0xc': 1, '0x4': 43, '0x5': 733}), header=QobjExperimentHeader(creg_sizes=[['c', 4]], global_phase=0.0, memory_slots=4, metadata={}, n_qubits=4, name='circuit-1310', qreg_sizes=[['q', 4]]), status=DONE, seed_simulator=706972497, metadata={'num_bind_params': 1, 'runtime_parameter_bind': False, 'parallel_state_update': 1, 'parallel_shots': 1, 'noise': 'circuit', 'batched_shots_optimization': False, 'remapped_qubits': False, 'active_input_qubits': [0, 1, 2, 3], 'device': 'CPU', 'time_taken': 0.353120084, 'measure_sampling': False, 'num_clbits': 4, 'max_memory_mb': 16384, 'input_qubit_map': [[3, 3], [2, 2], [1, 1], [0, 0]], 'num_qubits': 4, 'method': 'stabilizer', 'required_memory_mb': 0, 'fusion': {'enabled': False}}, time_taken=0.353120084), ExperimentResult(shots=1000, success=True, meas_level=2, data=ExperimentResultData(counts={'0xe': 1, '0x8': 2, '0xa': 2, '0x0': 31, '0x2': 1, '0x7': 3, '0xf': 4, '0x1': 740, '0x3': 43, '0x5': 53, '0x6': 2, '0x4': 31, '0x9': 39, '0xb': 48}), header=QobjExperimentHeader(creg_sizes=[['c', 4]], global_phase=0.0, memory_slots=4, metadata={}, n_qubits=4, name='circuit-1313', qreg_sizes=[['q', 4]]), status=DONE, seed_simulator=706974610, metadata={'num_bind_params': 1, 'runtime_parameter_bind': False, 'parallel_state_update': 1, 'parallel_shots': 1, 'noise': 'circuit', 'batched_shots_optimization': False, 'remapped_qubits': False, 'active_input_qubits': [0, 1, 2, 3], 'device': 'CPU', 'time_taken': 0.34230475, 'measure_sampling': False, 'num_clbits': 4, 'max_memory_mb': 16384, 'input_qubit_map': [[3, 3], [2, 2], [1, 1], [0, 0]], 'num_qubits': 4, 'method': 'stabilizer', 'required_memory_mb': 0, 'fusion': {'enabled': False}}, time_taken=0.34230475), ExperimentResult(shots=1000, success=True, meas_level=2, data=ExperimentResultData(counts={'0x7': 1, '0x0': 2, '0x2': 2, '0x9': 4, '0x5': 2, '0xb': 36, '0xc': 50, '0x4': 34, '0x6': 52, '0x1': 5, '0x3': 10, '0xd': 2, '0xf': 28, '0xe': 741, '0xa': 31}), header=QobjExperimentHeader(creg_sizes=[['c', 4]], global_phase=0.0, memory_slots=4, metadata={}, n_qubits=4, name='circuit-1316', qreg_sizes=[['q', 4]]), status=DONE, seed_simulator=706976723, metadata={'num_bind_params': 1, 'runtime_parameter_bind': False, 'parallel_state_update': 1, 'parallel_shots': 1, 'noise': 'circuit', 'batched_shots_optimization': False, 'remapped_qubits': False, 'active_input_qubits': [0, 1, 2, 3], 'device': 'CPU', 'time_taken': 0.265885291, 'measure_sampling': False, 'num_clbits': 4, 'max_memory_mb': 16384, 'input_qubit_map': [[3, 3], [2, 2], [1, 1], [0, 0]], 'num_qubits': 4, 'method': 'stabilizer', 'required_memory_mb': 0, 'fusion': {'enabled': False}}, time_taken=0.265885291), ExperimentResult(shots=1000, success=True, meas_level=2, data=ExperimentResultData(counts={'0x8': 1, '0x9': 1, '0x6': 2, '0x5': 40, '0xe': 41, '0xc': 2, '0x4': 5, '0xa': 37, '0x1': 1, '0x3': 5, '0xd': 49, '0xf': 717, '0x7': 49, '0xb': 45, '0x0': 1, '0x2': 4}), header=QobjExperimentHeader(creg_sizes=[['c', 4]], global_phase=0.0, memory_slots=4, metadata={}, n_qubits=4, name='circuit-1319', qreg_sizes=[['q', 4]]), status=DONE, seed_simulator=706978836, metadata={'num_bind_params': 1, 'runtime_parameter_bind': False, 'parallel_state_update': 1, 'parallel_shots': 1, 'noise': 'circuit', 'batched_shots_optimization': False, 'remapped_qubits': False, 'active_input_qubits': [0, 1, 2, 3], 'device': 'CPU', 'time_taken': 0.193732292, 'measure_sampling': False, 'num_clbits': 4, 'max_memory_mb': 16384, 'input_qubit_map': [[3, 3], [2, 2], [1, 1], [0, 0]], 'num_qubits': 4, 'method': 'stabilizer', 'required_memory_mb': 0, 'fusion': {'enabled': False}}, time_taken=0.193732292), ExperimentResult(shots=1000, success=True, meas_level=2, data=ExperimentResultData(counts={'0x7': 1, '0x0': 2, '0x2': 2, '0xb': 3, '0x5': 3, '0xa': 2, '0xf': 3, '0xd': 44, '0x3': 1, '0x1': 5, '0x6': 48, '0xc': 735, '0x4': 31, '0xe': 51, '0x8': 30, '0x9': 39}), header=QobjExperimentHeader(creg_sizes=[['c', 4]], global_phase=0.0, memory_slots=4, metadata={}, n_qubits=4, name='circuit-1322', qreg_sizes=[['q', 4]]), status=DONE, seed_simulator=706980949, metadata={'num_bind_params': 1, 'runtime_parameter_bind': False, 'parallel_state_update': 1, 'parallel_shots': 1, 'noise': 'circuit', 'batched_shots_optimization': False, 'remapped_qubits': False, 'active_input_qubits': [0, 1, 2, 3], 'device': 'CPU', 'time_taken': 0.780745584, 'measure_sampling': False, 'num_clbits': 4, 'max_memory_mb': 16384, 'input_qubit_map': [[3, 3], [2, 2], [1, 1], [0, 0]], 'num_qubits': 4, 'method': 'stabilizer', 'required_memory_mb': 0, 'fusion': {'enabled': False}}, time_taken=0.780745584), ExperimentResult(shots=1000, success=True, meas_level=2, data=ExperimentResultData(counts={'0x1': 1, '0xb': 2, '0x6': 3, '0x9': 34, '0x0': 48, '0x2': 49, '0x5': 3, '0xa': 43, '0x7': 4, '0xe': 2, '0x8': 716, '0x4': 6, '0xc': 48, '0xf': 2, '0xd': 39}), header=QobjExperimentHeader(creg_sizes=[['c', 4]], global_phase=0.0, memory_slots=4, metadata={}, n_qubits=4, name='circuit-1325', qreg_sizes=[['q', 4]]), status=DONE, seed_simulator=706983062, metadata={'num_bind_params': 1, 'runtime_parameter_bind': False, 'parallel_state_update': 1, 'parallel_shots': 1, 'noise': 'circuit', 'batched_shots_optimization': False, 'remapped_qubits': False, 'active_input_qubits': [0, 1, 2, 3], 'device': 'CPU', 'time_taken': 0.690224459, 'measure_sampling': False, 'num_clbits': 4, 'max_memory_mb': 16384, 'input_qubit_map': [[3, 3], [2, 2], [1, 1], [0, 0]], 'num_qubits': 4, 'method': 'stabilizer', 'required_memory_mb': 0, 'fusion': {'enabled': False}}, time_taken=0.690224459), ExperimentResult(shots=1000, success=True, meas_level=2, data=ExperimentResultData(counts={'0x5': 1, '0x2': 3, '0x0': 4, '0x7': 3, '0xa': 4, '0xb': 4, '0xf': 1, '0xd': 45, '0x3': 2, '0x1': 4, '0x6': 33, '0xc': 735, '0x4': 47, '0x8': 44, '0xe': 32, '0x9': 38}), header=QobjExperimentHeader(creg_sizes=[['c', 4]], global_phase=0.0, memory_slots=4, metadata={}, n_qubits=4, name='circuit-1328', qreg_sizes=[['q', 4]]), status=DONE, seed_simulator=706985175, metadata={'num_bind_params': 1, 'runtime_parameter_bind': False, 'parallel_state_update': 1, 'parallel_shots': 1, 'noise': 'circuit', 'batched_shots_optimization': False, 'remapped_qubits': False, 'active_input_qubits': [0, 1, 2, 3], 'device': 'CPU', 'time_taken': 0.6568265, 'measure_sampling': False, 'num_clbits': 4, 'max_memory_mb': 16384, 'input_qubit_map': [[3, 3], [2, 2], [1, 1], [0, 0]], 'num_qubits': 4, 'method': 'stabilizer', 'required_memory_mb': 0, 'fusion': {'enabled': False}}, time_taken=0.6568265), ExperimentResult(shots=1000, success=True, meas_level=2, data=ExperimentResultData(counts={'0x5': 2, '0x6': 2, '0x9': 4, '0x1': 2, '0xb': 36, '0x7': 1, '0xd': 1, '0xf': 45, '0x0': 37, '0x2': 41, '0x4': 2, '0xc': 3, '0xe': 40, '0x8': 51, '0xa': 733}), header=QobjExperimentHeader(creg_sizes=[['c', 4]], global_phase=0.0, memory_slots=4, metadata={}, n_qubits=4, name='circuit-1331', qreg_sizes=[['q', 4]]), status=DONE, seed_simulator=706987288, metadata={'num_bind_params': 1, 'runtime_parameter_bind': False, 'parallel_state_update': 1, 'parallel_shots': 1, 'noise': 'circuit', 'batched_shots_optimization': False, 'remapped_qubits': False, 'active_input_qubits': [0, 1, 2, 3], 'device': 'CPU', 'time_taken': 0.542786959, 'measure_sampling': False, 'num_clbits': 4, 'max_memory_mb': 16384, 'input_qubit_map': [[3, 3], [2, 2], [1, 1], [0, 0]], 'num_qubits': 4, 'method': 'stabilizer', 'required_memory_mb': 0, 'fusion': {'enabled': False}}, time_taken=0.542786959), ExperimentResult(shots=1000, success=True, meas_level=2, data=ExperimentResultData(counts={'0x2': 1, '0x8': 1, '0x9': 2, '0x0': 2, '0xa': 40, '0x1': 2, '0xb': 48, '0x5': 34, '0xf': 718, '0xd': 52, '0x4': 1, '0xc': 4, '0xe': 55, '0x7': 40}), header=QobjExperimentHeader(creg_sizes=[['c', 4]], global_phase=0.0, memory_slots=4, metadata={}, n_qubits=4, name='circuit-1334', qreg_sizes=[['q', 4]]), status=DONE, seed_simulator=706989401, metadata={'num_bind_params': 1, 'runtime_parameter_bind': False, 'parallel_state_update': 1, 'parallel_shots': 1, 'noise': 'circuit', 'batched_shots_optimization': False, 'remapped_qubits': False, 'active_input_qubits': [0, 1, 2, 3], 'device': 'CPU', 'time_taken': 0.425098709, 'measure_sampling': False, 'num_clbits': 4, 'max_memory_mb': 16384, 'input_qubit_map': [[3, 3], [2, 2], [1, 1], [0, 0]], 'num_qubits': 4, 'method': 'stabilizer', 'required_memory_mb': 0, 'fusion': {'enabled': False}}, time_taken=0.425098709), ExperimentResult(shots=1000, success=True, meas_level=2, data=ExperimentResultData(counts={'0x0': 1, '0x4': 1, '0xc': 2, '0x2': 1, '0x6': 2, '0x3': 44, '0x1': 46, '0x8': 2, '0xe': 46, '0xa': 45, '0x7': 2, '0xd': 1, '0xf': 43, '0x9': 48, '0xb': 716}), header=QobjExperimentHeader(creg_sizes=[['c', 4]], global_phase=0.0, memory_slots=4, metadata={}, n_qubits=4, name='circuit-1337', qreg_sizes=[['q', 4]]), status=DONE, seed_simulator=706991514, metadata={'num_bind_params': 1, 'runtime_parameter_bind': False, 'parallel_state_update': 1, 'parallel_shots': 1, 'noise': 'circuit', 'batched_shots_optimization': False, 'remapped_qubits': False, 'active_input_qubits': [0, 1, 2, 3], 'device': 'CPU', 'time_taken': 0.364021792, 'measure_sampling': False, 'num_clbits': 4, 'max_memory_mb': 16384, 'input_qubit_map': [[3, 3], [2, 2], [1, 1], [0, 0]], 'num_qubits': 4, 'method': 'stabilizer', 'required_memory_mb': 0, 'fusion': {'enabled': False}}, time_taken=0.364021792), ExperimentResult(shots=1000, success=True, meas_level=2, data=ExperimentResultData(counts={'0x0': 1, '0xa': 2, '0x3': 2, '0x1': 2, '0xc': 50, '0x4': 1, '0x6': 2, '0x5': 44, '0xd': 736, '0xf': 44, '0x7': 36, '0x9': 38, '0xe': 4, '0x8': 38}), header=QobjExperimentHeader(creg_sizes=[['c', 4]], global_phase=0.0, memory_slots=4, metadata={}, n_qubits=4, name='circuit-1340', qreg_sizes=[['q', 4]]), status=DONE, seed_simulator=706993627, metadata={'num_bind_params': 1, 'runtime_parameter_bind': False, 'parallel_state_update': 1, 'parallel_shots': 1, 'noise': 'circuit', 'batched_shots_optimization': False, 'remapped_qubits': False, 'active_input_qubits': [0, 1, 2, 3], 'device': 'CPU', 'time_taken': 0.353357542, 'measure_sampling': False, 'num_clbits': 4, 'max_memory_mb': 16384, 'input_qubit_map': [[3, 3], [2, 2], [1, 1], [0, 0]], 'num_qubits': 4, 'method': 'stabilizer', 'required_memory_mb': 0, 'fusion': {'enabled': False}}, time_taken=0.353357542), ExperimentResult(shots=1000, success=True, meas_level=2, data=ExperimentResultData(counts={'0xa': 1, '0x7': 1, '0x2': 3, '0xe': 1, '0x4': 36, '0xc': 1, '0xb': 41, '0x1': 752, '0x3': 38, '0xf': 2, '0x6': 4, '0x0': 32, '0x5': 48, '0x9': 40}), header=QobjExperimentHeader(creg_sizes=[['c', 4]], global_phase=0.0, memory_slots=4, metadata={}, n_qubits=4, name='circuit-1343', qreg_sizes=[['q', 4]]), status=DONE, seed_simulator=706995740, metadata={'num_bind_params': 1, 'runtime_parameter_bind': False, 'parallel_state_update': 1, 'parallel_shots': 1, 'noise': 'circuit', 'batched_shots_optimization': False, 'remapped_qubits': False, 'active_input_qubits': [0, 1, 2, 3], 'device': 'CPU', 'time_taken': 0.205398541, 'measure_sampling': False, 'num_clbits': 4, 'max_memory_mb': 16384, 'input_qubit_map': [[3, 3], [2, 2], [1, 1], [0, 0]], 'num_qubits': 4, 'method': 'stabilizer', 'required_memory_mb': 0, 'fusion': {'enabled': False}}, time_taken=0.205398541), ExperimentResult(shots=1000, success=True, meas_level=2, data=ExperimentResultData(counts={'0x5': 3, '0xe': 2, '0xb': 2, '0xf': 1, '0xd': 5, '0x8': 35, '0xa': 35, '0x3': 54, '0x1': 5, '0x6': 49, '0xc': 1, '0x4': 8, '0x7': 41, '0x0': 40, '0x2': 719}), header=QobjExperimentHeader(creg_sizes=[['c', 4]], global_phase=0.0, memory_slots=4, metadata={}, n_qubits=4, name='circuit-1346', qreg_sizes=[['q', 4]]), status=DONE, seed_simulator=706997853, metadata={'num_bind_params': 1, 'runtime_parameter_bind': False, 'parallel_state_update': 1, 'parallel_shots': 1, 'noise': 'circuit', 'batched_shots_optimization': False, 'remapped_qubits': False, 'active_input_qubits': [0, 1, 2, 3], 'device': 'CPU', 'time_taken': 0.168389709, 'measure_sampling': False, 'num_clbits': 4, 'max_memory_mb': 16384, 'input_qubit_map': [[3, 3], [2, 2], [1, 1], [0, 0]], 'num_qubits': 4, 'method': 'stabilizer', 'required_memory_mb': 0, 'fusion': {'enabled': False}}, time_taken=0.168389709), ExperimentResult(shots=1000, success=True, meas_level=2, data=ExperimentResultData(counts={'0xb': 1, '0x6': 1, '0x0': 3, '0x2': 3, '0x7': 42, '0x1': 3, '0x3': 6, '0xd': 712, '0xf': 47, '0xa': 2, '0x5': 48, '0x8': 34, '0xe': 2, '0x4': 4, '0xc': 48, '0x9': 44}), header=QobjExperimentHeader(creg_sizes=[['c', 4]], global_phase=0.0, memory_slots=4, metadata={}, n_qubits=4, name='circuit-1349', qreg_sizes=[['q', 4]]), status=DONE, seed_simulator=706999966, metadata={'num_bind_params': 1, 'runtime_parameter_bind': False, 'parallel_state_update': 1, 'parallel_shots': 1, 'noise': 'circuit', 'batched_shots_optimization': False, 'remapped_qubits': False, 'active_input_qubits': [0, 1, 2, 3], 'device': 'CPU', 'time_taken': 0.149511333, 'measure_sampling': False, 'num_clbits': 4, 'max_memory_mb': 16384, 'input_qubit_map': [[3, 3], [2, 2], [1, 1], [0, 0]], 'num_qubits': 4, 'method': 'stabilizer', 'required_memory_mb': 0, 'fusion': {'enabled': False}}, time_taken=0.149511333), ExperimentResult(shots=1000, success=True, meas_level=2, data=ExperimentResultData(counts={'0xb': 2, '0x9': 2, '0x6': 3, '0x7': 3, '0xf': 3, '0xd': 4, '0x4': 45, '0xc': 2, '0xe': 4, '0x8': 39, '0x3': 3, '0x1': 46, '0xa': 39, '0x0': 712, '0x2': 56, '0x5': 37}), header=QobjExperimentHeader(creg_sizes=[['c', 4]], global_phase=0.0, memory_slots=4, metadata={}, n_qubits=4, name='circuit-1352', qreg_sizes=[['q', 4]]), status=DONE, seed_simulator=707002079, metadata={'num_bind_params': 1, 'runtime_parameter_bind': False, 'parallel_state_update': 1, 'parallel_shots': 1, 'noise': 'circuit', 'batched_shots_optimization': False, 'remapped_qubits': False, 'active_input_qubits': [0, 1, 2, 3], 'device': 'CPU', 'time_taken': 0.148911375, 'measure_sampling': False, 'num_clbits': 4, 'max_memory_mb': 16384, 'input_qubit_map': [[3, 3], [2, 2], [1, 1], [0, 0]], 'num_qubits': 4, 'method': 'stabilizer', 'required_memory_mb': 0, 'fusion': {'enabled': False}}, time_taken=0.148911375), ExperimentResult(shots=1000, success=True, meas_level=2, data=ExperimentResultData(counts={'0x2': 4, '0xb': 1, '0x8': 5, '0xa': 3, '0x4': 46, '0xc': 3, '0xe': 2, '0x9': 3, '0xd': 43, '0xf': 46, '0x7': 47, '0x1': 49, '0x6': 5, '0x0': 36, '0x5': 707}), header=QobjExperimentHeader(creg_sizes=[['c', 4]], global_phase=0.0, memory_slots=4, metadata={}, n_qubits=4, name='circuit-1355', qreg_sizes=[['q', 4]]), status=DONE, seed_simulator=707004192, metadata={'num_bind_params': 1, 'runtime_parameter_bind': False, 'parallel_state_update': 1, 'parallel_shots': 1, 'noise': 'circuit', 'batched_shots_optimization': False, 'remapped_qubits': False, 'active_input_qubits': [0, 1, 2, 3], 'device': 'CPU', 'time_taken': 0.149582417, 'measure_sampling': False, 'num_clbits': 4, 'max_memory_mb': 16384, 'input_qubit_map': [[3, 3], [2, 2], [1, 1], [0, 0]], 'num_qubits': 4, 'method': 'stabilizer', 'required_memory_mb': 0, 'fusion': {'enabled': False}}, time_taken=0.149582417), ExperimentResult(shots=1000, success=True, meas_level=2, data=ExperimentResultData(counts={'0x8': 3, '0x4': 2, '0xc': 2, '0x6': 4, '0xe': 39, '0x2': 2, '0x0': 5, '0x9': 33, '0x3': 34, '0x1': 34, '0x7': 6, '0xd': 3, '0xf': 56, '0xa': 40, '0x5': 1, '0xb': 736}), header=QobjExperimentHeader(creg_sizes=[['c', 4]], global_phase=0.0, memory_slots=4, metadata={}, n_qubits=4, name='circuit-1358', qreg_sizes=[['q', 4]]), status=DONE, seed_simulator=707006305, metadata={'num_bind_params': 1, 'runtime_parameter_bind': False, 'parallel_state_update': 1, 'parallel_shots': 1, 'noise': 'circuit', 'batched_shots_optimization': False, 'remapped_qubits': False, 'active_input_qubits': [0, 1, 2, 3], 'device': 'CPU', 'time_taken': 0.643105459, 'measure_sampling': False, 'num_clbits': 4, 'max_memory_mb': 16384, 'input_qubit_map': [[3, 3], [2, 2], [1, 1], [0, 0]], 'num_qubits': 4, 'method': 'stabilizer', 'required_memory_mb': 0, 'fusion': {'enabled': False}}, time_taken=0.643105459), ExperimentResult(shots=1000, success=True, meas_level=2, data=ExperimentResultData(counts={'0xe': 1, '0xa': 2, '0x4': 1, '0xc': 1, '0x8': 1, '0x9': 3, '0x0': 4, '0x2': 32, '0x5': 47, '0x3': 42, '0x1': 3, '0x6': 49, '0xd': 45, '0xf': 47, '0x7': 722}), header=QobjExperimentHeader(creg_sizes=[['c', 4]], global_phase=0.0, memory_slots=4, metadata={}, n_qubits=4, name='circuit-1361', qreg_sizes=[['q', 4]]), status=DONE, seed_simulator=707008418, metadata={'num_bind_params': 1, 'runtime_parameter_bind': False, 'parallel_state_update': 1, 'parallel_shots': 1, 'noise': 'circuit', 'batched_shots_optimization': False, 'remapped_qubits': False, 'active_input_qubits': [0, 1, 2, 3], 'device': 'CPU', 'time_taken': 0.722915, 'measure_sampling': False, 'num_clbits': 4, 'max_memory_mb': 16384, 'input_qubit_map': [[3, 3], [2, 2], [1, 1], [0, 0]], 'num_qubits': 4, 'method': 'stabilizer', 'required_memory_mb': 0, 'fusion': {'enabled': False}}, time_taken=0.722915), ExperimentResult(shots=1000, success=True, meas_level=2, data=ExperimentResultData(counts={'0xa': 1, '0x0': 3, '0x4': 5, '0xc': 2, '0x8': 1, '0xe': 7, '0x9': 52, '0xb': 43, '0x3': 712, '0x1': 43, '0x6': 40, '0x2': 53, '0xd': 1, '0xf': 3, '0x7': 34}), header=QobjExperimentHeader(creg_sizes=[['c', 4]], global_phase=0.0, memory_slots=4, metadata={}, n_qubits=4, name='circuit-1364', qreg_sizes=[['q', 4]]), status=DONE, seed_simulator=707010531, metadata={'num_bind_params': 1, 'runtime_parameter_bind': False, 'parallel_state_update': 1, 'parallel_shots': 1, 'noise': 'circuit', 'batched_shots_optimization': False, 'remapped_qubits': False, 'active_input_qubits': [0, 1, 2, 3], 'device': 'CPU', 'time_taken': 0.688607375, 'measure_sampling': False, 'num_clbits': 4, 'max_memory_mb': 16384, 'input_qubit_map': [[3, 3], [2, 2], [1, 1], [0, 0]], 'num_qubits': 4, 'method': 'stabilizer', 'required_memory_mb': 0, 'fusion': {'enabled': False}}, time_taken=0.688607375), ExperimentResult(shots=1000, success=True, meas_level=2, data=ExperimentResultData(counts={'0x1': 4, '0x2': 4, '0x0': 3, '0x9': 2, '0xc': 2, '0x4': 3, '0x6': 2, '0x5': 31, '0xf': 715, '0xd': 38, '0xb': 40, '0x7': 55, '0xa': 47, '0x8': 4, '0xe': 50}), header=QobjExperimentHeader(creg_sizes=[['c', 4]], global_phase=0.0, memory_slots=4, metadata={}, n_qubits=4, name='circuit-1367', qreg_sizes=[['q', 4]]), status=DONE, seed_simulator=707012644, metadata={'num_bind_params': 1, 'runtime_parameter_bind': False, 'parallel_state_update': 1, 'parallel_shots': 1, 'noise': 'circuit', 'batched_shots_optimization': False, 'remapped_qubits': False, 'active_input_qubits': [0, 1, 2, 3], 'device': 'CPU', 'time_taken': 0.59237925, 'measure_sampling': False, 'num_clbits': 4, 'max_memory_mb': 16384, 'input_qubit_map': [[3, 3], [2, 2], [1, 1], [0, 0]], 'num_qubits': 4, 'method': 'stabilizer', 'required_memory_mb': 0, 'fusion': {'enabled': False}}, time_taken=0.59237925), ExperimentResult(shots=1000, success=True, meas_level=2, data=ExperimentResultData(counts={'0x0': 2, '0xa': 4, '0x6': 4, '0x3': 1, '0x1': 4, '0x5': 41, '0xb': 4, '0x7': 29, '0xd': 750, '0xf': 42, '0x4': 2, '0xc': 40, '0x8': 39, '0x9': 38}), header=QobjExperimentHeader(creg_sizes=[['c', 4]], global_phase=0.0, memory_slots=4, metadata={}, n_qubits=4, name='circuit-1370', qreg_sizes=[['q', 4]]), status=DONE, seed_simulator=707014757, metadata={'num_bind_params': 1, 'runtime_parameter_bind': False, 'parallel_state_update': 1, 'parallel_shots': 1, 'noise': 'circuit', 'batched_shots_optimization': False, 'remapped_qubits': False, 'active_input_qubits': [0, 1, 2, 3], 'device': 'CPU', 'time_taken': 0.704447708, 'measure_sampling': False, 'num_clbits': 4, 'max_memory_mb': 16384, 'input_qubit_map': [[3, 3], [2, 2], [1, 1], [0, 0]], 'num_qubits': 4, 'method': 'stabilizer', 'required_memory_mb': 0, 'fusion': {'enabled': False}}, time_taken=0.704447708), ExperimentResult(shots=1000, success=True, meas_level=2, data=ExperimentResultData(counts={'0xa': 2, '0x8': 4, '0x5': 3, '0xb': 5, '0x9': 3, '0x2': 37, '0x0': 4, '0xd': 4, '0xf': 2, '0x1': 3, '0x3': 45, '0x7': 42, '0xe': 40, '0x4': 40, '0xc': 44, '0x6': 722}), header=QobjExperimentHeader(creg_sizes=[['c', 4]], global_phase=0.0, memory_slots=4, metadata={}, n_qubits=4, name='circuit-1373', qreg_sizes=[['q', 4]]), status=DONE, seed_simulator=707016870, metadata={'num_bind_params': 1, 'runtime_parameter_bind': False, 'parallel_state_update': 1, 'parallel_shots': 1, 'noise': 'circuit', 'batched_shots_optimization': False, 'remapped_qubits': False, 'active_input_qubits': [0, 1, 2, 3], 'device': 'CPU', 'time_taken': 0.557994833, 'measure_sampling': False, 'num_clbits': 4, 'max_memory_mb': 16384, 'input_qubit_map': [[3, 3], [2, 2], [1, 1], [0, 0]], 'num_qubits': 4, 'method': 'stabilizer', 'required_memory_mb': 0, 'fusion': {'enabled': False}}, time_taken=0.557994833), ExperimentResult(shots=1000, success=True, meas_level=2, data=ExperimentResultData(counts={'0xe': 3, '0x0': 1, '0x6': 4, '0x2': 3, '0x7': 2, '0x3': 35, '0x1': 47, '0x5': 5, '0xa': 2, '0xf': 3, '0xd': 48, '0x4': 3, '0xc': 40, '0x8': 45, '0xb': 41, '0x9': 718}), header=QobjExperimentHeader(creg_sizes=[['c', 4]], global_phase=0.0, memory_slots=4, metadata={}, n_qubits=4, name='circuit-1376', qreg_sizes=[['q', 4]]), status=DONE, seed_simulator=707018983, metadata={'num_bind_params': 1, 'runtime_parameter_bind': False, 'parallel_state_update': 1, 'parallel_shots': 1, 'noise': 'circuit', 'batched_shots_optimization': False, 'remapped_qubits': False, 'active_input_qubits': [0, 1, 2, 3], 'device': 'CPU', 'time_taken': 0.31925225, 'measure_sampling': False, 'num_clbits': 4, 'max_memory_mb': 16384, 'input_qubit_map': [[3, 3], [2, 2], [1, 1], [0, 0]], 'num_qubits': 4, 'method': 'stabilizer', 'required_memory_mb': 0, 'fusion': {'enabled': False}}, time_taken=0.31925225), ExperimentResult(shots=1000, success=True, meas_level=2, data=ExperimentResultData(counts={'0xb': 1, '0x5': 3, '0xc': 3, '0x4': 3, '0xe': 2, '0x8': 39, '0x9': 6, '0xa': 47, '0x2': 710, '0x0': 45, '0x3': 49, '0x1': 2, '0x6': 38, '0xd': 1, '0xf': 1, '0x7': 50}), header=QobjExperimentHeader(creg_sizes=[['c', 4]], global_phase=0.0, memory_slots=4, metadata={}, n_qubits=4, name='circuit-1379', qreg_sizes=[['q', 4]]), status=DONE, seed_simulator=707021096, metadata={'num_bind_params': 1, 'runtime_parameter_bind': False, 'parallel_state_update': 1, 'parallel_shots': 1, 'noise': 'circuit', 'batched_shots_optimization': False, 'remapped_qubits': False, 'active_input_qubits': [0, 1, 2, 3], 'device': 'CPU', 'time_taken': 0.273725541, 'measure_sampling': False, 'num_clbits': 4, 'max_memory_mb': 16384, 'input_qubit_map': [[3, 3], [2, 2], [1, 1], [0, 0]], 'num_qubits': 4, 'method': 'stabilizer', 'required_memory_mb': 0, 'fusion': {'enabled': False}}, time_taken=0.273725541), ExperimentResult(shots=1000, success=True, meas_level=2, data=ExperimentResultData(counts={'0x2': 1, '0x6': 1, '0xb': 43, '0xf': 713, '0xd': 44, '0x0': 3, '0x9': 5, '0x4': 1, '0xc': 2, '0xe': 53, '0x5': 44, '0x1': 1, '0x3': 2, '0x7': 42, '0xa': 45}), header=QobjExperimentHeader(creg_sizes=[['c', 4]], global_phase=0.0, memory_slots=4, metadata={}, n_qubits=4, name='circuit-1382', qreg_sizes=[['q', 4]]), status=DONE, seed_simulator=707023209, metadata={'num_bind_params': 1, 'runtime_parameter_bind': False, 'parallel_state_update': 1, 'parallel_shots': 1, 'noise': 'circuit', 'batched_shots_optimization': False, 'remapped_qubits': False, 'active_input_qubits': [0, 1, 2, 3], 'device': 'CPU', 'time_taken': 0.25221975, 'measure_sampling': False, 'num_clbits': 4, 'max_memory_mb': 16384, 'input_qubit_map': [[3, 3], [2, 2], [1, 1], [0, 0]], 'num_qubits': 4, 'method': 'stabilizer', 'required_memory_mb': 0, 'fusion': {'enabled': False}}, time_taken=0.25221975), ExperimentResult(shots=1000, success=True, meas_level=2, data=ExperimentResultData(counts={'0x8': 4, '0xb': 2, '0xf': 5, '0xd': 2, '0xa': 3, '0x7': 3, '0x2': 5, '0x0': 49, '0x4': 725, '0xc': 38, '0xe': 35, '0x9': 4, '0x6': 43, '0x3': 2, '0x1': 34, '0x5': 46}), header=QobjExperimentHeader(creg_sizes=[['c', 4]], global_phase=0.0, memory_slots=4, metadata={}, n_qubits=4, name='circuit-1385', qreg_sizes=[['q', 4]]), status=DONE, seed_simulator=707025322, metadata={'num_bind_params': 1, 'runtime_parameter_bind': False, 'parallel_state_update': 1, 'parallel_shots': 1, 'noise': 'circuit', 'batched_shots_optimization': False, 'remapped_qubits': False, 'active_input_qubits': [0, 1, 2, 3], 'device': 'CPU', 'time_taken': 0.223383458, 'measure_sampling': False, 'num_clbits': 4, 'max_memory_mb': 16384, 'input_qubit_map': [[3, 3], [2, 2], [1, 1], [0, 0]], 'num_qubits': 4, 'method': 'stabilizer', 'required_memory_mb': 0, 'fusion': {'enabled': False}}, time_taken=0.223383458), ExperimentResult(shots=1000, success=True, meas_level=2, data=ExperimentResultData(counts={'0x2': 1, '0x6': 1, '0xb': 3, '0xa': 3, '0x0': 4, '0xc': 45, '0x4': 3, '0xe': 2, '0x8': 49, '0x5': 47, '0xf': 40, '0xd': 708, '0x1': 1, '0x3': 2, '0x7': 43, '0x9': 48}), header=QobjExperimentHeader(creg_sizes=[['c', 4]], global_phase=0.0, memory_slots=4, metadata={}, n_qubits=4, name='circuit-1388', qreg_sizes=[['q', 4]]), status=DONE, seed_simulator=707027435, metadata={'num_bind_params': 1, 'runtime_parameter_bind': False, 'parallel_state_update': 1, 'parallel_shots': 1, 'noise': 'circuit', 'batched_shots_optimization': False, 'remapped_qubits': False, 'active_input_qubits': [0, 1, 2, 3], 'device': 'CPU', 'time_taken': 0.219960917, 'measure_sampling': False, 'num_clbits': 4, 'max_memory_mb': 16384, 'input_qubit_map': [[3, 3], [2, 2], [1, 1], [0, 0]], 'num_qubits': 4, 'method': 'stabilizer', 'required_memory_mb': 0, 'fusion': {'enabled': False}}, time_taken=0.219960917), ExperimentResult(shots=1000, success=True, meas_level=2, data=ExperimentResultData(counts={'0x7': 1, '0x5': 2, '0xb': 2, '0xd': 34, '0xf': 2, '0x3': 3, '0x1': 1, '0x6': 4, '0x9': 51, '0xa': 42, '0x2': 49, '0x0': 50, '0xe': 4, '0x4': 1, '0xc': 44, '0x8': 710}), header=QobjExperimentHeader(creg_sizes=[['c', 4]], global_phase=0.0, memory_slots=4, metadata={}, n_qubits=4, name='circuit-1391', qreg_sizes=[['q', 4]]), status=DONE, seed_simulator=707029548, metadata={'num_bind_params': 1, 'runtime_parameter_bind': False, 'parallel_state_update': 1, 'parallel_shots': 1, 'noise': 'circuit', 'batched_shots_optimization': False, 'remapped_qubits': False, 'active_input_qubits': [0, 1, 2, 3], 'device': 'CPU', 'time_taken': 0.219648292, 'measure_sampling': False, 'num_clbits': 4, 'max_memory_mb': 16384, 'input_qubit_map': [[3, 3], [2, 2], [1, 1], [0, 0]], 'num_qubits': 4, 'method': 'stabilizer', 'required_memory_mb': 0, 'fusion': {'enabled': False}}, time_taken=0.219648292), ExperimentResult(shots=1000, success=True, meas_level=2, data=ExperimentResultData(counts={'0x6': 2, '0x8': 2, '0x2': 3, '0x9': 1, '0xb': 43, '0x0': 2, '0x5': 42, '0xa': 44, '0xf': 715, '0xd': 50, '0xe': 44, '0xc': 2, '0x4': 2, '0x3': 2, '0x1': 3, '0x7': 43}), header=QobjExperimentHeader(creg_sizes=[['c', 4]], global_phase=0.0, memory_slots=4, metadata={}, n_qubits=4, name='circuit-1394', qreg_sizes=[['q', 4]]), status=DONE, seed_simulator=707031661, metadata={'num_bind_params': 1, 'runtime_parameter_bind': False, 'parallel_state_update': 1, 'parallel_shots': 1, 'noise': 'circuit', 'batched_shots_optimization': False, 'remapped_qubits': False, 'active_input_qubits': [0, 1, 2, 3], 'device': 'CPU', 'time_taken': 1.360388625, 'measure_sampling': False, 'num_clbits': 4, 'max_memory_mb': 16384, 'input_qubit_map': [[3, 3], [2, 2], [1, 1], [0, 0]], 'num_qubits': 4, 'method': 'stabilizer', 'required_memory_mb': 0, 'fusion': {'enabled': False}}, time_taken=1.360388625), ExperimentResult(shots=1000, success=True, meas_level=2, data=ExperimentResultData(counts={'0x7': 1, '0xb': 1, '0xe': 1, '0x5': 3, '0xd': 47, '0xf': 2, '0xa': 45, '0x9': 42, '0x1': 3, '0x6': 2, '0x4': 5, '0xc': 43, '0x8': 717, '0x0': 44, '0x2': 44}), header=QobjExperimentHeader(creg_sizes=[['c', 4]], global_phase=0.0, memory_slots=4, metadata={}, n_qubits=4, name='circuit-1397', qreg_sizes=[['q', 4]]), status=DONE, seed_simulator=707033774, metadata={'num_bind_params': 1, 'runtime_parameter_bind': False, 'parallel_state_update': 1, 'parallel_shots': 1, 'noise': 'circuit', 'batched_shots_optimization': False, 'remapped_qubits': False, 'active_input_qubits': [0, 1, 2, 3], 'device': 'CPU', 'time_taken': 1.212680334, 'measure_sampling': False, 'num_clbits': 4, 'max_memory_mb': 16384, 'input_qubit_map': [[3, 3], [2, 2], [1, 1], [0, 0]], 'num_qubits': 4, 'method': 'stabilizer', 'required_memory_mb': 0, 'fusion': {'enabled': False}}, time_taken=1.212680334), ExperimentResult(shots=1000, success=True, meas_level=2, data=ExperimentResultData(counts={'0x9': 1, '0x2': 2, '0x1': 1, '0x3': 2, '0x5': 1, '0x0': 4, '0x7': 4, '0xf': 44, '0xd': 6, '0xc': 41, '0x4': 37, '0x6': 42, '0xb': 45, '0x8': 3, '0xe': 717, '0xa': 50}), header=QobjExperimentHeader(creg_sizes=[['c', 4]], global_phase=0.0, memory_slots=4, metadata={}, n_qubits=4, name='circuit-1400', qreg_sizes=[['q', 4]]), status=DONE, seed_simulator=707035887, metadata={'num_bind_params': 1, 'runtime_parameter_bind': False, 'parallel_state_update': 1, 'parallel_shots': 1, 'noise': 'circuit', 'batched_shots_optimization': False, 'remapped_qubits': False, 'active_input_qubits': [0, 1, 2, 3], 'device': 'CPU', 'time_taken': 0.697736041, 'measure_sampling': False, 'num_clbits': 4, 'max_memory_mb': 16384, 'input_qubit_map': [[3, 3], [2, 2], [1, 1], [0, 0]], 'num_qubits': 4, 'method': 'stabilizer', 'required_memory_mb': 0, 'fusion': {'enabled': False}}, time_taken=0.697736041), ExperimentResult(shots=1000, success=True, meas_level=2, data=ExperimentResultData(counts={'0x9': 1, '0x7': 2, '0x1': 1, '0x3': 1, '0x2': 2, '0x5': 4, '0x0': 2, '0xb': 40, '0x6': 41, '0xc': 35, '0x4': 41, '0xf': 41, '0xd': 3, '0xa': 51, '0x8': 2, '0xe': 733}), header=QobjExperimentHeader(creg_sizes=[['c', 4]], global_phase=0.0, memory_slots=4, metadata={}, n_qubits=4, name='circuit-1403', qreg_sizes=[['q', 4]]), status=DONE, seed_simulator=707038000, metadata={'num_bind_params': 1, 'runtime_parameter_bind': False, 'parallel_state_update': 1, 'parallel_shots': 1, 'noise': 'circuit', 'batched_shots_optimization': False, 'remapped_qubits': False, 'active_input_qubits': [0, 1, 2, 3], 'device': 'CPU', 'time_taken': 0.602900125, 'measure_sampling': False, 'num_clbits': 4, 'max_memory_mb': 16384, 'input_qubit_map': [[3, 3], [2, 2], [1, 1], [0, 0]], 'num_qubits': 4, 'method': 'stabilizer', 'required_memory_mb': 0, 'fusion': {'enabled': False}}, time_taken=0.602900125), ExperimentResult(shots=1000, success=True, meas_level=2, data=ExperimentResultData(counts={'0x0': 2, '0x8': 3, '0xa': 2, '0x9': 3, '0xb': 2, '0x2': 39, '0x6': 717, '0xc': 45, '0x4': 42, '0xe': 53, '0xd': 4, '0xf': 2, '0x7': 46, '0x3': 40}), header=QobjExperimentHeader(creg_sizes=[['c', 4]], global_phase=0.0, memory_slots=4, metadata={}, n_qubits=4, name='circuit-1406', qreg_sizes=[['q', 4]]), status=DONE, seed_simulator=707040113, metadata={'num_bind_params': 1, 'runtime_parameter_bind': False, 'parallel_state_update': 1, 'parallel_shots': 1, 'noise': 'circuit', 'batched_shots_optimization': False, 'remapped_qubits': False, 'active_input_qubits': [0, 1, 2, 3], 'device': 'CPU', 'time_taken': 0.326056125, 'measure_sampling': False, 'num_clbits': 4, 'max_memory_mb': 16384, 'input_qubit_map': [[3, 3], [2, 2], [1, 1], [0, 0]], 'num_qubits': 4, 'method': 'stabilizer', 'required_memory_mb': 0, 'fusion': {'enabled': False}}, time_taken=0.326056125), ExperimentResult(shots=1000, success=True, meas_level=2, data=ExperimentResultData(counts={'0xe': 1, '0x7': 1, '0x6': 1, '0x5': 2, '0xa': 3, '0x0': 1, '0x1': 46, '0x3': 38, '0xf': 3, '0xd': 48, '0xc': 44, '0x4': 5, '0x8': 44, '0xb': 45, '0x9': 718}), header=QobjExperimentHeader(creg_sizes=[['c', 4]], global_phase=0.0, memory_slots=4, metadata={}, n_qubits=4, name='circuit-1409', qreg_sizes=[['q', 4]]), status=DONE, seed_simulator=707042226, metadata={'num_bind_params': 1, 'runtime_parameter_bind': False, 'parallel_state_update': 1, 'parallel_shots': 1, 'noise': 'circuit', 'batched_shots_optimization': False, 'remapped_qubits': False, 'active_input_qubits': [0, 1, 2, 3], 'device': 'CPU', 'time_taken': 0.274359334, 'measure_sampling': False, 'num_clbits': 4, 'max_memory_mb': 16384, 'input_qubit_map': [[3, 3], [2, 2], [1, 1], [0, 0]], 'num_qubits': 4, 'method': 'stabilizer', 'required_memory_mb': 0, 'fusion': {'enabled': False}}, time_taken=0.274359334), ExperimentResult(shots=1000, success=True, meas_level=2, data=ExperimentResultData(counts={'0xe': 2, '0x9': 2, '0xb': 3, '0x7': 2, '0xd': 4, '0xf': 3, '0xa': 32, '0x8': 51, '0x4': 43, '0xc': 3, '0x5': 44, '0x0': 714, '0x2': 45, '0x3': 4, '0x1': 47, '0x6': 1}), header=QobjExperimentHeader(creg_sizes=[['c', 4]], global_phase=0.0, memory_slots=4, metadata={}, n_qubits=4, name='circuit-1412', qreg_sizes=[['q', 4]]), status=DONE, seed_simulator=707044339, metadata={'num_bind_params': 1, 'runtime_parameter_bind': False, 'parallel_state_update': 1, 'parallel_shots': 1, 'noise': 'circuit', 'batched_shots_optimization': False, 'remapped_qubits': False, 'active_input_qubits': [0, 1, 2, 3], 'device': 'CPU', 'time_taken': 0.255741834, 'measure_sampling': False, 'num_clbits': 4, 'max_memory_mb': 16384, 'input_qubit_map': [[3, 3], [2, 2], [1, 1], [0, 0]], 'num_qubits': 4, 'method': 'stabilizer', 'required_memory_mb': 0, 'fusion': {'enabled': False}}, time_taken=0.255741834), ExperimentResult(shots=1000, success=True, meas_level=2, data=ExperimentResultData(counts={'0x0': 2, '0xe': 2, '0x2': 27, '0xb': 4, '0x6': 39, '0xf': 40, '0xd': 52, '0x5': 45, '0x8': 3, '0x4': 3, '0xc': 1, '0x9': 7, '0x1': 3, '0x3': 53, '0x7': 719}), header=QobjExperimentHeader(creg_sizes=[['c', 4]], global_phase=0.0, memory_slots=4, metadata={}, n_qubits=4, name='circuit-1415', qreg_sizes=[['q', 4]]), status=DONE, seed_simulator=707046452, metadata={'num_bind_params': 1, 'runtime_parameter_bind': False, 'parallel_state_update': 1, 'parallel_shots': 1, 'noise': 'circuit', 'batched_shots_optimization': False, 'remapped_qubits': False, 'active_input_qubits': [0, 1, 2, 3], 'device': 'CPU', 'time_taken': 0.226947792, 'measure_sampling': False, 'num_clbits': 4, 'max_memory_mb': 16384, 'input_qubit_map': [[3, 3], [2, 2], [1, 1], [0, 0]], 'num_qubits': 4, 'method': 'stabilizer', 'required_memory_mb': 0, 'fusion': {'enabled': False}}, time_taken=0.226947792), ExperimentResult(shots=1000, success=True, meas_level=2, data=ExperimentResultData(counts={'0xa': 4, '0xe': 3, '0x0': 2, '0xb': 44, '0xf': 2, '0xd': 42, '0x6': 3, '0x3': 37, '0x1': 43, '0x5': 3, '0x4': 1, '0xc': 35, '0x8': 40, '0x7': 3, '0x9': 738}), header=QobjExperimentHeader(creg_sizes=[['c', 4]], global_phase=0.0, memory_slots=4, metadata={}, n_qubits=4, name='circuit-1418', qreg_sizes=[['q', 4]]), status=DONE, seed_simulator=707048565, metadata={'num_bind_params': 1, 'runtime_parameter_bind': False, 'parallel_state_update': 1, 'parallel_shots': 1, 'noise': 'circuit', 'batched_shots_optimization': False, 'remapped_qubits': False, 'active_input_qubits': [0, 1, 2, 3], 'device': 'CPU', 'time_taken': 0.223706625, 'measure_sampling': False, 'num_clbits': 4, 'max_memory_mb': 16384, 'input_qubit_map': [[3, 3], [2, 2], [1, 1], [0, 0]], 'num_qubits': 4, 'method': 'stabilizer', 'required_memory_mb': 0, 'fusion': {'enabled': False}}, time_taken=0.223706625), ExperimentResult(shots=1000, success=True, meas_level=2, data=ExperimentResultData(counts={'0x9': 2, '0x2': 2, '0x0': 1, '0x8': 2, '0x4': 4, '0xc': 4, '0xe': 36, '0xb': 44, '0xa': 39, '0x1': 3, '0x3': 4, '0x7': 40, '0xd': 47, '0xf': 720, '0x6': 6, '0x5': 46}), header=QobjExperimentHeader(creg_sizes=[['c', 4]], global_phase=0.0, memory_slots=4, metadata={}, n_qubits=4, name='circuit-1421', qreg_sizes=[['q', 4]]), status=DONE, seed_simulator=707050678, metadata={'num_bind_params': 1, 'runtime_parameter_bind': False, 'parallel_state_update': 1, 'parallel_shots': 1, 'noise': 'circuit', 'batched_shots_optimization': False, 'remapped_qubits': False, 'active_input_qubits': [0, 1, 2, 3], 'device': 'CPU', 'time_taken': 0.221580917, 'measure_sampling': False, 'num_clbits': 4, 'max_memory_mb': 16384, 'input_qubit_map': [[3, 3], [2, 2], [1, 1], [0, 0]], 'num_qubits': 4, 'method': 'stabilizer', 'required_memory_mb': 0, 'fusion': {'enabled': False}}, time_taken=0.221580917), ExperimentResult(shots=1000, success=True, meas_level=2, data=ExperimentResultData(counts={'0xb': 1, '0x9': 3, '0x7': 5, '0xa': 3, '0xf': 3, '0xd': 3, '0x1': 41, '0x3': 1, '0x2': 2, '0x0': 55, '0xc': 41, '0x4': 708, '0x6': 49, '0x5': 40, '0xe': 42, '0x8': 3}), header=QobjExperimentHeader(creg_sizes=[['c', 4]], global_phase=0.0, memory_slots=4, metadata={}, n_qubits=4, name='circuit-1424', qreg_sizes=[['q', 4]]), status=DONE, seed_simulator=707052791, metadata={'num_bind_params': 1, 'runtime_parameter_bind': False, 'parallel_state_update': 1, 'parallel_shots': 1, 'noise': 'circuit', 'batched_shots_optimization': False, 'remapped_qubits': False, 'active_input_qubits': [0, 1, 2, 3], 'device': 'CPU', 'time_taken': 0.203830125, 'measure_sampling': False, 'num_clbits': 4, 'max_memory_mb': 16384, 'input_qubit_map': [[3, 3], [2, 2], [1, 1], [0, 0]], 'num_qubits': 4, 'method': 'stabilizer', 'required_memory_mb': 0, 'fusion': {'enabled': False}}, time_taken=0.203830125), ExperimentResult(shots=1000, success=True, meas_level=2, data=ExperimentResultData(counts={'0x5': 2, '0x7': 2, '0x3': 4, '0x1': 2, '0xc': 4, '0x4': 4, '0xb': 46, '0xd': 2, '0xf': 37, '0x9': 4, '0xa': 717, '0xe': 51, '0x8': 44, '0x0': 37, '0x2': 44}), header=QobjExperimentHeader(creg_sizes=[['c', 4]], global_phase=0.0, memory_slots=4, metadata={}, n_qubits=4, name='circuit-1427', qreg_sizes=[['q', 4]]), status=DONE, seed_simulator=707054904, metadata={'num_bind_params': 1, 'runtime_parameter_bind': False, 'parallel_state_update': 1, 'parallel_shots': 1, 'noise': 'circuit', 'batched_shots_optimization': False, 'remapped_qubits': False, 'active_input_qubits': [0, 1, 2, 3], 'device': 'CPU', 'time_taken': 0.193811333, 'measure_sampling': False, 'num_clbits': 4, 'max_memory_mb': 16384, 'input_qubit_map': [[3, 3], [2, 2], [1, 1], [0, 0]], 'num_qubits': 4, 'method': 'stabilizer', 'required_memory_mb': 0, 'fusion': {'enabled': False}}, time_taken=0.193811333)], date=2024-09-17T18:00:26.666515, status=COMPLETED, header=None, metadata={'time_taken_parameter_binding': 0.001117625, 'max_memory_mb': 16384, 'time_taken_execute': 5.80024, 'omp_enabled': True, 'max_gpu_memory_mb': 0, 'parallel_experiments': 8}, time_taken=5.90722393989563)\n"
     ]
    }
   ],
   "source": [
    "# for item in (eab_data[\"result\"][0]['results']):\n",
    "#     print (item)\n",
    "# print (eab_data[\"result\"][0]['results'][0]['data']['counts'])\n",
    "# print (eab_data[\"result\"][0]['results'][1]['data']['counts'])\n",
    "# from qiskit.result import Result\n",
    "# print ((eab_data[\"batch_0\"][0]))\n",
    "# print ((eab_data[\"batch_0\"][99]))\n",
    "\n",
    "# result_batch = Result.from_dict(eab_data[\"result\"][0])\n",
    "outcomes = result.get_counts(1)\n",
    "# # print (outcomes.items()[\"0010\"])\n",
    "# print (outcomes)\n",
    "print (outcomes)\n",
    "print (result)"
   ]
  },
  {
   "cell_type": "markdown",
   "metadata": {},
   "source": [
    "## Data analysis"
   ]
  },
  {
   "cell_type": "code",
   "execution_count": 15,
   "metadata": {},
   "outputs": [
    {
     "name": "stdout",
     "output_type": "stream",
     "text": [
      "Parameters: n = 2, C = 20,  L =  [2, 4, 8, 16, 32]\n",
      "Measurement based simulation, shots = 1000\n",
      "Measurement bitflip rate = 0.005000\n",
      "Total error =  0.0002657313093568092\n",
      "Label / Pauli infidelity / Standard deviation\n",
      "II 0.0 0.0\n",
      "XI 0.000193030245474346 0.00019150951581744578\n",
      "YI 0.00023362362107393064 0.0001816377157887917\n",
      "ZI 0.0001751770786089235 0.00015438765946348376\n",
      "IX 4.658119125733329e-05 0.0001929556380024501\n",
      "XX 0.0005979852625973558 0.000289620789310067\n",
      "YX 0.0003346363703171651 0.0002848003853331868\n",
      "ZX 0.00045399978057203416 0.0002863908313678095\n",
      "IY -2.0899194293377832e-05 0.00014969948419134678\n",
      "XY 0.00029803932045935344 0.00029795191119453196\n",
      "YY 0.0004143347543292819 0.0002661437333469234\n",
      "ZY 0.0002635817198707313 0.00026387067061394077\n",
      "IZ 3.770894872523467e-05 0.00017638822278876417\n",
      "XZ 0.0005098834169818822 0.0002786324900994256\n",
      "YZ 0.00047631168248785105 0.00029712718826851856\n",
      "ZZ 0.00023770675124767937 0.00024348739111931727\n"
     ]
    }
   ],
   "source": [
    "# import EAB_process\n",
    "'''Use these if read from file'''\n",
    "# token = \"1011327761\"\n",
    "# filename = \"sim_eab_cnot_2022oct_\" + token\n",
    "# with open('data/' + filename, 'rb') as infile:\n",
    "#     eab_data = pickle.load(infile)\n",
    "\n",
    "\n",
    "\n",
    "n = eab_data[\"parameters\"]['n']\n",
    "n_total = eab_data[\"parameters\"]['n_total'] \n",
    "shots = eab_data[\"parameters\"]['shots'] \n",
    "Lrange = eab_data[\"parameters\"]['Lrange']\n",
    "C = eab_data[\"parameters\"]['C'] \n",
    "eps_readout = eab_data[\"parameters\"]['eps_readout'] \n",
    "repeat = eab_data[\"parameters\"]['repeat']\n",
    "\n",
    "'''Specify a set of Pauli you want to estimate'''\n",
    "pauli_request_list = [''.join(s) for s in itertools.product(['I','X','Y','Z'], repeat = n)] #full\n",
    "\n",
    "# pauli_request_list = ['XX']\n",
    "\n",
    "eab_result = EAB_process.process_EAB(batch, Lrange, eab_data, pauli_request_list, repeat=repeat, periodic=periodic,use_density_matrix=use_density_matrix)\n",
    "\n",
    "# fidelity_list[1..512] = [0.99,0.98,...]\n",
    "\n",
    "raw_fidelity_list = eab_result[\"fidelity_list\"]\n",
    "\n",
    "\n",
    "# sys.exit(0)\n",
    "\n",
    "fidelity_list = {}\n",
    "stdev_list = {}\n",
    "\n",
    "for pauli_label in pauli_request_list:\n",
    "    if(pauli_label == 'I'*n):\n",
    "        fidelity_list[pauli_label] = 1.0\n",
    "        stdev_list[pauli_label] = 0.0\n",
    "    else:\n",
    "        alpha, alpha_err = EAB_process.fit_EAB(Lrange, raw_fidelity_list[pauli_label])\n",
    "        fidelity_list[pauli_label] = alpha\n",
    "        stdev_list[pauli_label] = alpha_err\n",
    "# print(fidelity_list)\n",
    "\n",
    "# print(stdev_list)\n",
    "print(\"Parameters: n = %d, C = %d, \" % (n,C), \"L = \", str(Lrange))\n",
    "\n",
    "if use_density_matrix:\n",
    "    print(\"Density matrix based simulation\")\n",
    "else:\n",
    "    print(\"Measurement based simulation, shots = %d\" % shots)\n",
    "\n",
    "if use_readout_error is True:\n",
    "    print(\"Measurement bitflip rate = %f\" % eps_readout)\n",
    "else:\n",
    "    print(\"No readout error\")\n",
    "\n",
    "# Average fidelity\n",
    "print(\"Total error = \", 1-np.mean(list(fidelity_list.values())))\n",
    "\n",
    "print(\"Label / Pauli infidelity / Standard deviation\")\n",
    "for pauli_label in pauli_request_list:\n",
    "    print(pauli_label[::-1], 1-fidelity_list[pauli_label], stdev_list[pauli_label])\n",
    "# print('Effective noise rate = ' + str(1-np.average(list(fidelity_list.values()))))\n",
    "\n"
   ]
  },
  {
   "cell_type": "code",
   "execution_count": null,
   "metadata": {},
   "outputs": [],
   "source": []
  },
  {
   "cell_type": "markdown",
   "metadata": {},
   "source": [
    "Note that, the estimation suffers from some degeneracy. E.g., $\\lambda_{IZ}$ and $\\lambda_{ZZ}$ cannot be individually addressed. Only their geometric mean is estimated and reported. This issue is detailed in [The learnability of Pauli noise](https://arxiv.org/abs/2206.06362)."
   ]
  },
  {
   "cell_type": "code",
   "execution_count": 6,
   "metadata": {},
   "outputs": [
    {
     "name": "stdout",
     "output_type": "stream",
     "text": [
      "Label / Pauli error rates\n",
      "II 0.9802661249785733\n",
      "XI 0.004857924649527896\n",
      "YI 2.4839851629224197e-05\n",
      "ZI -2.980065682001154e-05\n",
      "IX 0.009957296894477975\n",
      "XX 0.004925705828500979\n",
      "YX 2.4943350088332816e-05\n",
      "ZX -1.4751988418465478e-05\n",
      "IY 1.6853337303168736e-05\n",
      "XY 2.7689817947013085e-06\n",
      "YY -8.757986503654669e-07\n",
      "ZY -1.8228942176845564e-06\n",
      "IZ -3.079801564742635e-05\n",
      "XZ 2.46329051621641e-06\n",
      "YZ -2.7910185557838973e-06\n",
      "ZZ 1.9192098977549588e-06\n"
     ]
    }
   ],
   "source": [
    "error_list = fidelity_to_error(fidelity_list,n)\n",
    "print(\"Label / Pauli error rates\")\n",
    "for pauli_label in pauli_request_list:\n",
    "    print(pauli_label[::-1], error_list[pauli_label])"
   ]
  },
  {
   "cell_type": "markdown",
   "metadata": {},
   "source": [
    "Similarly, in the estimation $\\hat{p}_{XI}=\\hat{p}_{XX}=0.0025$ due to degeneracy."
   ]
  },
  {
   "cell_type": "code",
   "execution_count": 7,
   "metadata": {},
   "outputs": [
    {
     "name": "stdout",
     "output_type": "stream",
     "text": [
      "Label / True infidelity/ True Pauli error\n",
      "II   0.0   0.0\n",
      "XI   0.0   0.01\n",
      "YI   0.02   0.0\n",
      "ZI   0.02   0.0\n",
      "IX   0.0   0.01\n",
      "XX   0.0   0.0\n",
      "YX   0.02   0.0\n",
      "ZX   0.02   0.0\n",
      "IY   0.02   0.0\n",
      "XY   0.02   0.0\n",
      "YY   0.04   0.0\n",
      "ZY   0.04   0.0\n",
      "IZ   0.02   0.0\n",
      "XZ   0.02   0.0\n",
      "YZ   0.04   0.0\n",
      "ZZ   0.04   0.0\n"
     ]
    }
   ],
   "source": [
    "# True value for this specific noise model\n",
    "def f_true(P):\n",
    "    ans = 0.0\n",
    "    for Pi in P:\n",
    "        if Pi == 'Z' or Pi == 'Y':\n",
    "            ans += 2*eps\n",
    "    return ans\n",
    "def p_true(P):\n",
    "    if P == \"XI\" or P == \"IX\":\n",
    "        return eps\n",
    "    else:\n",
    "        return 0.0\n",
    "\n",
    "print(\"Label / True infidelity/ True Pauli error\")\n",
    "for P in pauli_request_list:\n",
    "    print(P[::-1],\" \",f_true(P),\" \",p_true(P))"
   ]
  },
  {
   "cell_type": "code",
   "execution_count": 8,
   "metadata": {},
   "outputs": [
    {
     "name": "stdout",
     "output_type": "stream",
     "text": [
      "II 0.0\n",
      "XI 3.3201099060020667e-06\n",
      "YI -0.0005111871584372145\n",
      "ZI -0.00033004173029758596\n",
      "IX -2.4565815118782197e-05\n",
      "XX -6.963699108464283e-06\n",
      "YX -0.0005570673255199492\n",
      "ZX -0.0003608693658354416\n",
      "IY 0.009727975101719095\n",
      "XY 0.009694016999577743\n",
      "YY -0.010444557418704058\n",
      "ZY -0.010403352430777467\n",
      "IZ 0.009820235421757268\n",
      "XZ 0.009793584856456001\n",
      "YZ -0.010338551447318066\n",
      "ZZ -0.010319975755474907\n"
     ]
    }
   ],
   "source": [
    "plot_dic={}\n",
    "for pauli_label in pauli_request_list:\n",
    "    print(pauli_label[::-1], (1-fidelity_list[pauli_label])-f_true(pauli_label))\n",
    "    plot_dic[pauli_label[::-1]]=(1-fidelity_list[pauli_label])-f_true(pauli_label)"
   ]
  },
  {
   "cell_type": "code",
   "execution_count": 9,
   "metadata": {},
   "outputs": [
    {
     "name": "stdout",
     "output_type": "stream",
     "text": [
      "{'II': 0.0, 'XI': 3.3201099060020667e-06, 'YI': -0.0005111871584372145, 'ZI': -0.00033004173029758596, 'IX': -2.4565815118782197e-05, 'XX': -6.963699108464283e-06, 'YX': -0.0005570673255199492, 'ZX': -0.0003608693658354416, 'IY': 0.009727975101719095, 'XY': 0.009694016999577743, 'YY': -0.010444557418704058, 'ZY': -0.010403352430777467, 'IZ': 0.009820235421757268, 'XZ': 0.009793584856456001, 'YZ': -0.010338551447318066, 'ZZ': -0.010319975755474907}\n"
     ]
    }
   ],
   "source": [
    "print (plot_dic)"
   ]
  },
  {
   "cell_type": "code",
   "execution_count": 10,
   "metadata": {},
   "outputs": [],
   "source": [
    "# plot_c100={}\n",
    "# plot_c100=plot_dic"
   ]
  },
  {
   "cell_type": "code",
   "execution_count": 11,
   "metadata": {},
   "outputs": [],
   "source": [
    "# plot_c30={}\n",
    "# plot_c30=plot_dic"
   ]
  },
  {
   "cell_type": "code",
   "execution_count": 12,
   "metadata": {},
   "outputs": [],
   "source": [
    "# plot_c20={}\n",
    "# plot_c20=plot_dic"
   ]
  },
  {
   "cell_type": "code",
   "execution_count": 13,
   "metadata": {},
   "outputs": [],
   "source": [
    "# plot_c10={}\n",
    "# plot_c10=plot_dic"
   ]
  },
  {
   "cell_type": "code",
   "execution_count": 14,
   "metadata": {},
   "outputs": [],
   "source": [
    "# plot_c5={}\n",
    "# plot_c5=plot_dic"
   ]
  },
  {
   "cell_type": "code",
   "execution_count": 15,
   "metadata": {},
   "outputs": [],
   "source": [
    "# plot_c3={}\n",
    "# plot_c3=plot_dic"
   ]
  },
  {
   "cell_type": "code",
   "execution_count": 16,
   "metadata": {},
   "outputs": [
    {
     "ename": "NameError",
     "evalue": "name 'plot_c100' is not defined",
     "output_type": "error",
     "traceback": [
      "\u001b[0;31m---------------------------------------------------------------------------\u001b[0m",
      "\u001b[0;31mNameError\u001b[0m                                 Traceback (most recent call last)",
      "Input \u001b[0;32mIn [16]\u001b[0m, in \u001b[0;36m<cell line: 2>\u001b[0;34m()\u001b[0m\n\u001b[1;32m      1\u001b[0m plt\u001b[38;5;241m.\u001b[39mfigure(figsize\u001b[38;5;241m=\u001b[39m(\u001b[38;5;241m15\u001b[39m,\u001b[38;5;241m10\u001b[39m))\n\u001b[0;32m----> 2\u001b[0m plt\u001b[38;5;241m.\u001b[39mplot(\u001b[38;5;28mlist\u001b[39m(\u001b[43mplot_c100\u001b[49m\u001b[38;5;241m.\u001b[39mkeys()),\u001b[38;5;28mlist\u001b[39m(plot_c100\u001b[38;5;241m.\u001b[39mvalues()),\u001b[38;5;124m\"\u001b[39m\u001b[38;5;124m*\u001b[39m\u001b[38;5;124m\"\u001b[39m,markersize\u001b[38;5;241m=\u001b[39m\u001b[38;5;241m10\u001b[39m)\n\u001b[1;32m      3\u001b[0m plt\u001b[38;5;241m.\u001b[39mplot(\u001b[38;5;28mlist\u001b[39m(plot_c30\u001b[38;5;241m.\u001b[39mkeys()),\u001b[38;5;28mlist\u001b[39m(plot_c30\u001b[38;5;241m.\u001b[39mvalues()),\u001b[38;5;124m\"\u001b[39m\u001b[38;5;124m*\u001b[39m\u001b[38;5;124m\"\u001b[39m,markersize\u001b[38;5;241m=\u001b[39m\u001b[38;5;241m10\u001b[39m)\n\u001b[1;32m      4\u001b[0m plt\u001b[38;5;241m.\u001b[39mplot(\u001b[38;5;28mlist\u001b[39m(plot_c20\u001b[38;5;241m.\u001b[39mkeys()),\u001b[38;5;28mlist\u001b[39m(plot_c20\u001b[38;5;241m.\u001b[39mvalues()),\u001b[38;5;124m\"\u001b[39m\u001b[38;5;124m*\u001b[39m\u001b[38;5;124m\"\u001b[39m,markersize\u001b[38;5;241m=\u001b[39m\u001b[38;5;241m10\u001b[39m)\n",
      "\u001b[0;31mNameError\u001b[0m: name 'plot_c100' is not defined"
     ]
    },
    {
     "data": {
      "text/plain": [
       "<Figure size 1080x720 with 0 Axes>"
      ]
     },
     "metadata": {},
     "output_type": "display_data"
    }
   ],
   "source": [
    "plt.figure(figsize=(15,10))\n",
    "plt.plot(list(plot_c100.keys()),list(plot_c100.values()),\"*\",markersize=10)\n",
    "plt.plot(list(plot_c30.keys()),list(plot_c30.values()),\"*\",markersize=10)\n",
    "plt.plot(list(plot_c20.keys()),list(plot_c20.values()),\"*\",markersize=10)\n",
    "plt.plot(list(plot_c10.keys()),list(plot_c10.values()),\"*\",markersize=10)\n",
    "plt.plot(list(plot_c5.keys()),list(plot_c5.values()),\"*\",markersize=10)\n",
    "# plt.plot(list(plot_c3.keys()),list(plot_c3.values()),\"*\",markersize=10)\n",
    "plt.legend([\"C=100\",\"C=30\",\"C=20\",\"C=10\",\"C=5\"])\n",
    "plt.ylabel(\"f_measure - f_true\",fontsize=20)\n",
    "plt.savefig(\"eps=0.01 single CNOT EAB.pdf\",format=\"pdf\",dpi=500)"
   ]
  },
  {
   "cell_type": "code",
   "execution_count": null,
   "metadata": {},
   "outputs": [],
   "source": [
    "print (eab_result)"
   ]
  },
  {
   "cell_type": "code",
   "execution_count": null,
   "metadata": {},
   "outputs": [],
   "source": []
  }
 ],
 "metadata": {
  "kernelspec": {
   "display_name": "Python 3 (ipykernel)",
   "language": "python",
   "name": "python3"
  },
  "language_info": {
   "codemirror_mode": {
    "name": "ipython",
    "version": 3
   },
   "file_extension": ".py",
   "mimetype": "text/x-python",
   "name": "python",
   "nbconvert_exporter": "python",
   "pygments_lexer": "ipython3",
   "version": "3.8.12"
  },
  "vscode": {
   "interpreter": {
    "hash": "eb0ed426dfdf04494def9e575b5f0e4953a90811145bd0c3aaa77ba1aa39290a"
   }
  }
 },
 "nbformat": 4,
 "nbformat_minor": 2
}
