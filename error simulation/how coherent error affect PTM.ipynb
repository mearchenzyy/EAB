{
 "cells": [
  {
   "cell_type": "markdown",
   "metadata": {},
   "source": [
    "\n"
   ]
  },
  {
   "cell_type": "code",
   "execution_count": 3,
   "metadata": {},
   "outputs": [],
   "source": [
    "import numpy as np\n",
    "import sys, json, copy, time, pickle, random\n",
    "from concurrent.futures import ThreadPoolExecutor\n",
    "import qiskit\n",
    "from qiskit import IBMQ, QuantumCircuit, execute\n",
    "from qiskit_aer import StatevectorSimulator, AerSimulator\n",
    "from qiskit_aer.noise import NoiseModel, pauli_error, amplitude_damping_error, ReadoutError\n",
    "# from qiskit.providers.ibmq.managed import IBMQJobManager, ManagedJobSet\n",
    "# from qiskit.providers.ibmq.apiconstants import ApiJobShareLevel\n",
    "from qiskit.quantum_info.operators.symplectic import pauli\n",
    "# from qubit_map import my_qubit_maps\n",
    "import matplotlib.pyplot as plt\n",
    "from scipy.stats import sem, unitary_group\n",
    "from scipy import sparse\n",
    "sys.path.append(r\"/Volumes/funkflower/Users/Yingyue/Gates_Lab_Suite-master/PauliNoiseEstimation/EAB(code from Senrui)/\")\n",
    "import EAB_submit, EAB_process\n",
    "# import EAB_submit_2 as EAB_submit\n",
    "# import EAB_process\n",
    "from statistics import stdev\n",
    "import itertools\n",
    "from qiskit.compiler import transpile\n",
    "\n",
    "from qiskit.quantum_info import Pauli\n",
    "import math"
   ]
  },
  {
   "cell_type": "markdown",
   "metadata": {},
   "source": []
  },
  {
   "cell_type": "code",
   "execution_count": null,
   "metadata": {},
   "outputs": [],
   "source": []
  },
  {
   "cell_type": "markdown",
   "metadata": {},
   "source": [
    "## Data generation"
   ]
  },
  {
   "cell_type": "code",
   "execution_count": 12,
   "metadata": {},
   "outputs": [
    {
     "name": "stdout",
     "output_type": "stream",
     "text": [
      "     ┌───────────┐\n",
      "q_0: ┤0          ├\n",
      "     │  Rxx(π/2) │\n",
      "q_1: ┤1          ├\n",
      "     └───────────┘\n",
      "diagonal values: [1.e+00+0.j 1.e+00+0.j 2.e-16+0.j 2.e-16+0.j 1.e+00+0.j 1.e+00+0.j\n",
      " 2.e-16+0.j 2.e-16+0.j 2.e-16+0.j 2.e-16+0.j 1.e+00+0.j 1.e+00+0.j\n",
      " 2.e-16+0.j 2.e-16+0.j 1.e+00+0.j 1.e+00+0.j]\n"
     ]
    }
   ],
   "source": [
    "nqubit=2\n",
    "circuit = QuantumCircuit(nqubit)\n",
    "circuit.rxx(math.pi/2,0,1)\n",
    "  \n",
    "\n",
    "print(circuit) # print a typical example\n",
    "# print (type(qiskit.quantum_info.PTM(circuit).data))\n",
    "PTM=qiskit.quantum_info.PTM(circuit).data\n",
    "diag=np.diagonal(PTM)\n",
    "np.set_printoptions(precision=0)\n",
    "print (\"diagonal values:\",diag)\n"
   ]
  },
  {
   "cell_type": "code",
   "execution_count": 9,
   "metadata": {},
   "outputs": [
    {
     "name": "stdout",
     "output_type": "stream",
     "text": [
      "     ┌──────────────┐\n",
      "q_0: ┤0             ├\n",
      "     │  Rxx(1.7279) │\n",
      "q_1: ┤1             ├\n",
      "     └──────────────┘\n",
      "diagonal values: [ 1.        +0.j  1.        +0.j -0.15643447+0.j -0.15643447+0.j\n",
      "  1.        +0.j  1.        +0.j -0.15643447+0.j -0.15643447+0.j\n",
      " -0.15643447+0.j -0.15643447+0.j  1.        +0.j  1.        +0.j\n",
      " -0.15643447+0.j -0.15643447+0.j  1.        +0.j  1.        +0.j]\n"
     ]
    }
   ],
   "source": [
    "nqubit=2\n",
    "circuit = QuantumCircuit(nqubit)\n",
    "circuit.rxx(math.pi/2*1.1,0,1)\n",
    "  \n",
    "\n",
    "print(circuit) # print a typical example\n",
    "# print (type(qiskit.quantum_info.PTM(circuit).data))\n",
    "PTM=qiskit.quantum_info.PTM(circuit).data\n",
    "diag=np.diagonal(PTM)\n",
    "print (\"diagonal values:\",diag)\n"
   ]
  },
  {
   "cell_type": "markdown",
   "metadata": {},
   "source": [
    "## Data analysis"
   ]
  },
  {
   "cell_type": "code",
   "execution_count": 5,
   "metadata": {},
   "outputs": [
    {
     "name": "stdout",
     "output_type": "stream",
     "text": [
      "Parameters: n = 2, C = 20,  L =  [2, 4, 8, 16, 32]\n",
      "Measurement based simulation, shots = 1000\n",
      "Measurement bitflip rate = 0.005000\n",
      "Total error =  0.01973387502142654\n",
      "Label / Pauli infidelity / Standard deviation\n",
      "II 0.0 0.0\n",
      "XI 3.3201099060020667e-06 3.940270389034985e-05\n",
      "YI 0.019488812841562786 0.00028890563227579536\n",
      "ZI 0.019669958269702414 0.00028652808779410747\n",
      "IX -2.4565815118782197e-05 4.026471940954797e-05\n",
      "XX -6.963699108464283e-06 6.257924846004339e-05\n",
      "YX 0.01944293267448005 0.0002919844349367276\n",
      "ZX 0.01963913063416456 0.00029024763640318583\n",
      "IY 0.029727975101719095 0.0004288959420880109\n",
      "XY 0.029694016999577744 0.00044283435439156\n",
      "YY 0.029555442581295943 0.0005153349804469508\n",
      "ZY 0.029596647569222534 0.00051482382500689\n",
      "IZ 0.02982023542175727 0.00042393691577926874\n",
      "XZ 0.029793584856456 0.000436521858735058\n",
      "YZ 0.029661448552681935 0.0005110779356022518\n",
      "ZZ 0.029680024244525094 0.0005115658505006773\n"
     ]
    }
   ],
   "source": []
  },
  {
   "cell_type": "code",
   "execution_count": null,
   "metadata": {},
   "outputs": [],
   "source": []
  },
  {
   "cell_type": "markdown",
   "metadata": {},
   "source": [
    "Note that, the estimation suffers from some degeneracy. E.g., $\\lambda_{IZ}$ and $\\lambda_{ZZ}$ cannot be individually addressed. Only their geometric mean is estimated and reported. This issue is detailed in [The learnability of Pauli noise](https://arxiv.org/abs/2206.06362)."
   ]
  },
  {
   "cell_type": "code",
   "execution_count": 6,
   "metadata": {},
   "outputs": [
    {
     "name": "stdout",
     "output_type": "stream",
     "text": [
      "Label / Pauli error rates\n",
      "II 0.9802661249785733\n",
      "XI 0.004857924649527896\n",
      "YI 2.4839851629224197e-05\n",
      "ZI -2.980065682001154e-05\n",
      "IX 0.009957296894477975\n",
      "XX 0.004925705828500979\n",
      "YX 2.4943350088332816e-05\n",
      "ZX -1.4751988418465478e-05\n",
      "IY 1.6853337303168736e-05\n",
      "XY 2.7689817947013085e-06\n",
      "YY -8.757986503654669e-07\n",
      "ZY -1.8228942176845564e-06\n",
      "IZ -3.079801564742635e-05\n",
      "XZ 2.46329051621641e-06\n",
      "YZ -2.7910185557838973e-06\n",
      "ZZ 1.9192098977549588e-06\n"
     ]
    }
   ],
   "source": []
  },
  {
   "cell_type": "markdown",
   "metadata": {},
   "source": [
    "Similarly, in the estimation $\\hat{p}_{XI}=\\hat{p}_{XX}=0.0025$ due to degeneracy."
   ]
  },
  {
   "cell_type": "code",
   "execution_count": 7,
   "metadata": {},
   "outputs": [
    {
     "name": "stdout",
     "output_type": "stream",
     "text": [
      "Label / True infidelity/ True Pauli error\n",
      "II   0.0   0.0\n",
      "XI   0.0   0.01\n",
      "YI   0.02   0.0\n",
      "ZI   0.02   0.0\n",
      "IX   0.0   0.01\n",
      "XX   0.0   0.0\n",
      "YX   0.02   0.0\n",
      "ZX   0.02   0.0\n",
      "IY   0.02   0.0\n",
      "XY   0.02   0.0\n",
      "YY   0.04   0.0\n",
      "ZY   0.04   0.0\n",
      "IZ   0.02   0.0\n",
      "XZ   0.02   0.0\n",
      "YZ   0.04   0.0\n",
      "ZZ   0.04   0.0\n"
     ]
    }
   ],
   "source": []
  },
  {
   "cell_type": "code",
   "execution_count": 8,
   "metadata": {},
   "outputs": [
    {
     "name": "stdout",
     "output_type": "stream",
     "text": [
      "II 0.0\n",
      "XI 3.3201099060020667e-06\n",
      "YI -0.0005111871584372145\n",
      "ZI -0.00033004173029758596\n",
      "IX -2.4565815118782197e-05\n",
      "XX -6.963699108464283e-06\n",
      "YX -0.0005570673255199492\n",
      "ZX -0.0003608693658354416\n",
      "IY 0.009727975101719095\n",
      "XY 0.009694016999577743\n",
      "YY -0.010444557418704058\n",
      "ZY -0.010403352430777467\n",
      "IZ 0.009820235421757268\n",
      "XZ 0.009793584856456001\n",
      "YZ -0.010338551447318066\n",
      "ZZ -0.010319975755474907\n"
     ]
    }
   ],
   "source": []
  },
  {
   "cell_type": "code",
   "execution_count": 9,
   "metadata": {},
   "outputs": [
    {
     "name": "stdout",
     "output_type": "stream",
     "text": [
      "{'II': 0.0, 'XI': 3.3201099060020667e-06, 'YI': -0.0005111871584372145, 'ZI': -0.00033004173029758596, 'IX': -2.4565815118782197e-05, 'XX': -6.963699108464283e-06, 'YX': -0.0005570673255199492, 'ZX': -0.0003608693658354416, 'IY': 0.009727975101719095, 'XY': 0.009694016999577743, 'YY': -0.010444557418704058, 'ZY': -0.010403352430777467, 'IZ': 0.009820235421757268, 'XZ': 0.009793584856456001, 'YZ': -0.010338551447318066, 'ZZ': -0.010319975755474907}\n"
     ]
    }
   ],
   "source": [
    "print (plot_dic)"
   ]
  },
  {
   "cell_type": "code",
   "execution_count": 10,
   "metadata": {},
   "outputs": [],
   "source": [
    "# plot_c100={}\n",
    "# plot_c100=plot_dic"
   ]
  },
  {
   "cell_type": "code",
   "execution_count": 11,
   "metadata": {},
   "outputs": [],
   "source": [
    "# plot_c30={}\n",
    "# plot_c30=plot_dic"
   ]
  },
  {
   "cell_type": "code",
   "execution_count": 12,
   "metadata": {},
   "outputs": [],
   "source": [
    "# plot_c20={}\n",
    "# plot_c20=plot_dic"
   ]
  },
  {
   "cell_type": "code",
   "execution_count": 13,
   "metadata": {},
   "outputs": [],
   "source": [
    "# plot_c10={}\n",
    "# plot_c10=plot_dic"
   ]
  },
  {
   "cell_type": "code",
   "execution_count": 14,
   "metadata": {},
   "outputs": [],
   "source": [
    "# plot_c5={}\n",
    "# plot_c5=plot_dic"
   ]
  },
  {
   "cell_type": "code",
   "execution_count": 15,
   "metadata": {},
   "outputs": [],
   "source": [
    "# plot_c3={}\n",
    "# plot_c3=plot_dic"
   ]
  },
  {
   "cell_type": "code",
   "execution_count": 16,
   "metadata": {},
   "outputs": [
    {
     "ename": "NameError",
     "evalue": "name 'plot_c100' is not defined",
     "output_type": "error",
     "traceback": [
      "\u001b[0;31m---------------------------------------------------------------------------\u001b[0m",
      "\u001b[0;31mNameError\u001b[0m                                 Traceback (most recent call last)",
      "Input \u001b[0;32mIn [16]\u001b[0m, in \u001b[0;36m<cell line: 2>\u001b[0;34m()\u001b[0m\n\u001b[1;32m      1\u001b[0m plt\u001b[38;5;241m.\u001b[39mfigure(figsize\u001b[38;5;241m=\u001b[39m(\u001b[38;5;241m15\u001b[39m,\u001b[38;5;241m10\u001b[39m))\n\u001b[0;32m----> 2\u001b[0m plt\u001b[38;5;241m.\u001b[39mplot(\u001b[38;5;28mlist\u001b[39m(\u001b[43mplot_c100\u001b[49m\u001b[38;5;241m.\u001b[39mkeys()),\u001b[38;5;28mlist\u001b[39m(plot_c100\u001b[38;5;241m.\u001b[39mvalues()),\u001b[38;5;124m\"\u001b[39m\u001b[38;5;124m*\u001b[39m\u001b[38;5;124m\"\u001b[39m,markersize\u001b[38;5;241m=\u001b[39m\u001b[38;5;241m10\u001b[39m)\n\u001b[1;32m      3\u001b[0m plt\u001b[38;5;241m.\u001b[39mplot(\u001b[38;5;28mlist\u001b[39m(plot_c30\u001b[38;5;241m.\u001b[39mkeys()),\u001b[38;5;28mlist\u001b[39m(plot_c30\u001b[38;5;241m.\u001b[39mvalues()),\u001b[38;5;124m\"\u001b[39m\u001b[38;5;124m*\u001b[39m\u001b[38;5;124m\"\u001b[39m,markersize\u001b[38;5;241m=\u001b[39m\u001b[38;5;241m10\u001b[39m)\n\u001b[1;32m      4\u001b[0m plt\u001b[38;5;241m.\u001b[39mplot(\u001b[38;5;28mlist\u001b[39m(plot_c20\u001b[38;5;241m.\u001b[39mkeys()),\u001b[38;5;28mlist\u001b[39m(plot_c20\u001b[38;5;241m.\u001b[39mvalues()),\u001b[38;5;124m\"\u001b[39m\u001b[38;5;124m*\u001b[39m\u001b[38;5;124m\"\u001b[39m,markersize\u001b[38;5;241m=\u001b[39m\u001b[38;5;241m10\u001b[39m)\n",
      "\u001b[0;31mNameError\u001b[0m: name 'plot_c100' is not defined"
     ]
    },
    {
     "data": {
      "text/plain": [
       "<Figure size 1080x720 with 0 Axes>"
      ]
     },
     "metadata": {},
     "output_type": "display_data"
    }
   ],
   "source": [
    "plt.figure(figsize=(15,10))\n",
    "plt.plot(list(plot_c100.keys()),list(plot_c100.values()),\"*\",markersize=10)\n",
    "plt.plot(list(plot_c30.keys()),list(plot_c30.values()),\"*\",markersize=10)\n",
    "plt.plot(list(plot_c20.keys()),list(plot_c20.values()),\"*\",markersize=10)\n",
    "plt.plot(list(plot_c10.keys()),list(plot_c10.values()),\"*\",markersize=10)\n",
    "plt.plot(list(plot_c5.keys()),list(plot_c5.values()),\"*\",markersize=10)\n",
    "# plt.plot(list(plot_c3.keys()),list(plot_c3.values()),\"*\",markersize=10)\n",
    "plt.legend([\"C=100\",\"C=30\",\"C=20\",\"C=10\",\"C=5\"])\n",
    "plt.ylabel(\"f_measure - f_true\",fontsize=20)\n",
    "plt.savefig(\"eps=0.01 single CNOT EAB.pdf\",format=\"pdf\",dpi=500)"
   ]
  },
  {
   "cell_type": "code",
   "execution_count": null,
   "metadata": {},
   "outputs": [],
   "source": [
    "print (eab_result)"
   ]
  },
  {
   "cell_type": "code",
   "execution_count": null,
   "metadata": {},
   "outputs": [],
   "source": []
  }
 ],
 "metadata": {
  "kernelspec": {
   "display_name": "Python 3 (ipykernel)",
   "language": "python",
   "name": "python3"
  },
  "language_info": {
   "codemirror_mode": {
    "name": "ipython",
    "version": 3
   },
   "file_extension": ".py",
   "mimetype": "text/x-python",
   "name": "python",
   "nbconvert_exporter": "python",
   "pygments_lexer": "ipython3",
   "version": "3.8.12"
  },
  "vscode": {
   "interpreter": {
    "hash": "eb0ed426dfdf04494def9e575b5f0e4953a90811145bd0c3aaa77ba1aa39290a"
   }
  }
 },
 "nbformat": 4,
 "nbformat_minor": 4
}
