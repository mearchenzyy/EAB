{
 "cells": [
  {
   "cell_type": "markdown",
   "metadata": {},
   "source": [
    "# Entanglement-assisted benchmarking\n",
    "\n",
    "- With parallel CNOT\n",
    "\n"
   ]
  },
  {
   "cell_type": "code",
   "execution_count": 2,
   "metadata": {},
   "outputs": [],
   "source": [
    "from datetime import datetime\n",
    "import numpy as np\n",
    "import sys, json, copy, time, pickle, random\n",
    "from concurrent.futures import ThreadPoolExecutor\n",
    "import qiskit\n",
    "from qiskit import IBMQ, QuantumCircuit, execute\n",
    "from qiskit_aer import StatevectorSimulator, AerSimulator\n",
    "from qiskit_aer.noise import NoiseModel, pauli_error, amplitude_damping_error, ReadoutError\n",
    "# from qiskit.providers.ibmq.managed import IBMQJobManager, ManagedJobSet\n",
    "# from qiskit.providers.ibmq.apiconstants import ApiJobShareLevel\n",
    "from qiskit.quantum_info.operators.symplectic import pauli\n",
    "import matplotlib.pyplot as plt\n",
    "from scipy.stats import sem, unitary_group\n",
    "from scipy import sparse\n",
    "\n",
    "# import EAB_submit_2 as EAB_submit\n",
    "# import EAB_process\n",
    "from statistics import stdev\n",
    "import itertools\n",
    "from qiskit.compiler import transpile\n",
    "\n",
    "from qiskit.quantum_info import Pauli\n",
    "from qiskit_ionq import IonQProvider\n",
    "import os\n",
    "sys.path.append(r\"/Users/yzhu/yzhu_work/gates projects/EAB/EAB_code from Senrui\")\n",
    "import EAB_submit, EAB_process\n",
    "from qubit_map import my_qubit_maps"
   ]
  },
  {
   "cell_type": "markdown",
   "metadata": {},
   "source": [
    "## Additional functions"
   ]
  },
  {
   "cell_type": "code",
   "execution_count": 3,
   "metadata": {},
   "outputs": [],
   "source": [
    "## Additional functions\n",
    "\n",
    "def int_to_pauli(i,n):\n",
    "    p = np.base_repr(i,base=4)\n",
    "    p = '0'*(n-len(p)) + p\n",
    "    p = p.replace('0','I').replace('1', 'X').replace('2', 'Y').replace('3', 'Z')\n",
    "    return p\n",
    "\n",
    "def commute(p,q):\n",
    "    c = 1\n",
    "    n = len(p)\n",
    "    for i in range(n):\n",
    "        if p[i] != 'I' and q[i] != 'I':\n",
    "            if p[i] != q[i]:\n",
    "                c *= -1\n",
    "    return c\n",
    "\n",
    "def fidelity_to_error(pauli_fidelity,n):\n",
    "    N = 4**n\n",
    "    pauli_error = {}\n",
    "    for i in range(N):\n",
    "        p = int_to_pauli(i,n)\n",
    "        pauli_error[p] = 0\n",
    "        for j in range(N):\n",
    "            q = int_to_pauli(j,n)\n",
    "            pauli_error[p] += pauli_fidelity[q] * commute(p,q) / N\n",
    "    return pauli_error\n",
    "    "
   ]
  },
  {
   "cell_type": "markdown",
   "metadata": {},
   "source": [
    "## Data generation"
   ]
  },
  {
   "cell_type": "code",
   "execution_count": 5,
   "metadata": {},
   "outputs": [
    {
     "name": "stdout",
     "output_type": "stream",
     "text": [
      "EAB,  n=2\n",
      "simulation method: IonQ QPU\n",
      "created 100 circuits\n",
      "length of data_batch 100\n",
      "     ┌───┐           ░ ┌───┐┌───────────┐ ░ ┌───┐┌───────────┐ ░ ┌───┐ ░      »\n",
      "q_0: ┤ H ├──■────────░─┤ X ├┤0          ├─░─┤ I ├┤0          ├─░─┤ I ├─░───■──»\n",
      "     ├───┤  │        ░ ├───┤│  Rxx(π/2) │ ░ ├───┤│  Rxx(π/2) │ ░ ├───┤ ░   │  »\n",
      "q_1: ┤ H ├──┼────■───░─┤ I ├┤1          ├─░─┤ Y ├┤1          ├─░─┤ Z ├─░───┼──»\n",
      "     └───┘┌─┴─┐  │   ░ └───┘└───────────┘ ░ └───┘└───────────┘ ░ └───┘ ░ ┌─┴─┐»\n",
      "q_2: ─────┤ X ├──┼───░─────────────────────────────────────────────────░─┤ X ├»\n",
      "          └───┘┌─┴─┐ ░                                                 ░ └───┘»\n",
      "q_3: ──────────┤ X ├─░─────────────────────────────────────────────────░──────»\n",
      "               └───┘ ░                                                 ░      »\n",
      "c: 4/═════════════════════════════════════════════════════════════════════════»\n",
      "                                                                              »\n",
      "«     ┌───┐      ░ ┌─┐         \n",
      "«q_0: ┤ H ├──────░─┤M├─────────\n",
      "«     └───┘┌───┐ ░ └╥┘┌─┐      \n",
      "«q_1: ──■──┤ H ├─░──╫─┤M├──────\n",
      "«       │  └───┘ ░  ║ └╥┘┌─┐   \n",
      "«q_2: ──┼────────░──╫──╫─┤M├───\n",
      "«     ┌─┴─┐      ░  ║  ║ └╥┘┌─┐\n",
      "«q_3: ┤ X ├──────░──╫──╫──╫─┤M├\n",
      "«     └───┘      ░  ║  ║  ║ └╥┘\n",
      "«c: 4/══════════════╩══╩══╩══╩═\n",
      "«                   0  1  2  3 \n",
      "OPENQASM 2.0;\n",
      "include \"qelib1.inc\";\n",
      "qreg q[4];\n",
      "creg c[4];\n",
      "h q[0];\n",
      "cx q[0],q[2];\n",
      "h q[1];\n",
      "cx q[1],q[3];\n",
      "barrier q[0],q[1],q[2],q[3];\n",
      "x q[0];\n",
      "id q[1];\n",
      "rxx(pi/2) q[0],q[1];\n",
      "barrier q[0],q[1];\n",
      "id q[0];\n",
      "y q[1];\n",
      "rxx(pi/2) q[0],q[1];\n",
      "barrier q[0],q[1];\n",
      "id q[0];\n",
      "z q[1];\n",
      "barrier q[0],q[1],q[2],q[3];\n",
      "cx q[0],q[2];\n",
      "h q[0];\n",
      "cx q[1],q[3];\n",
      "h q[1];\n",
      "barrier q[0],q[1],q[2],q[3];\n",
      "measure q[0] -> c[0];\n",
      "measure q[1] -> c[1];\n",
      "measure q[2] -> c[2];\n",
      "measure q[3] -> c[3];\n",
      "\n"
     ]
    },
    {
     "name": "stderr",
     "output_type": "stream",
     "text": [
      "/var/folders/6l/f5pw0tyx785dhvmqpb7282h00000gn/T/ipykernel_68569/1922627661.py:57: DeprecationWarning: The method ``qiskit.circuit.quantumcircuit.QuantumCircuit.qasm()`` is deprecated as of qiskit 0.46. It will be removed in the 1.0.0 release. Instead use the qiskit.qasm2.dump() or qiskit.qasm2.dumps() function\n",
      "  print (eab_circ_all[0][0].qasm())\n"
     ]
    },
    {
     "name": "stdout",
     "output_type": "stream",
     "text": [
      "05b77057-878c-4a5f-b993-3636b2b8f727\n"
     ]
    },
    {
     "ename": "KeyboardInterrupt",
     "evalue": "",
     "output_type": "error",
     "traceback": [
      "\u001b[0;31m---------------------------------------------------------------------------\u001b[0m",
      "\u001b[0;31mKeyboardInterrupt\u001b[0m                         Traceback (most recent call last)",
      "Cell \u001b[0;32mIn[5], line 72\u001b[0m\n\u001b[1;32m     69\u001b[0m     job_id\u001b[38;5;241m=\u001b[39mjob\u001b[38;5;241m.\u001b[39mjob_id()\n\u001b[1;32m     70\u001b[0m     \u001b[38;5;28mprint\u001b[39m(job\u001b[38;5;241m.\u001b[39mjob_id())\n\u001b[0;32m---> 72\u001b[0m result \u001b[38;5;241m=\u001b[39m \u001b[43mjob\u001b[49m\u001b[38;5;241;43m.\u001b[39;49m\u001b[43mresult\u001b[49m\u001b[43m(\u001b[49m\u001b[43m)\u001b[49m\n\u001b[1;32m     73\u001b[0m eab_data[\u001b[38;5;124m\"\u001b[39m\u001b[38;5;124mresult\u001b[39m\u001b[38;5;124m\"\u001b[39m] \u001b[38;5;241m=\u001b[39m [result\u001b[38;5;241m.\u001b[39mto_dict()]\n\u001b[1;32m     75\u001b[0m eab_data[\u001b[38;5;124m\"\u001b[39m\u001b[38;5;124mparameters\u001b[39m\u001b[38;5;124m\"\u001b[39m] \u001b[38;5;241m=\u001b[39m {}\n",
      "File \u001b[0;32m~/anaconda3/envs/snowflakes/lib/python3.8/site-packages/qiskit_ionq/ionq_job.py:274\u001b[0m, in \u001b[0;36mIonQJob.result\u001b[0;34m(self, sharpen, extra_query_params, **kwargs)\u001b[0m\n\u001b[1;32m    272\u001b[0m \u001b[38;5;66;03m# Wait for the job to complete.\u001b[39;00m\n\u001b[1;32m    273\u001b[0m \u001b[38;5;28;01mtry\u001b[39;00m:\n\u001b[0;32m--> 274\u001b[0m     \u001b[38;5;28;43mself\u001b[39;49m\u001b[38;5;241;43m.\u001b[39;49m\u001b[43mwait_for_final_state\u001b[49m\u001b[43m(\u001b[49m\u001b[38;5;241;43m*\u001b[39;49m\u001b[38;5;241;43m*\u001b[39;49m\u001b[43mkwargs\u001b[49m\u001b[43m)\u001b[49m\n\u001b[1;32m    275\u001b[0m \u001b[38;5;28;01mexcept\u001b[39;00m JobTimeoutError \u001b[38;5;28;01mas\u001b[39;00m ex:\n\u001b[1;32m    276\u001b[0m     \u001b[38;5;28;01mraise\u001b[39;00m exceptions\u001b[38;5;241m.\u001b[39mIonQJobTimeoutError(\n\u001b[1;32m    277\u001b[0m         \u001b[38;5;124m\"\u001b[39m\u001b[38;5;124mTimed out waiting for job to complete.\u001b[39m\u001b[38;5;124m\"\u001b[39m\n\u001b[1;32m    278\u001b[0m     ) \u001b[38;5;28;01mfrom\u001b[39;00m \u001b[38;5;21;01mex\u001b[39;00m\n",
      "File \u001b[0;32m~/anaconda3/envs/snowflakes/lib/python3.8/site-packages/qiskit/providers/job.py:121\u001b[0m, in \u001b[0;36mJobV1.wait_for_final_state\u001b[0;34m(self, timeout, wait, callback)\u001b[0m\n\u001b[1;32m    119\u001b[0m     \u001b[38;5;28;01mif\u001b[39;00m callback:\n\u001b[1;32m    120\u001b[0m         callback(\u001b[38;5;28mself\u001b[39m\u001b[38;5;241m.\u001b[39mjob_id(), status, \u001b[38;5;28mself\u001b[39m)\n\u001b[0;32m--> 121\u001b[0m     \u001b[43mtime\u001b[49m\u001b[38;5;241;43m.\u001b[39;49m\u001b[43msleep\u001b[49m\u001b[43m(\u001b[49m\u001b[43mwait\u001b[49m\u001b[43m)\u001b[49m\n\u001b[1;32m    122\u001b[0m     status \u001b[38;5;241m=\u001b[39m \u001b[38;5;28mself\u001b[39m\u001b[38;5;241m.\u001b[39mstatus()\n\u001b[1;32m    123\u001b[0m \u001b[38;5;28;01mreturn\u001b[39;00m\n",
      "\u001b[0;31mKeyboardInterrupt\u001b[0m: "
     ]
    }
   ],
   "source": [
    "\n",
    "use_density_matrix = False # density matrix based / measurement based simulation\n",
    "periodic = False # not used\n",
    "\n",
    "\n",
    "os.environ[\"IONQ_API_KEY\"] = \"8CMm5AaUNffwPo9gf4X73klW1sv1tCGM\"\n",
    "my_api_key = os.getenv(\"IONQ_API_KEY\")\n",
    "provider = IonQProvider(my_api_key)\n",
    "backend_sim = provider.get_backend(\"ionq_simulator\")\n",
    "# choose one\n",
    "\n",
    "use_QPU = True\n",
    "if use_QPU==True:\n",
    "    backend = provider.get_backend(\"ionq_qpu.aria-1\")\n",
    "    # backend = provider.get_backend(\"ionq_simulator\")\n",
    "\n",
    "\n",
    "\n",
    "# parameters: n, Lrange, C, shots\n",
    "# use_readout_error = True\n",
    "shots = 2000\n",
    "n = 2 # num of qubit\n",
    "n_total = 2*n\n",
    "# Lrange = list(range(2,39,4)) # len = 10\n",
    "Lrange = [2**x for x in range(1,6)]\n",
    "C = 20\n",
    "batch = 1\n",
    "gset = \"Pauli\"\n",
    "q = my_qubit_maps['local']\n",
    "repeat = [1 for k in Lrange] # not used\n",
    "\n",
    "clifford_layer = 'XX'\n",
    "\n",
    "\n",
    "print(\"EAB, \", \"n=%d\" % n)\n",
    "print(\"simulation method:\", backend.configuration().description)\n",
    "\n",
    "\n",
    "\n",
    "data = {}\n",
    "filename=\"\"\n",
    "token = ''.join(random.choice([str(j) for j in range(10)]) for i in range(10))\n",
    "now=datetime.now()\n",
    "dt_string = now.strftime(\"%m%d%Y %H:%M:%S\")\n",
    "# print (type(now))\n",
    "filename = \"EAB_XX\" + token+dt_string\n",
    "\n",
    "\n",
    "\n",
    "eab_data, eab_circ_all = EAB_submit.submit_eab(n,n_total,clifford_layer = clifford_layer,Lrange=Lrange,C=C,batch=batch, qubit_map=q,gset=gset,repeat=repeat,periodic=periodic,use_density_matrix=use_density_matrix)\n",
    "print(\"created %d circuits\" % len(eab_circ_all[0]))\n",
    "data_batch = eab_data[\"batch_0\"]\n",
    "print(\"length of data_batch %d\" %len(data_batch))\n",
    "\n",
    "print(eab_circ_all[0][0]) # print a typical example\n",
    "\n",
    "#simulate and save simulated results\n",
    "job_sim = backend_sim.run(eab_circ_all[0], shots=shots) \n",
    "result = job_sim.result()\n",
    "eab_data[\"result\"] = [result.to_dict()]\n",
    "\n",
    "eab_data[\"parameters\"] = {}\n",
    "eab_data[\"parameters\"]['n'] = n \n",
    "eab_data[\"parameters\"]['n_total'] = n_total\n",
    "eab_data[\"parameters\"]['shots'] = shots \n",
    "eab_data[\"parameters\"]['Lrange'] = Lrange \n",
    "eab_data[\"parameters\"]['C'] = C\n",
    "eab_data[\"parameters\"]['repeat'] = repeat\n",
    "eab_data['token'] = token\n",
    "with open('/Users/yzhu/yzhu_work/gates projects/EAB/scripts-make circuits/ionq submission /submit/' + filename, 'wb') as outfile:\n",
    "    pickle.dump(eab_data, outfile)\n",
    "\n",
    "\n",
    "#actually run if use_QPU= True\n",
    "if use_QPU is True:\n",
    "    job = backend.run(eab_circ_all[0], shots=shots) \n",
    "    job_id=job.job_id()\n",
    "    eab_data[\"job_set_id\"] = job_id\n",
    "    print(job.job_id())\n",
    "\n",
    "\n",
    "# result = job.result()\n",
    "# eab_data[\"result\"] = [result.to_dict()]\n",
    "\n",
    "# eab_data[\"parameters\"] = {}\n",
    "# eab_data[\"parameters\"]['n'] = n \n",
    "# eab_data[\"parameters\"]['n_total'] = n_total\n",
    "# eab_data[\"parameters\"]['shots'] = shots \n",
    "# eab_data[\"parameters\"]['Lrange'] = Lrange \n",
    "# eab_data[\"parameters\"]['C'] = C\n",
    "# # eab_data[\"parameters\"]['eps_readout'] = eps_readout\n",
    "# eab_data[\"parameters\"]['repeat'] = repeat\n",
    "\n",
    "# eab_data['token'] = token\n",
    "\n",
    "# if use_QPU is true:\n",
    "#     eab_data[\"job_set_id\"] = job_id\n",
    "\n",
    "# test: data saving\n",
    "# print(eab_data)\n",
    "# print(token)\n",
    "# open ('submit/' + filename, 'x')\n",
    "# with open('/Users/yzhu/yzhu_work/gates projects/EAB/scripts-make circuits/ionq submission /submit/' + filename, 'wb') as outfile:\n",
    "#     pickle.dump(eab_data, outfile)\n",
    "\n",
    "# print(token)"
   ]
  },
  {
   "cell_type": "code",
   "execution_count": 17,
   "metadata": {},
   "outputs": [
    {
     "name": "stdout",
     "output_type": "stream",
     "text": [
      "JobStatus.QUEUED\n"
     ]
    }
   ],
   "source": [
    "job_id=\"05b77057-878c-4a5f-b993-3636b2b8f727\"\n",
    "\n",
    "# Retrieve the job\n",
    "job = backend.retrieve_job(job_id)\n",
    "\n",
    "# Print the job status\n",
    "print(job.status())\n"
   ]
  },
  {
   "cell_type": "code",
   "execution_count": 10,
   "metadata": {},
   "outputs": [],
   "source": [
    "with open( \"/Users/yzhu/yzhu_work/gates projects/EAB/scripts-make circuits/ionq submission /submit/EAB_XX918192600509012024 15:53:32\", 'rb') as infile:\n",
    "    eab_data = pickle.load(infile)\n"
   ]
  },
  {
   "cell_type": "markdown",
   "metadata": {},
   "source": [
    "## Data analysis"
   ]
  },
  {
   "cell_type": "code",
   "execution_count": 14,
   "metadata": {},
   "outputs": [
    {
     "name": "stdout",
     "output_type": "stream",
     "text": [
      "Parameters: n = 2, C = 20,  L =  [2, 4, 8, 16, 32]\n",
      "Measurement based simulation, shots = 2000\n",
      "Total error =  0.0\n",
      "Label / Pauli infidelity / Standard deviation\n",
      "II 0.0 0.0\n",
      "XI 0.0 inf\n",
      "YI 0.0 inf\n",
      "ZI 0.0 inf\n",
      "IX 0.0 inf\n",
      "XX 0.0 inf\n",
      "YX 0.0 inf\n",
      "ZX 0.0 inf\n",
      "IY 0.0 inf\n",
      "XY 0.0 inf\n",
      "YY 0.0 inf\n",
      "ZY 0.0 inf\n",
      "IZ 0.0 inf\n",
      "XZ 0.0 inf\n",
      "YZ 0.0 inf\n",
      "ZZ 0.0 inf\n"
     ]
    }
   ],
   "source": [
    "# import EAB_process\n",
    "'''Use these if read from file'''\n",
    "# token = \"1011327761\"\n",
    "# filename = \"sim_eab_cnot_2022oct_\" + token\n",
    "# with open('data/' + filename, 'rb') as infile:\n",
    "#     eab_data = pickle.load(infile)\n",
    "\n",
    "\n",
    "\n",
    "n = eab_data[\"parameters\"]['n']\n",
    "n_total = eab_data[\"parameters\"]['n_total'] \n",
    "shots = eab_data[\"parameters\"]['shots'] \n",
    "Lrange = eab_data[\"parameters\"]['Lrange']\n",
    "C = eab_data[\"parameters\"]['C'] \n",
    "# eps_readout = eab_data[\"parameters\"]['eps_readout'] \n",
    "repeat = eab_data[\"parameters\"]['repeat']\n",
    "\n",
    "'''Specify a set of Pauli you want to estimate'''\n",
    "pauli_request_list = [''.join(s) for s in itertools.product(['I','X','Y','Z'], repeat = n)] #full\n",
    "\n",
    "# pauli_request_list = ['XX']\n",
    "\n",
    "eab_result = EAB_process.process_EAB(batch, Lrange, eab_data, pauli_request_list, repeat=repeat, periodic=periodic,use_density_matrix=use_density_matrix)\n",
    "\n",
    "# fidelity_list[1..512] = [0.99,0.98,...]\n",
    "\n",
    "raw_fidelity_list = eab_result[\"fidelity_list\"]\n",
    "\n",
    "\n",
    "# sys.exit(0)\n",
    "\n",
    "fidelity_list = {}\n",
    "stdev_list = {}\n",
    "\n",
    "for pauli_label in pauli_request_list:\n",
    "    if(pauli_label == 'I'*n):\n",
    "        fidelity_list[pauli_label] = 1.0\n",
    "        stdev_list[pauli_label] = 0.0\n",
    "    else:\n",
    "        alpha, alpha_err = EAB_process.fit_EAB(Lrange, raw_fidelity_list[pauli_label])\n",
    "        fidelity_list[pauli_label] = alpha\n",
    "        stdev_list[pauli_label] = alpha_err\n",
    "# print(fidelity_list)\n",
    "\n",
    "# print(stdev_list)\n",
    "print(\"Parameters: n = %d, C = %d, \" % (n,C), \"L = \", str(Lrange))\n",
    "\n",
    "if use_density_matrix:\n",
    "    print(\"Density matrix based simulation\")\n",
    "else:\n",
    "    print(\"Measurement based simulation, shots = %d\" % shots)\n",
    "\n",
    "# if use_readout_error is True:\n",
    "#     print(\"Measurement bitflip rate = %f\" % eps_readout)\n",
    "# else:\n",
    "#     print(\"No readout error\")\n",
    "\n",
    "# Average fidelity\n",
    "print(\"Total error = \", 1-np.mean(list(fidelity_list.values())))\n",
    "\n",
    "print(\"Label / Pauli infidelity / Standard deviation\")\n",
    "for pauli_label in pauli_request_list:\n",
    "    print(pauli_label[::-1], 1-fidelity_list[pauli_label], stdev_list[pauli_label])\n",
    "# print('Effective noise rate = ' + str(1-np.average(list(fidelity_list.values()))))\n",
    "\n"
   ]
  },
  {
   "cell_type": "code",
   "execution_count": null,
   "metadata": {},
   "outputs": [],
   "source": []
  },
  {
   "cell_type": "markdown",
   "metadata": {},
   "source": [
    "Note that, the estimation suffers from some degeneracy. E.g., $\\lambda_{IZ}$ and $\\lambda_{ZZ}$ cannot be individually addressed. Only their geometric mean is estimated and reported. This issue is detailed in [The learnability of Pauli noise](https://arxiv.org/abs/2206.06362)."
   ]
  },
  {
   "cell_type": "code",
   "execution_count": 15,
   "metadata": {},
   "outputs": [
    {
     "name": "stdout",
     "output_type": "stream",
     "text": [
      "Label / Pauli error rates\n",
      "II 1.0\n",
      "XI 0.0\n",
      "YI 0.0\n",
      "ZI 0.0\n",
      "IX 0.0\n",
      "XX 0.0\n",
      "YX 0.0\n",
      "ZX 0.0\n",
      "IY 0.0\n",
      "XY 0.0\n",
      "YY 0.0\n",
      "ZY 0.0\n",
      "IZ 0.0\n",
      "XZ 0.0\n",
      "YZ 0.0\n",
      "ZZ 0.0\n"
     ]
    }
   ],
   "source": [
    "error_list = fidelity_to_error(fidelity_list,n)\n",
    "print(\"Label / Pauli error rates\")\n",
    "for pauli_label in pauli_request_list:\n",
    "    print(pauli_label[::-1], error_list[pauli_label])"
   ]
  },
  {
   "cell_type": "code",
   "execution_count": 6,
   "metadata": {},
   "outputs": [
    {
     "data": {
      "text/plain": [
       "<BarContainer object of 15 artists>"
      ]
     },
     "execution_count": 6,
     "metadata": {},
     "output_type": "execute_result"
    },
    {
     "data": {
      "image/png": "[encoded data removed]",
      "text/plain": [
       "<Figure size 640x480 with 1 Axes>"
      ]
     },
     "metadata": {},
     "output_type": "display_data"
    }
   ],
   "source": [
    "plt.bar([label for label in error_list.keys()][1:],[error_list[label] for label in error_list.keys()][1:])"
   ]
  },
  {
   "cell_type": "markdown",
   "metadata": {},
   "source": [
    "Similarly, in the estimation $\\hat{p}_{XI}=\\hat{p}_{XX}=0.0025$ due to degeneracy."
   ]
  },
  {
   "cell_type": "code",
   "execution_count": 7,
   "metadata": {},
   "outputs": [
    {
     "name": "stdout",
     "output_type": "stream",
     "text": [
      "Label / True infidelity/ True Pauli error\n",
      "II   0.0   0.0\n",
      "XI   0.0   0.01\n",
      "YI   0.02   0.0\n",
      "ZI   0.02   0.0\n",
      "IX   0.0   0.01\n",
      "XX   0.0   0.0\n",
      "YX   0.02   0.0\n",
      "ZX   0.02   0.0\n",
      "IY   0.02   0.0\n",
      "XY   0.02   0.0\n",
      "YY   0.04   0.0\n",
      "ZY   0.04   0.0\n",
      "IZ   0.02   0.0\n",
      "XZ   0.02   0.0\n",
      "YZ   0.04   0.0\n",
      "ZZ   0.04   0.0\n"
     ]
    }
   ],
   "source": [
    "# True value for this specific noise model\n",
    "def f_true(P):\n",
    "    ans = 0.0\n",
    "    for Pi in P:\n",
    "        if Pi == 'Z' or Pi == 'Y':\n",
    "            ans += 2*eps\n",
    "    return ans\n",
    "def p_true(P):\n",
    "    if P == \"XI\" or P == \"IX\":\n",
    "        return eps\n",
    "    else:\n",
    "        return 0.0\n",
    "\n",
    "print(\"Label / True infidelity/ True Pauli error\")\n",
    "for P in pauli_request_list:\n",
    "    print(P[::-1],\" \",f_true(P),\" \",p_true(P))"
   ]
  },
  {
   "cell_type": "code",
   "execution_count": 8,
   "metadata": {},
   "outputs": [
    {
     "name": "stdout",
     "output_type": "stream",
     "text": [
      "II 0.0\n",
      "XI 3.3201099060020667e-06\n",
      "YI -0.0005111871584372145\n",
      "ZI -0.00033004173029758596\n",
      "IX -2.4565815118782197e-05\n",
      "XX -6.963699108464283e-06\n",
      "YX -0.0005570673255199492\n",
      "ZX -0.0003608693658354416\n",
      "IY 0.009727975101719095\n",
      "XY 0.009694016999577743\n",
      "YY -0.010444557418704058\n",
      "ZY -0.010403352430777467\n",
      "IZ 0.009820235421757268\n",
      "XZ 0.009793584856456001\n",
      "YZ -0.010338551447318066\n",
      "ZZ -0.010319975755474907\n"
     ]
    }
   ],
   "source": [
    "plot_dic={}\n",
    "for pauli_label in pauli_request_list:\n",
    "    print(pauli_label[::-1], (1-fidelity_list[pauli_label])-f_true(pauli_label))\n",
    "    plot_dic[pauli_label[::-1]]=(1-fidelity_list[pauli_label])-f_true(pauli_label)"
   ]
  },
  {
   "cell_type": "code",
   "execution_count": 9,
   "metadata": {},
   "outputs": [
    {
     "name": "stdout",
     "output_type": "stream",
     "text": [
      "{'II': 0.0, 'XI': 3.3201099060020667e-06, 'YI': -0.0005111871584372145, 'ZI': -0.00033004173029758596, 'IX': -2.4565815118782197e-05, 'XX': -6.963699108464283e-06, 'YX': -0.0005570673255199492, 'ZX': -0.0003608693658354416, 'IY': 0.009727975101719095, 'XY': 0.009694016999577743, 'YY': -0.010444557418704058, 'ZY': -0.010403352430777467, 'IZ': 0.009820235421757268, 'XZ': 0.009793584856456001, 'YZ': -0.010338551447318066, 'ZZ': -0.010319975755474907}\n"
     ]
    }
   ],
   "source": [
    "print (plot_dic)"
   ]
  },
  {
   "cell_type": "code",
   "execution_count": 10,
   "metadata": {},
   "outputs": [],
   "source": [
    "# plot_c100={}\n",
    "# plot_c100=plot_dic"
   ]
  },
  {
   "cell_type": "code",
   "execution_count": 11,
   "metadata": {},
   "outputs": [],
   "source": [
    "# plot_c30={}\n",
    "# plot_c30=plot_dic"
   ]
  },
  {
   "cell_type": "code",
   "execution_count": 12,
   "metadata": {},
   "outputs": [],
   "source": [
    "# plot_c20={}\n",
    "# plot_c20=plot_dic"
   ]
  },
  {
   "cell_type": "code",
   "execution_count": 13,
   "metadata": {},
   "outputs": [],
   "source": [
    "# plot_c10={}\n",
    "# plot_c10=plot_dic"
   ]
  },
  {
   "cell_type": "code",
   "execution_count": 14,
   "metadata": {},
   "outputs": [],
   "source": [
    "# plot_c5={}\n",
    "# plot_c5=plot_dic"
   ]
  },
  {
   "cell_type": "code",
   "execution_count": 15,
   "metadata": {},
   "outputs": [],
   "source": [
    "# plot_c3={}\n",
    "# plot_c3=plot_dic"
   ]
  },
  {
   "cell_type": "code",
   "execution_count": 16,
   "metadata": {},
   "outputs": [
    {
     "ename": "NameError",
     "evalue": "name 'plot_c100' is not defined",
     "output_type": "error",
     "traceback": [
      "\u001b[0;31m---------------------------------------------------------------------------\u001b[0m",
      "\u001b[0;31mNameError\u001b[0m                                 Traceback (most recent call last)",
      "Input \u001b[0;32mIn [16]\u001b[0m, in \u001b[0;36m<cell line: 2>\u001b[0;34m()\u001b[0m\n\u001b[1;32m      1\u001b[0m plt\u001b[38;5;241m.\u001b[39mfigure(figsize\u001b[38;5;241m=\u001b[39m(\u001b[38;5;241m15\u001b[39m,\u001b[38;5;241m10\u001b[39m))\n\u001b[0;32m----> 2\u001b[0m plt\u001b[38;5;241m.\u001b[39mplot(\u001b[38;5;28mlist\u001b[39m(\u001b[43mplot_c100\u001b[49m\u001b[38;5;241m.\u001b[39mkeys()),\u001b[38;5;28mlist\u001b[39m(plot_c100\u001b[38;5;241m.\u001b[39mvalues()),\u001b[38;5;124m\"\u001b[39m\u001b[38;5;124m*\u001b[39m\u001b[38;5;124m\"\u001b[39m,markersize\u001b[38;5;241m=\u001b[39m\u001b[38;5;241m10\u001b[39m)\n\u001b[1;32m      3\u001b[0m plt\u001b[38;5;241m.\u001b[39mplot(\u001b[38;5;28mlist\u001b[39m(plot_c30\u001b[38;5;241m.\u001b[39mkeys()),\u001b[38;5;28mlist\u001b[39m(plot_c30\u001b[38;5;241m.\u001b[39mvalues()),\u001b[38;5;124m\"\u001b[39m\u001b[38;5;124m*\u001b[39m\u001b[38;5;124m\"\u001b[39m,markersize\u001b[38;5;241m=\u001b[39m\u001b[38;5;241m10\u001b[39m)\n\u001b[1;32m      4\u001b[0m plt\u001b[38;5;241m.\u001b[39mplot(\u001b[38;5;28mlist\u001b[39m(plot_c20\u001b[38;5;241m.\u001b[39mkeys()),\u001b[38;5;28mlist\u001b[39m(plot_c20\u001b[38;5;241m.\u001b[39mvalues()),\u001b[38;5;124m\"\u001b[39m\u001b[38;5;124m*\u001b[39m\u001b[38;5;124m\"\u001b[39m,markersize\u001b[38;5;241m=\u001b[39m\u001b[38;5;241m10\u001b[39m)\n",
      "\u001b[0;31mNameError\u001b[0m: name 'plot_c100' is not defined"
     ]
    },
    {
     "data": {
      "text/plain": [
       "<Figure size 1080x720 with 0 Axes>"
      ]
     },
     "metadata": {},
     "output_type": "display_data"
    }
   ],
   "source": [
    "plt.figure(figsize=(15,10))\n",
    "plt.plot(list(plot_c100.keys()),list(plot_c100.values()),\"*\",markersize=10)\n",
    "plt.plot(list(plot_c30.keys()),list(plot_c30.values()),\"*\",markersize=10)\n",
    "plt.plot(list(plot_c20.keys()),list(plot_c20.values()),\"*\",markersize=10)\n",
    "plt.plot(list(plot_c10.keys()),list(plot_c10.values()),\"*\",markersize=10)\n",
    "plt.plot(list(plot_c5.keys()),list(plot_c5.values()),\"*\",markersize=10)\n",
    "# plt.plot(list(plot_c3.keys()),list(plot_c3.values()),\"*\",markersize=10)\n",
    "plt.legend([\"C=100\",\"C=30\",\"C=20\",\"C=10\",\"C=5\"])\n",
    "plt.ylabel(\"f_measure - f_true\",fontsize=20)\n",
    "plt.savefig(\"eps=0.01 single CNOT EAB.pdf\",format=\"pdf\",dpi=500)"
   ]
  },
  {
   "cell_type": "code",
   "execution_count": null,
   "metadata": {},
   "outputs": [],
   "source": [
    "print (eab_result)"
   ]
  },
  {
   "cell_type": "code",
   "execution_count": null,
   "metadata": {},
   "outputs": [],
   "source": []
  }
 ],
 "metadata": {
  "kernelspec": {
   "display_name": "Python 3 (ipykernel)",
   "language": "python",
   "name": "python3"
  },
  "language_info": {
   "codemirror_mode": {
    "name": "ipython",
    "version": 3
   },
   "file_extension": ".py",
   "mimetype": "text/x-python",
   "name": "python",
   "nbconvert_exporter": "python",
   "pygments_lexer": "ipython3",
   "version": "3.8.12"
  },
  "vscode": {
   "interpreter": {
    "hash": "eb0ed426dfdf04494def9e575b5f0e4953a90811145bd0c3aaa77ba1aa39290a"
   }
  }
 },
 "nbformat": 4,
 "nbformat_minor": 2
}
