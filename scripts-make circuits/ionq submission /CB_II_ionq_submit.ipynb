{
 "cells": [
  {
   "cell_type": "markdown",
   "metadata": {},
   "source": [
    "# Cycle benchmarking\n",
    "\n",
    "- With parallel CNOT\n",
    "\n",
    "- Apply 9 different measurement settings\n",
    "\n"
   ]
  },
  {
   "cell_type": "code",
   "execution_count": 1,
   "metadata": {},
   "outputs": [],
   "source": [
    "import numpy as np\n",
    "import sys, json, copy, time, pickle, random\n",
    "from concurrent.futures import ThreadPoolExecutor\n",
    "import qiskit\n",
    "from qiskit import IBMQ, QuantumCircuit, execute\n",
    "from qiskit_aer import StatevectorSimulator, AerSimulator\n",
    "from qiskit_aer.noise import NoiseModel, pauli_error, amplitude_damping_error, ReadoutError\n",
    "# from qiskit.providers.ibmq.managed import IBMQJobManager, ManagedJobSet\n",
    "# from qiskit.providers.ibmq.apiconstants import ApiJobShareLevel\n",
    "from qiskit.quantum_info.operators.symplectic import pauli\n",
    "sys.path.append(r\"/Users/yzhu/yzhu_work/gates projects/EAB/EAB_code from Senrui\")\n",
    "from qubit_map import my_qubit_maps\n",
    "import matplotlib.pyplot as plt\n",
    "from scipy.stats import sem, unitary_group\n",
    "from scipy import sparse\n",
    "import CB_submit, CB_process\n",
    "from statistics import stdev\n",
    "import itertools\n",
    "from qiskit.compiler import transpile\n",
    "from qiskit_ionq import IonQProvider\n",
    "from qiskit.quantum_info import Pauli\n",
    "from datetime import datetime"
   ]
  },
  {
   "cell_type": "markdown",
   "metadata": {},
   "source": [
    "## Additional functions"
   ]
  },
  {
   "cell_type": "code",
   "execution_count": 2,
   "metadata": {},
   "outputs": [],
   "source": [
    "## Additional functions\n",
    "\n",
    "def int_to_pauli(i,n):\n",
    "    p = np.base_repr(i,base=4)\n",
    "    p = '0'*(n-len(p)) + p\n",
    "    p = p.replace('0','I').replace('1', 'X').replace('2', 'Y').replace('3', 'Z')\n",
    "    return p\n",
    "\n",
    "def commute(p,q):\n",
    "    c = 1\n",
    "    n = len(p)\n",
    "    for i in range(n):\n",
    "        if p[i] != 'I' and q[i] != 'I':\n",
    "            if p[i] != q[i]:\n",
    "                c *= -1\n",
    "    return c\n",
    "\n",
    "def fidelity_to_error(pauli_fidelity,n):\n",
    "    N = 4**n\n",
    "    pauli_error = {}\n",
    "    for i in range(N):\n",
    "        p = int_to_pauli(i,n)\n",
    "        pauli_error[p] = 0\n",
    "        for j in range(N):\n",
    "            q = int_to_pauli(j,n)\n",
    "            pauli_error[p] += pauli_fidelity[q] * commute(p,q) / N\n",
    "    return pauli_error\n",
    "    "
   ]
  },
  {
   "cell_type": "markdown",
   "metadata": {},
   "source": [
    "## Data generation"
   ]
  },
  {
   "cell_type": "code",
   "execution_count": 3,
   "metadata": {},
   "outputs": [],
   "source": [
    "import os\n",
    "os.environ[\"IONQ_API_KEY\"] = \"5YIT8WaP7SCAtLap1uvzz8AQIM99BYqq\"\n",
    "my_api_key = os.getenv(\"IONQ_API_KEY\")\n",
    "provider = IonQProvider(my_api_key)\n",
    "# choose one\n",
    "backend_sim = provider.get_backend(\"ionq_simulator\")\n",
    "\n",
    "use_QPU = False\n",
    "\n",
    "if use_QPU is True:\n",
    "    backend = provider.get_backend(\"ionq_qpu.aria-1\")\n",
    "    # backend = provider.get_backend(\"ionq_simulator\")\n"
   ]
  },
  {
   "cell_type": "code",
   "execution_count": 10,
   "metadata": {},
   "outputs": [
    {
     "name": "stdout",
     "output_type": "stream",
     "text": [
      "CB for  XY\n",
      "created 60 circuits\n",
      "     ┌───┐┌───┐ ░ ┌───┐ ░ ┌───┐ ░ ┌───┐ ░ ┌───┐┌───┐┌───┐┌───┐ ░ ┌─┐   \n",
      "q_0: ┤ H ├┤ S ├─░─┤ X ├─░─┤ Z ├─░─┤ Y ├─░─┤ S ├┤ S ├┤ S ├┤ H ├─░─┤M├───\n",
      "     ├───┤└───┘ ░ ├───┤ ░ ├───┤ ░ ├───┤ ░ ├───┤└───┘└───┘└───┘ ░ └╥┘┌─┐\n",
      "q_1: ┤ H ├──────░─┤ Z ├─░─┤ I ├─░─┤ Z ├─░─┤ H ├────────────────░──╫─┤M├\n",
      "     └───┘      ░ └───┘ ░ └───┘ ░ └───┘ ░ └───┘                ░  ║ └╥┘\n",
      "c: 2/═════════════════════════════════════════════════════════════╩══╩═\n",
      "                                                                  0  1 \n",
      "CB for  XZ\n",
      "created 60 circuits\n",
      "     ┌───┐ ░ ┌───┐ ░ ┌───┐ ░ ┌───┐ ░ ┌───┐ ░ ┌─┐   \n",
      "q_0: ┤ I ├─░─┤ Z ├─░─┤ Y ├─░─┤ Z ├─░─┤ I ├─░─┤M├───\n",
      "     ├───┤ ░ ├───┤ ░ ├───┤ ░ ├───┤ ░ ├───┤ ░ └╥┘┌─┐\n",
      "q_1: ┤ H ├─░─┤ I ├─░─┤ Y ├─░─┤ Z ├─░─┤ H ├─░──╫─┤M├\n",
      "     └───┘ ░ └───┘ ░ └───┘ ░ └───┘ ░ └───┘ ░  ║ └╥┘\n",
      "c: 2/═════════════════════════════════════════╩══╩═\n",
      "                                              0  1 \n",
      "CB for  YX\n",
      "created 60 circuits\n",
      "     ┌───┐      ░ ┌───┐ ░ ┌───┐ ░ ┌───┐ ░ ┌───┐                ░ ┌─┐   \n",
      "q_0: ┤ H ├──────░─┤ Z ├─░─┤ X ├─░─┤ X ├─░─┤ H ├────────────────░─┤M├───\n",
      "     ├───┤┌───┐ ░ ├───┤ ░ ├───┤ ░ ├───┤ ░ ├───┤┌───┐┌───┐┌───┐ ░ └╥┘┌─┐\n",
      "q_1: ┤ H ├┤ S ├─░─┤ Z ├─░─┤ Z ├─░─┤ X ├─░─┤ S ├┤ S ├┤ S ├┤ H ├─░──╫─┤M├\n",
      "     └───┘└───┘ ░ └───┘ ░ └───┘ ░ └───┘ ░ └───┘└───┘└───┘└───┘ ░  ║ └╥┘\n",
      "c: 2/═════════════════════════════════════════════════════════════╩══╩═\n",
      "                                                                  0  1 \n",
      "CB for  ZX\n",
      "created 60 circuits\n",
      "     ┌───┐ ░ ┌───┐ ░ ┌───┐ ░ ┌───┐ ░ ┌───┐ ░ ┌─┐   \n",
      "q_0: ┤ H ├─░─┤ Z ├─░─┤ I ├─░─┤ Z ├─░─┤ H ├─░─┤M├───\n",
      "     ├───┤ ░ ├───┤ ░ ├───┤ ░ ├───┤ ░ ├───┤ ░ └╥┘┌─┐\n",
      "q_1: ┤ I ├─░─┤ I ├─░─┤ I ├─░─┤ I ├─░─┤ I ├─░──╫─┤M├\n",
      "     └───┘ ░ └───┘ ░ └───┘ ░ └───┘ ░ └───┘ ░  ║ └╥┘\n",
      "c: 2/═════════════════════════════════════════╩══╩═\n",
      "                                              0  1 \n"
     ]
    }
   ],
   "source": [
    "#not used but need to set as Flase\n",
    "use_density_matrix = False # density matrix based / measurement based simulation\n",
    "periodic = False # not used\n",
    "use_readout_error = False\n",
    "\n",
    "# # choose one\n",
    "# use_ibmq = False\n",
    "use_stabilizer_simulator = True # whether stabilizer simulator is used (valid only for Pauli noise)\n",
    "# use_density_matrix_sample = False # use density matrix simulation, but returns samples\n",
    "# use_state_vector_sample = False # use state vector simulation, which returns samples\n",
    "\n",
    "# parameters: n, Lrange, C, shots\n",
    "\n",
    "shots = 2000\n",
    "n = 2 # num of qubit\n",
    "n_total = n\n",
    "# Lrange = list(range(2,39,4)) # len = 10\n",
    "# Lrange = [2**x for x in range(1,6)]\n",
    "Lrange=[2,8,32]\n",
    "C = 20\n",
    "batch = 1 # not used\n",
    "gset = \"Pauli\"\n",
    "q = my_qubit_maps['local']\n",
    "repeat = [1 for k in Lrange] # not used\n",
    "# periodic = False # not used\n",
    "\n",
    "# For CB, need to decide measurement basis\n",
    "# pauli_sample_list = [''.join(s) for s in itertools.product(['X','Y','Z'], repeat = n)]\n",
    "# pauli_sample_list = ['XX','YY','YZ','ZY','ZZ']\n",
    "# pauli_sample_list = ['XZ','ZX']\n",
    "pauli_sample_list = ['XY','XZ','YX','ZX']\n",
    "\n",
    "\n",
    "# For specific IBM device structure\n",
    "# TODO: put these in qubit_map.py\n",
    "\n",
    "\n",
    "clifford_layer = 'II'\n",
    "# clifford_layer = 'Id'\n",
    "\n",
    "# # Simulation parameters\n",
    "eps = 0 # two parallel Cnot ~ 2%\n",
    "# # eps_amp = 0 # SPAM error at CNOT\n",
    "eps_readout = 0 # readout bitflip ~ 1%\n",
    "# # eps_cross = 0.025 # SPAM error at CNOT\n",
    "\n",
    "\n",
    "\n",
    "data = {}\n",
    "token = ''.join(random.choice([str(j) for j in range(10)]) for i in range(10))\n",
    "now=datetime.now()\n",
    "dt_string = now.strftime(\"%m%d%Y %H:%M:%S\")\n",
    "filename = \"CB_\"+clifford_layer + token+dt_string+\"part2\"\n",
    "data[\"token\"] = token\n",
    "data[\"n\"] = n\n",
    "data[\"pauli_sample_list\"] = pauli_sample_list\n",
    "cb_circ_all_list=[]\n",
    "\n",
    "\n",
    "for pauli_sample in pauli_sample_list:\n",
    "    print(\"CB for \",pauli_sample)\n",
    "    # generate CB circuit:\n",
    "    cb_data, cb_circ_all = CB_submit.submit_cb(n,n_total,clifford_layer = clifford_layer,Lrange=Lrange,C=C,batch=batch, qubit_map=q, pauliList=pauli_sample , gset=gset,repeat=repeat,periodic=periodic,use_density_matrix=use_density_matrix)\n",
    "    print(\"created %d circuits\" % len(cb_circ_all[0]))\n",
    "\n",
    "    print(cb_circ_all[0][0]) # print a typical example\n",
    "    cb_circ_all_list.append(cb_circ_all[0])\n",
    "\n",
    "    # job_sim = backend_sim.run(cb_circ_all[0], shots=shots, memory = True) \n",
    "    # result = job_sim.result()\n",
    "    # cb_data[\"result\"] = [result]\n",
    "    cb_data[\"result\"] = {}\n",
    "    \n",
    "    cb_data[\"parameters\"] = {}\n",
    "    cb_data[\"parameters\"]['n'] = n \n",
    "    cb_data[\"parameters\"]['n_total'] = n_total\n",
    "    cb_data[\"parameters\"]['shots'] = shots \n",
    "    cb_data[\"parameters\"]['Lrange'] = Lrange \n",
    "    cb_data[\"parameters\"]['C'] = C\n",
    "    cb_data[\"parameters\"]['eps_readout'] = eps_readout\n",
    "    cb_data[\"parameters\"]['repeat'] = repeat\n",
    "\n",
    "    data[pauli_sample] = cb_data\n",
    "\n",
    "# if use_ibmq is False:\n",
    "#     cb_data[\"result\"] = [result]\n",
    "# else:\n",
    "#     cb_data[\"job_set_id\"] = job_set_id\n",
    "\n",
    "# test: data saving\n",
    "# print(cb_data)\n",
    "\n",
    "\n",
    "with open('/Users/yzhu/yzhu_work/gates projects/EAB/scripts-make circuits/ionq submission /submit/' + filename, 'wb') as outfile:\n",
    "    pickle.dump(data, outfile)\n",
    "\n",
    "# print(token)"
   ]
  },
  {
   "cell_type": "code",
   "execution_count": 11,
   "metadata": {},
   "outputs": [
    {
     "name": "stdout",
     "output_type": "stream",
     "text": [
      "CB II\n"
     ]
    },
    {
     "name": "stderr",
     "output_type": "stream",
     "text": [
      "/var/folders/6l/f5pw0tyx785dhvmqpb7282h00000gn/T/ipykernel_73542/792365657.py:5: UserWarning: Option memory is not used by this backend\n",
      "  job= backend.run(cb_circ_all_list[i], shots=shots, memory = True)\n"
     ]
    },
    {
     "name": "stdout",
     "output_type": "stream",
     "text": [
      "job id XY : adcfb4e2-6929-4e94-b7e3-9c046c094cb0\n",
      "job id XZ : 4bf3c8e0-0efb-4ba9-8f82-f02990d7ded6\n",
      "job id YX : c7db7882-f308-4822-8747-3af1d5c4b64a\n",
      "job id ZX : 3b6422a6-006b-439f-8861-0a09f0c7ea8b\n"
     ]
    }
   ],
   "source": [
    "cb_info={}\n",
    "print(\"CB II\")\n",
    "backend = provider.get_backend(\"ionq_qpu.aria-1\")\n",
    "for i in range (len(cb_circ_all_list)):\n",
    "    job= backend.run(cb_circ_all_list[i], shots=shots, memory = True) \n",
    "    job_id=job.job_id()\n",
    "    cb_info[pauli_sample_list[i]]=job_id\n",
    "    print (\"job id\",pauli_sample_list[i],\":\",job_id)\n",
    "\n"
   ]
  },
  {
   "cell_type": "code",
   "execution_count": 12,
   "metadata": {},
   "outputs": [],
   "source": [
    "with open('cb_info'+clifford_layer+\"part2\", 'wb') as f:\n",
    "    pickle.dump(cb_info, f)\n",
    "        "
   ]
  },
  {
   "cell_type": "markdown",
   "metadata": {},
   "source": [
    "## Data analysis"
   ]
  },
  {
   "cell_type": "code",
   "execution_count": 12,
   "metadata": {},
   "outputs": [
    {
     "name": "stdout",
     "output_type": "stream",
     "text": [
      "dict_keys(['token', 'n', 'pauli_sample_list', 'XX', 'XY', 'XZ', 'YX', 'YY', 'YZ', 'ZX', 'ZY', 'ZZ'])\n",
      "dict_keys(['batch_0', 'result', 'parameters'])\n",
      "[{'00': 30, '01': 52, '10': 137, '11': 1781}, {'00': 72, '01': 63, '10': 1631, '11': 234}, {'00': 135, '01': 104, '10': 1315, '11': 446}, {'00': 554, '01': 1123, '10': 148, '11': 175}, {'00': 313, '01': 311, '10': 618, '11': 758}]\n"
     ]
    }
   ],
   "source": [
    "print (data.keys())\n",
    "# print (data[\"pauli_sample_list\"])\n",
    "print (data[\"XX\"].keys())\n",
    "# print (type(data[\"XX\"][\"result\"]))\n",
    "# print (data[\"XX\"][\"result\"][0].data(0))\n",
    "print (data[\"XX\"][\"result\"][0].get_counts())\n",
    "# print (data[\"XX\"][\"result\"][0].data(0)[\"counts\"])"
   ]
  },
  {
   "cell_type": "code",
   "execution_count": 9,
   "metadata": {},
   "outputs": [
    {
     "ename": "KeyError",
     "evalue": "0",
     "output_type": "error",
     "traceback": [
      "\u001b[0;31m---------------------------------------------------------------------------\u001b[0m",
      "\u001b[0;31mKeyError\u001b[0m                                  Traceback (most recent call last)",
      "Cell \u001b[0;32mIn[9], line 27\u001b[0m\n\u001b[1;32m     24\u001b[0m eps_readout \u001b[38;5;241m=\u001b[39m cb_data[\u001b[38;5;124m\"\u001b[39m\u001b[38;5;124mparameters\u001b[39m\u001b[38;5;124m\"\u001b[39m][\u001b[38;5;124m'\u001b[39m\u001b[38;5;124meps_readout\u001b[39m\u001b[38;5;124m'\u001b[39m] \n\u001b[1;32m     25\u001b[0m repeat \u001b[38;5;241m=\u001b[39m cb_data[\u001b[38;5;124m\"\u001b[39m\u001b[38;5;124mparameters\u001b[39m\u001b[38;5;124m\"\u001b[39m][\u001b[38;5;124m'\u001b[39m\u001b[38;5;124mrepeat\u001b[39m\u001b[38;5;124m'\u001b[39m]\n\u001b[0;32m---> 27\u001b[0m cb_result \u001b[38;5;241m=\u001b[39m \u001b[43mCB_process\u001b[49m\u001b[38;5;241;43m.\u001b[39;49m\u001b[43mprocess_CB_ionq\u001b[49m\u001b[43m(\u001b[49m\u001b[43mn\u001b[49m\u001b[43m,\u001b[49m\u001b[43m \u001b[49m\u001b[43mC\u001b[49m\u001b[43m,\u001b[49m\u001b[43m \u001b[49m\u001b[43mshots\u001b[49m\u001b[43m,\u001b[49m\u001b[43m \u001b[49m\u001b[38;5;241;43m1\u001b[39;49m\u001b[43m,\u001b[49m\u001b[43m \u001b[49m\u001b[43mLrange\u001b[49m\u001b[43m,\u001b[49m\u001b[43m \u001b[49m\u001b[43mcb_data\u001b[49m\u001b[43m,\u001b[49m\u001b[43m \u001b[49m\u001b[43mpauli_sample\u001b[49m\u001b[43m \u001b[49m\u001b[38;5;241;43m=\u001b[39;49m\u001b[43m \u001b[49m\u001b[43mpauli_sample\u001b[49m\u001b[43m,\u001b[49m\u001b[43mrepeat\u001b[49m\u001b[38;5;241;43m=\u001b[39;49m\u001b[43mrepeat\u001b[49m\u001b[43m,\u001b[49m\u001b[43m \u001b[49m\u001b[43mperiodic\u001b[49m\u001b[38;5;241;43m=\u001b[39;49m\u001b[38;5;28;43;01mTrue\u001b[39;49;00m\u001b[43m,\u001b[49m\u001b[43muse_density_matrix\u001b[49m\u001b[38;5;241;43m=\u001b[39;49m\u001b[38;5;28;43;01mFalse\u001b[39;49;00m\u001b[43m,\u001b[49m\u001b[43m \u001b[49m\u001b[43mintercept_cb\u001b[49m\u001b[38;5;241;43m=\u001b[39;49m\u001b[38;5;28;43;01mFalse\u001b[39;49;00m\u001b[43m)\u001b[49m\n\u001b[1;32m     28\u001b[0m raw_fidelity_list \u001b[38;5;241m=\u001b[39m cb_result[\u001b[38;5;124m\"\u001b[39m\u001b[38;5;124mfidelity_list\u001b[39m\u001b[38;5;124m\"\u001b[39m]\n\u001b[1;32m     30\u001b[0m new_sub_label \u001b[38;5;241m=\u001b[39m []\n",
      "File \u001b[0;32m~/yzhu_work/gates projects/EAB/EAB_code from Senrui/CB_process.py:249\u001b[0m, in \u001b[0;36mprocess_CB_ionq\u001b[0;34m(n, C, shots, batch, Lrange, cb_data, pauli_sample, pauli_request_set, counts_batch, repeat, periodic, use_density_matrix, intercept_cb, C_max, shots_max, use_boostrap)\u001b[0m\n\u001b[1;32m    246\u001b[0m \u001b[38;5;28;01mfor\u001b[39;00m b \u001b[38;5;129;01min\u001b[39;00m \u001b[38;5;28mrange\u001b[39m(batch):\n\u001b[1;32m    247\u001b[0m     \u001b[38;5;66;03m# print(b)\u001b[39;00m\n\u001b[1;32m    248\u001b[0m     data_batch \u001b[38;5;241m=\u001b[39m cb_data[\u001b[38;5;124m\"\u001b[39m\u001b[38;5;124mbatch_\u001b[39m\u001b[38;5;132;01m%d\u001b[39;00m\u001b[38;5;124m\"\u001b[39m \u001b[38;5;241m%\u001b[39m b]\n\u001b[0;32m--> 249\u001b[0m     result_batch \u001b[38;5;241m=\u001b[39m (\u001b[43mcb_data\u001b[49m\u001b[43m[\u001b[49m\u001b[38;5;124;43m\"\u001b[39;49m\u001b[38;5;124;43mresult\u001b[39;49m\u001b[38;5;124;43m\"\u001b[39;49m\u001b[43m]\u001b[49m\u001b[43m[\u001b[49m\u001b[43mb\u001b[49m\u001b[43m]\u001b[49m)\n\u001b[1;32m    252\u001b[0m     circuit_count \u001b[38;5;241m=\u001b[39m \u001b[38;5;241m0\u001b[39m  \u001b[38;5;66;03m### To extract data from result_batch\u001b[39;00m\n\u001b[1;32m    254\u001b[0m     \u001b[38;5;28;01mif\u001b[39;00m use_boostrap:\n",
      "\u001b[0;31mKeyError\u001b[0m: 0"
     ]
    }
   ],
   "source": [
    "\n",
    "\n",
    "'''Use these if read from file'''\n",
    "# token = \"8799418287\"\n",
    "# filename = \"sim_cb_cnot_2022oct_\" + token\n",
    "# with open('/Volumes/funkflower/Users/Yingyue/Gates_Lab_Suite-master/PauliNoiseEstimation/EAB(code from Senrui)/data/' + filename, 'rb') as infile:\n",
    "#     data = pickle.load(infile)\n",
    "\n",
    "\n",
    "n = data[\"n\"]\n",
    "pauli_sample_list = data[\"pauli_sample_list\"]\n",
    "'''Specify a set of Pauli you want to estimate'''\n",
    "pauli_request_list = [''.join(s) for s in itertools.product(['I','X','Y','Z'], repeat = n)] #full\n",
    "\n",
    "fidelity_list = {} \n",
    "stdev_list = {}\n",
    "\n",
    "for pauli_sample in pauli_sample_list:\n",
    "    cb_data = data[pauli_sample]\n",
    "\n",
    "    # n = cb_data[\"parameters\"]['n']\n",
    "    # n_total = cb_data[\"parameters\"]['n_total'] \n",
    "    shots = cb_data[\"parameters\"]['shots'] \n",
    "    Lrange = cb_data[\"parameters\"]['Lrange']\n",
    "    C = cb_data[\"parameters\"]['C'] \n",
    "    eps_readout = cb_data[\"parameters\"]['eps_readout'] \n",
    "    repeat = cb_data[\"parameters\"]['repeat']\n",
    "\n",
    "    cb_result = CB_process.process_CB_ionq(n, C, shots, 1, Lrange, cb_data, pauli_sample = pauli_sample,repeat=repeat, periodic=True,use_density_matrix=False, intercept_cb=False)\n",
    "    raw_fidelity_list = cb_result[\"fidelity_list\"]\n",
    "    \n",
    "    new_sub_label = []\n",
    "\n",
    "    for sub_label in raw_fidelity_list.keys():\n",
    "        if sub_label in fidelity_list:\n",
    "            continue # wasteful!\n",
    "        elif(sub_label == 'I'*n):\n",
    "            fidelity_list[sub_label] = 1.0\n",
    "            stdev_list[sub_label] = 0.0\n",
    "        else:\n",
    "            alpha, alpha_err = CB_process.fit_CB(Lrange, raw_fidelity_list[sub_label])\n",
    "            fidelity_list[sub_label] = alpha\n",
    "            stdev_list[sub_label] = alpha_err\n",
    "            new_sub_label.append(sub_label)\n",
    "\n",
    "    print(\"CB setting: \",pauli_sample[::-1],\" Pauli fidelities calculated: \", [sub_label[::-1] for sub_label in new_sub_label])\n",
    "\n",
    "\n",
    "# print(fidelity_list)\n",
    "\n",
    "# print(stdev_list)\n",
    "print(\"Parameters: n = %d, C = %d, \" % (n,C), \"L = \", str(Lrange))\n",
    "\n",
    "\n",
    "\n",
    "# Average fidelity\n",
    "print(\"Total error = \", 1-np.mean(list(fidelity_list.values())))\n",
    "\n",
    "print(\"Label / Pauli infidelity / Standard deviation\")\n",
    "for pauli_label in pauli_request_list:\n",
    "    print(pauli_label[::-1], 1-fidelity_list[pauli_label], stdev_list[pauli_label])\n",
    "# print('Effective noise rate = ' + str(1-np.average(list(fidelity_list.values()))))\n",
    "\n"
   ]
  },
  {
   "cell_type": "code",
   "execution_count": 14,
   "metadata": {},
   "outputs": [
    {
     "name": "stdout",
     "output_type": "stream",
     "text": [
      "{'II': {2: [1.0, 1.0, 1.0, 1.0, 1.0], 4: [1.0, 1.0, 1.0, 1.0, 1.0], 8: [1.0, 1.0, 1.0, 1.0, 1.0], 16: [1.0, 1.0, 1.0, 1.0, 1.0], 32: [1.0, 1.0, 1.0, 1.0, 1.0]}, 'IZ': {2: [0.966, -0.976, 0.961, -0.964, 0.966], 4: [0.971, 0.973, 0.977, 0.985, 0.975], 8: [0.978, 0.984, 0.98, 0.986, 0.976], 16: [0.983, 0.972, 0.98, 0.962, 0.977], 32: [0.979, 0.984, 0.984, 0.978, 0.986]}, 'ZI': {2: [-0.966, 0.976, 0.961, 0.964, 0.966], 4: [0.983, 0.978, 0.976, 0.982, 0.977], 8: [0.986, 0.981, 0.971, 0.98, 0.981], 16: [0.98, 0.989, 0.98, 0.974, 0.982], 32: [0.975, 0.979, 0.979, 0.983, 0.985]}, 'ZZ': {2: [0.966, 0.976, 0.961, 0.964, 0.966], 4: [0.954, 0.951, 0.953, 0.967, 0.952], 8: [0.964, 0.965, 0.951, 0.966, 0.957], 16: [0.963, 0.961, 0.96, 0.936, 0.959], 32: [0.956, 0.963, 0.963, 0.961, 0.971]}}\n"
     ]
    }
   ],
   "source": [
    "print (raw_fidelity_list)"
   ]
  },
  {
   "cell_type": "code",
   "execution_count": null,
   "metadata": {},
   "outputs": [
    {
     "name": "stdout",
     "output_type": "stream",
     "text": [
      "{'II': {2: [1.0, 1.0, 1.0, 1.0, 1.0], 4: [1.0, 1.0, 1.0, 1.0, 1.0], 8: [1.0, 1.0, 1.0, 1.0, 1.0], 16: [1.0, 1.0, 1.0, 1.0, 1.0], 32: [1.0, 1.0, 1.0, 1.0, 1.0]}, 'IZ': {2: [0.966, -0.976, 0.961, -0.964, 0.966], 4: [0.971, 0.973, 0.977, 0.985, 0.975], 8: [0.978, 0.984, 0.98, 0.986, 0.976], 16: [0.983, 0.972, 0.98, 0.962, 0.977], 32: [0.979, 0.984, 0.984, 0.978, 0.986]}, 'ZI': {2: [-0.966, 0.976, 0.961, 0.964, 0.966], 4: [0.983, 0.978, 0.976, 0.982, 0.977], 8: [0.986, 0.981, 0.971, 0.98, 0.981], 16: [0.98, 0.989, 0.98, 0.974, 0.982], 32: [0.975, 0.979, 0.979, 0.983, 0.985]}, 'ZZ': {2: [0.966, 0.976, 0.961, 0.964, 0.966], 4: [0.954, 0.951, 0.953, 0.967, 0.952], 8: [0.964, 0.965, 0.951, 0.966, 0.957], 16: [0.963, 0.961, 0.96, 0.936, 0.959], 32: [0.956, 0.963, 0.963, 0.961, 0.971]}}\n"
     ]
    }
   ],
   "source": [
    "print (raw_fidelity_list)"
   ]
  },
  {
   "cell_type": "markdown",
   "metadata": {},
   "source": [
    "Note that, the estimation suffers from some degeneracy. E.g., $\\lambda_{IZ}$ and $\\lambda_{ZZ}$ cannot be individually addressed. Only their geometric mean is estimated and reported. This issue is detailed in [The learnability of Pauli noise](https://arxiv.org/abs/2206.06362)."
   ]
  },
  {
   "cell_type": "code",
   "execution_count": 6,
   "metadata": {},
   "outputs": [
    {
     "name": "stdout",
     "output_type": "stream",
     "text": [
      "Label / Pauli error rates\n",
      "II 1.0\n",
      "XI 0.0\n",
      "YI 0.0\n",
      "ZI 0.0\n",
      "IX 0.0\n",
      "XX 0.0\n",
      "YX 0.0\n",
      "ZX 0.0\n",
      "IY 0.0\n",
      "XY 0.0\n",
      "YY 0.0\n",
      "ZY 0.0\n",
      "IZ 0.0\n",
      "XZ 0.0\n",
      "YZ 0.0\n",
      "ZZ 0.0\n"
     ]
    }
   ],
   "source": [
    "error_list = fidelity_to_error(fidelity_list,n)\n",
    "print(\"Label / Pauli error rates\")\n",
    "for pauli_label in pauli_request_list:\n",
    "    print(pauli_label[::-1], error_list[pauli_label])"
   ]
  },
  {
   "cell_type": "markdown",
   "metadata": {},
   "source": [
    "Similarly, in the estimation $p_{XI}=p_{XX}=0.0025$ due to degeneracy."
   ]
  },
  {
   "cell_type": "code",
   "execution_count": 6,
   "metadata": {},
   "outputs": [
    {
     "name": "stdout",
     "output_type": "stream",
     "text": [
      "Label / True infidelity/ True Pauli error\n",
      "II   0.0   0.0\n",
      "XI   0.0   0.005\n",
      "YI   0.01   0.0\n",
      "ZI   0.01   0.0\n",
      "IX   0.0   0.005\n",
      "XX   0.0   0.0\n",
      "YX   0.01   0.0\n",
      "ZX   0.01   0.0\n",
      "IY   0.01   0.0\n",
      "XY   0.01   0.0\n",
      "YY   0.02   0.0\n",
      "ZY   0.02   0.0\n",
      "IZ   0.01   0.0\n",
      "XZ   0.01   0.0\n",
      "YZ   0.02   0.0\n",
      "ZZ   0.02   0.0\n"
     ]
    }
   ],
   "source": [
    "# True value for this specific noise model\n",
    "eps = 0.005\n",
    "def f_true(P):\n",
    "    ans = 0.0\n",
    "    for Pi in P:\n",
    "        if Pi == 'Z' or Pi == 'Y':\n",
    "            ans += 2*eps\n",
    "    return ans\n",
    "def p_true(P):\n",
    "    if P == \"XI\" or P == \"IX\":\n",
    "        return eps\n",
    "    else:\n",
    "        return 0.0\n",
    "\n",
    "print(\"Label / True infidelity/ True Pauli error\")\n",
    "for P in pauli_request_list:\n",
    "    print(P[::-1],\" \",f_true(P),\" \",p_true(P))"
   ]
  },
  {
   "cell_type": "code",
   "execution_count": 7,
   "metadata": {},
   "outputs": [
    {
     "name": "stdout",
     "output_type": "stream",
     "text": [
      "II 0.0\n",
      "XI -3.72240458179629e-05\n",
      "YI 0.00011366131535684755\n",
      "ZI 0.0003760411715055898\n",
      "IX -8.145387763369705e-05\n",
      "XX -0.00011494943944923008\n",
      "YX 0.00016384049609397856\n",
      "ZX 0.000473700769892069\n",
      "IY 0.005677388220001753\n",
      "XY 0.005370589308984939\n",
      "YY -0.004615039021756844\n",
      "ZY -0.0048058294033530395\n",
      "IZ 0.004476540925792536\n",
      "XZ 0.004580069852476396\n",
      "YZ -0.0047195157624963895\n",
      "ZZ -0.005029984350663801\n"
     ]
    }
   ],
   "source": [
    "for pauli_label in pauli_request_list:\n",
    "    print(pauli_label[::-1], (1-fidelity_list[pauli_label])-f_true(pauli_label))"
   ]
  },
  {
   "cell_type": "code",
   "execution_count": 1,
   "metadata": {},
   "outputs": [
    {
     "name": "stdout",
     "output_type": "stream",
     "text": [
      "range(0, 5)\n"
     ]
    }
   ],
   "source": [
    "print (range(5))"
   ]
  },
  {
   "cell_type": "code",
   "execution_count": null,
   "metadata": {},
   "outputs": [],
   "source": []
  }
 ],
 "metadata": {
  "kernelspec": {
   "display_name": "Python 3 (ipykernel)",
   "language": "python",
   "name": "python3"
  },
  "language_info": {
   "codemirror_mode": {
    "name": "ipython",
    "version": 3
   },
   "file_extension": ".py",
   "mimetype": "text/x-python",
   "name": "python",
   "nbconvert_exporter": "python",
   "pygments_lexer": "ipython3",
   "version": "3.8.12"
  },
  "vscode": {
   "interpreter": {
    "hash": "eb0ed426dfdf04494def9e575b5f0e4953a90811145bd0c3aaa77ba1aa39290a"
   }
  }
 },
 "nbformat": 4,
 "nbformat_minor": 4
}
