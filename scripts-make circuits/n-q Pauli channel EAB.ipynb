{
 "cells": [
  {
   "cell_type": "code",
   "execution_count": 2,
   "id": "2e8f4235",
   "metadata": {},
   "outputs": [],
   "source": [
    "import sys\n",
    "# sys.path.append(r\"Y:\\Users\\Yingyue\\Gates_Lab_Suite-master\")\n",
    "sys.path.append(r\"/Volumes/funkflower/Users/Yingyue/Gates_Lab_Suite-master\")\n",
    "from Core_Definition import *\n",
    "from Auto_Algorithm import *\n",
    "from Visualization import *\n",
    "import os\n",
    "from SPAM import *\n",
    "import numpy as np\n",
    "import xlsxwriter as xlsx\n",
    "from scipy import optimize\n",
    "import random\n",
    "import math\n",
    "from math import floor"
   ]
  },
  {
   "cell_type": "code",
   "execution_count": 26,
   "id": "ca643aed",
   "metadata": {},
   "outputs": [],
   "source": [
    "def state_init_bell_pairs(qc,n):\n",
    "    for i in range (n):\n",
    "        qc.Add_Gate(Quantum_Gate(\"HAD\",i))\n",
    "    for i in range (n):\n",
    "        qc.Add_Gate(Quantum_Gate(\"CNOT\",i,int(i+n)))\n",
    "        \n",
    "#should we set_mapping in this function? need to think about if it takes mapping into account   \n",
    "def add_pauli_twirl(qc,n):\n",
    "    pauliLayer = [random.choice(['I','X','Y','Z']) for j in range(n)]\n",
    "    q_index=0\n",
    "    for pauli in pauliLayer :\n",
    "        if (pauli==\"I\"):\n",
    "            pass\n",
    "        elif (pauli==\"X\"):\n",
    "            qc.Add_Gate(Quantum_Gate(\"SKAX\",q_index,angle=1))\n",
    "        elif (pauli==\"Y\"):\n",
    "            qc.Add_Gate(Quantum_Gate(\"SKAY\",q_index,angle=1))\n",
    "        elif (pauli==\"Z\"):\n",
    "            qc.Add_Gate(Quantum_Gate(\"AZ\",q_index,angle=1))\n",
    "        q_index+=1\n",
    "    return pauliLayer\n",
    "    \n",
    "def add_clifford_layer(qc,n,clifford):\n",
    "    if (clifford==\"CNOT\"):\n",
    "        for i in range (floor(n/2)):\n",
    "            qc.Add_Gate(Quantum_Gate(\"CNOT\",2*i,2*i+1))\n",
    "            \n",
    "def bell_measurement(qc,n):\n",
    "    for i in range (n):\n",
    "        qc.Add_Gate(Quantum_Gate(\"CNOT\",i,int(i+n)))\n",
    "    for i in range (n):\n",
    "        qc.Add_Gate(Quantum_Gate(\"HAD\",i))\n",
    "\n",
    "def map_statepop_2_ibm_mapping(counts,n):\n",
    "    counts_ibm_mapping=[0 for i in range (2**n)]\n",
    "    idx_ibm_mapping=[]\n",
    "    counts_ibm_mapping_dic={}\n",
    "    if len(str((n)))<2:\n",
    "        f=\"00\"+str(n)+\"b\"\n",
    "    elif len(str((n)))<3:\n",
    "        f=\"0\"+str(n)+\"b\"\n",
    "    else:\n",
    "        raise ValueError(\"n is too big\")\n",
    "    for gates_idx in range (2**n):\n",
    "        gates_idx_str=format(gates_idx,f)\n",
    "        ibm_idx=0\n",
    "        for i in range (n):\n",
    "            ibm_idx+=2**(i)*int(gates_idx_str[i])\n",
    "        ibm_idx_str=format(ibm_idx,f)\n",
    "#         idx_ibm_mapping.append(ibm_idx_str)\n",
    "        counts_ibm_mapping[ibm_idx]=counts[gates_idx]\n",
    "        counts_ibm_mapping_dic[ibm_idx_str]=counts[gates_idx]\n",
    "    return counts_ibm_mapping, counts_ibm_mapping_dic\n",
    "        \n",
    "        \n",
    "    \n",
    "    \n",
    "    \n",
    "    "
   ]
  },
  {
   "cell_type": "code",
   "execution_count": 27,
   "id": "023514ce",
   "metadata": {},
   "outputs": [
    {
     "name": "stdout",
     "output_type": "stream",
     "text": [
      "\n",
      "Depth = 2\n",
      "Number of samples = 10\n",
      "{'n': 10, 'L': 2, 'counts': {'000': 0, '100': 0, '010': 0, '110': 0, '001': 0, '101': 0, '011': 0, '111': 0}}\n",
      "\n",
      "Depth = 4\n",
      "Number of samples = 10\n",
      "{'n': 10, 'L': 4, 'counts': {'000': 0, '100': 0, '010': 0, '110': 0, '001': 2000, '101': 0, '011': 0, '111': 0}}\n",
      "\n",
      "Depth = 8\n",
      "Number of samples = 10\n",
      "{'n': 10, 'L': 8, 'counts': {'000': 0, '100': 2000, '010': 0, '110': 0, '001': 0, '101': 0, '011': 0, '111': 0}}\n",
      "\n",
      "Depth = 16\n",
      "Number of samples = 10\n",
      "{'n': 10, 'L': 16, 'counts': {'000': 0, '100': 0, '010': 0, '110': 0, '001': 0, '101': 0, '011': 0, '111': 0}}\n",
      "\n",
      "Depth = 32\n",
      "Number of samples = 10\n",
      "{'n': 10, 'L': 32, 'counts': {'000': 0, '100': 0, '010': 0, '110': 0, '001': 0, '101': 0, '011': 0, '111': 0}}\n"
     ]
    }
   ],
   "source": [
    "nqubit=2\n",
    "# ancillae=2\n",
    "S=Quantum_Circuit(2*nqubit,\"qc\")\n",
    "\n",
    "depth=[2**x for x in range(1,6)] #depth for Concatenation\n",
    "C=10 #number of samples per depth\n",
    "all_circuits=[]#a list of lists. circuits for all depths. each element is a list of circuit of a certain depth d. \n",
    "circuits=[] #a list of circuits with a certain depth d\n",
    "eab_data=[] #a list of dictionaries. Each dictionary is the results and relevant info of one circuit\n",
    "results={}\n",
    "for d in depth:\n",
    "    print (\"\\nDepth = %d\"%d)\n",
    "    print (\"Number of samples = %d\"%C)\n",
    "    for i in range (C):\n",
    "        S.depth=0\n",
    "        S.gates=[]\n",
    "        state_init_bell_pairs(S,nqubit)\n",
    "\n",
    "        for j in range(d):\n",
    "        #add pauli layer\n",
    "            layer=add_pauli_twirl(S,nqubit)\n",
    "            # print (layer)\n",
    "\n",
    "            #add clifford layerr\n",
    "            add_clifford_layer(S,nqubit,\"CNOT\")\n",
    "\n",
    "        layer=add_pauli_twirl(S,nqubit)\n",
    "        bell_measurement(S,nqubit)\n",
    "#         print (S.GatesLab_Sequence())\n",
    "        circuits.append(S.GatesLab_Sequence())\n",
    "        results[\"n\"]=C\n",
    "        results[\"L\"]=d\n",
    "        statef=S.Simulate()\n",
    "        counts=[round(2000*x) for x in statef.population]\n",
    "        counts_ibm_mapping, counts_ibm_mapping_dic=map_statepop_2_ibm_mapping(counts,n)\n",
    "        results[\"counts\"]=counts_ibm_mapping_dic\n",
    "        if i==0:\n",
    "            print (result)\n",
    "        result={}\n",
    "        \n",
    "    all_circuits.append(circuits)\n",
    "    circuits=[]\n",
    "\n"
   ]
  },
  {
   "cell_type": "code",
   "execution_count": null,
   "id": "e4e6b47f",
   "metadata": {},
   "outputs": [],
   "source": [
    "#generate emulated data and format emulated data \n",
    "#variable \"results\" is the formatted simulated data\n",
    "#To Do: figure out how to analyze results with Senrui's code\n",
    "\n"
   ]
  },
  {
   "cell_type": "code",
   "execution_count": 19,
   "id": "7969877a",
   "metadata": {},
   "outputs": [
    {
     "data": {
      "text/plain": [
       "str"
      ]
     },
     "execution_count": 19,
     "metadata": {},
     "output_type": "execute_result"
    }
   ],
   "source": [
    "a=format(14, '005b')\n",
    "type(a)"
   ]
  },
  {
   "cell_type": "code",
   "execution_count": 21,
   "id": "2cae81a2",
   "metadata": {},
   "outputs": [
    {
     "name": "stdout",
     "output_type": "stream",
     "text": [
      "005b\n",
      "00000\n"
     ]
    }
   ],
   "source": [
    "n=5\n",
    "if len(str((n)))<2:\n",
    "    f=\"00\"+str(n)+\"b\"\n",
    "elif len(str((n)))<3:\n",
    "    f=\"0\"+str(n)+\"b\"\n",
    "else:\n",
    "    raise ValueError(\"n is too big\")\n",
    "print (f)\n",
    "idx_str=format(0,f)\n",
    "print (idx_str)"
   ]
  },
  {
   "cell_type": "code",
   "execution_count": 25,
   "id": "9f6a0ad1",
   "metadata": {},
   "outputs": [
    {
     "name": "stdout",
     "output_type": "stream",
     "text": [
      "['000', '100', '010', '110', '001', '101', '011', '111']\n",
      "[0, 4, 2, 6, 1, 5, 3, 7]\n",
      "{'000': 0, '100': 1, '010': 2, '110': 3, '001': 4, '101': 5, '011': 6, '111': 7}\n"
     ]
    }
   ],
   "source": [
    "n=3\n",
    "counts=[x for x in range (8)]\n",
    "counts_ibm_mapping=[0 for i in range (2**n)]\n",
    "idx_ibm_mapping=[]\n",
    "counts_ibm_mapping_dic={}\n",
    "if len(str((n)))<2:\n",
    "    f=\"00\"+str(n)+\"b\"\n",
    "elif len(str((n)))<3:\n",
    "    f=\"0\"+str(n)+\"b\"\n",
    "else:\n",
    "    raise ValueError(\"n is too big\")\n",
    "for gates_idx in range (2**n):\n",
    "    gates_idx_str=format(gates_idx,f)\n",
    "    ibm_idx=0\n",
    "    for i in range (n):\n",
    "        ibm_idx+=2**(i)*int(gates_idx_str[i])\n",
    "    ibm_idx_str=format(ibm_idx,f)\n",
    "    idx_ibm_mapping.append(ibm_idx_str)\n",
    "    counts_ibm_mapping[ibm_idx]=counts[gates_idx]\n",
    "    counts_ibm_mapping_dic[ibm_idx_str]=counts[gates_idx]\n",
    "print (idx_ibm_mapping)\n",
    "print (counts_ibm_mapping)\n",
    "print (counts_ibm_mapping_dic)"
   ]
  },
  {
   "cell_type": "code",
   "execution_count": 5,
   "id": "0e0aa2b9",
   "metadata": {},
   "outputs": [
    {
     "name": "stdout",
     "output_type": "stream",
     "text": [
      "orld!\n"
     ]
    }
   ],
   "source": [
    "b = \"Hello, World!\"\n",
    "print(b[-5:])"
   ]
  },
  {
   "cell_type": "code",
   "execution_count": null,
   "id": "5e1974ae",
   "metadata": {},
   "outputs": [],
   "source": []
  }
 ],
 "metadata": {
  "kernelspec": {
   "display_name": "snowflakes",
   "language": "python",
   "name": "snowflakes"
  },
  "language_info": {
   "codemirror_mode": {
    "name": "ipython",
    "version": 3
   },
   "file_extension": ".py",
   "mimetype": "text/x-python",
   "name": "python",
   "nbconvert_exporter": "python",
   "pygments_lexer": "ipython3",
   "version": "3.8.15"
  }
 },
 "nbformat": 4,
 "nbformat_minor": 5
}
