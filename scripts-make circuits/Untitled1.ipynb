{
 "cells": [
  {
   "cell_type": "code",
   "execution_count": 8,
   "id": "94899fae-a56e-44c4-b5a0-cd08412dfa5e",
   "metadata": {},
   "outputs": [
    {
     "name": "stdout",
     "output_type": "stream",
     "text": [
      "Files have been successfully combined into 'combined.txt'.\n"
     ]
    }
   ],
   "source": [
    "# Define the input file names\n",
    "input_files = ['/Volumes/funkflower/Labs/Gates/AutoAlgorithms/EAB/full set circuits 2025/0919 ancilla twirl FTXX45_01+10_R mapping45213/d=2.txt', \n",
    "               '/Volumes/funkflower/Labs/Gates/AutoAlgorithms/EAB/full set circuits 2025/FTXX45_II_01+10_ancilla_twirl_09192024_R/d=2.txt', \n",
    "               '/Volumes/funkflower/Labs/Gates/AutoAlgorithms/EAB/full set circuits 2025/02062024EABmapping45213_FT/d=2.txt',\n",
    "              '/Volumes/funkflower/Labs/Gates/AutoAlgorithms/EAB/full set circuits 2025/CB FTXX45/XX_d=2.txt',\n",
    "              '/Volumes/funkflower/Labs/Gates/AutoAlgorithms/EAB/full set circuits 2025/CB FTXX45/YY_d=2.txt',\n",
    "              '/Volumes/funkflower/Labs/Gates/AutoAlgorithms/EAB/full set circuits 2025/CB FTXX45/ZZ_d=2.txt']\n",
    "output_file = 'combined_XX_YY_ZZ_d=2.txt'\n",
    "\n",
    "# Open all the input files and the output file\n",
    "with open(input_files[0], 'r') as file_a, open(input_files[1], 'r') as file_b, open(input_files[2], 'r') as file_c, open(input_files[3], 'r') as file_d, open(input_files[4], 'r') as file_e,open(input_files[5], 'r') as file_f,open(output_file, 'w') as out_file:\n",
    "    # Read lines from all files\n",
    "    lines_a = file_a.readlines()\n",
    "    lines_b = file_b.readlines()\n",
    "    lines_c = file_c.readlines()\n",
    "    lines_d = file_d.readlines()\n",
    "    lines_e = file_e.readlines()\n",
    "    lines_f = file_f.readlines()\n",
    "    \n",
    "    # Determine the number of lines in the shortest file\n",
    "    num_lines = min(len(lines_a), len(lines_b), len(lines_c),len(lines_d),len(lines_e),len(lines_f))\n",
    "    \n",
    "    # Combine corresponding lines from each file\n",
    "    for i in range(num_lines):\n",
    "        # Take one line from each file\n",
    "        combined_line = f\"{lines_a[i].strip()}\\n {lines_b[i].strip()}\\n {lines_c[i].strip()}\\n {lines_d[i].strip()}\\n {lines_e[i].strip()}\\n {lines_f[i].strip()}\\n\"\n",
    "        \n",
    "        # Write the combined line to the output file\n",
    "        out_file.write(combined_line)\n",
    "\n",
    "print(\"Files have been successfully combined into 'combined.txt'.\")"
   ]
  },
  {
   "cell_type": "code",
   "execution_count": null,
   "id": "f7c7dcae-6ace-4848-b598-a3d763a4ccfd",
   "metadata": {},
   "outputs": [],
   "source": []
  }
 ],
 "metadata": {
  "kernelspec": {
   "display_name": "Python 3 (ipykernel)",
   "language": "python",
   "name": "python3"
  },
  "language_info": {
   "codemirror_mode": {
    "name": "ipython",
    "version": 3
   },
   "file_extension": ".py",
   "mimetype": "text/x-python",
   "name": "python",
   "nbconvert_exporter": "python",
   "pygments_lexer": "ipython3",
   "version": "3.8.12"
  }
 },
 "nbformat": 4,
 "nbformat_minor": 5
}
